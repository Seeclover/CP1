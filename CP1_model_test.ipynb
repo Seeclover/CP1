{
 "cells": [
  {
   "cell_type": "code",
   "execution_count": 18,
   "id": "7311385b-16ac-4569-b415-2c4e2a392bfd",
   "metadata": {},
   "outputs": [],
   "source": [
    "import os\n",
    "import csv\n",
    "import pandas as pd\n",
    "import numpy as np\n",
    "from sklearn.model_selection import train_test_split\n",
    "from utils import save_predictions_to_csv, standardize_data, calculate_auc_score, compare_auc_scores"
   ]
  },
  {
   "cell_type": "code",
   "execution_count": 19,
   "id": "b767c7f0-7ddf-4c19-bdff-7ee192a3e55b",
   "metadata": {},
   "outputs": [
    {
     "name": "stdout",
     "output_type": "stream",
     "text": [
      "Dataset: Dataset_1\n",
      "X_train shape: (444, 20)\n",
      "y_train shape: (444, 1)\n",
      "X_test shape: (296, 20)\n",
      "------------------------------\n",
      "Dataset: Dataset_10\n",
      "X_train shape: (467, 11)\n",
      "y_train shape: (467, 1)\n",
      "X_test shape: (312, 11)\n",
      "------------------------------\n",
      "Dataset: Dataset_11\n",
      "X_train shape: (58, 62)\n",
      "y_train shape: (58, 1)\n",
      "X_test shape: (39, 62)\n",
      "------------------------------\n",
      "Dataset: Dataset_12\n",
      "X_train shape: (154, 5)\n",
      "y_train shape: (154, 1)\n",
      "X_test shape: (104, 5)\n",
      "------------------------------\n",
      "Dataset: Dataset_13\n",
      "X_train shape: (181, 54)\n",
      "y_train shape: (181, 1)\n",
      "X_test shape: (122, 54)\n",
      "------------------------------\n"
     ]
    }
   ],
   "source": [
    "#Load datasets\n",
    "dataset_names=[]\n",
    "X_trains=[]\n",
    "y_trains=[]\n",
    "X_tests=[]\n",
    "for folder_name in os.listdir(\"./Competition_data\"):\n",
    "    # print(folder_name)\n",
    "    dataset_names.append(folder_name)\n",
    "    X_trains.append(pd.read_csv(f\"./Competition_data/{folder_name}/X_train.csv\",header=0))\n",
    "    y_trains.append(pd.read_csv(f\"./Competition_data/{folder_name}/y_train.csv\",header=0))\n",
    "    X_tests.append(pd.read_csv(f\"./Competition_data/{folder_name}/X_test.csv\",header=0))\n",
    "\n",
    "\n",
    "for i in range(min(5, len(dataset_names))):\n",
    "    print(f\"Dataset: {dataset_names[i]}\")\n",
    "    print(f\"X_train shape: {X_trains[i].shape}\")\n",
    "    print(f\"y_train shape: {y_trains[i].shape}\")\n",
    "    print(f\"X_test shape: {X_tests[i].shape}\")\n",
    "    print(\"-\" * 30)"
   ]
  },
  {
   "cell_type": "markdown",
   "id": "f3f5b325-c761-4be1-ae61-f55839ddb262",
   "metadata": {},
   "source": [
    "## Put your code below"
   ]
  },
  {
   "cell_type": "code",
   "execution_count": 24,
   "id": "dc8ad1d5-b256-4a4d-ae32-b46e2ebe9543",
   "metadata": {},
   "outputs": [],
   "source": [
    "#RF test\n",
    "from models import train_random_forest\n",
    "\n",
    "rf_models = []\n",
    "rf_auc_scores = []\n",
    "\n",
    "# Loop through each dataset and train a Random Forest model\n",
    "for i, dataset_name in enumerate(dataset_names):\n",
    "    # Split the dataset into training and testing sets\n",
    "    tmp_X_train, tmp_X_test, tmp_y_train, tmp_y_test = train_test_split(X_trains[i], y_trains[i], test_size=0.2, random_state=42)\n",
    "    \n",
    "    # Standardize the data (if necessary)\n",
    "    tmp_X_train, tmp_X_test = standardize_data(tmp_X_train, tmp_X_test)\n",
    "    \n",
    "    # Train Random Forest model\n",
    "    rf_model = train_random_forest(tmp_X_train, tmp_y_train, n_estimators=100)\n",
    "    rf_models.append(rf_model)\n",
    "    \n",
    "    # Calculate the AUC score for the current dataset\n",
    "    auc_score = calculate_auc_score(rf_model, tmp_X_test, tmp_y_test)\n",
    "    rf_auc_scores.append(auc_score)\n",
    "    \n",
    "    # Print the AUC score for the current dataset\n",
    "    #print(f\"Dataset: {dataset_name} - Random Forest AUC Score: {auc_score:.4f}\")"
   ]
  },
  {
   "cell_type": "code",
   "execution_count": 25,
   "id": "e8b41ad8-340b-4a1c-b07a-d64060ebee09",
   "metadata": {},
   "outputs": [],
   "source": [
    "# SVM(with 2-degree poly kernel)\n",
    "from models import train_svm\n",
    "\n",
    "# Initialize lists to store results\n",
    "svm_models = []\n",
    "svm_auc_scores = []\n",
    "\n",
    "# Loop through each dataset and train an SVM model\n",
    "for i, dataset_name in enumerate(dataset_names):\n",
    "    # Split the dataset into training and testing sets\n",
    "    tmp_X_train, tmp_X_test, tmp_y_train, tmp_y_test = train_test_split(X_trains[i], y_trains[i], test_size=0.2, random_state=42)\n",
    "    \n",
    "    # Standardize the data (if necessary)\n",
    "    tmp_X_train, tmp_X_test = standardize_data(tmp_X_train, tmp_X_test)\n",
    "    \n",
    "    # Train SVM model\n",
    "    svm_model = train_svm(tmp_X_train, tmp_y_train, kernel='poly', degree=2)\n",
    "    svm_models.append(svm_model)\n",
    "    \n",
    "    # Calculate the AUC score for the current dataset\n",
    "    auc_score = calculate_auc_score(svm_model, tmp_X_test, tmp_y_test)\n",
    "    svm_auc_scores.append(auc_score)\n",
    "    \n",
    "    # Print the AUC score for the current dataset\n",
    "    #print(f\"Dataset: {dataset_name} - SVM AUC Score: {auc_score:.4f}\")"
   ]
  },
  {
   "cell_type": "code",
   "execution_count": 27,
   "id": "b3b511a3-fc78-4e1d-96b4-e02e65f0b86e",
   "metadata": {},
   "outputs": [
    {
     "name": "stdout",
     "output_type": "stream",
     "text": [
      "\n",
      "Comparing AUC Scores between SVM(Model 1) and Random Forest(Model 2):\n",
      "Dataset: Dataset_1 - AUC Difference: 0.0204 (Model 1 - Model 2)\n",
      "Dataset: Dataset_10 - AUC Difference: -0.0765 (Model 1 - Model 2)\n",
      "Dataset: Dataset_11 - AUC Difference: -0.0286 (Model 1 - Model 2)\n",
      "Dataset: Dataset_12 - AUC Difference: -0.1381 (Model 1 - Model 2)\n",
      "Dataset: Dataset_13 - AUC Difference: -0.1867 (Model 1 - Model 2)\n",
      "Dataset: Dataset_14 - AUC Difference: -0.1733 (Model 1 - Model 2)\n",
      "Dataset: Dataset_15 - AUC Difference: -0.0887 (Model 1 - Model 2)\n",
      "Dataset: Dataset_16 - AUC Difference: -0.0024 (Model 1 - Model 2)\n",
      "Dataset: Dataset_17 - AUC Difference: -0.2519 (Model 1 - Model 2)\n",
      "Dataset: Dataset_18 - AUC Difference: 0.0000 (Model 1 - Model 2)\n",
      "Dataset: Dataset_19 - AUC Difference: -0.1918 (Model 1 - Model 2)\n",
      "Dataset: Dataset_2 - AUC Difference: -0.0024 (Model 1 - Model 2)\n",
      "Dataset: Dataset_20 - AUC Difference: -0.0606 (Model 1 - Model 2)\n",
      "Dataset: Dataset_21 - AUC Difference: -0.3304 (Model 1 - Model 2)\n",
      "Dataset: Dataset_22 - AUC Difference: -0.0850 (Model 1 - Model 2)\n",
      "Dataset: Dataset_23 - AUC Difference: -0.0904 (Model 1 - Model 2)\n",
      "Dataset: Dataset_24 - AUC Difference: -0.0971 (Model 1 - Model 2)\n",
      "Dataset: Dataset_25 - AUC Difference: -0.0926 (Model 1 - Model 2)\n",
      "Dataset: Dataset_26 - AUC Difference: -0.2846 (Model 1 - Model 2)\n",
      "Dataset: Dataset_27 - AUC Difference: -0.0400 (Model 1 - Model 2)\n",
      "Dataset: Dataset_28 - AUC Difference: -0.2492 (Model 1 - Model 2)\n",
      "Dataset: Dataset_29 - AUC Difference: -0.2703 (Model 1 - Model 2)\n",
      "Dataset: Dataset_3 - AUC Difference: -0.2292 (Model 1 - Model 2)\n",
      "Dataset: Dataset_30 - AUC Difference: -0.1338 (Model 1 - Model 2)\n",
      "Dataset: Dataset_31 - AUC Difference: -0.3333 (Model 1 - Model 2)\n",
      "Dataset: Dataset_32 - AUC Difference: 0.0337 (Model 1 - Model 2)\n",
      "Dataset: Dataset_33 - AUC Difference: -0.0332 (Model 1 - Model 2)\n",
      "Dataset: Dataset_34 - AUC Difference: -0.2271 (Model 1 - Model 2)\n",
      "Dataset: Dataset_35 - AUC Difference: -0.1129 (Model 1 - Model 2)\n",
      "Dataset: Dataset_36 - AUC Difference: -0.7326 (Model 1 - Model 2)\n",
      "Dataset: Dataset_37 - AUC Difference: -0.2546 (Model 1 - Model 2)\n",
      "Dataset: Dataset_38 - AUC Difference: -0.3290 (Model 1 - Model 2)\n",
      "Dataset: Dataset_39 - AUC Difference: -0.1461 (Model 1 - Model 2)\n",
      "Dataset: Dataset_4 - AUC Difference: 0.1469 (Model 1 - Model 2)\n",
      "Dataset: Dataset_40 - AUC Difference: -0.1129 (Model 1 - Model 2)\n",
      "Dataset: Dataset_41 - AUC Difference: -0.1816 (Model 1 - Model 2)\n",
      "Dataset: Dataset_42 - AUC Difference: -0.5175 (Model 1 - Model 2)\n",
      "Dataset: Dataset_43 - AUC Difference: 0.0337 (Model 1 - Model 2)\n",
      "Dataset: Dataset_44 - AUC Difference: 0.0000 (Model 1 - Model 2)\n",
      "Dataset: Dataset_45 - AUC Difference: -0.1000 (Model 1 - Model 2)\n",
      "Dataset: Dataset_46 - AUC Difference: -0.1619 (Model 1 - Model 2)\n",
      "Dataset: Dataset_47 - AUC Difference: 0.0536 (Model 1 - Model 2)\n",
      "Dataset: Dataset_48 - AUC Difference: -0.3491 (Model 1 - Model 2)\n",
      "Dataset: Dataset_49 - AUC Difference: -0.0376 (Model 1 - Model 2)\n",
      "Dataset: Dataset_5 - AUC Difference: 0.1033 (Model 1 - Model 2)\n",
      "Dataset: Dataset_6 - AUC Difference: -0.0321 (Model 1 - Model 2)\n",
      "Dataset: Dataset_7 - AUC Difference: -0.0672 (Model 1 - Model 2)\n",
      "Dataset: Dataset_8 - AUC Difference: -0.5945 (Model 1 - Model 2)\n",
      "Dataset: Dataset_9 - AUC Difference: -0.2500 (Model 1 - Model 2)\n"
     ]
    }
   ],
   "source": [
    "# Compare AUC scores between SVM and Random Forest\n",
    "print(\"\\nComparing AUC Scores between SVM(Model 1) and Random Forest(Model 2):\")\n",
    "auc_differences = compare_auc_scores(svm_auc_scores, rf_auc_scores, dataset_names)"
   ]
  },
  {
   "cell_type": "code",
   "execution_count": null,
   "id": "601c35b5-ac5b-4911-a18a-957e0e40631e",
   "metadata": {},
   "outputs": [],
   "source": []
  }
 ],
 "metadata": {
  "kernelspec": {
   "display_name": "Python 3 (ipykernel)",
   "language": "python",
   "name": "python3"
  },
  "language_info": {
   "codemirror_mode": {
    "name": "ipython",
    "version": 3
   },
   "file_extension": ".py",
   "mimetype": "text/x-python",
   "name": "python",
   "nbconvert_exporter": "python",
   "pygments_lexer": "ipython3",
   "version": "3.12.2"
  }
 },
 "nbformat": 4,
 "nbformat_minor": 5
}
