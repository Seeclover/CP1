{
 "cells": [
  {
   "cell_type": "code",
   "execution_count": 1,
   "id": "e9708239",
   "metadata": {},
   "outputs": [],
   "source": [
    "import warnings\n",
    "warnings.filterwarnings(\"ignore\")\n",
    "\n",
    "import os\n",
    "import pandas as pd\n",
    "import numpy as np\n",
    "import matplotlib.pyplot as plt\n",
    "import seaborn as sns\n",
    "from sklearn.model_selection import train_test_split, GridSearchCV\n",
    "from sklearn.preprocessing import StandardScaler\n",
    "from sklearn.decomposition import PCA\n",
    "from sklearn.metrics import accuracy_score, precision_score, f1_score, roc_auc_score\n",
    "from sklearn.ensemble import RandomForestClassifier\n",
    "from tensorflow.keras.models import Sequential\n",
    "from tensorflow.keras.layers import Dense, Dropout\n",
    "import optuna\n",
    "\n",
    "# Paths\n",
    "base_path = '../Competition_data'\n",
    "dataset_folders = os.listdir(base_path)"
   ]
  },
  {
   "cell_type": "code",
   "execution_count": 2,
   "id": "fe203a7f",
   "metadata": {},
   "outputs": [],
   "source": [
    "# Define a function for hyperparameter tuning using Optuna\n",
    "def tune_nn_model(trial, input_dim):\n",
    "    model = Sequential()\n",
    "    # Suggest number of units for each layer\n",
    "    n_units_1 = trial.suggest_int('n_units_1', 64, 256)\n",
    "    n_units_2 = trial.suggest_int('n_units_2', 32, 128)\n",
    "    dropout_rate = trial.suggest_float('dropout_rate', 0.2, 0.5)\n",
    "\n",
    "    model.add(Dense(n_units_1, input_dim=input_dim, activation='relu'))\n",
    "    model.add(Dropout(dropout_rate))\n",
    "    model.add(Dense(n_units_2, activation='relu'))\n",
    "    model.add(Dropout(dropout_rate))\n",
    "    model.add(Dense(1, activation='sigmoid'))\n",
    "\n",
    "    model.compile(optimizer='adam', loss='binary_crossentropy', metrics=['accuracy'])\n",
    "    return model"
   ]
  },
  {
   "cell_type": "code",
   "execution_count": 3,
   "id": "52dd8be4",
   "metadata": {},
   "outputs": [
    {
     "name": "stderr",
     "output_type": "stream",
     "text": [
      "[I 2024-11-06 22:29:50,669] A new study created in memory with name: no-name-d50d0949-63f5-49f2-b177-a321debeeadc\n"
     ]
    },
    {
     "name": "stdout",
     "output_type": "stream",
     "text": [
      "Dataset: Dataset_2\n",
      "X_train_split shape: (372, 9)\n",
      "y_train_split shape: (372, 1)\n",
      "X_val shape: (93, 9)\n",
      "y_val shape: (93, 1)\n"
     ]
    },
    {
     "name": "stderr",
     "output_type": "stream",
     "text": [
      "[I 2024-11-06 22:29:51,558] Trial 0 finished with value: 0.9892473220825195 and parameters: {'n_units_1': 88, 'dropout_rate': 0.33039055719993354, 'n_units_2': 127}. Best is trial 0 with value: 0.9892473220825195.\n",
      "[I 2024-11-06 22:29:52,410] Trial 1 finished with value: 0.9892473220825195 and parameters: {'n_units_1': 119, 'dropout_rate': 0.3128628932625851, 'n_units_2': 112}. Best is trial 0 with value: 0.9892473220825195.\n",
      "[I 2024-11-06 22:29:53,368] Trial 2 finished with value: 1.0 and parameters: {'n_units_1': 114, 'dropout_rate': 0.2265172289018271, 'n_units_2': 106}. Best is trial 2 with value: 1.0.\n",
      "[I 2024-11-06 22:29:54,309] Trial 3 finished with value: 1.0 and parameters: {'n_units_1': 128, 'dropout_rate': 0.3682658465895128, 'n_units_2': 61}. Best is trial 2 with value: 1.0.\n",
      "[I 2024-11-06 22:29:55,150] Trial 4 finished with value: 1.0 and parameters: {'n_units_1': 93, 'dropout_rate': 0.35538217173815256, 'n_units_2': 88}. Best is trial 2 with value: 1.0.\n",
      "[I 2024-11-06 22:29:55,985] Trial 5 finished with value: 1.0 and parameters: {'n_units_1': 90, 'dropout_rate': 0.2898898440357215, 'n_units_2': 59}. Best is trial 2 with value: 1.0.\n",
      "[I 2024-11-06 22:29:56,824] Trial 6 finished with value: 0.9892473220825195 and parameters: {'n_units_1': 51, 'dropout_rate': 0.44873450471819737, 'n_units_2': 122}. Best is trial 2 with value: 1.0.\n",
      "[I 2024-11-06 22:29:57,667] Trial 7 finished with value: 1.0 and parameters: {'n_units_1': 103, 'dropout_rate': 0.35465738838166905, 'n_units_2': 120}. Best is trial 2 with value: 1.0.\n",
      "[I 2024-11-06 22:29:58,508] Trial 8 finished with value: 1.0 and parameters: {'n_units_1': 81, 'dropout_rate': 0.3310039866850071, 'n_units_2': 88}. Best is trial 2 with value: 1.0.\n",
      "[I 2024-11-06 22:29:59,351] Trial 9 finished with value: 1.0 and parameters: {'n_units_1': 126, 'dropout_rate': 0.20681207474857066, 'n_units_2': 44}. Best is trial 2 with value: 1.0.\n"
     ]
    },
    {
     "name": "stdout",
     "output_type": "stream",
     "text": [
      "\u001b[1m3/3\u001b[0m \u001b[32m━━━━━━━━━━━━━━━━━━━━\u001b[0m\u001b[37m\u001b[0m \u001b[1m0s\u001b[0m 6ms/step  \n",
      "Dataset: Dataset_2, Score: 0.9704\n",
      "\u001b[1m10/10\u001b[0m \u001b[32m━━━━━━━━━━━━━━━━━━━━\u001b[0m\u001b[37m\u001b[0m \u001b[1m0s\u001b[0m 352us/step\n"
     ]
    },
    {
     "name": "stderr",
     "output_type": "stream",
     "text": [
      "[I 2024-11-06 22:30:01,054] A new study created in memory with name: no-name-f86984a0-35dc-4a60-8459-a60c19fba43a\n"
     ]
    },
    {
     "name": "stdout",
     "output_type": "stream",
     "text": [
      "Dataset: Dataset_35\n",
      "X_train_split shape: (368, 7)\n",
      "y_train_split shape: (368, 1)\n",
      "X_val shape: (92, 7)\n",
      "y_val shape: (92, 1)\n"
     ]
    },
    {
     "name": "stderr",
     "output_type": "stream",
     "text": [
      "[I 2024-11-06 22:30:01,931] Trial 0 finished with value: 0.77173912525177 and parameters: {'n_units_1': 124, 'dropout_rate': 0.35957097424064854, 'n_units_2': 68}. Best is trial 0 with value: 0.77173912525177.\n",
      "[I 2024-11-06 22:30:02,777] Trial 1 finished with value: 0.77173912525177 and parameters: {'n_units_1': 106, 'dropout_rate': 0.4835201561707726, 'n_units_2': 51}. Best is trial 0 with value: 0.77173912525177.\n",
      "[I 2024-11-06 22:30:03,679] Trial 2 finished with value: 0.79347825050354 and parameters: {'n_units_1': 39, 'dropout_rate': 0.2696091265202402, 'n_units_2': 127}. Best is trial 2 with value: 0.79347825050354.\n",
      "[I 2024-11-06 22:30:04,559] Trial 3 finished with value: 0.782608687877655 and parameters: {'n_units_1': 77, 'dropout_rate': 0.32466377997405604, 'n_units_2': 99}. Best is trial 2 with value: 0.79347825050354.\n",
      "[I 2024-11-06 22:30:05,415] Trial 4 finished with value: 0.75 and parameters: {'n_units_1': 103, 'dropout_rate': 0.49390747643333277, 'n_units_2': 117}. Best is trial 2 with value: 0.79347825050354.\n",
      "[I 2024-11-06 22:30:06,279] Trial 5 finished with value: 0.804347813129425 and parameters: {'n_units_1': 115, 'dropout_rate': 0.29555962777290773, 'n_units_2': 65}. Best is trial 5 with value: 0.804347813129425.\n",
      "[I 2024-11-06 22:30:07,141] Trial 6 finished with value: 0.782608687877655 and parameters: {'n_units_1': 72, 'dropout_rate': 0.43775073506778917, 'n_units_2': 115}. Best is trial 5 with value: 0.804347813129425.\n",
      "[I 2024-11-06 22:30:08,131] Trial 7 finished with value: 0.760869562625885 and parameters: {'n_units_1': 98, 'dropout_rate': 0.48805810134042155, 'n_units_2': 51}. Best is trial 5 with value: 0.804347813129425.\n",
      "[I 2024-11-06 22:30:08,976] Trial 8 finished with value: 0.79347825050354 and parameters: {'n_units_1': 71, 'dropout_rate': 0.24660773168856986, 'n_units_2': 55}. Best is trial 5 with value: 0.804347813129425.\n",
      "[I 2024-11-06 22:30:09,830] Trial 9 finished with value: 0.760869562625885 and parameters: {'n_units_1': 96, 'dropout_rate': 0.38832248994978535, 'n_units_2': 67}. Best is trial 5 with value: 0.804347813129425.\n"
     ]
    },
    {
     "name": "stdout",
     "output_type": "stream",
     "text": [
      "\u001b[1m3/3\u001b[0m \u001b[32m━━━━━━━━━━━━━━━━━━━━\u001b[0m\u001b[37m\u001b[0m \u001b[1m0s\u001b[0m 7ms/step \n",
      "Dataset: Dataset_35, Score: 0.7195\n",
      "\u001b[1m10/10\u001b[0m \u001b[32m━━━━━━━━━━━━━━━━━━━━\u001b[0m\u001b[37m\u001b[0m \u001b[1m0s\u001b[0m 520us/step\n"
     ]
    },
    {
     "name": "stderr",
     "output_type": "stream",
     "text": [
      "[I 2024-11-06 22:30:11,768] A new study created in memory with name: no-name-eb2c9712-68b5-443e-beda-f35aa38feeee\n"
     ]
    },
    {
     "name": "stdout",
     "output_type": "stream",
     "text": [
      "Dataset: Dataset_5\n",
      "X_train_split shape: (259, 18)\n",
      "y_train_split shape: (259, 1)\n",
      "X_val shape: (65, 18)\n",
      "y_val shape: (65, 1)\n"
     ]
    },
    {
     "name": "stderr",
     "output_type": "stream",
     "text": [
      "[I 2024-11-06 22:30:12,893] Trial 0 finished with value: 0.9230769276618958 and parameters: {'n_units_1': 117, 'dropout_rate': 0.343097520569999, 'n_units_2': 101}. Best is trial 0 with value: 0.9230769276618958.\n",
      "[I 2024-11-06 22:30:13,808] Trial 1 finished with value: 0.9230769276618958 and parameters: {'n_units_1': 80, 'dropout_rate': 0.43711451412897495, 'n_units_2': 60}. Best is trial 0 with value: 0.9230769276618958.\n",
      "[I 2024-11-06 22:30:14,687] Trial 2 finished with value: 0.9230769276618958 and parameters: {'n_units_1': 89, 'dropout_rate': 0.446564097005759, 'n_units_2': 62}. Best is trial 0 with value: 0.9230769276618958.\n",
      "[I 2024-11-06 22:30:15,548] Trial 3 finished with value: 0.9230769276618958 and parameters: {'n_units_1': 40, 'dropout_rate': 0.35238049727219534, 'n_units_2': 47}. Best is trial 0 with value: 0.9230769276618958.\n",
      "[I 2024-11-06 22:30:16,442] Trial 4 finished with value: 0.9384615421295166 and parameters: {'n_units_1': 81, 'dropout_rate': 0.27929324985136933, 'n_units_2': 92}. Best is trial 4 with value: 0.9384615421295166.\n",
      "[I 2024-11-06 22:30:17,570] Trial 5 finished with value: 0.9230769276618958 and parameters: {'n_units_1': 81, 'dropout_rate': 0.2834637857576332, 'n_units_2': 49}. Best is trial 4 with value: 0.9384615421295166.\n",
      "[I 2024-11-06 22:30:18,584] Trial 6 finished with value: 0.9230769276618958 and parameters: {'n_units_1': 70, 'dropout_rate': 0.4523311122333871, 'n_units_2': 117}. Best is trial 4 with value: 0.9384615421295166.\n",
      "[I 2024-11-06 22:30:19,442] Trial 7 finished with value: 0.9230769276618958 and parameters: {'n_units_1': 33, 'dropout_rate': 0.3041293022738576, 'n_units_2': 39}. Best is trial 4 with value: 0.9384615421295166.\n",
      "[I 2024-11-06 22:30:20,315] Trial 8 finished with value: 0.9230769276618958 and parameters: {'n_units_1': 81, 'dropout_rate': 0.2690922116315458, 'n_units_2': 117}. Best is trial 4 with value: 0.9384615421295166.\n",
      "[I 2024-11-06 22:30:21,184] Trial 9 finished with value: 0.9230769276618958 and parameters: {'n_units_1': 57, 'dropout_rate': 0.25150444000257455, 'n_units_2': 81}. Best is trial 4 with value: 0.9384615421295166.\n"
     ]
    },
    {
     "name": "stdout",
     "output_type": "stream",
     "text": [
      "\u001b[1m3/3\u001b[0m \u001b[32m━━━━━━━━━━━━━━━━━━━━\u001b[0m\u001b[37m\u001b[0m \u001b[1m0s\u001b[0m 6ms/step  \n",
      "Dataset: Dataset_5, Score: 0.7815\n",
      "\u001b[1m7/7\u001b[0m \u001b[32m━━━━━━━━━━━━━━━━━━━━\u001b[0m\u001b[37m\u001b[0m \u001b[1m0s\u001b[0m 482us/step\n"
     ]
    },
    {
     "name": "stderr",
     "output_type": "stream",
     "text": [
      "[I 2024-11-06 22:30:22,783] A new study created in memory with name: no-name-831e0ff0-e985-4d2f-9ee9-738f3fc2b50d\n"
     ]
    },
    {
     "name": "stdout",
     "output_type": "stream",
     "text": [
      "Dataset: Dataset_32\n",
      "X_train_split shape: (474, 4)\n",
      "y_train_split shape: (474, 1)\n",
      "X_val shape: (119, 4)\n",
      "y_val shape: (119, 1)\n"
     ]
    },
    {
     "name": "stderr",
     "output_type": "stream",
     "text": [
      "[I 2024-11-06 22:30:23,707] Trial 0 finished with value: 0.8907563090324402 and parameters: {'n_units_1': 109, 'dropout_rate': 0.4007194586597592, 'n_units_2': 104}. Best is trial 0 with value: 0.8907563090324402.\n",
      "[I 2024-11-06 22:30:24,596] Trial 1 finished with value: 0.8907563090324402 and parameters: {'n_units_1': 75, 'dropout_rate': 0.27065650087026166, 'n_units_2': 90}. Best is trial 0 with value: 0.8907563090324402.\n",
      "[I 2024-11-06 22:30:25,465] Trial 2 finished with value: 0.8907563090324402 and parameters: {'n_units_1': 35, 'dropout_rate': 0.2235150856994063, 'n_units_2': 120}. Best is trial 0 with value: 0.8907563090324402.\n",
      "[I 2024-11-06 22:30:26,346] Trial 3 finished with value: 0.8991596698760986 and parameters: {'n_units_1': 60, 'dropout_rate': 0.3697483303545399, 'n_units_2': 94}. Best is trial 3 with value: 0.8991596698760986.\n",
      "[I 2024-11-06 22:30:27,239] Trial 4 finished with value: 0.8907563090324402 and parameters: {'n_units_1': 101, 'dropout_rate': 0.378525685409186, 'n_units_2': 107}. Best is trial 3 with value: 0.8991596698760986.\n",
      "[I 2024-11-06 22:30:28,402] Trial 5 finished with value: 0.8907563090324402 and parameters: {'n_units_1': 117, 'dropout_rate': 0.45196691505029046, 'n_units_2': 69}. Best is trial 3 with value: 0.8991596698760986.\n",
      "[I 2024-11-06 22:30:29,425] Trial 6 finished with value: 0.8907563090324402 and parameters: {'n_units_1': 38, 'dropout_rate': 0.3414889453912458, 'n_units_2': 38}. Best is trial 3 with value: 0.8991596698760986.\n",
      "[I 2024-11-06 22:30:30,303] Trial 7 finished with value: 0.8907563090324402 and parameters: {'n_units_1': 34, 'dropout_rate': 0.2599485998739196, 'n_units_2': 114}. Best is trial 3 with value: 0.8991596698760986.\n",
      "[I 2024-11-06 22:30:31,184] Trial 8 finished with value: 0.8907563090324402 and parameters: {'n_units_1': 55, 'dropout_rate': 0.3401299549662438, 'n_units_2': 120}. Best is trial 3 with value: 0.8991596698760986.\n",
      "[I 2024-11-06 22:30:32,072] Trial 9 finished with value: 0.8907563090324402 and parameters: {'n_units_1': 127, 'dropout_rate': 0.42900061216245766, 'n_units_2': 112}. Best is trial 3 with value: 0.8991596698760986.\n"
     ]
    },
    {
     "name": "stdout",
     "output_type": "stream",
     "text": [
      "\u001b[1m4/4\u001b[0m \u001b[32m━━━━━━━━━━━━━━━━━━━━\u001b[0m\u001b[37m\u001b[0m \u001b[1m0s\u001b[0m 4ms/step  \n",
      "Dataset: Dataset_32, Score: 0.2672\n",
      "\u001b[1m13/13\u001b[0m \u001b[32m━━━━━━━━━━━━━━━━━━━━\u001b[0m\u001b[37m\u001b[0m \u001b[1m0s\u001b[0m 345us/step\n"
     ]
    },
    {
     "name": "stderr",
     "output_type": "stream",
     "text": [
      "[I 2024-11-06 22:30:33,714] A new study created in memory with name: no-name-0306c72b-6a73-4e51-80ea-c7e3116495ff\n"
     ]
    },
    {
     "name": "stdout",
     "output_type": "stream",
     "text": [
      "Dataset: Dataset_4\n",
      "X_train_split shape: (411, 17)\n",
      "y_train_split shape: (411, 1)\n",
      "X_val shape: (103, 17)\n",
      "y_val shape: (103, 1)\n"
     ]
    },
    {
     "name": "stderr",
     "output_type": "stream",
     "text": [
      "[I 2024-11-06 22:30:34,578] Trial 0 finished with value: 0.9514563083648682 and parameters: {'n_units_1': 34, 'dropout_rate': 0.3655603119639821, 'n_units_2': 77}. Best is trial 0 with value: 0.9514563083648682.\n",
      "[I 2024-11-06 22:30:35,437] Trial 1 finished with value: 0.9514563083648682 and parameters: {'n_units_1': 49, 'dropout_rate': 0.241323414925459, 'n_units_2': 41}. Best is trial 0 with value: 0.9514563083648682.\n",
      "[I 2024-11-06 22:30:36,305] Trial 2 finished with value: 0.9514563083648682 and parameters: {'n_units_1': 95, 'dropout_rate': 0.2180889886703623, 'n_units_2': 110}. Best is trial 0 with value: 0.9514563083648682.\n",
      "[I 2024-11-06 22:30:37,171] Trial 3 finished with value: 0.9514563083648682 and parameters: {'n_units_1': 75, 'dropout_rate': 0.4613235656324548, 'n_units_2': 104}. Best is trial 0 with value: 0.9514563083648682.\n",
      "[I 2024-11-06 22:30:38,036] Trial 4 finished with value: 0.9514563083648682 and parameters: {'n_units_1': 127, 'dropout_rate': 0.2183001831088174, 'n_units_2': 76}. Best is trial 0 with value: 0.9514563083648682.\n",
      "[I 2024-11-06 22:30:38,927] Trial 5 finished with value: 0.9514563083648682 and parameters: {'n_units_1': 119, 'dropout_rate': 0.37335476319184974, 'n_units_2': 41}. Best is trial 0 with value: 0.9514563083648682.\n",
      "[I 2024-11-06 22:30:40,029] Trial 6 finished with value: 0.9514563083648682 and parameters: {'n_units_1': 115, 'dropout_rate': 0.23967693755434447, 'n_units_2': 71}. Best is trial 0 with value: 0.9514563083648682.\n",
      "[I 2024-11-06 22:30:41,343] Trial 7 finished with value: 0.9514563083648682 and parameters: {'n_units_1': 70, 'dropout_rate': 0.28343404405457456, 'n_units_2': 112}. Best is trial 0 with value: 0.9514563083648682.\n",
      "[I 2024-11-06 22:30:42,221] Trial 8 finished with value: 0.9514563083648682 and parameters: {'n_units_1': 115, 'dropout_rate': 0.29316120477811997, 'n_units_2': 110}. Best is trial 0 with value: 0.9514563083648682.\n",
      "[I 2024-11-06 22:30:43,079] Trial 9 finished with value: 0.9514563083648682 and parameters: {'n_units_1': 35, 'dropout_rate': 0.20408087221383295, 'n_units_2': 34}. Best is trial 0 with value: 0.9514563083648682.\n"
     ]
    },
    {
     "name": "stdout",
     "output_type": "stream",
     "text": [
      "\u001b[1m4/4\u001b[0m \u001b[32m━━━━━━━━━━━━━━━━━━━━\u001b[0m\u001b[37m\u001b[0m \u001b[1m0s\u001b[0m 4ms/step \n",
      "Dataset: Dataset_4, Score: 0.2854\n",
      "\u001b[1m11/11\u001b[0m \u001b[32m━━━━━━━━━━━━━━━━━━━━\u001b[0m\u001b[37m\u001b[0m \u001b[1m0s\u001b[0m 347us/step\n"
     ]
    },
    {
     "name": "stderr",
     "output_type": "stream",
     "text": [
      "[I 2024-11-06 22:30:44,736] A new study created in memory with name: no-name-9450ffd6-7a0a-4ed3-afbb-25976a83d67d\n"
     ]
    },
    {
     "name": "stdout",
     "output_type": "stream",
     "text": [
      "Dataset: Dataset_33\n",
      "X_train_split shape: (192, 11)\n",
      "y_train_split shape: (192, 1)\n",
      "X_val shape: (48, 11)\n",
      "y_val shape: (48, 1)\n"
     ]
    },
    {
     "name": "stderr",
     "output_type": "stream",
     "text": [
      "[I 2024-11-06 22:30:45,500] Trial 0 finished with value: 0.9791666865348816 and parameters: {'n_units_1': 113, 'dropout_rate': 0.24395822587575908, 'n_units_2': 117}. Best is trial 0 with value: 0.9791666865348816.\n",
      "[I 2024-11-06 22:30:46,261] Trial 1 finished with value: 1.0 and parameters: {'n_units_1': 111, 'dropout_rate': 0.42873439010277536, 'n_units_2': 58}. Best is trial 1 with value: 1.0.\n",
      "[I 2024-11-06 22:30:47,002] Trial 2 finished with value: 0.9583333134651184 and parameters: {'n_units_1': 36, 'dropout_rate': 0.2342484716670509, 'n_units_2': 85}. Best is trial 1 with value: 1.0.\n",
      "[I 2024-11-06 22:30:47,751] Trial 3 finished with value: 0.9791666865348816 and parameters: {'n_units_1': 125, 'dropout_rate': 0.2869320236932522, 'n_units_2': 112}. Best is trial 1 with value: 1.0.\n",
      "[I 2024-11-06 22:30:48,490] Trial 4 finished with value: 0.9583333134651184 and parameters: {'n_units_1': 66, 'dropout_rate': 0.3162828532329143, 'n_units_2': 54}. Best is trial 1 with value: 1.0.\n",
      "[I 2024-11-06 22:30:49,231] Trial 5 finished with value: 0.9583333134651184 and parameters: {'n_units_1': 128, 'dropout_rate': 0.45115171351779926, 'n_units_2': 51}. Best is trial 1 with value: 1.0.\n",
      "[I 2024-11-06 22:30:49,976] Trial 6 finished with value: 0.9583333134651184 and parameters: {'n_units_1': 78, 'dropout_rate': 0.4534902142251611, 'n_units_2': 64}. Best is trial 1 with value: 1.0.\n",
      "[I 2024-11-06 22:30:50,880] Trial 7 finished with value: 0.9791666865348816 and parameters: {'n_units_1': 44, 'dropout_rate': 0.3433434431712067, 'n_units_2': 34}. Best is trial 1 with value: 1.0.\n",
      "[I 2024-11-06 22:30:51,689] Trial 8 finished with value: 0.9791666865348816 and parameters: {'n_units_1': 123, 'dropout_rate': 0.43467406674551573, 'n_units_2': 90}. Best is trial 1 with value: 1.0.\n",
      "[I 2024-11-06 22:30:52,436] Trial 9 finished with value: 0.9583333134651184 and parameters: {'n_units_1': 86, 'dropout_rate': 0.47660150375240007, 'n_units_2': 124}. Best is trial 1 with value: 1.0.\n"
     ]
    },
    {
     "name": "stdout",
     "output_type": "stream",
     "text": [
      "\u001b[1m2/2\u001b[0m \u001b[32m━━━━━━━━━━━━━━━━━━━━\u001b[0m\u001b[37m\u001b[0m \u001b[1m0s\u001b[0m 12ms/step\n",
      "Dataset: Dataset_33, Score: 0.9611\n",
      "\u001b[1m5/5\u001b[0m \u001b[32m━━━━━━━━━━━━━━━━━━━━\u001b[0m\u001b[37m\u001b[0m \u001b[1m0s\u001b[0m 454us/step\n"
     ]
    },
    {
     "name": "stderr",
     "output_type": "stream",
     "text": [
      "[I 2024-11-06 22:30:53,840] A new study created in memory with name: no-name-49c2cf46-c691-48cd-8be1-7021f6ca9bea\n"
     ]
    },
    {
     "name": "stdout",
     "output_type": "stream",
     "text": [
      "Dataset: Dataset_3\n",
      "X_train_split shape: (55, 7)\n",
      "y_train_split shape: (55, 1)\n",
      "X_val shape: (14, 7)\n",
      "y_val shape: (14, 1)\n"
     ]
    },
    {
     "name": "stderr",
     "output_type": "stream",
     "text": [
      "[I 2024-11-06 22:30:54,975] Trial 0 finished with value: 0.7857142686843872 and parameters: {'n_units_1': 80, 'dropout_rate': 0.3085342373659115, 'n_units_2': 39}. Best is trial 0 with value: 0.7857142686843872.\n",
      "[I 2024-11-06 22:30:55,737] Trial 1 finished with value: 0.6428571343421936 and parameters: {'n_units_1': 94, 'dropout_rate': 0.2801539656556651, 'n_units_2': 99}. Best is trial 0 with value: 0.7857142686843872.\n",
      "[I 2024-11-06 22:30:56,498] Trial 2 finished with value: 0.5714285969734192 and parameters: {'n_units_1': 50, 'dropout_rate': 0.28254757819839416, 'n_units_2': 87}. Best is trial 0 with value: 0.7857142686843872.\n",
      "[I 2024-11-06 22:30:57,255] Trial 3 finished with value: 0.7142857313156128 and parameters: {'n_units_1': 82, 'dropout_rate': 0.44009683117167675, 'n_units_2': 93}. Best is trial 0 with value: 0.7857142686843872.\n",
      "[I 2024-11-06 22:30:58,015] Trial 4 finished with value: 0.7857142686843872 and parameters: {'n_units_1': 64, 'dropout_rate': 0.44483868473204025, 'n_units_2': 113}. Best is trial 0 with value: 0.7857142686843872.\n",
      "[I 2024-11-06 22:30:58,774] Trial 5 finished with value: 0.7857142686843872 and parameters: {'n_units_1': 92, 'dropout_rate': 0.2365148166895102, 'n_units_2': 89}. Best is trial 0 with value: 0.7857142686843872.\n",
      "[I 2024-11-06 22:30:59,714] Trial 6 finished with value: 0.6428571343421936 and parameters: {'n_units_1': 97, 'dropout_rate': 0.2863971475264153, 'n_units_2': 106}. Best is trial 0 with value: 0.7857142686843872.\n",
      "[I 2024-11-06 22:31:00,515] Trial 7 finished with value: 0.7142857313156128 and parameters: {'n_units_1': 97, 'dropout_rate': 0.23946387407705005, 'n_units_2': 67}. Best is trial 0 with value: 0.7857142686843872.\n",
      "[I 2024-11-06 22:31:01,268] Trial 8 finished with value: 0.7142857313156128 and parameters: {'n_units_1': 117, 'dropout_rate': 0.37627272352562474, 'n_units_2': 120}. Best is trial 0 with value: 0.7857142686843872.\n",
      "[I 2024-11-06 22:31:02,017] Trial 9 finished with value: 0.7142857313156128 and parameters: {'n_units_1': 77, 'dropout_rate': 0.4038149803149638, 'n_units_2': 61}. Best is trial 0 with value: 0.7857142686843872.\n"
     ]
    },
    {
     "name": "stdout",
     "output_type": "stream",
     "text": [
      "\u001b[1m1/1\u001b[0m \u001b[32m━━━━━━━━━━━━━━━━━━━━\u001b[0m\u001b[37m\u001b[0m \u001b[1m0s\u001b[0m 17ms/step\n",
      "Dataset: Dataset_3, Score: 0.7393\n",
      "WARNING:tensorflow:5 out of the last 21 calls to <function TensorFlowTrainer.make_predict_function.<locals>.one_step_on_data_distributed at 0x35217ddc0> triggered tf.function retracing. Tracing is expensive and the excessive number of tracings could be due to (1) creating @tf.function repeatedly in a loop, (2) passing tensors with different shapes, (3) passing Python objects instead of tensors. For (1), please define your @tf.function outside of the loop. For (2), @tf.function has reduce_retracing=True option that can avoid unnecessary retracing. For (3), please refer to https://www.tensorflow.org/guide/function#controlling_retracing and https://www.tensorflow.org/api_docs/python/tf/function for  more details.\n",
      "\u001b[1m2/2\u001b[0m \u001b[32m━━━━━━━━━━━━━━━━━━━━\u001b[0m\u001b[37m\u001b[0m \u001b[1m0s\u001b[0m 1ms/step  \n"
     ]
    },
    {
     "name": "stderr",
     "output_type": "stream",
     "text": [
      "[I 2024-11-06 22:31:03,352] A new study created in memory with name: no-name-d524c412-1340-43d1-bb67-301099950a9a\n"
     ]
    },
    {
     "name": "stdout",
     "output_type": "stream",
     "text": [
      "Dataset: Dataset_34\n",
      "X_train_split shape: (219, 7)\n",
      "y_train_split shape: (219, 1)\n",
      "X_val shape: (55, 7)\n",
      "y_val shape: (55, 1)\n"
     ]
    },
    {
     "name": "stderr",
     "output_type": "stream",
     "text": [
      "[I 2024-11-06 22:31:04,186] Trial 0 finished with value: 0.800000011920929 and parameters: {'n_units_1': 43, 'dropout_rate': 0.39391418588531635, 'n_units_2': 70}. Best is trial 0 with value: 0.800000011920929.\n",
      "[I 2024-11-06 22:31:04,992] Trial 1 finished with value: 0.7636363506317139 and parameters: {'n_units_1': 62, 'dropout_rate': 0.26599642656694045, 'n_units_2': 34}. Best is trial 0 with value: 0.800000011920929.\n",
      "[I 2024-11-06 22:31:05,797] Trial 2 finished with value: 0.7818182110786438 and parameters: {'n_units_1': 110, 'dropout_rate': 0.2440890992994672, 'n_units_2': 107}. Best is trial 0 with value: 0.800000011920929.\n",
      "[I 2024-11-06 22:31:06,597] Trial 3 finished with value: 0.800000011920929 and parameters: {'n_units_1': 37, 'dropout_rate': 0.4253145289832223, 'n_units_2': 116}. Best is trial 0 with value: 0.800000011920929.\n",
      "[I 2024-11-06 22:31:07,398] Trial 4 finished with value: 0.800000011920929 and parameters: {'n_units_1': 59, 'dropout_rate': 0.29101247390091023, 'n_units_2': 91}. Best is trial 0 with value: 0.800000011920929.\n",
      "[I 2024-11-06 22:31:08,196] Trial 5 finished with value: 0.7636363506317139 and parameters: {'n_units_1': 78, 'dropout_rate': 0.37554687758172023, 'n_units_2': 43}. Best is trial 0 with value: 0.800000011920929.\n",
      "[I 2024-11-06 22:31:09,635] Trial 6 finished with value: 0.7636363506317139 and parameters: {'n_units_1': 36, 'dropout_rate': 0.2625611020621926, 'n_units_2': 75}. Best is trial 0 with value: 0.800000011920929.\n",
      "[I 2024-11-06 22:31:10,472] Trial 7 finished with value: 0.800000011920929 and parameters: {'n_units_1': 81, 'dropout_rate': 0.4083307006491947, 'n_units_2': 123}. Best is trial 0 with value: 0.800000011920929.\n",
      "[I 2024-11-06 22:31:11,279] Trial 8 finished with value: 0.7090908885002136 and parameters: {'n_units_1': 46, 'dropout_rate': 0.4018784324427155, 'n_units_2': 60}. Best is trial 0 with value: 0.800000011920929.\n",
      "[I 2024-11-06 22:31:12,083] Trial 9 finished with value: 0.8181818127632141 and parameters: {'n_units_1': 51, 'dropout_rate': 0.2193363496543244, 'n_units_2': 96}. Best is trial 9 with value: 0.8181818127632141.\n"
     ]
    },
    {
     "name": "stdout",
     "output_type": "stream",
     "text": [
      "WARNING:tensorflow:5 out of the last 11 calls to <function TensorFlowTrainer.make_predict_function.<locals>.one_step_on_data_distributed at 0x3134608b0> triggered tf.function retracing. Tracing is expensive and the excessive number of tracings could be due to (1) creating @tf.function repeatedly in a loop, (2) passing tensors with different shapes, (3) passing Python objects instead of tensors. For (1), please define your @tf.function outside of the loop. For (2), @tf.function has reduce_retracing=True option that can avoid unnecessary retracing. For (3), please refer to https://www.tensorflow.org/guide/function#controlling_retracing and https://www.tensorflow.org/api_docs/python/tf/function for  more details.\n",
      "\u001b[1m2/2\u001b[0m \u001b[32m━━━━━━━━━━━━━━━━━━━━\u001b[0m\u001b[37m\u001b[0m \u001b[1m0s\u001b[0m 12ms/step\n",
      "Dataset: Dataset_34, Score: 0.7216\n",
      "\u001b[1m6/6\u001b[0m \u001b[32m━━━━━━━━━━━━━━━━━━━━\u001b[0m\u001b[37m\u001b[0m \u001b[1m0s\u001b[0m 445us/step\n"
     ]
    },
    {
     "name": "stderr",
     "output_type": "stream",
     "text": [
      "[I 2024-11-06 22:31:13,530] A new study created in memory with name: no-name-c4d25432-cc38-497a-ba17-b251851b31c9\n"
     ]
    },
    {
     "name": "stdout",
     "output_type": "stream",
     "text": [
      "Dataset: Dataset_45\n",
      "X_train_split shape: (126, 4)\n",
      "y_train_split shape: (126, 1)\n",
      "X_val shape: (32, 4)\n",
      "y_val shape: (32, 1)\n"
     ]
    },
    {
     "name": "stderr",
     "output_type": "stream",
     "text": [
      "[I 2024-11-06 22:31:14,296] Trial 0 finished with value: 0.9375 and parameters: {'n_units_1': 42, 'dropout_rate': 0.2425206726624864, 'n_units_2': 114}. Best is trial 0 with value: 0.9375.\n",
      "[I 2024-11-06 22:31:15,065] Trial 1 finished with value: 0.9375 and parameters: {'n_units_1': 91, 'dropout_rate': 0.3596866915866725, 'n_units_2': 82}. Best is trial 0 with value: 0.9375.\n",
      "[I 2024-11-06 22:31:15,820] Trial 2 finished with value: 0.9375 and parameters: {'n_units_1': 80, 'dropout_rate': 0.3722783153601694, 'n_units_2': 65}. Best is trial 0 with value: 0.9375.\n",
      "[I 2024-11-06 22:31:16,575] Trial 3 finished with value: 0.9375 and parameters: {'n_units_1': 127, 'dropout_rate': 0.29817624513423197, 'n_units_2': 59}. Best is trial 0 with value: 0.9375.\n",
      "[I 2024-11-06 22:31:17,327] Trial 4 finished with value: 0.9375 and parameters: {'n_units_1': 56, 'dropout_rate': 0.2869434924986024, 'n_units_2': 110}. Best is trial 0 with value: 0.9375.\n",
      "[I 2024-11-06 22:31:18,079] Trial 5 finished with value: 0.9375 and parameters: {'n_units_1': 51, 'dropout_rate': 0.4172756871812807, 'n_units_2': 68}. Best is trial 0 with value: 0.9375.\n",
      "[I 2024-11-06 22:31:18,853] Trial 6 finished with value: 0.9375 and parameters: {'n_units_1': 83, 'dropout_rate': 0.4281966567822773, 'n_units_2': 125}. Best is trial 0 with value: 0.9375.\n",
      "[I 2024-11-06 22:31:19,734] Trial 7 finished with value: 0.9375 and parameters: {'n_units_1': 99, 'dropout_rate': 0.3429093058194532, 'n_units_2': 46}. Best is trial 0 with value: 0.9375.\n",
      "[I 2024-11-06 22:31:20,493] Trial 8 finished with value: 0.96875 and parameters: {'n_units_1': 70, 'dropout_rate': 0.3635271790426814, 'n_units_2': 119}. Best is trial 8 with value: 0.96875.\n",
      "[I 2024-11-06 22:31:21,244] Trial 9 finished with value: 0.9375 and parameters: {'n_units_1': 121, 'dropout_rate': 0.37561599964904674, 'n_units_2': 50}. Best is trial 8 with value: 0.96875.\n"
     ]
    },
    {
     "name": "stdout",
     "output_type": "stream",
     "text": [
      "\u001b[1m1/1\u001b[0m \u001b[32m━━━━━━━━━━━━━━━━━━━━\u001b[0m\u001b[37m\u001b[0m \u001b[1m0s\u001b[0m 17ms/step\n",
      "Dataset: Dataset_45, Score: 0.2812\n",
      "\u001b[1m4/4\u001b[0m \u001b[32m━━━━━━━━━━━━━━━━━━━━\u001b[0m\u001b[37m\u001b[0m \u001b[1m0s\u001b[0m 5ms/step  \n"
     ]
    },
    {
     "name": "stderr",
     "output_type": "stream",
     "text": [
      "[I 2024-11-06 22:31:22,749] A new study created in memory with name: no-name-9e96cb71-5876-451a-a12d-62c09013663c\n"
     ]
    },
    {
     "name": "stdout",
     "output_type": "stream",
     "text": [
      "Dataset: Dataset_42\n",
      "X_train_split shape: (96, 5)\n",
      "y_train_split shape: (96, 1)\n",
      "X_val shape: (24, 5)\n",
      "y_val shape: (24, 1)\n"
     ]
    },
    {
     "name": "stderr",
     "output_type": "stream",
     "text": [
      "[I 2024-11-06 22:31:23,481] Trial 0 finished with value: 0.9583333134651184 and parameters: {'n_units_1': 99, 'dropout_rate': 0.4720082474720379, 'n_units_2': 122}. Best is trial 0 with value: 0.9583333134651184.\n",
      "[I 2024-11-06 22:31:24,201] Trial 1 finished with value: 0.9583333134651184 and parameters: {'n_units_1': 54, 'dropout_rate': 0.21025817606870362, 'n_units_2': 42}. Best is trial 0 with value: 0.9583333134651184.\n",
      "[I 2024-11-06 22:31:24,915] Trial 2 finished with value: 1.0 and parameters: {'n_units_1': 98, 'dropout_rate': 0.3188952854023594, 'n_units_2': 98}. Best is trial 2 with value: 1.0.\n",
      "[I 2024-11-06 22:31:25,624] Trial 3 finished with value: 1.0 and parameters: {'n_units_1': 56, 'dropout_rate': 0.36509837631213976, 'n_units_2': 61}. Best is trial 2 with value: 1.0.\n",
      "[I 2024-11-06 22:31:26,867] Trial 4 finished with value: 1.0 and parameters: {'n_units_1': 44, 'dropout_rate': 0.4058903493097079, 'n_units_2': 34}. Best is trial 2 with value: 1.0.\n",
      "[I 2024-11-06 22:31:27,601] Trial 5 finished with value: 1.0 and parameters: {'n_units_1': 106, 'dropout_rate': 0.27778682404811167, 'n_units_2': 35}. Best is trial 2 with value: 1.0.\n",
      "[I 2024-11-06 22:31:28,425] Trial 6 finished with value: 1.0 and parameters: {'n_units_1': 96, 'dropout_rate': 0.4154970405182558, 'n_units_2': 112}. Best is trial 2 with value: 1.0.\n",
      "[I 2024-11-06 22:31:29,294] Trial 7 finished with value: 1.0 and parameters: {'n_units_1': 48, 'dropout_rate': 0.3828427439973819, 'n_units_2': 71}. Best is trial 2 with value: 1.0.\n",
      "[I 2024-11-06 22:31:30,011] Trial 8 finished with value: 0.9583333134651184 and parameters: {'n_units_1': 120, 'dropout_rate': 0.4139026156701487, 'n_units_2': 116}. Best is trial 2 with value: 1.0.\n",
      "[I 2024-11-06 22:31:30,764] Trial 9 finished with value: 1.0 and parameters: {'n_units_1': 70, 'dropout_rate': 0.4964483860227027, 'n_units_2': 111}. Best is trial 2 with value: 1.0.\n"
     ]
    },
    {
     "name": "stdout",
     "output_type": "stream",
     "text": [
      "\u001b[1m1/1\u001b[0m \u001b[32m━━━━━━━━━━━━━━━━━━━━\u001b[0m\u001b[37m\u001b[0m \u001b[1m0s\u001b[0m 18ms/step\n",
      "Dataset: Dataset_42, Score: 0.9755\n",
      "\u001b[1m3/3\u001b[0m \u001b[32m━━━━━━━━━━━━━━━━━━━━\u001b[0m\u001b[37m\u001b[0m \u001b[1m0s\u001b[0m 598us/step\n"
     ]
    },
    {
     "name": "stderr",
     "output_type": "stream",
     "text": [
      "[I 2024-11-06 22:31:32,048] A new study created in memory with name: no-name-5004bb38-110c-4c4e-b3cd-130c3164cbef\n"
     ]
    },
    {
     "name": "stdout",
     "output_type": "stream",
     "text": [
      "Dataset: Dataset_27\n",
      "X_train_split shape: (164, 5)\n",
      "y_train_split shape: (164, 1)\n",
      "X_val shape: (42, 5)\n",
      "y_val shape: (42, 1)\n"
     ]
    },
    {
     "name": "stderr",
     "output_type": "stream",
     "text": [
      "[I 2024-11-06 22:31:32,873] Trial 0 finished with value: 1.0 and parameters: {'n_units_1': 76, 'dropout_rate': 0.3386683666652665, 'n_units_2': 65}. Best is trial 0 with value: 1.0.\n",
      "[I 2024-11-06 22:31:33,669] Trial 1 finished with value: 1.0 and parameters: {'n_units_1': 51, 'dropout_rate': 0.2348889331152263, 'n_units_2': 127}. Best is trial 0 with value: 1.0.\n",
      "[I 2024-11-06 22:31:34,471] Trial 2 finished with value: 1.0 and parameters: {'n_units_1': 61, 'dropout_rate': 0.2772137832280092, 'n_units_2': 115}. Best is trial 0 with value: 1.0.\n",
      "[I 2024-11-06 22:31:35,267] Trial 3 finished with value: 1.0 and parameters: {'n_units_1': 46, 'dropout_rate': 0.35001022192814774, 'n_units_2': 57}. Best is trial 0 with value: 1.0.\n",
      "[I 2024-11-06 22:31:36,072] Trial 4 finished with value: 1.0 and parameters: {'n_units_1': 115, 'dropout_rate': 0.2280607763688393, 'n_units_2': 103}. Best is trial 0 with value: 1.0.\n",
      "[I 2024-11-06 22:31:36,875] Trial 5 finished with value: 1.0 and parameters: {'n_units_1': 51, 'dropout_rate': 0.3473522624919113, 'n_units_2': 90}. Best is trial 0 with value: 1.0.\n",
      "[I 2024-11-06 22:31:37,748] Trial 6 finished with value: 1.0 and parameters: {'n_units_1': 101, 'dropout_rate': 0.2325811748303937, 'n_units_2': 38}. Best is trial 0 with value: 1.0.\n",
      "[I 2024-11-06 22:31:38,651] Trial 7 finished with value: 1.0 and parameters: {'n_units_1': 41, 'dropout_rate': 0.3122747102038736, 'n_units_2': 67}. Best is trial 0 with value: 1.0.\n",
      "[I 2024-11-06 22:31:39,448] Trial 8 finished with value: 1.0 and parameters: {'n_units_1': 70, 'dropout_rate': 0.20155533391179375, 'n_units_2': 88}. Best is trial 0 with value: 1.0.\n",
      "[I 2024-11-06 22:31:40,237] Trial 9 finished with value: 1.0 and parameters: {'n_units_1': 54, 'dropout_rate': 0.2219375106340382, 'n_units_2': 108}. Best is trial 0 with value: 1.0.\n"
     ]
    },
    {
     "name": "stdout",
     "output_type": "stream",
     "text": [
      "\u001b[1m2/2\u001b[0m \u001b[32m━━━━━━━━━━━━━━━━━━━━\u001b[0m\u001b[37m\u001b[0m \u001b[1m0s\u001b[0m 12ms/step\n",
      "Dataset: Dataset_27, Score: 1.0000\n",
      "\u001b[1m5/5\u001b[0m \u001b[32m━━━━━━━━━━━━━━━━━━━━\u001b[0m\u001b[37m\u001b[0m \u001b[1m0s\u001b[0m 622us/step\n"
     ]
    },
    {
     "name": "stderr",
     "output_type": "stream",
     "text": [
      "[I 2024-11-06 22:31:41,670] A new study created in memory with name: no-name-08c8f282-8878-46fd-9b66-b787c55d12eb\n"
     ]
    },
    {
     "name": "stdout",
     "output_type": "stream",
     "text": [
      "Dataset: Dataset_18\n",
      "X_train_split shape: (272, 12)\n",
      "y_train_split shape: (272, 1)\n",
      "X_val shape: (68, 12)\n",
      "y_val shape: (68, 1)\n"
     ]
    },
    {
     "name": "stderr",
     "output_type": "stream",
     "text": [
      "[I 2024-11-06 22:31:42,515] Trial 0 finished with value: 1.0 and parameters: {'n_units_1': 116, 'dropout_rate': 0.4986492009675725, 'n_units_2': 96}. Best is trial 0 with value: 1.0.\n",
      "[I 2024-11-06 22:31:43,346] Trial 1 finished with value: 1.0 and parameters: {'n_units_1': 62, 'dropout_rate': 0.40512759865224174, 'n_units_2': 76}. Best is trial 0 with value: 1.0.\n",
      "[I 2024-11-06 22:31:44,171] Trial 2 finished with value: 1.0 and parameters: {'n_units_1': 52, 'dropout_rate': 0.22802420384121524, 'n_units_2': 120}. Best is trial 0 with value: 1.0.\n",
      "[I 2024-11-06 22:31:44,994] Trial 3 finished with value: 1.0 and parameters: {'n_units_1': 104, 'dropout_rate': 0.23831209391572836, 'n_units_2': 82}. Best is trial 0 with value: 1.0.\n",
      "[I 2024-11-06 22:31:45,819] Trial 4 finished with value: 1.0 and parameters: {'n_units_1': 109, 'dropout_rate': 0.42701886037566494, 'n_units_2': 64}. Best is trial 0 with value: 1.0.\n",
      "[I 2024-11-06 22:31:46,639] Trial 5 finished with value: 1.0 and parameters: {'n_units_1': 53, 'dropout_rate': 0.3281117879539851, 'n_units_2': 97}. Best is trial 0 with value: 1.0.\n",
      "[I 2024-11-06 22:31:48,305] Trial 6 finished with value: 1.0 and parameters: {'n_units_1': 107, 'dropout_rate': 0.31857225703477077, 'n_units_2': 99}. Best is trial 0 with value: 1.0.\n",
      "[I 2024-11-06 22:31:49,166] Trial 7 finished with value: 1.0 and parameters: {'n_units_1': 81, 'dropout_rate': 0.2567830154509735, 'n_units_2': 98}. Best is trial 0 with value: 1.0.\n",
      "[I 2024-11-06 22:31:50,006] Trial 8 finished with value: 1.0 and parameters: {'n_units_1': 120, 'dropout_rate': 0.32223029695580946, 'n_units_2': 56}. Best is trial 0 with value: 1.0.\n",
      "[I 2024-11-06 22:31:50,832] Trial 9 finished with value: 1.0 and parameters: {'n_units_1': 59, 'dropout_rate': 0.2941201947164424, 'n_units_2': 111}. Best is trial 0 with value: 1.0.\n"
     ]
    },
    {
     "name": "stdout",
     "output_type": "stream",
     "text": [
      "\u001b[1m3/3\u001b[0m \u001b[32m━━━━━━━━━━━━━━━━━━━━\u001b[0m\u001b[37m\u001b[0m \u001b[1m0s\u001b[0m 6ms/step \n",
      "Dataset: Dataset_18, Score: 1.0000\n",
      "\u001b[1m8/8\u001b[0m \u001b[32m━━━━━━━━━━━━━━━━━━━━\u001b[0m\u001b[37m\u001b[0m \u001b[1m0s\u001b[0m 382us/step\n"
     ]
    },
    {
     "name": "stderr",
     "output_type": "stream",
     "text": [
      "[I 2024-11-06 22:31:52,358] A new study created in memory with name: no-name-f9725651-79c9-4c55-baaf-926a7deaac2a\n"
     ]
    },
    {
     "name": "stdout",
     "output_type": "stream",
     "text": [
      "Dataset: Dataset_20\n",
      "X_train_split shape: (103, 11)\n",
      "y_train_split shape: (103, 1)\n",
      "X_val shape: (26, 11)\n",
      "y_val shape: (26, 1)\n"
     ]
    },
    {
     "name": "stderr",
     "output_type": "stream",
     "text": [
      "[I 2024-11-06 22:31:53,258] Trial 0 finished with value: 0.7307692170143127 and parameters: {'n_units_1': 46, 'dropout_rate': 0.41923544529301954, 'n_units_2': 65}. Best is trial 0 with value: 0.7307692170143127.\n",
      "[I 2024-11-06 22:31:54,086] Trial 1 finished with value: 0.8461538553237915 and parameters: {'n_units_1': 83, 'dropout_rate': 0.20073534909197752, 'n_units_2': 109}. Best is trial 1 with value: 0.8461538553237915.\n",
      "[I 2024-11-06 22:31:54,876] Trial 2 finished with value: 0.8846153616905212 and parameters: {'n_units_1': 98, 'dropout_rate': 0.2818593657530603, 'n_units_2': 67}. Best is trial 2 with value: 0.8846153616905212.\n",
      "[I 2024-11-06 22:31:55,649] Trial 3 finished with value: 0.8846153616905212 and parameters: {'n_units_1': 80, 'dropout_rate': 0.24787359471597878, 'n_units_2': 128}. Best is trial 2 with value: 0.8846153616905212.\n",
      "[I 2024-11-06 22:31:56,423] Trial 4 finished with value: 0.807692289352417 and parameters: {'n_units_1': 88, 'dropout_rate': 0.4340097662170755, 'n_units_2': 101}. Best is trial 2 with value: 0.8846153616905212.\n",
      "[I 2024-11-06 22:31:57,208] Trial 5 finished with value: 0.8846153616905212 and parameters: {'n_units_1': 97, 'dropout_rate': 0.3655555450285724, 'n_units_2': 122}. Best is trial 2 with value: 0.8846153616905212.\n",
      "[I 2024-11-06 22:31:58,373] Trial 6 finished with value: 0.8846153616905212 and parameters: {'n_units_1': 118, 'dropout_rate': 0.3159202416851938, 'n_units_2': 79}. Best is trial 2 with value: 0.8846153616905212.\n",
      "[I 2024-11-06 22:31:59,196] Trial 7 finished with value: 0.8846153616905212 and parameters: {'n_units_1': 70, 'dropout_rate': 0.2514872925072463, 'n_units_2': 119}. Best is trial 2 with value: 0.8846153616905212.\n",
      "[I 2024-11-06 22:31:59,971] Trial 8 finished with value: 0.7692307829856873 and parameters: {'n_units_1': 58, 'dropout_rate': 0.49782631307496755, 'n_units_2': 67}. Best is trial 2 with value: 0.8846153616905212.\n",
      "[I 2024-11-06 22:32:00,753] Trial 9 finished with value: 0.8461538553237915 and parameters: {'n_units_1': 65, 'dropout_rate': 0.3822416719145129, 'n_units_2': 73}. Best is trial 2 with value: 0.8846153616905212.\n"
     ]
    },
    {
     "name": "stdout",
     "output_type": "stream",
     "text": [
      "\u001b[1m1/1\u001b[0m \u001b[32m━━━━━━━━━━━━━━━━━━━━\u001b[0m\u001b[37m\u001b[0m \u001b[1m0s\u001b[0m 18ms/step\n",
      "Dataset: Dataset_20, Score: 0.7519\n",
      "\u001b[1m3/3\u001b[0m \u001b[32m━━━━━━━━━━━━━━━━━━━━\u001b[0m\u001b[37m\u001b[0m \u001b[1m0s\u001b[0m 861us/step\n"
     ]
    },
    {
     "name": "stderr",
     "output_type": "stream",
     "text": [
      "[I 2024-11-06 22:32:02,131] A new study created in memory with name: no-name-7e26cc0c-5194-403c-a866-33c8329be3d7\n"
     ]
    },
    {
     "name": "stdout",
     "output_type": "stream",
     "text": [
      "Dataset: Dataset_16\n",
      "X_train_split shape: (372, 9)\n",
      "y_train_split shape: (372, 1)\n",
      "X_val shape: (93, 9)\n",
      "y_val shape: (93, 1)\n"
     ]
    },
    {
     "name": "stderr",
     "output_type": "stream",
     "text": [
      "[I 2024-11-06 22:32:03,009] Trial 0 finished with value: 1.0 and parameters: {'n_units_1': 108, 'dropout_rate': 0.2891113808028374, 'n_units_2': 56}. Best is trial 0 with value: 1.0.\n",
      "[I 2024-11-06 22:32:03,866] Trial 1 finished with value: 1.0 and parameters: {'n_units_1': 78, 'dropout_rate': 0.4322475380882705, 'n_units_2': 117}. Best is trial 0 with value: 1.0.\n",
      "[I 2024-11-06 22:32:04,724] Trial 2 finished with value: 1.0 and parameters: {'n_units_1': 52, 'dropout_rate': 0.21840932952002465, 'n_units_2': 56}. Best is trial 0 with value: 1.0.\n",
      "[I 2024-11-06 22:32:05,585] Trial 3 finished with value: 1.0 and parameters: {'n_units_1': 86, 'dropout_rate': 0.43336179641864203, 'n_units_2': 126}. Best is trial 0 with value: 1.0.\n",
      "[I 2024-11-06 22:32:06,451] Trial 4 finished with value: 1.0 and parameters: {'n_units_1': 112, 'dropout_rate': 0.3614701202811032, 'n_units_2': 123}. Best is trial 0 with value: 1.0.\n",
      "[I 2024-11-06 22:32:07,332] Trial 5 finished with value: 1.0 and parameters: {'n_units_1': 94, 'dropout_rate': 0.4392626938612111, 'n_units_2': 117}. Best is trial 0 with value: 1.0.\n",
      "[I 2024-11-06 22:32:08,324] Trial 6 finished with value: 1.0 and parameters: {'n_units_1': 86, 'dropout_rate': 0.45436023076418913, 'n_units_2': 49}. Best is trial 0 with value: 1.0.\n",
      "[I 2024-11-06 22:32:09,166] Trial 7 finished with value: 0.9892473220825195 and parameters: {'n_units_1': 38, 'dropout_rate': 0.2476254916163973, 'n_units_2': 38}. Best is trial 0 with value: 1.0.\n",
      "[I 2024-11-06 22:32:10,026] Trial 8 finished with value: 1.0 and parameters: {'n_units_1': 128, 'dropout_rate': 0.4100135618620059, 'n_units_2': 100}. Best is trial 0 with value: 1.0.\n",
      "[I 2024-11-06 22:32:10,879] Trial 9 finished with value: 1.0 and parameters: {'n_units_1': 52, 'dropout_rate': 0.4876201659403102, 'n_units_2': 124}. Best is trial 0 with value: 1.0.\n"
     ]
    },
    {
     "name": "stdout",
     "output_type": "stream",
     "text": [
      "\u001b[1m3/3\u001b[0m \u001b[32m━━━━━━━━━━━━━━━━━━━━\u001b[0m\u001b[37m\u001b[0m \u001b[1m0s\u001b[0m 7ms/step  \n",
      "Dataset: Dataset_16, Score: 0.9854\n",
      "\u001b[1m10/10\u001b[0m \u001b[32m━━━━━━━━━━━━━━━━━━━━\u001b[0m\u001b[37m\u001b[0m \u001b[1m0s\u001b[0m 398us/step\n"
     ]
    },
    {
     "name": "stderr",
     "output_type": "stream",
     "text": [
      "[I 2024-11-06 22:32:12,466] A new study created in memory with name: no-name-1e111ed4-3f0e-4b0a-a867-78c0a604692f\n"
     ]
    },
    {
     "name": "stdout",
     "output_type": "stream",
     "text": [
      "Dataset: Dataset_29\n",
      "X_train_split shape: (244, 10)\n",
      "y_train_split shape: (244, 1)\n",
      "X_val shape: (62, 10)\n",
      "y_val shape: (62, 1)\n"
     ]
    },
    {
     "name": "stderr",
     "output_type": "stream",
     "text": [
      "[I 2024-11-06 22:32:14,176] Trial 0 finished with value: 0.7580645084381104 and parameters: {'n_units_1': 124, 'dropout_rate': 0.4209449552956897, 'n_units_2': 36}. Best is trial 0 with value: 0.7580645084381104.\n",
      "[I 2024-11-06 22:32:15,119] Trial 1 finished with value: 0.774193525314331 and parameters: {'n_units_1': 86, 'dropout_rate': 0.4261079991526529, 'n_units_2': 42}. Best is trial 1 with value: 0.774193525314331.\n",
      "[I 2024-11-06 22:32:15,966] Trial 2 finished with value: 0.7580645084381104 and parameters: {'n_units_1': 56, 'dropout_rate': 0.4799989968779108, 'n_units_2': 111}. Best is trial 1 with value: 0.774193525314331.\n",
      "[I 2024-11-06 22:32:16,791] Trial 3 finished with value: 0.774193525314331 and parameters: {'n_units_1': 61, 'dropout_rate': 0.3933291012718808, 'n_units_2': 109}. Best is trial 1 with value: 0.774193525314331.\n",
      "[I 2024-11-06 22:32:17,610] Trial 4 finished with value: 0.8064516186714172 and parameters: {'n_units_1': 84, 'dropout_rate': 0.2572118790899648, 'n_units_2': 128}. Best is trial 4 with value: 0.8064516186714172.\n",
      "[I 2024-11-06 22:32:18,616] Trial 5 finished with value: 0.8064516186714172 and parameters: {'n_units_1': 114, 'dropout_rate': 0.4910035527516035, 'n_units_2': 89}. Best is trial 4 with value: 0.8064516186714172.\n",
      "[I 2024-11-06 22:32:19,561] Trial 6 finished with value: 0.7580645084381104 and parameters: {'n_units_1': 51, 'dropout_rate': 0.40196951395875097, 'n_units_2': 117}. Best is trial 4 with value: 0.8064516186714172.\n",
      "[I 2024-11-06 22:32:20,376] Trial 7 finished with value: 0.7903226017951965 and parameters: {'n_units_1': 60, 'dropout_rate': 0.46466286813608876, 'n_units_2': 75}. Best is trial 4 with value: 0.8064516186714172.\n",
      "[I 2024-11-06 22:32:21,200] Trial 8 finished with value: 0.8064516186714172 and parameters: {'n_units_1': 114, 'dropout_rate': 0.28850261678639183, 'n_units_2': 90}. Best is trial 4 with value: 0.8064516186714172.\n",
      "[I 2024-11-06 22:32:22,020] Trial 9 finished with value: 0.8064516186714172 and parameters: {'n_units_1': 118, 'dropout_rate': 0.2654562919744435, 'n_units_2': 95}. Best is trial 4 with value: 0.8064516186714172.\n"
     ]
    },
    {
     "name": "stdout",
     "output_type": "stream",
     "text": [
      "\u001b[1m2/2\u001b[0m \u001b[32m━━━━━━━━━━━━━━━━━━━━\u001b[0m\u001b[37m\u001b[0m \u001b[1m0s\u001b[0m 12ms/step\n",
      "Dataset: Dataset_29, Score: 0.8565\n",
      "\u001b[1m7/7\u001b[0m \u001b[32m━━━━━━━━━━━━━━━━━━━━\u001b[0m\u001b[37m\u001b[0m \u001b[1m0s\u001b[0m 428us/step\n"
     ]
    },
    {
     "name": "stderr",
     "output_type": "stream",
     "text": [
      "[I 2024-11-06 22:32:23,509] A new study created in memory with name: no-name-2dbc7e98-3dda-4872-972a-ad23a401ee61\n"
     ]
    },
    {
     "name": "stdout",
     "output_type": "stream",
     "text": [
      "Dataset: Dataset_11\n",
      "X_train_split shape: (46, 20)\n",
      "y_train_split shape: (46, 1)\n",
      "X_val shape: (12, 20)\n",
      "y_val shape: (12, 1)\n"
     ]
    },
    {
     "name": "stderr",
     "output_type": "stream",
     "text": [
      "[I 2024-11-06 22:32:24,415] Trial 0 finished with value: 0.5833333134651184 and parameters: {'n_units_1': 36, 'dropout_rate': 0.48155151748103775, 'n_units_2': 37}. Best is trial 0 with value: 0.5833333134651184.\n",
      "[I 2024-11-06 22:32:25,186] Trial 1 finished with value: 0.5833333134651184 and parameters: {'n_units_1': 95, 'dropout_rate': 0.40047895707935327, 'n_units_2': 35}. Best is trial 0 with value: 0.5833333134651184.\n",
      "[I 2024-11-06 22:32:25,946] Trial 2 finished with value: 0.75 and parameters: {'n_units_1': 58, 'dropout_rate': 0.4178565827840432, 'n_units_2': 42}. Best is trial 2 with value: 0.75.\n",
      "[I 2024-11-06 22:32:26,699] Trial 3 finished with value: 0.6666666865348816 and parameters: {'n_units_1': 36, 'dropout_rate': 0.4373253008312601, 'n_units_2': 91}. Best is trial 2 with value: 0.75.\n",
      "[I 2024-11-06 22:32:27,453] Trial 4 finished with value: 0.5833333134651184 and parameters: {'n_units_1': 62, 'dropout_rate': 0.2686606379898969, 'n_units_2': 58}. Best is trial 2 with value: 0.75.\n",
      "[I 2024-11-06 22:32:28,207] Trial 5 finished with value: 0.6666666865348816 and parameters: {'n_units_1': 109, 'dropout_rate': 0.3821595190177348, 'n_units_2': 99}. Best is trial 2 with value: 0.75.\n",
      "[I 2024-11-06 22:32:29,059] Trial 6 finished with value: 0.6666666865348816 and parameters: {'n_units_1': 35, 'dropout_rate': 0.3890676439600574, 'n_units_2': 98}. Best is trial 2 with value: 0.75.\n",
      "[I 2024-11-06 22:32:29,966] Trial 7 finished with value: 0.5833333134651184 and parameters: {'n_units_1': 102, 'dropout_rate': 0.37200293274355234, 'n_units_2': 50}. Best is trial 2 with value: 0.75.\n",
      "[I 2024-11-06 22:32:30,720] Trial 8 finished with value: 0.6666666865348816 and parameters: {'n_units_1': 40, 'dropout_rate': 0.3431572143917724, 'n_units_2': 75}. Best is trial 2 with value: 0.75.\n",
      "[I 2024-11-06 22:32:31,479] Trial 9 finished with value: 0.75 and parameters: {'n_units_1': 95, 'dropout_rate': 0.408468432432547, 'n_units_2': 127}. Best is trial 2 with value: 0.75.\n"
     ]
    },
    {
     "name": "stdout",
     "output_type": "stream",
     "text": [
      "\u001b[1m1/1\u001b[0m \u001b[32m━━━━━━━━━━━━━━━━━━━━\u001b[0m\u001b[37m\u001b[0m \u001b[1m0s\u001b[0m 132ms/step\n",
      "Dataset: Dataset_11, Score: 0.1500\n",
      "\u001b[1m2/2\u001b[0m \u001b[32m━━━━━━━━━━━━━━━━━━━━\u001b[0m\u001b[37m\u001b[0m \u001b[1m0s\u001b[0m 969us/step\n"
     ]
    },
    {
     "name": "stderr",
     "output_type": "stream",
     "text": [
      "[I 2024-11-06 22:32:32,994] A new study created in memory with name: no-name-93429ab7-9299-4c54-91a6-cccc7b23e7b7\n"
     ]
    },
    {
     "name": "stdout",
     "output_type": "stream",
     "text": [
      "Dataset: Dataset_43\n",
      "X_train_split shape: (474, 4)\n",
      "y_train_split shape: (474, 1)\n",
      "X_val shape: (119, 4)\n",
      "y_val shape: (119, 1)\n"
     ]
    },
    {
     "name": "stderr",
     "output_type": "stream",
     "text": [
      "[I 2024-11-06 22:32:33,905] Trial 0 finished with value: 0.8907563090324402 and parameters: {'n_units_1': 68, 'dropout_rate': 0.48002077877352245, 'n_units_2': 36}. Best is trial 0 with value: 0.8907563090324402.\n",
      "[I 2024-11-06 22:32:34,794] Trial 1 finished with value: 0.8907563090324402 and parameters: {'n_units_1': 82, 'dropout_rate': 0.37605234113759173, 'n_units_2': 110}. Best is trial 0 with value: 0.8907563090324402.\n",
      "[I 2024-11-06 22:32:35,677] Trial 2 finished with value: 0.8907563090324402 and parameters: {'n_units_1': 50, 'dropout_rate': 0.2583122160165581, 'n_units_2': 99}. Best is trial 0 with value: 0.8907563090324402.\n",
      "[I 2024-11-06 22:32:36,558] Trial 3 finished with value: 0.8907563090324402 and parameters: {'n_units_1': 108, 'dropout_rate': 0.46036652812716855, 'n_units_2': 40}. Best is trial 0 with value: 0.8907563090324402.\n",
      "[I 2024-11-06 22:32:37,440] Trial 4 finished with value: 0.8907563090324402 and parameters: {'n_units_1': 36, 'dropout_rate': 0.443932727202032, 'n_units_2': 95}. Best is trial 0 with value: 0.8907563090324402.\n",
      "[I 2024-11-06 22:32:38,322] Trial 5 finished with value: 0.8907563090324402 and parameters: {'n_units_1': 64, 'dropout_rate': 0.2241530443778242, 'n_units_2': 64}. Best is trial 0 with value: 0.8907563090324402.\n",
      "[I 2024-11-06 22:32:39,387] Trial 6 finished with value: 0.8907563090324402 and parameters: {'n_units_1': 67, 'dropout_rate': 0.25663827369188674, 'n_units_2': 45}. Best is trial 0 with value: 0.8907563090324402.\n",
      "[I 2024-11-06 22:32:40,263] Trial 7 finished with value: 0.8907563090324402 and parameters: {'n_units_1': 66, 'dropout_rate': 0.3972891152559538, 'n_units_2': 49}. Best is trial 0 with value: 0.8907563090324402.\n",
      "[I 2024-11-06 22:32:41,136] Trial 8 finished with value: 0.8907563090324402 and parameters: {'n_units_1': 59, 'dropout_rate': 0.41224241610526435, 'n_units_2': 119}. Best is trial 0 with value: 0.8907563090324402.\n",
      "[I 2024-11-06 22:32:42,017] Trial 9 finished with value: 0.8907563090324402 and parameters: {'n_units_1': 91, 'dropout_rate': 0.4090091162202588, 'n_units_2': 97}. Best is trial 0 with value: 0.8907563090324402.\n"
     ]
    },
    {
     "name": "stdout",
     "output_type": "stream",
     "text": [
      "\u001b[1m4/4\u001b[0m \u001b[32m━━━━━━━━━━━━━━━━━━━━\u001b[0m\u001b[37m\u001b[0m \u001b[1m0s\u001b[0m 5ms/step  \n",
      "Dataset: Dataset_43, Score: 0.2672\n",
      "\u001b[1m13/13\u001b[0m \u001b[32m━━━━━━━━━━━━━━━━━━━━\u001b[0m\u001b[37m\u001b[0m \u001b[1m0s\u001b[0m 343us/step\n"
     ]
    },
    {
     "name": "stderr",
     "output_type": "stream",
     "text": [
      "[I 2024-11-06 22:32:44,946] A new study created in memory with name: no-name-1ebe52c9-8410-4850-a726-b4cb792de5a3\n"
     ]
    },
    {
     "name": "stdout",
     "output_type": "stream",
     "text": [
      "Dataset: Dataset_44\n",
      "X_train_split shape: (48, 6)\n",
      "y_train_split shape: (48, 1)\n",
      "X_val shape: (12, 6)\n",
      "y_val shape: (12, 1)\n"
     ]
    },
    {
     "name": "stderr",
     "output_type": "stream",
     "text": [
      "[I 2024-11-06 22:32:45,790] Trial 0 finished with value: 1.0 and parameters: {'n_units_1': 53, 'dropout_rate': 0.26142443454347336, 'n_units_2': 83}. Best is trial 0 with value: 1.0.\n",
      "[I 2024-11-06 22:32:46,577] Trial 1 finished with value: 1.0 and parameters: {'n_units_1': 114, 'dropout_rate': 0.32843380377017745, 'n_units_2': 114}. Best is trial 0 with value: 1.0.\n",
      "[I 2024-11-06 22:32:47,351] Trial 2 finished with value: 1.0 and parameters: {'n_units_1': 97, 'dropout_rate': 0.4396462725943899, 'n_units_2': 39}. Best is trial 0 with value: 1.0.\n",
      "[I 2024-11-06 22:32:48,121] Trial 3 finished with value: 1.0 and parameters: {'n_units_1': 104, 'dropout_rate': 0.44268795334735817, 'n_units_2': 83}. Best is trial 0 with value: 1.0.\n",
      "[I 2024-11-06 22:32:48,880] Trial 4 finished with value: 1.0 and parameters: {'n_units_1': 125, 'dropout_rate': 0.23611692682789567, 'n_units_2': 127}. Best is trial 0 with value: 1.0.\n",
      "[I 2024-11-06 22:32:49,647] Trial 5 finished with value: 1.0 and parameters: {'n_units_1': 93, 'dropout_rate': 0.37280023228026393, 'n_units_2': 80}. Best is trial 0 with value: 1.0.\n",
      "[I 2024-11-06 22:32:50,670] Trial 6 finished with value: 0.8333333134651184 and parameters: {'n_units_1': 49, 'dropout_rate': 0.3078693951678626, 'n_units_2': 61}. Best is trial 0 with value: 1.0.\n",
      "[I 2024-11-06 22:32:51,469] Trial 7 finished with value: 1.0 and parameters: {'n_units_1': 127, 'dropout_rate': 0.20749640384094276, 'n_units_2': 113}. Best is trial 0 with value: 1.0.\n",
      "[I 2024-11-06 22:32:52,236] Trial 8 finished with value: 0.9166666865348816 and parameters: {'n_units_1': 93, 'dropout_rate': 0.4137466829164566, 'n_units_2': 53}. Best is trial 0 with value: 1.0.\n",
      "[I 2024-11-06 22:32:53,056] Trial 9 finished with value: 0.9166666865348816 and parameters: {'n_units_1': 52, 'dropout_rate': 0.4184205135486726, 'n_units_2': 107}. Best is trial 0 with value: 1.0.\n"
     ]
    },
    {
     "name": "stdout",
     "output_type": "stream",
     "text": [
      "\u001b[1m1/1\u001b[0m \u001b[32m━━━━━━━━━━━━━━━━━━━━\u001b[0m\u001b[37m\u001b[0m \u001b[1m0s\u001b[0m 18ms/step\n",
      "Dataset: Dataset_44, Score: 1.0000\n",
      "\u001b[1m2/2\u001b[0m \u001b[32m━━━━━━━━━━━━━━━━━━━━\u001b[0m\u001b[37m\u001b[0m \u001b[1m0s\u001b[0m 960us/step\n"
     ]
    },
    {
     "name": "stderr",
     "output_type": "stream",
     "text": [
      "[I 2024-11-06 22:32:54,473] A new study created in memory with name: no-name-f66afe3c-c5c1-4a44-b638-a8e568436808\n"
     ]
    },
    {
     "name": "stdout",
     "output_type": "stream",
     "text": [
      "Dataset: Dataset_10\n",
      "X_train_split shape: (373, 8)\n",
      "y_train_split shape: (373, 1)\n",
      "X_val shape: (94, 8)\n",
      "y_val shape: (94, 1)\n"
     ]
    },
    {
     "name": "stderr",
     "output_type": "stream",
     "text": [
      "[I 2024-11-06 22:32:55,375] Trial 0 finished with value: 0.7234042286872864 and parameters: {'n_units_1': 119, 'dropout_rate': 0.3495040986657582, 'n_units_2': 60}. Best is trial 0 with value: 0.7234042286872864.\n",
      "[I 2024-11-06 22:32:56,233] Trial 1 finished with value: 0.7127659320831299 and parameters: {'n_units_1': 35, 'dropout_rate': 0.3217061272455559, 'n_units_2': 82}. Best is trial 0 with value: 0.7234042286872864.\n",
      "[I 2024-11-06 22:32:57,099] Trial 2 finished with value: 0.7127659320831299 and parameters: {'n_units_1': 61, 'dropout_rate': 0.22729497426270168, 'n_units_2': 79}. Best is trial 0 with value: 0.7234042286872864.\n",
      "[I 2024-11-06 22:32:57,979] Trial 3 finished with value: 0.7127659320831299 and parameters: {'n_units_1': 100, 'dropout_rate': 0.23061778630592622, 'n_units_2': 107}. Best is trial 0 with value: 0.7234042286872864.\n",
      "[I 2024-11-06 22:32:58,863] Trial 4 finished with value: 0.7021276354789734 and parameters: {'n_units_1': 113, 'dropout_rate': 0.457672826381805, 'n_units_2': 116}. Best is trial 0 with value: 0.7234042286872864.\n",
      "[I 2024-11-06 22:32:59,746] Trial 5 finished with value: 0.7127659320831299 and parameters: {'n_units_1': 57, 'dropout_rate': 0.3474233605114428, 'n_units_2': 83}. Best is trial 0 with value: 0.7234042286872864.\n",
      "[I 2024-11-06 22:33:00,860] Trial 6 finished with value: 0.7234042286872864 and parameters: {'n_units_1': 47, 'dropout_rate': 0.2110757439160499, 'n_units_2': 125}. Best is trial 0 with value: 0.7234042286872864.\n",
      "[I 2024-11-06 22:33:01,761] Trial 7 finished with value: 0.6914893388748169 and parameters: {'n_units_1': 81, 'dropout_rate': 0.21046815088287346, 'n_units_2': 112}. Best is trial 0 with value: 0.7234042286872864.\n",
      "[I 2024-11-06 22:33:02,641] Trial 8 finished with value: 0.7234042286872864 and parameters: {'n_units_1': 84, 'dropout_rate': 0.2903892245354851, 'n_units_2': 94}. Best is trial 0 with value: 0.7234042286872864.\n",
      "[I 2024-11-06 22:33:03,512] Trial 9 finished with value: 0.6914893388748169 and parameters: {'n_units_1': 126, 'dropout_rate': 0.4812198702521017, 'n_units_2': 121}. Best is trial 0 with value: 0.7234042286872864.\n"
     ]
    },
    {
     "name": "stdout",
     "output_type": "stream",
     "text": [
      "\u001b[1m3/3\u001b[0m \u001b[32m━━━━━━━━━━━━━━━━━━━━\u001b[0m\u001b[37m\u001b[0m \u001b[1m0s\u001b[0m 7ms/step  \n",
      "Dataset: Dataset_10, Score: 0.6480\n",
      "\u001b[1m10/10\u001b[0m \u001b[32m━━━━━━━━━━━━━━━━━━━━\u001b[0m\u001b[37m\u001b[0m \u001b[1m0s\u001b[0m 448us/step\n"
     ]
    },
    {
     "name": "stderr",
     "output_type": "stream",
     "text": [
      "[I 2024-11-06 22:33:05,092] A new study created in memory with name: no-name-bda2109f-755a-4846-9876-517868653fd7\n"
     ]
    },
    {
     "name": "stdout",
     "output_type": "stream",
     "text": [
      "Dataset: Dataset_17\n",
      "X_train_split shape: (96, 16)\n",
      "y_train_split shape: (96, 1)\n",
      "X_val shape: (24, 16)\n",
      "y_val shape: (24, 1)\n"
     ]
    },
    {
     "name": "stderr",
     "output_type": "stream",
     "text": [
      "[I 2024-11-06 22:33:05,839] Trial 0 finished with value: 0.8333333134651184 and parameters: {'n_units_1': 68, 'dropout_rate': 0.47207661266214795, 'n_units_2': 50}. Best is trial 0 with value: 0.8333333134651184.\n",
      "[I 2024-11-06 22:33:06,555] Trial 1 finished with value: 0.8333333134651184 and parameters: {'n_units_1': 58, 'dropout_rate': 0.2134839655777084, 'n_units_2': 97}. Best is trial 0 with value: 0.8333333134651184.\n",
      "[I 2024-11-06 22:33:07,276] Trial 2 finished with value: 0.8333333134651184 and parameters: {'n_units_1': 121, 'dropout_rate': 0.20783062750032621, 'n_units_2': 63}. Best is trial 0 with value: 0.8333333134651184.\n",
      "[I 2024-11-06 22:33:07,991] Trial 3 finished with value: 0.875 and parameters: {'n_units_1': 126, 'dropout_rate': 0.4704062846120316, 'n_units_2': 35}. Best is trial 3 with value: 0.875.\n",
      "[I 2024-11-06 22:33:08,702] Trial 4 finished with value: 0.9166666865348816 and parameters: {'n_units_1': 70, 'dropout_rate': 0.20196579888210908, 'n_units_2': 60}. Best is trial 4 with value: 0.9166666865348816.\n",
      "[I 2024-11-06 22:33:09,430] Trial 5 finished with value: 0.875 and parameters: {'n_units_1': 47, 'dropout_rate': 0.33721752404460986, 'n_units_2': 32}. Best is trial 4 with value: 0.9166666865348816.\n",
      "[I 2024-11-06 22:33:10,179] Trial 6 finished with value: 0.875 and parameters: {'n_units_1': 86, 'dropout_rate': 0.33310247243184765, 'n_units_2': 45}. Best is trial 4 with value: 0.9166666865348816.\n",
      "[I 2024-11-06 22:33:11,133] Trial 7 finished with value: 0.9166666865348816 and parameters: {'n_units_1': 119, 'dropout_rate': 0.22722024925948817, 'n_units_2': 66}. Best is trial 4 with value: 0.9166666865348816.\n",
      "[I 2024-11-06 22:33:12,158] Trial 8 finished with value: 0.7916666865348816 and parameters: {'n_units_1': 75, 'dropout_rate': 0.3335571451199919, 'n_units_2': 75}. Best is trial 4 with value: 0.9166666865348816.\n",
      "[I 2024-11-06 22:33:12,896] Trial 9 finished with value: 0.875 and parameters: {'n_units_1': 88, 'dropout_rate': 0.4427500740276357, 'n_units_2': 106}. Best is trial 4 with value: 0.9166666865348816.\n"
     ]
    },
    {
     "name": "stdout",
     "output_type": "stream",
     "text": [
      "\u001b[1m1/1\u001b[0m \u001b[32m━━━━━━━━━━━━━━━━━━━━\u001b[0m\u001b[37m\u001b[0m \u001b[1m0s\u001b[0m 18ms/step\n",
      "Dataset: Dataset_17, Score: 0.8775\n",
      "\u001b[1m3/3\u001b[0m \u001b[32m━━━━━━━━━━━━━━━━━━━━\u001b[0m\u001b[37m\u001b[0m \u001b[1m0s\u001b[0m 592us/step\n"
     ]
    },
    {
     "name": "stderr",
     "output_type": "stream",
     "text": [
      "[I 2024-11-06 22:33:14,188] A new study created in memory with name: no-name-b538a831-0419-40d4-aa9c-334d8796762d\n"
     ]
    },
    {
     "name": "stdout",
     "output_type": "stream",
     "text": [
      "Dataset: Dataset_28\n",
      "X_train_split shape: (368, 7)\n",
      "y_train_split shape: (368, 1)\n",
      "X_val shape: (92, 7)\n",
      "y_val shape: (92, 1)\n"
     ]
    },
    {
     "name": "stderr",
     "output_type": "stream",
     "text": [
      "[I 2024-11-06 22:33:15,077] Trial 0 finished with value: 0.782608687877655 and parameters: {'n_units_1': 64, 'dropout_rate': 0.23430052379242963, 'n_units_2': 105}. Best is trial 0 with value: 0.782608687877655.\n",
      "[I 2024-11-06 22:33:15,941] Trial 1 finished with value: 0.79347825050354 and parameters: {'n_units_1': 56, 'dropout_rate': 0.24398099990446875, 'n_units_2': 67}. Best is trial 1 with value: 0.79347825050354.\n",
      "[I 2024-11-06 22:33:16,801] Trial 2 finished with value: 0.760869562625885 and parameters: {'n_units_1': 104, 'dropout_rate': 0.48165167183198615, 'n_units_2': 87}. Best is trial 1 with value: 0.79347825050354.\n",
      "[I 2024-11-06 22:33:18,949] Trial 3 finished with value: 0.79347825050354 and parameters: {'n_units_1': 86, 'dropout_rate': 0.24517596837717126, 'n_units_2': 94}. Best is trial 1 with value: 0.79347825050354.\n",
      "[I 2024-11-06 22:33:20,128] Trial 4 finished with value: 0.79347825050354 and parameters: {'n_units_1': 110, 'dropout_rate': 0.37848968438239133, 'n_units_2': 88}. Best is trial 1 with value: 0.79347825050354.\n",
      "[I 2024-11-06 22:33:21,031] Trial 5 finished with value: 0.79347825050354 and parameters: {'n_units_1': 54, 'dropout_rate': 0.3428514780808461, 'n_units_2': 102}. Best is trial 1 with value: 0.79347825050354.\n",
      "[I 2024-11-06 22:33:21,898] Trial 6 finished with value: 0.782608687877655 and parameters: {'n_units_1': 41, 'dropout_rate': 0.2474213495325126, 'n_units_2': 91}. Best is trial 1 with value: 0.79347825050354.\n",
      "[I 2024-11-06 22:33:22,771] Trial 7 finished with value: 0.804347813129425 and parameters: {'n_units_1': 104, 'dropout_rate': 0.34857426671097513, 'n_units_2': 107}. Best is trial 7 with value: 0.804347813129425.\n",
      "[I 2024-11-06 22:33:23,637] Trial 8 finished with value: 0.79347825050354 and parameters: {'n_units_1': 127, 'dropout_rate': 0.20985265052932758, 'n_units_2': 62}. Best is trial 7 with value: 0.804347813129425.\n",
      "[I 2024-11-06 22:33:24,578] Trial 9 finished with value: 0.804347813129425 and parameters: {'n_units_1': 61, 'dropout_rate': 0.4328278308854444, 'n_units_2': 101}. Best is trial 7 with value: 0.804347813129425.\n"
     ]
    },
    {
     "name": "stdout",
     "output_type": "stream",
     "text": [
      "\u001b[1m3/3\u001b[0m \u001b[32m━━━━━━━━━━━━━━━━━━━━\u001b[0m\u001b[37m\u001b[0m \u001b[1m0s\u001b[0m 6ms/step \n",
      "Dataset: Dataset_28, Score: 0.7173\n",
      "\u001b[1m10/10\u001b[0m \u001b[32m━━━━━━━━━━━━━━━━━━━━\u001b[0m\u001b[37m\u001b[0m \u001b[1m0s\u001b[0m 408us/step\n"
     ]
    },
    {
     "name": "stderr",
     "output_type": "stream",
     "text": [
      "[I 2024-11-06 22:33:26,181] A new study created in memory with name: no-name-2edbdd99-9847-4658-b8a9-556d96909bda\n"
     ]
    },
    {
     "name": "stdout",
     "output_type": "stream",
     "text": [
      "Dataset: Dataset_21\n",
      "X_train_split shape: (242, 11)\n",
      "y_train_split shape: (242, 1)\n",
      "X_val shape: (61, 11)\n",
      "y_val shape: (61, 1)\n"
     ]
    },
    {
     "name": "stderr",
     "output_type": "stream",
     "text": [
      "[I 2024-11-06 22:33:27,050] Trial 0 finished with value: 0.868852436542511 and parameters: {'n_units_1': 92, 'dropout_rate': 0.3992271077308995, 'n_units_2': 50}. Best is trial 0 with value: 0.868852436542511.\n",
      "[I 2024-11-06 22:33:27,880] Trial 1 finished with value: 0.8360655903816223 and parameters: {'n_units_1': 115, 'dropout_rate': 0.4771086057532678, 'n_units_2': 37}. Best is trial 0 with value: 0.868852436542511.\n",
      "[I 2024-11-06 22:33:28,795] Trial 2 finished with value: 0.8360655903816223 and parameters: {'n_units_1': 119, 'dropout_rate': 0.29279695643507647, 'n_units_2': 48}. Best is trial 0 with value: 0.868852436542511.\n",
      "[I 2024-11-06 22:33:29,623] Trial 3 finished with value: 0.868852436542511 and parameters: {'n_units_1': 114, 'dropout_rate': 0.42245895805404693, 'n_units_2': 95}. Best is trial 0 with value: 0.868852436542511.\n",
      "[I 2024-11-06 22:33:30,450] Trial 4 finished with value: 0.868852436542511 and parameters: {'n_units_1': 63, 'dropout_rate': 0.3624427002446269, 'n_units_2': 107}. Best is trial 0 with value: 0.868852436542511.\n",
      "[I 2024-11-06 22:33:31,277] Trial 5 finished with value: 0.8524590134620667 and parameters: {'n_units_1': 109, 'dropout_rate': 0.4635462872769849, 'n_units_2': 83}. Best is trial 0 with value: 0.868852436542511.\n",
      "[I 2024-11-06 22:33:32,341] Trial 6 finished with value: 0.8196721076965332 and parameters: {'n_units_1': 35, 'dropout_rate': 0.37257716869943497, 'n_units_2': 67}. Best is trial 0 with value: 0.868852436542511.\n",
      "[I 2024-11-06 22:33:33,209] Trial 7 finished with value: 0.868852436542511 and parameters: {'n_units_1': 94, 'dropout_rate': 0.28345285127371395, 'n_units_2': 80}. Best is trial 0 with value: 0.868852436542511.\n",
      "[I 2024-11-06 22:33:34,036] Trial 8 finished with value: 0.868852436542511 and parameters: {'n_units_1': 106, 'dropout_rate': 0.45924750610886234, 'n_units_2': 89}. Best is trial 0 with value: 0.868852436542511.\n",
      "[I 2024-11-06 22:33:34,855] Trial 9 finished with value: 0.868852436542511 and parameters: {'n_units_1': 109, 'dropout_rate': 0.22615355860388123, 'n_units_2': 52}. Best is trial 0 with value: 0.868852436542511.\n"
     ]
    },
    {
     "name": "stdout",
     "output_type": "stream",
     "text": [
      "\u001b[1m2/2\u001b[0m \u001b[32m━━━━━━━━━━━━━━━━━━━━\u001b[0m\u001b[37m\u001b[0m \u001b[1m0s\u001b[0m 12ms/step\n",
      "Dataset: Dataset_21, Score: 0.8251\n",
      "\u001b[1m7/7\u001b[0m \u001b[32m━━━━━━━━━━━━━━━━━━━━\u001b[0m\u001b[37m\u001b[0m \u001b[1m0s\u001b[0m 497us/step\n"
     ]
    },
    {
     "name": "stderr",
     "output_type": "stream",
     "text": [
      "[I 2024-11-06 22:33:36,333] A new study created in memory with name: no-name-34519b27-6ab9-493f-91f0-b2f9db011bd4\n"
     ]
    },
    {
     "name": "stdout",
     "output_type": "stream",
     "text": [
      "Dataset: Dataset_26\n",
      "X_train_split shape: (143, 22)\n",
      "y_train_split shape: (143, 1)\n",
      "X_val shape: (36, 22)\n",
      "y_val shape: (36, 1)\n"
     ]
    },
    {
     "name": "stderr",
     "output_type": "stream",
     "text": [
      "[I 2024-11-06 22:33:37,158] Trial 0 finished with value: 0.7777777910232544 and parameters: {'n_units_1': 113, 'dropout_rate': 0.4596586656321327, 'n_units_2': 38}. Best is trial 0 with value: 0.7777777910232544.\n",
      "[I 2024-11-06 22:33:37,952] Trial 1 finished with value: 0.8055555820465088 and parameters: {'n_units_1': 58, 'dropout_rate': 0.31745786048495245, 'n_units_2': 101}. Best is trial 1 with value: 0.8055555820465088.\n",
      "[I 2024-11-06 22:33:38,748] Trial 2 finished with value: 0.8055555820465088 and parameters: {'n_units_1': 120, 'dropout_rate': 0.42916149461708003, 'n_units_2': 62}. Best is trial 1 with value: 0.8055555820465088.\n",
      "[I 2024-11-06 22:33:39,542] Trial 3 finished with value: 0.75 and parameters: {'n_units_1': 103, 'dropout_rate': 0.22093851432975342, 'n_units_2': 52}. Best is trial 1 with value: 0.8055555820465088.\n",
      "[I 2024-11-06 22:33:40,337] Trial 4 finished with value: 0.8055555820465088 and parameters: {'n_units_1': 69, 'dropout_rate': 0.3821386355475356, 'n_units_2': 118}. Best is trial 1 with value: 0.8055555820465088.\n",
      "[I 2024-11-06 22:33:41,139] Trial 5 finished with value: 0.8055555820465088 and parameters: {'n_units_1': 76, 'dropout_rate': 0.415382869679921, 'n_units_2': 104}. Best is trial 1 with value: 0.8055555820465088.\n",
      "[I 2024-11-06 22:33:42,000] Trial 6 finished with value: 0.75 and parameters: {'n_units_1': 42, 'dropout_rate': 0.20754021912976464, 'n_units_2': 100}. Best is trial 1 with value: 0.8055555820465088.\n",
      "[I 2024-11-06 22:33:42,900] Trial 7 finished with value: 0.7777777910232544 and parameters: {'n_units_1': 96, 'dropout_rate': 0.3537657306590103, 'n_units_2': 56}. Best is trial 1 with value: 0.8055555820465088.\n",
      "[I 2024-11-06 22:33:43,696] Trial 8 finished with value: 0.75 and parameters: {'n_units_1': 47, 'dropout_rate': 0.4278902720802296, 'n_units_2': 49}. Best is trial 1 with value: 0.8055555820465088.\n",
      "[I 2024-11-06 22:33:44,491] Trial 9 finished with value: 0.8055555820465088 and parameters: {'n_units_1': 63, 'dropout_rate': 0.3747867656012469, 'n_units_2': 45}. Best is trial 1 with value: 0.8055555820465088.\n"
     ]
    },
    {
     "name": "stdout",
     "output_type": "stream",
     "text": [
      "\u001b[1m2/2\u001b[0m \u001b[32m━━━━━━━━━━━━━━━━━━━━\u001b[0m\u001b[37m\u001b[0m \u001b[1m0s\u001b[0m 12ms/step\n",
      "Dataset: Dataset_26, Score: 0.6303\n",
      "\u001b[1m4/4\u001b[0m \u001b[32m━━━━━━━━━━━━━━━━━━━━\u001b[0m\u001b[37m\u001b[0m \u001b[1m0s\u001b[0m 900us/step\n"
     ]
    },
    {
     "name": "stderr",
     "output_type": "stream",
     "text": [
      "[I 2024-11-06 22:33:46,041] A new study created in memory with name: no-name-52c65b97-7c9f-4f6c-a1fd-902c64d59ded\n"
     ]
    },
    {
     "name": "stdout",
     "output_type": "stream",
     "text": [
      "Dataset: Dataset_19\n",
      "X_train_split shape: (272, 10)\n",
      "y_train_split shape: (272, 1)\n",
      "X_val shape: (69, 10)\n",
      "y_val shape: (69, 1)\n"
     ]
    },
    {
     "name": "stderr",
     "output_type": "stream",
     "text": [
      "[I 2024-11-06 22:33:46,926] Trial 0 finished with value: 0.9275362491607666 and parameters: {'n_units_1': 111, 'dropout_rate': 0.2342426054883857, 'n_units_2': 80}. Best is trial 0 with value: 0.9275362491607666.\n",
      "[I 2024-11-06 22:33:47,768] Trial 1 finished with value: 0.9275362491607666 and parameters: {'n_units_1': 77, 'dropout_rate': 0.29843339540900315, 'n_units_2': 37}. Best is trial 0 with value: 0.9275362491607666.\n",
      "[I 2024-11-06 22:33:48,613] Trial 2 finished with value: 0.9420289993286133 and parameters: {'n_units_1': 118, 'dropout_rate': 0.3997386429864476, 'n_units_2': 125}. Best is trial 2 with value: 0.9420289993286133.\n",
      "[I 2024-11-06 22:33:49,449] Trial 3 finished with value: 0.9420289993286133 and parameters: {'n_units_1': 113, 'dropout_rate': 0.489341611043544, 'n_units_2': 101}. Best is trial 2 with value: 0.9420289993286133.\n",
      "[I 2024-11-06 22:33:50,278] Trial 4 finished with value: 0.9420289993286133 and parameters: {'n_units_1': 64, 'dropout_rate': 0.3842876110060758, 'n_units_2': 64}. Best is trial 2 with value: 0.9420289993286133.\n",
      "[I 2024-11-06 22:33:51,116] Trial 5 finished with value: 0.9420289993286133 and parameters: {'n_units_1': 74, 'dropout_rate': 0.36055847007929154, 'n_units_2': 39}. Best is trial 2 with value: 0.9420289993286133.\n",
      "[I 2024-11-06 22:33:52,378] Trial 6 finished with value: 0.9420289993286133 and parameters: {'n_units_1': 55, 'dropout_rate': 0.21791391169859292, 'n_units_2': 97}. Best is trial 2 with value: 0.9420289993286133.\n",
      "[I 2024-11-06 22:33:53,308] Trial 7 finished with value: 0.9275362491607666 and parameters: {'n_units_1': 59, 'dropout_rate': 0.26245658808283695, 'n_units_2': 115}. Best is trial 2 with value: 0.9420289993286133.\n",
      "[I 2024-11-06 22:33:54,157] Trial 8 finished with value: 0.9275362491607666 and parameters: {'n_units_1': 41, 'dropout_rate': 0.3867909649716981, 'n_units_2': 80}. Best is trial 2 with value: 0.9420289993286133.\n",
      "[I 2024-11-06 22:33:55,010] Trial 9 finished with value: 0.9275362491607666 and parameters: {'n_units_1': 119, 'dropout_rate': 0.4472381558507968, 'n_units_2': 79}. Best is trial 2 with value: 0.9420289993286133.\n"
     ]
    },
    {
     "name": "stdout",
     "output_type": "stream",
     "text": [
      "\u001b[1m3/3\u001b[0m \u001b[32m━━━━━━━━━━━━━━━━━━━━\u001b[0m\u001b[37m\u001b[0m \u001b[1m0s\u001b[0m 6ms/step \n",
      "Dataset: Dataset_19, Score: 0.9081\n",
      "\u001b[1m8/8\u001b[0m \u001b[32m━━━━━━━━━━━━━━━━━━━━\u001b[0m\u001b[37m\u001b[0m \u001b[1m0s\u001b[0m 449us/step\n"
     ]
    },
    {
     "name": "stderr",
     "output_type": "stream",
     "text": [
      "[I 2024-11-06 22:33:56,567] A new study created in memory with name: no-name-335ceb2f-d6c3-478a-b025-b9c067bec4f3\n"
     ]
    },
    {
     "name": "stdout",
     "output_type": "stream",
     "text": [
      "Dataset: Dataset_8\n",
      "X_train_split shape: (143, 11)\n",
      "y_train_split shape: (143, 1)\n",
      "X_val shape: (36, 11)\n",
      "y_val shape: (36, 1)\n"
     ]
    },
    {
     "name": "stderr",
     "output_type": "stream",
     "text": [
      "[I 2024-11-06 22:33:57,422] Trial 0 finished with value: 0.8055555820465088 and parameters: {'n_units_1': 49, 'dropout_rate': 0.261982544349731, 'n_units_2': 128}. Best is trial 0 with value: 0.8055555820465088.\n",
      "[I 2024-11-06 22:33:59,919] Trial 1 finished with value: 0.8888888955116272 and parameters: {'n_units_1': 76, 'dropout_rate': 0.3667524567573925, 'n_units_2': 120}. Best is trial 1 with value: 0.8888888955116272.\n",
      "[I 2024-11-06 22:34:00,816] Trial 2 finished with value: 0.7777777910232544 and parameters: {'n_units_1': 94, 'dropout_rate': 0.3579184335197475, 'n_units_2': 126}. Best is trial 1 with value: 0.8888888955116272.\n",
      "[I 2024-11-06 22:34:01,675] Trial 3 finished with value: 0.75 and parameters: {'n_units_1': 38, 'dropout_rate': 0.3154486751912896, 'n_units_2': 116}. Best is trial 1 with value: 0.8888888955116272.\n",
      "[I 2024-11-06 22:34:02,785] Trial 4 finished with value: 0.8055555820465088 and parameters: {'n_units_1': 67, 'dropout_rate': 0.30616800940730476, 'n_units_2': 44}. Best is trial 1 with value: 0.8888888955116272.\n",
      "[I 2024-11-06 22:34:03,658] Trial 5 finished with value: 0.8888888955116272 and parameters: {'n_units_1': 117, 'dropout_rate': 0.250995356241158, 'n_units_2': 81}. Best is trial 1 with value: 0.8888888955116272.\n",
      "[I 2024-11-06 22:34:04,472] Trial 6 finished with value: 0.8055555820465088 and parameters: {'n_units_1': 66, 'dropout_rate': 0.2679108915801148, 'n_units_2': 38}. Best is trial 1 with value: 0.8888888955116272.\n",
      "[I 2024-11-06 22:34:05,287] Trial 7 finished with value: 0.8333333134651184 and parameters: {'n_units_1': 58, 'dropout_rate': 0.34738377973547385, 'n_units_2': 96}. Best is trial 1 with value: 0.8888888955116272.\n",
      "[I 2024-11-06 22:34:06,100] Trial 8 finished with value: 0.8055555820465088 and parameters: {'n_units_1': 105, 'dropout_rate': 0.24197222148006006, 'n_units_2': 54}. Best is trial 1 with value: 0.8888888955116272.\n",
      "[I 2024-11-06 22:34:06,909] Trial 9 finished with value: 0.8055555820465088 and parameters: {'n_units_1': 72, 'dropout_rate': 0.217912317105187, 'n_units_2': 68}. Best is trial 1 with value: 0.8888888955116272.\n"
     ]
    },
    {
     "name": "stdout",
     "output_type": "stream",
     "text": [
      "\u001b[1m2/2\u001b[0m \u001b[32m━━━━━━━━━━━━━━━━━━━━\u001b[0m\u001b[37m\u001b[0m \u001b[1m0s\u001b[0m 12ms/step\n",
      "Dataset: Dataset_8, Score: 0.7840\n",
      "\u001b[1m4/4\u001b[0m \u001b[32m━━━━━━━━━━━━━━━━━━━━\u001b[0m\u001b[37m\u001b[0m \u001b[1m0s\u001b[0m 519us/step\n"
     ]
    },
    {
     "name": "stderr",
     "output_type": "stream",
     "text": [
      "[I 2024-11-06 22:34:08,352] A new study created in memory with name: no-name-4c7c521e-790a-4dd3-916d-55b0276adaf8\n"
     ]
    },
    {
     "name": "stdout",
     "output_type": "stream",
     "text": [
      "Dataset: Dataset_38\n",
      "X_train_split shape: (279, 8)\n",
      "y_train_split shape: (279, 1)\n",
      "X_val shape: (70, 8)\n",
      "y_val shape: (70, 1)\n"
     ]
    },
    {
     "name": "stderr",
     "output_type": "stream",
     "text": [
      "[I 2024-11-06 22:34:09,216] Trial 0 finished with value: 0.7142857313156128 and parameters: {'n_units_1': 96, 'dropout_rate': 0.4313112070392075, 'n_units_2': 35}. Best is trial 0 with value: 0.7142857313156128.\n",
      "[I 2024-11-06 22:34:10,055] Trial 1 finished with value: 0.7285714149475098 and parameters: {'n_units_1': 104, 'dropout_rate': 0.242570637009921, 'n_units_2': 41}. Best is trial 1 with value: 0.7285714149475098.\n",
      "[I 2024-11-06 22:34:10,894] Trial 2 finished with value: 0.7285714149475098 and parameters: {'n_units_1': 35, 'dropout_rate': 0.23236019516685988, 'n_units_2': 73}. Best is trial 1 with value: 0.7285714149475098.\n",
      "[I 2024-11-06 22:34:11,728] Trial 3 finished with value: 0.7285714149475098 and parameters: {'n_units_1': 64, 'dropout_rate': 0.354051204291929, 'n_units_2': 69}. Best is trial 1 with value: 0.7285714149475098.\n",
      "[I 2024-11-06 22:34:12,570] Trial 4 finished with value: 0.7285714149475098 and parameters: {'n_units_1': 115, 'dropout_rate': 0.396953612378661, 'n_units_2': 89}. Best is trial 1 with value: 0.7285714149475098.\n",
      "[I 2024-11-06 22:34:13,410] Trial 5 finished with value: 0.7714285850524902 and parameters: {'n_units_1': 90, 'dropout_rate': 0.21863656714285598, 'n_units_2': 59}. Best is trial 5 with value: 0.7714285850524902.\n",
      "[I 2024-11-06 22:34:14,478] Trial 6 finished with value: 0.7571428418159485 and parameters: {'n_units_1': 105, 'dropout_rate': 0.47154105367144844, 'n_units_2': 62}. Best is trial 5 with value: 0.7714285850524902.\n",
      "[I 2024-11-06 22:34:15,376] Trial 7 finished with value: 0.7571428418159485 and parameters: {'n_units_1': 39, 'dropout_rate': 0.23131609357717417, 'n_units_2': 46}. Best is trial 5 with value: 0.7714285850524902.\n",
      "[I 2024-11-06 22:34:16,221] Trial 8 finished with value: 0.7142857313156128 and parameters: {'n_units_1': 104, 'dropout_rate': 0.45088348277307494, 'n_units_2': 61}. Best is trial 5 with value: 0.7714285850524902.\n",
      "[I 2024-11-06 22:34:17,060] Trial 9 finished with value: 0.7428571581840515 and parameters: {'n_units_1': 77, 'dropout_rate': 0.33104288225617584, 'n_units_2': 52}. Best is trial 5 with value: 0.7714285850524902.\n"
     ]
    },
    {
     "name": "stdout",
     "output_type": "stream",
     "text": [
      "\u001b[1m3/3\u001b[0m \u001b[32m━━━━━━━━━━━━━━━━━━━━\u001b[0m\u001b[37m\u001b[0m \u001b[1m0s\u001b[0m 6ms/step  \n",
      "Dataset: Dataset_38, Score: 0.7371\n",
      "\u001b[1m8/8\u001b[0m \u001b[32m━━━━━━━━━━━━━━━━━━━━\u001b[0m\u001b[37m\u001b[0m \u001b[1m0s\u001b[0m 403us/step\n"
     ]
    },
    {
     "name": "stderr",
     "output_type": "stream",
     "text": [
      "[I 2024-11-06 22:34:18,571] A new study created in memory with name: no-name-1a977f2c-a229-4ee9-a851-5e000302fb42\n"
     ]
    },
    {
     "name": "stdout",
     "output_type": "stream",
     "text": [
      "Dataset: Dataset_6\n",
      "X_train_split shape: (249, 14)\n",
      "y_train_split shape: (249, 1)\n",
      "X_val shape: (63, 14)\n",
      "y_val shape: (63, 1)\n"
     ]
    },
    {
     "name": "stderr",
     "output_type": "stream",
     "text": [
      "[I 2024-11-06 22:34:19,475] Trial 0 finished with value: 0.8888888955116272 and parameters: {'n_units_1': 58, 'dropout_rate': 0.4878821142059993, 'n_units_2': 41}. Best is trial 0 with value: 0.8888888955116272.\n",
      "[I 2024-11-06 22:34:20,312] Trial 1 finished with value: 0.9047619104385376 and parameters: {'n_units_1': 95, 'dropout_rate': 0.3994566269417094, 'n_units_2': 55}. Best is trial 1 with value: 0.9047619104385376.\n",
      "[I 2024-11-06 22:34:21,145] Trial 2 finished with value: 0.920634925365448 and parameters: {'n_units_1': 87, 'dropout_rate': 0.48043408699028833, 'n_units_2': 95}. Best is trial 2 with value: 0.920634925365448.\n",
      "[I 2024-11-06 22:34:21,973] Trial 3 finished with value: 0.9523809552192688 and parameters: {'n_units_1': 124, 'dropout_rate': 0.35731900191654986, 'n_units_2': 61}. Best is trial 3 with value: 0.9523809552192688.\n",
      "[I 2024-11-06 22:34:22,793] Trial 4 finished with value: 0.9365079402923584 and parameters: {'n_units_1': 40, 'dropout_rate': 0.2817068895497929, 'n_units_2': 68}. Best is trial 3 with value: 0.9523809552192688.\n",
      "[I 2024-11-06 22:34:23,610] Trial 5 finished with value: 0.9523809552192688 and parameters: {'n_units_1': 106, 'dropout_rate': 0.23971447393109963, 'n_units_2': 43}. Best is trial 3 with value: 0.9523809552192688.\n",
      "[I 2024-11-06 22:34:24,446] Trial 6 finished with value: 0.9047619104385376 and parameters: {'n_units_1': 103, 'dropout_rate': 0.38164281357470764, 'n_units_2': 98}. Best is trial 3 with value: 0.9523809552192688.\n",
      "[I 2024-11-06 22:34:25,461] Trial 7 finished with value: 0.9047619104385376 and parameters: {'n_units_1': 86, 'dropout_rate': 0.3975398798977507, 'n_units_2': 119}. Best is trial 3 with value: 0.9523809552192688.\n",
      "[I 2024-11-06 22:34:26,300] Trial 8 finished with value: 0.8888888955116272 and parameters: {'n_units_1': 72, 'dropout_rate': 0.28540963668476804, 'n_units_2': 41}. Best is trial 3 with value: 0.9523809552192688.\n",
      "[I 2024-11-06 22:34:27,118] Trial 9 finished with value: 0.9047619104385376 and parameters: {'n_units_1': 38, 'dropout_rate': 0.23179915272104304, 'n_units_2': 113}. Best is trial 3 with value: 0.9523809552192688.\n"
     ]
    },
    {
     "name": "stdout",
     "output_type": "stream",
     "text": [
      "\u001b[1m2/2\u001b[0m \u001b[32m━━━━━━━━━━━━━━━━━━━━\u001b[0m\u001b[37m\u001b[0m \u001b[1m0s\u001b[0m 12ms/step\n",
      "Dataset: Dataset_6, Score: 0.9318\n",
      "\u001b[1m7/7\u001b[0m \u001b[32m━━━━━━━━━━━━━━━━━━━━\u001b[0m\u001b[37m\u001b[0m \u001b[1m0s\u001b[0m 527us/step\n"
     ]
    },
    {
     "name": "stderr",
     "output_type": "stream",
     "text": [
      "[I 2024-11-06 22:34:28,614] A new study created in memory with name: no-name-f9bf8e5d-eeca-4e05-953e-4fcdc8b788f8\n"
     ]
    },
    {
     "name": "stdout",
     "output_type": "stream",
     "text": [
      "Dataset: Dataset_31\n",
      "X_train_split shape: (64, 12)\n",
      "y_train_split shape: (64, 1)\n",
      "X_val shape: (17, 12)\n",
      "y_val shape: (17, 1)\n"
     ]
    },
    {
     "name": "stderr",
     "output_type": "stream",
     "text": [
      "[I 2024-11-06 22:34:29,541] Trial 0 finished with value: 0.7647058963775635 and parameters: {'n_units_1': 63, 'dropout_rate': 0.21864852354205783, 'n_units_2': 92}. Best is trial 0 with value: 0.7647058963775635.\n",
      "[I 2024-11-06 22:34:30,276] Trial 1 finished with value: 0.7058823704719543 and parameters: {'n_units_1': 127, 'dropout_rate': 0.461578323443083, 'n_units_2': 101}. Best is trial 0 with value: 0.7647058963775635.\n",
      "[I 2024-11-06 22:34:31,002] Trial 2 finished with value: 0.7058823704719543 and parameters: {'n_units_1': 113, 'dropout_rate': 0.482005118676218, 'n_units_2': 88}. Best is trial 0 with value: 0.7647058963775635.\n",
      "[I 2024-11-06 22:34:31,725] Trial 3 finished with value: 0.7058823704719543 and parameters: {'n_units_1': 91, 'dropout_rate': 0.3170574833625986, 'n_units_2': 85}. Best is trial 0 with value: 0.7647058963775635.\n",
      "[I 2024-11-06 22:34:32,439] Trial 4 finished with value: 0.6470588445663452 and parameters: {'n_units_1': 35, 'dropout_rate': 0.2348860720538846, 'n_units_2': 69}. Best is trial 0 with value: 0.7647058963775635.\n",
      "[I 2024-11-06 22:34:33,156] Trial 5 finished with value: 0.7058823704719543 and parameters: {'n_units_1': 124, 'dropout_rate': 0.3019288501492581, 'n_units_2': 55}. Best is trial 0 with value: 0.7647058963775635.\n",
      "[I 2024-11-06 22:34:33,885] Trial 6 finished with value: 0.7058823704719543 and parameters: {'n_units_1': 45, 'dropout_rate': 0.4756780099251648, 'n_units_2': 85}. Best is trial 0 with value: 0.7647058963775635.\n",
      "[I 2024-11-06 22:34:34,783] Trial 7 finished with value: 0.7647058963775635 and parameters: {'n_units_1': 67, 'dropout_rate': 0.4877838960454089, 'n_units_2': 104}. Best is trial 0 with value: 0.7647058963775635.\n",
      "[I 2024-11-06 22:34:35,529] Trial 8 finished with value: 0.6470588445663452 and parameters: {'n_units_1': 128, 'dropout_rate': 0.48627890385404, 'n_units_2': 36}. Best is trial 0 with value: 0.7647058963775635.\n",
      "[I 2024-11-06 22:34:36,245] Trial 9 finished with value: 0.6470588445663452 and parameters: {'n_units_1': 33, 'dropout_rate': 0.3721905899614518, 'n_units_2': 78}. Best is trial 0 with value: 0.7647058963775635.\n"
     ]
    },
    {
     "name": "stdout",
     "output_type": "stream",
     "text": [
      "\u001b[1m1/1\u001b[0m \u001b[32m━━━━━━━━━━━━━━━━━━━━\u001b[0m\u001b[37m\u001b[0m \u001b[1m0s\u001b[0m 18ms/step\n",
      "Dataset: Dataset_31, Score: 0.6975\n",
      "\u001b[1m2/2\u001b[0m \u001b[32m━━━━━━━━━━━━━━━━━━━━\u001b[0m\u001b[37m\u001b[0m \u001b[1m0s\u001b[0m 884us/step\n"
     ]
    },
    {
     "name": "stderr",
     "output_type": "stream",
     "text": [
      "[I 2024-11-06 22:34:37,533] A new study created in memory with name: no-name-4d00a41a-9e52-42a1-b874-a66bea723566\n"
     ]
    },
    {
     "name": "stdout",
     "output_type": "stream",
     "text": [
      "Dataset: Dataset_1\n",
      "X_train_split shape: (355, 16)\n",
      "y_train_split shape: (355, 1)\n",
      "X_val shape: (89, 16)\n",
      "y_val shape: (89, 1)\n"
     ]
    },
    {
     "name": "stderr",
     "output_type": "stream",
     "text": [
      "[I 2024-11-06 22:34:38,431] Trial 0 finished with value: 0.7865168452262878 and parameters: {'n_units_1': 77, 'dropout_rate': 0.2101287258466915, 'n_units_2': 61}. Best is trial 0 with value: 0.7865168452262878.\n",
      "[I 2024-11-06 22:34:39,419] Trial 1 finished with value: 0.7528089880943298 and parameters: {'n_units_1': 43, 'dropout_rate': 0.32566912882199545, 'n_units_2': 89}. Best is trial 0 with value: 0.7865168452262878.\n",
      "[I 2024-11-06 22:34:40,273] Trial 2 finished with value: 0.7865168452262878 and parameters: {'n_units_1': 96, 'dropout_rate': 0.2922343014406432, 'n_units_2': 74}. Best is trial 0 with value: 0.7865168452262878.\n",
      "[I 2024-11-06 22:34:41,123] Trial 3 finished with value: 0.7752808928489685 and parameters: {'n_units_1': 52, 'dropout_rate': 0.24774509416674892, 'n_units_2': 79}. Best is trial 0 with value: 0.7865168452262878.\n",
      "[I 2024-11-06 22:34:41,970] Trial 4 finished with value: 0.7865168452262878 and parameters: {'n_units_1': 37, 'dropout_rate': 0.33404916809183055, 'n_units_2': 84}. Best is trial 0 with value: 0.7865168452262878.\n",
      "[I 2024-11-06 22:34:42,828] Trial 5 finished with value: 0.7977527976036072 and parameters: {'n_units_1': 36, 'dropout_rate': 0.26898505249087484, 'n_units_2': 42}. Best is trial 5 with value: 0.7977527976036072.\n",
      "[I 2024-11-06 22:34:43,852] Trial 6 finished with value: 0.7752808928489685 and parameters: {'n_units_1': 124, 'dropout_rate': 0.24968901979647584, 'n_units_2': 124}. Best is trial 5 with value: 0.7977527976036072.\n",
      "[I 2024-11-06 22:34:46,508] Trial 7 finished with value: 0.7865168452262878 and parameters: {'n_units_1': 38, 'dropout_rate': 0.4063045897117436, 'n_units_2': 85}. Best is trial 5 with value: 0.7977527976036072.\n",
      "[I 2024-11-06 22:34:47,449] Trial 8 finished with value: 0.7865168452262878 and parameters: {'n_units_1': 103, 'dropout_rate': 0.26614272974911174, 'n_units_2': 119}. Best is trial 5 with value: 0.7977527976036072.\n",
      "[I 2024-11-06 22:34:48,375] Trial 9 finished with value: 0.7977527976036072 and parameters: {'n_units_1': 113, 'dropout_rate': 0.30509413918972994, 'n_units_2': 81}. Best is trial 5 with value: 0.7977527976036072.\n"
     ]
    },
    {
     "name": "stdout",
     "output_type": "stream",
     "text": [
      "\u001b[1m3/3\u001b[0m \u001b[32m━━━━━━━━━━━━━━━━━━━━\u001b[0m\u001b[37m\u001b[0m \u001b[1m0s\u001b[0m 7ms/step  \n",
      "Dataset: Dataset_1, Score: 0.5851\n",
      "\u001b[1m10/10\u001b[0m \u001b[32m━━━━━━━━━━━━━━━━━━━━\u001b[0m\u001b[37m\u001b[0m \u001b[1m0s\u001b[0m 356us/step\n"
     ]
    },
    {
     "name": "stderr",
     "output_type": "stream",
     "text": [
      "[I 2024-11-06 22:34:50,018] A new study created in memory with name: no-name-75a5fdbe-4904-4d11-a8c6-c6bf5b6f1d6d\n"
     ]
    },
    {
     "name": "stdout",
     "output_type": "stream",
     "text": [
      "Dataset: Dataset_36\n",
      "X_train_split shape: (134, 54)\n",
      "y_train_split shape: (134, 1)\n",
      "X_val shape: (34, 54)\n",
      "y_val shape: (34, 1)\n"
     ]
    },
    {
     "name": "stderr",
     "output_type": "stream",
     "text": [
      "[I 2024-11-06 22:34:51,015] Trial 0 finished with value: 0.7941176295280457 and parameters: {'n_units_1': 59, 'dropout_rate': 0.2913924873115529, 'n_units_2': 70}. Best is trial 0 with value: 0.7941176295280457.\n",
      "[I 2024-11-06 22:34:51,833] Trial 1 finished with value: 0.6470588445663452 and parameters: {'n_units_1': 35, 'dropout_rate': 0.38587256656791535, 'n_units_2': 56}. Best is trial 0 with value: 0.7941176295280457.\n",
      "[I 2024-11-06 22:34:52,640] Trial 2 finished with value: 0.7058823704719543 and parameters: {'n_units_1': 95, 'dropout_rate': 0.40816417965314955, 'n_units_2': 32}. Best is trial 0 with value: 0.7941176295280457.\n",
      "[I 2024-11-06 22:34:53,546] Trial 3 finished with value: 0.7647058963775635 and parameters: {'n_units_1': 64, 'dropout_rate': 0.34958220431182935, 'n_units_2': 111}. Best is trial 0 with value: 0.7941176295280457.\n",
      "[I 2024-11-06 22:34:54,373] Trial 4 finished with value: 0.8529411554336548 and parameters: {'n_units_1': 116, 'dropout_rate': 0.2895105223586157, 'n_units_2': 111}. Best is trial 4 with value: 0.8529411554336548.\n",
      "[I 2024-11-06 22:34:55,183] Trial 5 finished with value: 0.8235294222831726 and parameters: {'n_units_1': 81, 'dropout_rate': 0.3588841507307633, 'n_units_2': 104}. Best is trial 4 with value: 0.8529411554336548.\n",
      "[I 2024-11-06 22:34:56,282] Trial 6 finished with value: 0.8823529481887817 and parameters: {'n_units_1': 109, 'dropout_rate': 0.2575450748192984, 'n_units_2': 106}. Best is trial 6 with value: 0.8823529481887817.\n",
      "[I 2024-11-06 22:34:57,136] Trial 7 finished with value: 0.8529411554336548 and parameters: {'n_units_1': 109, 'dropout_rate': 0.20422038099914694, 'n_units_2': 120}. Best is trial 6 with value: 0.8823529481887817.\n",
      "[I 2024-11-06 22:34:57,936] Trial 8 finished with value: 0.8823529481887817 and parameters: {'n_units_1': 100, 'dropout_rate': 0.22911357647276148, 'n_units_2': 105}. Best is trial 6 with value: 0.8823529481887817.\n",
      "[I 2024-11-06 22:34:58,741] Trial 9 finished with value: 0.7352941036224365 and parameters: {'n_units_1': 72, 'dropout_rate': 0.4475292011026813, 'n_units_2': 32}. Best is trial 6 with value: 0.8823529481887817.\n"
     ]
    },
    {
     "name": "stdout",
     "output_type": "stream",
     "text": [
      "\u001b[1m2/2\u001b[0m \u001b[32m━━━━━━━━━━━━━━━━━━━━\u001b[0m\u001b[37m\u001b[0m \u001b[1m0s\u001b[0m 12ms/step\n",
      "Dataset: Dataset_36, Score: 0.8082\n",
      "\u001b[1m4/4\u001b[0m \u001b[32m━━━━━━━━━━━━━━━━━━━━\u001b[0m\u001b[37m\u001b[0m \u001b[1m0s\u001b[0m 859us/step\n"
     ]
    },
    {
     "name": "stderr",
     "output_type": "stream",
     "text": [
      "[I 2024-11-06 22:35:00,182] A new study created in memory with name: no-name-c8e3b039-0008-4475-be38-e46f8714f4d8\n"
     ]
    },
    {
     "name": "stdout",
     "output_type": "stream",
     "text": [
      "Dataset: Dataset_37\n",
      "X_train_split shape: (141, 12)\n",
      "y_train_split shape: (141, 1)\n",
      "X_val shape: (36, 12)\n",
      "y_val shape: (36, 1)\n"
     ]
    },
    {
     "name": "stderr",
     "output_type": "stream",
     "text": [
      "[I 2024-11-06 22:35:01,039] Trial 0 finished with value: 0.8611111044883728 and parameters: {'n_units_1': 90, 'dropout_rate': 0.2655450864151364, 'n_units_2': 96}. Best is trial 0 with value: 0.8611111044883728.\n",
      "[I 2024-11-06 22:35:01,859] Trial 1 finished with value: 0.8333333134651184 and parameters: {'n_units_1': 55, 'dropout_rate': 0.23627528117791186, 'n_units_2': 128}. Best is trial 0 with value: 0.8611111044883728.\n",
      "[I 2024-11-06 22:35:02,675] Trial 2 finished with value: 0.8333333134651184 and parameters: {'n_units_1': 33, 'dropout_rate': 0.492372162684682, 'n_units_2': 58}. Best is trial 0 with value: 0.8611111044883728.\n",
      "[I 2024-11-06 22:35:03,484] Trial 3 finished with value: 0.8611111044883728 and parameters: {'n_units_1': 90, 'dropout_rate': 0.24049022967494144, 'n_units_2': 57}. Best is trial 0 with value: 0.8611111044883728.\n",
      "[I 2024-11-06 22:35:04,290] Trial 4 finished with value: 0.75 and parameters: {'n_units_1': 33, 'dropout_rate': 0.4686472686928186, 'n_units_2': 64}. Best is trial 0 with value: 0.8611111044883728.\n",
      "[I 2024-11-06 22:35:05,092] Trial 5 finished with value: 0.8055555820465088 and parameters: {'n_units_1': 92, 'dropout_rate': 0.28272627559615454, 'n_units_2': 36}. Best is trial 0 with value: 0.8611111044883728.\n",
      "[I 2024-11-06 22:35:06,079] Trial 6 finished with value: 0.7777777910232544 and parameters: {'n_units_1': 99, 'dropout_rate': 0.22671778328948172, 'n_units_2': 81}. Best is trial 0 with value: 0.8611111044883728.\n",
      "[I 2024-11-06 22:35:07,197] Trial 7 finished with value: 0.8611111044883728 and parameters: {'n_units_1': 73, 'dropout_rate': 0.2346410473140846, 'n_units_2': 46}. Best is trial 0 with value: 0.8611111044883728.\n",
      "[I 2024-11-06 22:35:08,075] Trial 8 finished with value: 0.8055555820465088 and parameters: {'n_units_1': 127, 'dropout_rate': 0.2242301863817737, 'n_units_2': 32}. Best is trial 0 with value: 0.8611111044883728.\n",
      "[I 2024-11-06 22:35:08,888] Trial 9 finished with value: 0.8333333134651184 and parameters: {'n_units_1': 85, 'dropout_rate': 0.3292664527762634, 'n_units_2': 48}. Best is trial 0 with value: 0.8611111044883728.\n"
     ]
    },
    {
     "name": "stdout",
     "output_type": "stream",
     "text": [
      "\u001b[1m2/2\u001b[0m \u001b[32m━━━━━━━━━━━━━━━━━━━━\u001b[0m\u001b[37m\u001b[0m \u001b[1m0s\u001b[0m 12ms/step\n",
      "Dataset: Dataset_37, Score: 0.8333\n",
      "\u001b[1m4/4\u001b[0m \u001b[32m━━━━━━━━━━━━━━━━━━━━\u001b[0m\u001b[37m\u001b[0m \u001b[1m0s\u001b[0m 553us/step\n"
     ]
    },
    {
     "name": "stderr",
     "output_type": "stream",
     "text": [
      "[I 2024-11-06 22:35:10,342] A new study created in memory with name: no-name-c34d42ce-8b52-488f-8c68-57b46edfc115\n"
     ]
    },
    {
     "name": "stdout",
     "output_type": "stream",
     "text": [
      "Dataset: Dataset_7\n",
      "X_train_split shape: (295, 11)\n",
      "y_train_split shape: (295, 1)\n",
      "X_val shape: (74, 11)\n",
      "y_val shape: (74, 1)\n"
     ]
    },
    {
     "name": "stderr",
     "output_type": "stream",
     "text": [
      "[I 2024-11-06 22:35:11,246] Trial 0 finished with value: 0.9729729890823364 and parameters: {'n_units_1': 33, 'dropout_rate': 0.39139535181924395, 'n_units_2': 80}. Best is trial 0 with value: 0.9729729890823364.\n",
      "[I 2024-11-06 22:35:12,095] Trial 1 finished with value: 0.9459459185600281 and parameters: {'n_units_1': 40, 'dropout_rate': 0.3498350842333904, 'n_units_2': 106}. Best is trial 0 with value: 0.9729729890823364.\n",
      "[I 2024-11-06 22:35:12,945] Trial 2 finished with value: 0.9729729890823364 and parameters: {'n_units_1': 62, 'dropout_rate': 0.2311160760113177, 'n_units_2': 39}. Best is trial 0 with value: 0.9729729890823364.\n",
      "[I 2024-11-06 22:35:13,800] Trial 3 finished with value: 0.9729729890823364 and parameters: {'n_units_1': 74, 'dropout_rate': 0.23444674230642532, 'n_units_2': 55}. Best is trial 0 with value: 0.9729729890823364.\n",
      "[I 2024-11-06 22:35:14,665] Trial 4 finished with value: 0.9729729890823364 and parameters: {'n_units_1': 109, 'dropout_rate': 0.27220668058679864, 'n_units_2': 107}. Best is trial 0 with value: 0.9729729890823364.\n",
      "[I 2024-11-06 22:35:15,511] Trial 5 finished with value: 0.9864864945411682 and parameters: {'n_units_1': 103, 'dropout_rate': 0.32215482027976844, 'n_units_2': 62}. Best is trial 5 with value: 0.9864864945411682.\n",
      "[I 2024-11-06 22:35:16,609] Trial 6 finished with value: 0.9864864945411682 and parameters: {'n_units_1': 75, 'dropout_rate': 0.23010772939171004, 'n_units_2': 77}. Best is trial 5 with value: 0.9864864945411682.\n",
      "[I 2024-11-06 22:35:17,505] Trial 7 finished with value: 0.9324324131011963 and parameters: {'n_units_1': 42, 'dropout_rate': 0.4135585256220335, 'n_units_2': 76}. Best is trial 5 with value: 0.9864864945411682.\n",
      "[I 2024-11-06 22:35:18,357] Trial 8 finished with value: 0.9729729890823364 and parameters: {'n_units_1': 123, 'dropout_rate': 0.45020688453318414, 'n_units_2': 46}. Best is trial 5 with value: 0.9864864945411682.\n",
      "[I 2024-11-06 22:35:19,209] Trial 9 finished with value: 0.9729729890823364 and parameters: {'n_units_1': 44, 'dropout_rate': 0.2590003171835745, 'n_units_2': 85}. Best is trial 5 with value: 0.9864864945411682.\n"
     ]
    },
    {
     "name": "stdout",
     "output_type": "stream",
     "text": [
      "\u001b[1m3/3\u001b[0m \u001b[32m━━━━━━━━━━━━━━━━━━━━\u001b[0m\u001b[37m\u001b[0m \u001b[1m0s\u001b[0m 6ms/step \n",
      "Dataset: Dataset_7, Score: 0.8278\n",
      "\u001b[1m8/8\u001b[0m \u001b[32m━━━━━━━━━━━━━━━━━━━━\u001b[0m\u001b[37m\u001b[0m \u001b[1m0s\u001b[0m 527us/step\n"
     ]
    },
    {
     "name": "stderr",
     "output_type": "stream",
     "text": [
      "[I 2024-11-06 22:35:20,770] A new study created in memory with name: no-name-23b99dce-4f4b-4d4b-baa9-2038a083b8d3\n"
     ]
    },
    {
     "name": "stdout",
     "output_type": "stream",
     "text": [
      "Dataset: Dataset_30\n",
      "X_train_split shape: (442, 25)\n",
      "y_train_split shape: (442, 1)\n",
      "X_val shape: (111, 25)\n",
      "y_val shape: (111, 1)\n"
     ]
    },
    {
     "name": "stderr",
     "output_type": "stream",
     "text": [
      "[I 2024-11-06 22:35:21,711] Trial 0 finished with value: 0.8108108043670654 and parameters: {'n_units_1': 120, 'dropout_rate': 0.4630599033521631, 'n_units_2': 107}. Best is trial 0 with value: 0.8108108043670654.\n",
      "[I 2024-11-06 22:35:22,629] Trial 1 finished with value: 0.7657657861709595 and parameters: {'n_units_1': 69, 'dropout_rate': 0.2732925394243994, 'n_units_2': 120}. Best is trial 0 with value: 0.8108108043670654.\n",
      "[I 2024-11-06 22:35:23,531] Trial 2 finished with value: 0.8018018007278442 and parameters: {'n_units_1': 93, 'dropout_rate': 0.2041499995407749, 'n_units_2': 110}. Best is trial 0 with value: 0.8108108043670654.\n",
      "[I 2024-11-06 22:35:24,430] Trial 3 finished with value: 0.7837837934494019 and parameters: {'n_units_1': 110, 'dropout_rate': 0.2526603852579437, 'n_units_2': 101}. Best is trial 0 with value: 0.8108108043670654.\n",
      "[I 2024-11-06 22:35:25,314] Trial 4 finished with value: 0.792792797088623 and parameters: {'n_units_1': 99, 'dropout_rate': 0.22938227623213625, 'n_units_2': 34}. Best is trial 0 with value: 0.8108108043670654.\n",
      "[I 2024-11-06 22:35:26,257] Trial 5 finished with value: 0.7657657861709595 and parameters: {'n_units_1': 52, 'dropout_rate': 0.46934266838545047, 'n_units_2': 106}. Best is trial 0 with value: 0.8108108043670654.\n",
      "[I 2024-11-06 22:35:27,380] Trial 6 finished with value: 0.7837837934494019 and parameters: {'n_units_1': 92, 'dropout_rate': 0.3876147504578508, 'n_units_2': 93}. Best is trial 0 with value: 0.8108108043670654.\n",
      "[I 2024-11-06 22:35:28,317] Trial 7 finished with value: 0.8018018007278442 and parameters: {'n_units_1': 109, 'dropout_rate': 0.4339744765663042, 'n_units_2': 126}. Best is trial 0 with value: 0.8108108043670654.\n",
      "[I 2024-11-06 22:35:29,261] Trial 8 finished with value: 0.792792797088623 and parameters: {'n_units_1': 77, 'dropout_rate': 0.4640310681453805, 'n_units_2': 113}. Best is trial 0 with value: 0.8108108043670654.\n",
      "[I 2024-11-06 22:35:30,170] Trial 9 finished with value: 0.7747747898101807 and parameters: {'n_units_1': 65, 'dropout_rate': 0.4109608830842647, 'n_units_2': 114}. Best is trial 0 with value: 0.8108108043670654.\n"
     ]
    },
    {
     "name": "stdout",
     "output_type": "stream",
     "text": [
      "\u001b[1m4/4\u001b[0m \u001b[32m━━━━━━━━━━━━━━━━━━━━\u001b[0m\u001b[37m\u001b[0m \u001b[1m0s\u001b[0m 4ms/step  \n",
      "Dataset: Dataset_30, Score: 0.6761\n",
      "\u001b[1m12/12\u001b[0m \u001b[32m━━━━━━━━━━━━━━━━━━━━\u001b[0m\u001b[37m\u001b[0m \u001b[1m0s\u001b[0m 373us/step\n"
     ]
    },
    {
     "name": "stderr",
     "output_type": "stream",
     "text": [
      "[I 2024-11-06 22:35:31,860] A new study created in memory with name: no-name-0477c875-1c00-4478-a3de-f7ae6e067c17\n"
     ]
    },
    {
     "name": "stdout",
     "output_type": "stream",
     "text": [
      "Dataset: Dataset_39\n",
      "X_train_split shape: (480, 16)\n",
      "y_train_split shape: (480, 1)\n",
      "X_val shape: (120, 16)\n",
      "y_val shape: (120, 1)\n"
     ]
    },
    {
     "name": "stderr",
     "output_type": "stream",
     "text": [
      "[I 2024-11-06 22:35:32,723] Trial 0 finished with value: 0.949999988079071 and parameters: {'n_units_1': 75, 'dropout_rate': 0.4860000212861816, 'n_units_2': 83}. Best is trial 0 with value: 0.949999988079071.\n",
      "[I 2024-11-06 22:35:33,574] Trial 1 finished with value: 0.9416666626930237 and parameters: {'n_units_1': 90, 'dropout_rate': 0.25582690756985604, 'n_units_2': 72}. Best is trial 0 with value: 0.949999988079071.\n",
      "[I 2024-11-06 22:35:34,420] Trial 2 finished with value: 0.9166666865348816 and parameters: {'n_units_1': 70, 'dropout_rate': 0.39529696155623284, 'n_units_2': 105}. Best is trial 0 with value: 0.949999988079071.\n",
      "[I 2024-11-06 22:35:35,257] Trial 3 finished with value: 0.949999988079071 and parameters: {'n_units_1': 111, 'dropout_rate': 0.2822748270034316, 'n_units_2': 61}. Best is trial 0 with value: 0.949999988079071.\n",
      "[I 2024-11-06 22:35:36,091] Trial 4 finished with value: 0.949999988079071 and parameters: {'n_units_1': 80, 'dropout_rate': 0.4468937782495896, 'n_units_2': 99}. Best is trial 0 with value: 0.949999988079071.\n",
      "[I 2024-11-06 22:35:36,930] Trial 5 finished with value: 0.925000011920929 and parameters: {'n_units_1': 34, 'dropout_rate': 0.2927504593176694, 'n_units_2': 75}. Best is trial 0 with value: 0.949999988079071.\n",
      "[I 2024-11-06 22:35:38,023] Trial 6 finished with value: 0.925000011920929 and parameters: {'n_units_1': 127, 'dropout_rate': 0.41732896457900137, 'n_units_2': 51}. Best is trial 0 with value: 0.949999988079071.\n",
      "[I 2024-11-06 22:35:38,928] Trial 7 finished with value: 0.9416666626930237 and parameters: {'n_units_1': 112, 'dropout_rate': 0.351599164418914, 'n_units_2': 32}. Best is trial 0 with value: 0.949999988079071.\n",
      "[I 2024-11-06 22:35:39,767] Trial 8 finished with value: 0.9333333373069763 and parameters: {'n_units_1': 72, 'dropout_rate': 0.45272147107139893, 'n_units_2': 65}. Best is trial 0 with value: 0.949999988079071.\n",
      "[I 2024-11-06 22:35:40,612] Trial 9 finished with value: 0.9416666626930237 and parameters: {'n_units_1': 109, 'dropout_rate': 0.26948449308062544, 'n_units_2': 111}. Best is trial 0 with value: 0.949999988079071.\n"
     ]
    },
    {
     "name": "stdout",
     "output_type": "stream",
     "text": [
      "\u001b[1m4/4\u001b[0m \u001b[32m━━━━━━━━━━━━━━━━━━━━\u001b[0m\u001b[37m\u001b[0m \u001b[1m0s\u001b[0m 4ms/step  \n",
      "Dataset: Dataset_39, Score: 0.9560\n",
      "\u001b[1m13/13\u001b[0m \u001b[32m━━━━━━━━━━━━━━━━━━━━\u001b[0m\u001b[37m\u001b[0m \u001b[1m0s\u001b[0m 358us/step\n"
     ]
    },
    {
     "name": "stderr",
     "output_type": "stream",
     "text": [
      "[I 2024-11-06 22:35:42,200] A new study created in memory with name: no-name-99e0810e-7ea7-4387-9af1-7f37ef93e87c\n"
     ]
    },
    {
     "name": "stdout",
     "output_type": "stream",
     "text": [
      "Dataset: Dataset_9\n",
      "X_train_split shape: (115, 20)\n",
      "y_train_split shape: (115, 1)\n",
      "X_val shape: (29, 20)\n",
      "y_val shape: (29, 1)\n"
     ]
    },
    {
     "name": "stderr",
     "output_type": "stream",
     "text": [
      "[I 2024-11-06 22:35:45,783] Trial 0 finished with value: 0.8620689511299133 and parameters: {'n_units_1': 42, 'dropout_rate': 0.23789001696244652, 'n_units_2': 105}. Best is trial 0 with value: 0.8620689511299133.\n",
      "[I 2024-11-06 22:35:46,676] Trial 1 finished with value: 0.8620689511299133 and parameters: {'n_units_1': 52, 'dropout_rate': 0.4631161667045269, 'n_units_2': 56}. Best is trial 0 with value: 0.8620689511299133.\n",
      "[I 2024-11-06 22:35:47,534] Trial 2 finished with value: 0.8620689511299133 and parameters: {'n_units_1': 45, 'dropout_rate': 0.3671742761683344, 'n_units_2': 72}. Best is trial 0 with value: 0.8620689511299133.\n",
      "[I 2024-11-06 22:35:48,635] Trial 3 finished with value: 0.8620689511299133 and parameters: {'n_units_1': 66, 'dropout_rate': 0.27151689071623, 'n_units_2': 91}. Best is trial 0 with value: 0.8620689511299133.\n",
      "[I 2024-11-06 22:35:49,521] Trial 4 finished with value: 0.8620689511299133 and parameters: {'n_units_1': 86, 'dropout_rate': 0.446830590757008, 'n_units_2': 79}. Best is trial 0 with value: 0.8620689511299133.\n",
      "[I 2024-11-06 22:35:50,324] Trial 5 finished with value: 0.8620689511299133 and parameters: {'n_units_1': 56, 'dropout_rate': 0.3470689355979544, 'n_units_2': 94}. Best is trial 0 with value: 0.8620689511299133.\n",
      "[I 2024-11-06 22:35:51,122] Trial 6 finished with value: 0.931034505367279 and parameters: {'n_units_1': 43, 'dropout_rate': 0.2738884414136855, 'n_units_2': 41}. Best is trial 6 with value: 0.931034505367279.\n",
      "[I 2024-11-06 22:35:51,928] Trial 7 finished with value: 0.8620689511299133 and parameters: {'n_units_1': 44, 'dropout_rate': 0.4157972553198468, 'n_units_2': 77}. Best is trial 6 with value: 0.931034505367279.\n",
      "[I 2024-11-06 22:35:52,738] Trial 8 finished with value: 0.8620689511299133 and parameters: {'n_units_1': 95, 'dropout_rate': 0.28498575069715154, 'n_units_2': 89}. Best is trial 6 with value: 0.931034505367279.\n",
      "[I 2024-11-06 22:35:53,801] Trial 9 finished with value: 0.8620689511299133 and parameters: {'n_units_1': 41, 'dropout_rate': 0.22950343128303985, 'n_units_2': 79}. Best is trial 6 with value: 0.931034505367279.\n"
     ]
    },
    {
     "name": "stdout",
     "output_type": "stream",
     "text": [
      "\u001b[1m1/1\u001b[0m \u001b[32m━━━━━━━━━━━━━━━━━━━━\u001b[0m\u001b[37m\u001b[0m \u001b[1m0s\u001b[0m 19ms/step\n",
      "Dataset: Dataset_9, Score: 0.8358\n",
      "\u001b[1m3/3\u001b[0m \u001b[32m━━━━━━━━━━━━━━━━━━━━\u001b[0m\u001b[37m\u001b[0m \u001b[1m0s\u001b[0m 589us/step\n"
     ]
    },
    {
     "name": "stderr",
     "output_type": "stream",
     "text": [
      "[I 2024-11-06 22:35:55,219] A new study created in memory with name: no-name-18dcb3fa-ec21-4d5c-8291-cc3e4d6d016d\n"
     ]
    },
    {
     "name": "stdout",
     "output_type": "stream",
     "text": [
      "Dataset: Dataset_23\n",
      "X_train_split shape: (283, 12)\n",
      "y_train_split shape: (283, 1)\n",
      "X_val shape: (71, 12)\n",
      "y_val shape: (71, 1)\n"
     ]
    },
    {
     "name": "stderr",
     "output_type": "stream",
     "text": [
      "[I 2024-11-06 22:35:56,175] Trial 0 finished with value: 0.9154929518699646 and parameters: {'n_units_1': 55, 'dropout_rate': 0.4633152080987586, 'n_units_2': 101}. Best is trial 0 with value: 0.9154929518699646.\n",
      "[I 2024-11-06 22:35:57,034] Trial 1 finished with value: 0.8873239159584045 and parameters: {'n_units_1': 90, 'dropout_rate': 0.3550875554320989, 'n_units_2': 79}. Best is trial 0 with value: 0.9154929518699646.\n",
      "[I 2024-11-06 22:35:57,887] Trial 2 finished with value: 0.9154929518699646 and parameters: {'n_units_1': 78, 'dropout_rate': 0.28553786558236294, 'n_units_2': 74}. Best is trial 0 with value: 0.9154929518699646.\n",
      "[I 2024-11-06 22:35:58,727] Trial 3 finished with value: 0.8732394576072693 and parameters: {'n_units_1': 53, 'dropout_rate': 0.3989918320384158, 'n_units_2': 77}. Best is trial 0 with value: 0.9154929518699646.\n",
      "[I 2024-11-06 22:35:59,569] Trial 4 finished with value: 0.9154929518699646 and parameters: {'n_units_1': 35, 'dropout_rate': 0.49148994950925623, 'n_units_2': 63}. Best is trial 0 with value: 0.9154929518699646.\n",
      "[I 2024-11-06 22:36:00,427] Trial 5 finished with value: 0.9295774698257446 and parameters: {'n_units_1': 61, 'dropout_rate': 0.48887069029291913, 'n_units_2': 113}. Best is trial 5 with value: 0.9295774698257446.\n",
      "[I 2024-11-06 22:36:01,506] Trial 6 finished with value: 0.9014084339141846 and parameters: {'n_units_1': 46, 'dropout_rate': 0.22179723405066484, 'n_units_2': 116}. Best is trial 5 with value: 0.9295774698257446.\n",
      "[I 2024-11-06 22:36:02,417] Trial 7 finished with value: 0.9295774698257446 and parameters: {'n_units_1': 96, 'dropout_rate': 0.3114602043116347, 'n_units_2': 52}. Best is trial 5 with value: 0.9295774698257446.\n",
      "[I 2024-11-06 22:36:03,287] Trial 8 finished with value: 0.9154929518699646 and parameters: {'n_units_1': 42, 'dropout_rate': 0.47125352979833113, 'n_units_2': 81}. Best is trial 5 with value: 0.9295774698257446.\n",
      "[I 2024-11-06 22:36:04,158] Trial 9 finished with value: 0.9295774698257446 and parameters: {'n_units_1': 107, 'dropout_rate': 0.25784776870789927, 'n_units_2': 90}. Best is trial 5 with value: 0.9295774698257446.\n"
     ]
    },
    {
     "name": "stdout",
     "output_type": "stream",
     "text": [
      "\u001b[1m3/3\u001b[0m \u001b[32m━━━━━━━━━━━━━━━━━━━━\u001b[0m\u001b[37m\u001b[0m \u001b[1m0s\u001b[0m 6ms/step \n",
      "Dataset: Dataset_23, Score: 0.8201\n",
      "\u001b[1m8/8\u001b[0m \u001b[32m━━━━━━━━━━━━━━━━━━━━\u001b[0m\u001b[37m\u001b[0m \u001b[1m0s\u001b[0m 403us/step\n"
     ]
    },
    {
     "name": "stderr",
     "output_type": "stream",
     "text": [
      "[I 2024-11-06 22:36:05,706] A new study created in memory with name: no-name-65ef557e-3d74-404b-b974-ac640af0545a\n"
     ]
    },
    {
     "name": "stdout",
     "output_type": "stream",
     "text": [
      "Dataset: Dataset_24\n",
      "X_train_split shape: (480, 9)\n",
      "y_train_split shape: (480, 1)\n",
      "X_val shape: (120, 9)\n",
      "y_val shape: (120, 1)\n"
     ]
    },
    {
     "name": "stderr",
     "output_type": "stream",
     "text": [
      "[I 2024-11-06 22:36:06,600] Trial 0 finished with value: 0.7166666388511658 and parameters: {'n_units_1': 122, 'dropout_rate': 0.37854567840725395, 'n_units_2': 101}. Best is trial 0 with value: 0.7166666388511658.\n",
      "[I 2024-11-06 22:36:07,464] Trial 1 finished with value: 0.7166666388511658 and parameters: {'n_units_1': 87, 'dropout_rate': 0.26829295065109476, 'n_units_2': 55}. Best is trial 0 with value: 0.7166666388511658.\n",
      "[I 2024-11-06 22:36:08,329] Trial 2 finished with value: 0.7166666388511658 and parameters: {'n_units_1': 119, 'dropout_rate': 0.2664502802541798, 'n_units_2': 83}. Best is trial 0 with value: 0.7166666388511658.\n",
      "[I 2024-11-06 22:36:09,190] Trial 3 finished with value: 0.7250000238418579 and parameters: {'n_units_1': 99, 'dropout_rate': 0.4298616547367657, 'n_units_2': 104}. Best is trial 3 with value: 0.7250000238418579.\n",
      "[I 2024-11-06 22:36:10,036] Trial 4 finished with value: 0.7250000238418579 and parameters: {'n_units_1': 89, 'dropout_rate': 0.4457920645091243, 'n_units_2': 71}. Best is trial 3 with value: 0.7250000238418579.\n",
      "[I 2024-11-06 22:36:10,907] Trial 5 finished with value: 0.7333333492279053 and parameters: {'n_units_1': 115, 'dropout_rate': 0.42470722026288565, 'n_units_2': 58}. Best is trial 5 with value: 0.7333333492279053.\n",
      "[I 2024-11-06 22:36:11,965] Trial 6 finished with value: 0.7166666388511658 and parameters: {'n_units_1': 79, 'dropout_rate': 0.33250748280005094, 'n_units_2': 72}. Best is trial 5 with value: 0.7333333492279053.\n",
      "[I 2024-11-06 22:36:12,825] Trial 7 finished with value: 0.7416666746139526 and parameters: {'n_units_1': 121, 'dropout_rate': 0.43672773180080776, 'n_units_2': 89}. Best is trial 7 with value: 0.7416666746139526.\n",
      "[I 2024-11-06 22:36:13,660] Trial 8 finished with value: 0.7333333492279053 and parameters: {'n_units_1': 77, 'dropout_rate': 0.32706666513054083, 'n_units_2': 51}. Best is trial 7 with value: 0.7416666746139526.\n",
      "[I 2024-11-06 22:36:14,511] Trial 9 finished with value: 0.7166666388511658 and parameters: {'n_units_1': 124, 'dropout_rate': 0.3591235757085558, 'n_units_2': 124}. Best is trial 7 with value: 0.7416666746139526.\n"
     ]
    },
    {
     "name": "stdout",
     "output_type": "stream",
     "text": [
      "\u001b[1m4/4\u001b[0m \u001b[32m━━━━━━━━━━━━━━━━━━━━\u001b[0m\u001b[37m\u001b[0m \u001b[1m0s\u001b[0m 4ms/step  \n",
      "Dataset: Dataset_24, Score: 0.4104\n",
      "\u001b[1m13/13\u001b[0m \u001b[32m━━━━━━━━━━━━━━━━━━━━\u001b[0m\u001b[37m\u001b[0m \u001b[1m0s\u001b[0m 345us/step\n"
     ]
    },
    {
     "name": "stderr",
     "output_type": "stream",
     "text": [
      "[I 2024-11-06 22:36:16,095] A new study created in memory with name: no-name-5fbc544f-0f68-4012-a16a-a64937f89fa2\n"
     ]
    },
    {
     "name": "stdout",
     "output_type": "stream",
     "text": [
      "Dataset: Dataset_12\n",
      "X_train_split shape: (123, 5)\n",
      "y_train_split shape: (123, 1)\n",
      "X_val shape: (31, 5)\n",
      "y_val shape: (31, 1)\n"
     ]
    },
    {
     "name": "stderr",
     "output_type": "stream",
     "text": [
      "[I 2024-11-06 22:36:16,917] Trial 0 finished with value: 0.7419354915618896 and parameters: {'n_units_1': 77, 'dropout_rate': 0.40374474550329253, 'n_units_2': 33}. Best is trial 0 with value: 0.7419354915618896.\n",
      "[I 2024-11-06 22:36:17,720] Trial 1 finished with value: 0.774193525314331 and parameters: {'n_units_1': 119, 'dropout_rate': 0.3568522319214543, 'n_units_2': 123}. Best is trial 1 with value: 0.774193525314331.\n",
      "2024-11-06 22:36:18.217534: W tensorflow/core/framework/op_kernel.cc:1841] OP_REQUIRES failed at resource_variable_ops.cc:620 : INVALID_ARGUMENT: Cannot update variable with shape [1] using a Tensor with shape [0], shapes must be equal.\n",
      "2024-11-06 22:36:18.217550: I tensorflow/core/framework/local_rendezvous.cc:405] Local rendezvous is aborting with status: INVALID_ARGUMENT: Cannot update variable with shape [1] using a Tensor with shape [0], shapes must be equal.\n",
      "\t [[{{function_node __inference_one_step_on_data_1110702}}{{node adam/AssignSubVariableOp_5}}]]\n",
      "[W 2024-11-06 22:36:18,252] Trial 2 failed with parameters: {'n_units_1': 121, 'dropout_rate': 0.32681316922525205, 'n_units_2': 100} because of the following error: The value None could not be cast to float..\n",
      "[W 2024-11-06 22:36:18,252] Trial 2 failed with value None.\n"
     ]
    },
    {
     "name": "stdout",
     "output_type": "stream",
     "text": [
      "Trial failed due to: Graph execution error:\n",
      "\n",
      "Detected at node adam/AssignSubVariableOp_5 defined at (most recent call last):\n",
      "  File \"/Applications/Xcode.app/Contents/Developer/Library/Frameworks/Python3.framework/Versions/3.9/lib/python3.9/runpy.py\", line 197, in _run_module_as_main\n",
      "\n",
      "  File \"/Applications/Xcode.app/Contents/Developer/Library/Frameworks/Python3.framework/Versions/3.9/lib/python3.9/runpy.py\", line 87, in _run_code\n",
      "\n",
      "  File \"/Users/jcchen/Documents/Work/Happy/.venv/lib/python3.9/site-packages/ipykernel_launcher.py\", line 18, in <module>\n",
      "\n",
      "  File \"/Users/jcchen/Documents/Work/Happy/.venv/lib/python3.9/site-packages/traitlets/config/application.py\", line 1075, in launch_instance\n",
      "\n",
      "  File \"/Users/jcchen/Documents/Work/Happy/.venv/lib/python3.9/site-packages/ipykernel/kernelapp.py\", line 739, in start\n",
      "\n",
      "  File \"/Users/jcchen/Documents/Work/Happy/.venv/lib/python3.9/site-packages/tornado/platform/asyncio.py\", line 205, in start\n",
      "\n",
      "  File \"/Applications/Xcode.app/Contents/Developer/Library/Frameworks/Python3.framework/Versions/3.9/lib/python3.9/asyncio/base_events.py\", line 596, in run_forever\n",
      "\n",
      "  File \"/Applications/Xcode.app/Contents/Developer/Library/Frameworks/Python3.framework/Versions/3.9/lib/python3.9/asyncio/base_events.py\", line 1890, in _run_once\n",
      "\n",
      "  File \"/Applications/Xcode.app/Contents/Developer/Library/Frameworks/Python3.framework/Versions/3.9/lib/python3.9/asyncio/events.py\", line 80, in _run\n",
      "\n",
      "  File \"/Users/jcchen/Documents/Work/Happy/.venv/lib/python3.9/site-packages/ipykernel/kernelbase.py\", line 545, in dispatch_queue\n",
      "\n",
      "  File \"/Users/jcchen/Documents/Work/Happy/.venv/lib/python3.9/site-packages/ipykernel/kernelbase.py\", line 534, in process_one\n",
      "\n",
      "  File \"/Users/jcchen/Documents/Work/Happy/.venv/lib/python3.9/site-packages/ipykernel/kernelbase.py\", line 437, in dispatch_shell\n",
      "\n",
      "  File \"/Users/jcchen/Documents/Work/Happy/.venv/lib/python3.9/site-packages/ipykernel/ipkernel.py\", line 362, in execute_request\n",
      "\n",
      "  File \"/Users/jcchen/Documents/Work/Happy/.venv/lib/python3.9/site-packages/ipykernel/kernelbase.py\", line 778, in execute_request\n",
      "\n",
      "  File \"/Users/jcchen/Documents/Work/Happy/.venv/lib/python3.9/site-packages/ipykernel/ipkernel.py\", line 449, in do_execute\n",
      "\n",
      "  File \"/Users/jcchen/Documents/Work/Happy/.venv/lib/python3.9/site-packages/ipykernel/zmqshell.py\", line 549, in run_cell\n",
      "\n",
      "  File \"/Users/jcchen/Documents/Work/Happy/.venv/lib/python3.9/site-packages/IPython/core/interactiveshell.py\", line 3048, in run_cell\n",
      "\n",
      "  File \"/Users/jcchen/Documents/Work/Happy/.venv/lib/python3.9/site-packages/IPython/core/interactiveshell.py\", line 3103, in _run_cell\n",
      "\n",
      "  File \"/Users/jcchen/Documents/Work/Happy/.venv/lib/python3.9/site-packages/IPython/core/async_helpers.py\", line 129, in _pseudo_sync_runner\n",
      "\n",
      "  File \"/Users/jcchen/Documents/Work/Happy/.venv/lib/python3.9/site-packages/IPython/core/interactiveshell.py\", line 3308, in run_cell_async\n",
      "\n",
      "  File \"/Users/jcchen/Documents/Work/Happy/.venv/lib/python3.9/site-packages/IPython/core/interactiveshell.py\", line 3490, in run_ast_nodes\n",
      "\n",
      "  File \"/Users/jcchen/Documents/Work/Happy/.venv/lib/python3.9/site-packages/IPython/core/interactiveshell.py\", line 3550, in run_code\n",
      "\n",
      "  File \"/var/folders/y1/36krdqms3ylf80qt9dq3mjmm0000gn/T/ipykernel_35930/2951180056.py\", line 57, in <module>\n",
      "\n",
      "  File \"/Users/jcchen/Documents/Work/Happy/.venv/lib/python3.9/site-packages/optuna/study/study.py\", line 475, in optimize\n",
      "\n",
      "  File \"/Users/jcchen/Documents/Work/Happy/.venv/lib/python3.9/site-packages/optuna/study/_optimize.py\", line 63, in _optimize\n",
      "\n",
      "  File \"/Users/jcchen/Documents/Work/Happy/.venv/lib/python3.9/site-packages/optuna/study/_optimize.py\", line 160, in _optimize_sequential\n",
      "\n",
      "  File \"/Users/jcchen/Documents/Work/Happy/.venv/lib/python3.9/site-packages/optuna/study/_optimize.py\", line 197, in _run_trial\n",
      "\n",
      "  File \"/var/folders/y1/36krdqms3ylf80qt9dq3mjmm0000gn/T/ipykernel_35930/2951180056.py\", line 49, in objective\n",
      "\n",
      "  File \"/Users/jcchen/Documents/Work/Happy/.venv/lib/python3.9/site-packages/keras/src/utils/traceback_utils.py\", line 117, in error_handler\n",
      "\n",
      "  File \"/Users/jcchen/Documents/Work/Happy/.venv/lib/python3.9/site-packages/keras/src/backend/tensorflow/trainer.py\", line 320, in fit\n",
      "\n",
      "  File \"/Users/jcchen/Documents/Work/Happy/.venv/lib/python3.9/site-packages/keras/src/backend/tensorflow/trainer.py\", line 121, in one_step_on_iterator\n",
      "\n",
      "  File \"/Users/jcchen/Documents/Work/Happy/.venv/lib/python3.9/site-packages/keras/src/backend/tensorflow/trainer.py\", line 108, in one_step_on_data\n",
      "\n",
      "  File \"/Users/jcchen/Documents/Work/Happy/.venv/lib/python3.9/site-packages/keras/src/backend/tensorflow/trainer.py\", line 73, in train_step\n",
      "\n",
      "  File \"/Users/jcchen/Documents/Work/Happy/.venv/lib/python3.9/site-packages/keras/src/optimizers/base_optimizer.py\", line 344, in apply_gradients\n",
      "\n",
      "  File \"/Users/jcchen/Documents/Work/Happy/.venv/lib/python3.9/site-packages/keras/src/optimizers/base_optimizer.py\", line 409, in apply\n",
      "\n",
      "  File \"/Users/jcchen/Documents/Work/Happy/.venv/lib/python3.9/site-packages/keras/src/optimizers/base_optimizer.py\", line 472, in _backend_apply_gradients\n",
      "\n",
      "  File \"/Users/jcchen/Documents/Work/Happy/.venv/lib/python3.9/site-packages/keras/src/backend/tensorflow/optimizer.py\", line 122, in _backend_update_step\n",
      "\n",
      "  File \"/Users/jcchen/Documents/Work/Happy/.venv/lib/python3.9/site-packages/keras/src/backend/tensorflow/optimizer.py\", line 136, in _distributed_tf_update_step\n",
      "\n",
      "  File \"/Users/jcchen/Documents/Work/Happy/.venv/lib/python3.9/site-packages/keras/src/backend/tensorflow/optimizer.py\", line 133, in apply_grad_to_update_var\n",
      "\n",
      "  File \"/Users/jcchen/Documents/Work/Happy/.venv/lib/python3.9/site-packages/keras/src/optimizers/adam.py\", line 145, in update_step\n",
      "\n",
      "  File \"/Users/jcchen/Documents/Work/Happy/.venv/lib/python3.9/site-packages/keras/src/backend/tensorflow/optimizer.py\", line 74, in assign_sub\n",
      "\n",
      "Cannot update variable with shape [1] using a Tensor with shape [0], shapes must be equal.\n",
      "\t [[{{node adam/AssignSubVariableOp_5}}]] [Op:__inference_one_step_on_iterator_1110759]\n"
     ]
    },
    {
     "name": "stderr",
     "output_type": "stream",
     "text": [
      "[I 2024-11-06 22:36:19,106] Trial 3 finished with value: 0.6774193644523621 and parameters: {'n_units_1': 52, 'dropout_rate': 0.40976783875557854, 'n_units_2': 114}. Best is trial 1 with value: 0.774193525314331.\n",
      "[I 2024-11-06 22:36:19,944] Trial 4 finished with value: 0.774193525314331 and parameters: {'n_units_1': 46, 'dropout_rate': 0.2110298784644441, 'n_units_2': 65}. Best is trial 1 with value: 0.774193525314331.\n",
      "[I 2024-11-06 22:36:20,792] Trial 5 finished with value: 0.7419354915618896 and parameters: {'n_units_1': 95, 'dropout_rate': 0.3814843552806493, 'n_units_2': 72}. Best is trial 1 with value: 0.774193525314331.\n",
      "[I 2024-11-06 22:36:22,159] Trial 6 finished with value: 0.774193525314331 and parameters: {'n_units_1': 118, 'dropout_rate': 0.3064589703724599, 'n_units_2': 128}. Best is trial 1 with value: 0.774193525314331.\n",
      "[I 2024-11-06 22:36:23,047] Trial 7 finished with value: 0.774193525314331 and parameters: {'n_units_1': 121, 'dropout_rate': 0.29984125855043686, 'n_units_2': 89}. Best is trial 1 with value: 0.774193525314331.\n",
      "[I 2024-11-06 22:36:23,896] Trial 8 finished with value: 0.7419354915618896 and parameters: {'n_units_1': 75, 'dropout_rate': 0.20705056092974133, 'n_units_2': 92}. Best is trial 1 with value: 0.774193525314331.\n",
      "[I 2024-11-06 22:36:24,747] Trial 9 finished with value: 0.7419354915618896 and parameters: {'n_units_1': 108, 'dropout_rate': 0.47232212849468236, 'n_units_2': 126}. Best is trial 1 with value: 0.774193525314331.\n"
     ]
    },
    {
     "name": "stdout",
     "output_type": "stream",
     "text": [
      "\u001b[1m1/1\u001b[0m \u001b[32m━━━━━━━━━━━━━━━━━━━━\u001b[0m\u001b[37m\u001b[0m \u001b[1m0s\u001b[0m 20ms/step\n",
      "Dataset: Dataset_12, Score: 0.9473\n",
      "\u001b[1m4/4\u001b[0m \u001b[32m━━━━━━━━━━━━━━━━━━━━\u001b[0m\u001b[37m\u001b[0m \u001b[1m0s\u001b[0m 578us/step\n"
     ]
    },
    {
     "name": "stderr",
     "output_type": "stream",
     "text": [
      "[I 2024-11-06 22:36:26,273] A new study created in memory with name: no-name-57ab4363-bd01-4028-bc97-c325b261fede\n"
     ]
    },
    {
     "name": "stdout",
     "output_type": "stream",
     "text": [
      "Dataset: Dataset_15\n",
      "X_train_split shape: (294, 10)\n",
      "y_train_split shape: (294, 1)\n",
      "X_val shape: (74, 10)\n",
      "y_val shape: (74, 1)\n"
     ]
    },
    {
     "name": "stderr",
     "output_type": "stream",
     "text": [
      "[I 2024-11-06 22:36:27,274] Trial 0 finished with value: 0.7432432174682617 and parameters: {'n_units_1': 98, 'dropout_rate': 0.3880729962127017, 'n_units_2': 57}. Best is trial 0 with value: 0.7432432174682617.\n",
      "[I 2024-11-06 22:36:28,203] Trial 1 finished with value: 0.7162162065505981 and parameters: {'n_units_1': 37, 'dropout_rate': 0.3921089167673235, 'n_units_2': 66}. Best is trial 0 with value: 0.7432432174682617.\n",
      "[I 2024-11-06 22:36:29,133] Trial 2 finished with value: 0.7432432174682617 and parameters: {'n_units_1': 46, 'dropout_rate': 0.3237341455147085, 'n_units_2': 62}. Best is trial 0 with value: 0.7432432174682617.\n",
      "[I 2024-11-06 22:36:30,092] Trial 3 finished with value: 0.7297297120094299 and parameters: {'n_units_1': 82, 'dropout_rate': 0.3326743562977757, 'n_units_2': 111}. Best is trial 0 with value: 0.7432432174682617.\n",
      "[I 2024-11-06 22:36:31,138] Trial 4 finished with value: 0.7432432174682617 and parameters: {'n_units_1': 43, 'dropout_rate': 0.41543952562369146, 'n_units_2': 101}. Best is trial 0 with value: 0.7432432174682617.\n",
      "[I 2024-11-06 22:36:32,371] Trial 5 finished with value: 0.7567567825317383 and parameters: {'n_units_1': 37, 'dropout_rate': 0.31243854913366015, 'n_units_2': 74}. Best is trial 5 with value: 0.7567567825317383.\n",
      "[I 2024-11-06 22:36:33,294] Trial 6 finished with value: 0.7432432174682617 and parameters: {'n_units_1': 76, 'dropout_rate': 0.21907836700976036, 'n_units_2': 50}. Best is trial 5 with value: 0.7567567825317383.\n",
      "[I 2024-11-06 22:36:34,204] Trial 7 finished with value: 0.7567567825317383 and parameters: {'n_units_1': 109, 'dropout_rate': 0.3564133882600443, 'n_units_2': 53}. Best is trial 5 with value: 0.7567567825317383.\n",
      "[I 2024-11-06 22:36:35,107] Trial 8 finished with value: 0.7567567825317383 and parameters: {'n_units_1': 38, 'dropout_rate': 0.406927844237631, 'n_units_2': 124}. Best is trial 5 with value: 0.7567567825317383.\n",
      "[I 2024-11-06 22:36:36,014] Trial 9 finished with value: 0.7567567825317383 and parameters: {'n_units_1': 72, 'dropout_rate': 0.2603404342736021, 'n_units_2': 111}. Best is trial 5 with value: 0.7567567825317383.\n"
     ]
    },
    {
     "name": "stdout",
     "output_type": "stream",
     "text": [
      "\u001b[1m3/3\u001b[0m \u001b[32m━━━━━━━━━━━━━━━━━━━━\u001b[0m\u001b[37m\u001b[0m \u001b[1m0s\u001b[0m 6ms/step \n",
      "Dataset: Dataset_15, Score: 0.5907\n",
      "\u001b[1m8/8\u001b[0m \u001b[32m━━━━━━━━━━━━━━━━━━━━\u001b[0m\u001b[37m\u001b[0m \u001b[1m0s\u001b[0m 495us/step\n"
     ]
    },
    {
     "name": "stderr",
     "output_type": "stream",
     "text": [
      "[I 2024-11-06 22:36:37,661] A new study created in memory with name: no-name-e56ad62c-9dec-499f-9761-c943b67a2a3b\n"
     ]
    },
    {
     "name": "stdout",
     "output_type": "stream",
     "text": [
      "Dataset: Dataset_41\n",
      "X_train_split shape: (384, 8)\n",
      "y_train_split shape: (384, 1)\n",
      "X_val shape: (96, 8)\n",
      "y_val shape: (96, 1)\n"
     ]
    },
    {
     "name": "stderr",
     "output_type": "stream",
     "text": [
      "[I 2024-11-06 22:36:38,555] Trial 0 finished with value: 0.8958333134651184 and parameters: {'n_units_1': 65, 'dropout_rate': 0.32098999063079975, 'n_units_2': 50}. Best is trial 0 with value: 0.8958333134651184.\n",
      "[I 2024-11-06 22:36:39,412] Trial 1 finished with value: 0.90625 and parameters: {'n_units_1': 66, 'dropout_rate': 0.4682355429752904, 'n_units_2': 99}. Best is trial 1 with value: 0.90625.\n",
      "[I 2024-11-06 22:36:40,265] Trial 2 finished with value: 0.90625 and parameters: {'n_units_1': 105, 'dropout_rate': 0.3405637253955105, 'n_units_2': 111}. Best is trial 1 with value: 0.90625.\n",
      "[I 2024-11-06 22:36:41,115] Trial 3 finished with value: 0.9166666865348816 and parameters: {'n_units_1': 113, 'dropout_rate': 0.32604255287211387, 'n_units_2': 97}. Best is trial 3 with value: 0.9166666865348816.\n",
      "[I 2024-11-06 22:36:41,957] Trial 4 finished with value: 0.90625 and parameters: {'n_units_1': 122, 'dropout_rate': 0.488317220451495, 'n_units_2': 51}. Best is trial 3 with value: 0.9166666865348816.\n",
      "[I 2024-11-06 22:36:42,807] Trial 5 finished with value: 0.8854166865348816 and parameters: {'n_units_1': 57, 'dropout_rate': 0.46046970385134317, 'n_units_2': 66}. Best is trial 3 with value: 0.9166666865348816.\n",
      "[I 2024-11-06 22:36:43,969] Trial 6 finished with value: 0.8958333134651184 and parameters: {'n_units_1': 77, 'dropout_rate': 0.377003877548814, 'n_units_2': 123}. Best is trial 3 with value: 0.9166666865348816.\n",
      "[I 2024-11-06 22:36:44,880] Trial 7 finished with value: 0.90625 and parameters: {'n_units_1': 126, 'dropout_rate': 0.28192909323861, 'n_units_2': 86}. Best is trial 3 with value: 0.9166666865348816.\n",
      "[I 2024-11-06 22:36:45,709] Trial 8 finished with value: 0.8854166865348816 and parameters: {'n_units_1': 97, 'dropout_rate': 0.45470465389429177, 'n_units_2': 44}. Best is trial 3 with value: 0.9166666865348816.\n",
      "[I 2024-11-06 22:36:46,542] Trial 9 finished with value: 0.90625 and parameters: {'n_units_1': 48, 'dropout_rate': 0.21674082661070362, 'n_units_2': 115}. Best is trial 3 with value: 0.9166666865348816.\n"
     ]
    },
    {
     "name": "stdout",
     "output_type": "stream",
     "text": [
      "\u001b[1m3/3\u001b[0m \u001b[32m━━━━━━━━━━━━━━━━━━━━\u001b[0m\u001b[37m\u001b[0m \u001b[1m0s\u001b[0m 735us/step\n",
      "Dataset: Dataset_41, Score: 0.7659\n",
      "\u001b[1m11/11\u001b[0m \u001b[32m━━━━━━━━━━━━━━━━━━━━\u001b[0m\u001b[37m\u001b[0m \u001b[1m0s\u001b[0m 2ms/step \n"
     ]
    },
    {
     "name": "stderr",
     "output_type": "stream",
     "text": [
      "[I 2024-11-06 22:36:48,101] A new study created in memory with name: no-name-1213604e-b147-471d-8a5d-7633eb0a0928\n"
     ]
    },
    {
     "name": "stdout",
     "output_type": "stream",
     "text": [
      "Dataset: Dataset_46\n",
      "X_train_split shape: (140, 11)\n",
      "y_train_split shape: (140, 1)\n",
      "X_val shape: (36, 11)\n",
      "y_val shape: (36, 1)\n"
     ]
    },
    {
     "name": "stderr",
     "output_type": "stream",
     "text": [
      "[I 2024-11-06 22:36:48,995] Trial 0 finished with value: 0.8888888955116272 and parameters: {'n_units_1': 62, 'dropout_rate': 0.34422331816082913, 'n_units_2': 81}. Best is trial 0 with value: 0.8888888955116272.\n",
      "[I 2024-11-06 22:36:49,873] Trial 1 finished with value: 0.9166666865348816 and parameters: {'n_units_1': 70, 'dropout_rate': 0.28638624337682866, 'n_units_2': 90}. Best is trial 1 with value: 0.9166666865348816.\n",
      "[I 2024-11-06 22:36:53,507] Trial 2 finished with value: 0.9166666865348816 and parameters: {'n_units_1': 45, 'dropout_rate': 0.24699243418367212, 'n_units_2': 49}. Best is trial 1 with value: 0.9166666865348816.\n",
      "[I 2024-11-06 22:36:55,049] Trial 3 finished with value: 0.9166666865348816 and parameters: {'n_units_1': 100, 'dropout_rate': 0.3755051140810974, 'n_units_2': 85}. Best is trial 1 with value: 0.9166666865348816.\n",
      "[I 2024-11-06 22:36:55,964] Trial 4 finished with value: 0.9166666865348816 and parameters: {'n_units_1': 87, 'dropout_rate': 0.4080587150144973, 'n_units_2': 73}. Best is trial 1 with value: 0.9166666865348816.\n",
      "[I 2024-11-06 22:36:56,890] Trial 5 finished with value: 0.9444444179534912 and parameters: {'n_units_1': 127, 'dropout_rate': 0.4416759567195303, 'n_units_2': 124}. Best is trial 5 with value: 0.9444444179534912.\n",
      "[I 2024-11-06 22:36:57,774] Trial 6 finished with value: 0.8611111044883728 and parameters: {'n_units_1': 71, 'dropout_rate': 0.3154123646148923, 'n_units_2': 89}. Best is trial 5 with value: 0.9444444179534912.\n",
      "[I 2024-11-06 22:36:58,634] Trial 7 finished with value: 0.9166666865348816 and parameters: {'n_units_1': 93, 'dropout_rate': 0.48493370908335875, 'n_units_2': 48}. Best is trial 5 with value: 0.9444444179534912.\n",
      "[I 2024-11-06 22:36:59,460] Trial 8 finished with value: 0.9444444179534912 and parameters: {'n_units_1': 64, 'dropout_rate': 0.28983385391790223, 'n_units_2': 72}. Best is trial 5 with value: 0.9444444179534912.\n",
      "[I 2024-11-06 22:37:00,337] Trial 9 finished with value: 0.9166666865348816 and parameters: {'n_units_1': 78, 'dropout_rate': 0.48460763867672224, 'n_units_2': 62}. Best is trial 5 with value: 0.9444444179534912.\n"
     ]
    },
    {
     "name": "stdout",
     "output_type": "stream",
     "text": [
      "\u001b[1m2/2\u001b[0m \u001b[32m━━━━━━━━━━━━━━━━━━━━\u001b[0m\u001b[37m\u001b[0m \u001b[1m0s\u001b[0m 12ms/step\n",
      "Dataset: Dataset_46, Score: 0.8960\n",
      "\u001b[1m4/4\u001b[0m \u001b[32m━━━━━━━━━━━━━━━━━━━━\u001b[0m\u001b[37m\u001b[0m \u001b[1m0s\u001b[0m 582us/step\n"
     ]
    },
    {
     "name": "stderr",
     "output_type": "stream",
     "text": [
      "[I 2024-11-06 22:37:01,830] A new study created in memory with name: no-name-9c8a1f03-061f-40ed-994c-d84da035dcbe\n"
     ]
    },
    {
     "name": "stdout",
     "output_type": "stream",
     "text": [
      "Dataset: Dataset_48\n",
      "X_train_split shape: (189, 24)\n",
      "y_train_split shape: (189, 1)\n",
      "X_val shape: (48, 24)\n",
      "y_val shape: (48, 1)\n"
     ]
    },
    {
     "name": "stderr",
     "output_type": "stream",
     "text": [
      "[I 2024-11-06 22:37:02,729] Trial 0 finished with value: 0.9166666865348816 and parameters: {'n_units_1': 124, 'dropout_rate': 0.21811166079147623, 'n_units_2': 115}. Best is trial 0 with value: 0.9166666865348816.\n",
      "[I 2024-11-06 22:37:03,583] Trial 1 finished with value: 0.8333333134651184 and parameters: {'n_units_1': 32, 'dropout_rate': 0.2556512384107182, 'n_units_2': 56}. Best is trial 0 with value: 0.9166666865348816.\n",
      "[I 2024-11-06 22:37:04,411] Trial 2 finished with value: 0.875 and parameters: {'n_units_1': 97, 'dropout_rate': 0.20191074024985414, 'n_units_2': 48}. Best is trial 0 with value: 0.9166666865348816.\n",
      "[I 2024-11-06 22:37:05,249] Trial 3 finished with value: 0.8333333134651184 and parameters: {'n_units_1': 72, 'dropout_rate': 0.4523823451826256, 'n_units_2': 113}. Best is trial 0 with value: 0.9166666865348816.\n",
      "[I 2024-11-06 22:37:06,071] Trial 4 finished with value: 0.875 and parameters: {'n_units_1': 93, 'dropout_rate': 0.3811066183561763, 'n_units_2': 48}. Best is trial 0 with value: 0.9166666865348816.\n",
      "[I 2024-11-06 22:37:06,897] Trial 5 finished with value: 0.8541666865348816 and parameters: {'n_units_1': 50, 'dropout_rate': 0.2800106235330349, 'n_units_2': 86}. Best is trial 0 with value: 0.9166666865348816.\n",
      "[I 2024-11-06 22:37:08,019] Trial 6 finished with value: 0.8958333134651184 and parameters: {'n_units_1': 45, 'dropout_rate': 0.4904249978337645, 'n_units_2': 38}. Best is trial 0 with value: 0.9166666865348816.\n",
      "[I 2024-11-06 22:37:08,914] Trial 7 finished with value: 0.8333333134651184 and parameters: {'n_units_1': 57, 'dropout_rate': 0.48347670517740726, 'n_units_2': 101}. Best is trial 0 with value: 0.9166666865348816.\n",
      "[I 2024-11-06 22:37:09,741] Trial 8 finished with value: 0.875 and parameters: {'n_units_1': 96, 'dropout_rate': 0.393700601170266, 'n_units_2': 45}. Best is trial 0 with value: 0.9166666865348816.\n",
      "[I 2024-11-06 22:37:10,569] Trial 9 finished with value: 0.8958333134651184 and parameters: {'n_units_1': 76, 'dropout_rate': 0.21532769645155142, 'n_units_2': 40}. Best is trial 0 with value: 0.9166666865348816.\n"
     ]
    },
    {
     "name": "stdout",
     "output_type": "stream",
     "text": [
      "\u001b[1m2/2\u001b[0m \u001b[32m━━━━━━━━━━━━━━━━━━━━\u001b[0m\u001b[37m\u001b[0m \u001b[1m0s\u001b[0m 12ms/step\n",
      "Dataset: Dataset_48, Score: 0.8818\n",
      "\u001b[1m5/5\u001b[0m \u001b[32m━━━━━━━━━━━━━━━━━━━━\u001b[0m\u001b[37m\u001b[0m \u001b[1m0s\u001b[0m 751us/step\n"
     ]
    },
    {
     "name": "stderr",
     "output_type": "stream",
     "text": [
      "[I 2024-11-06 22:37:12,144] A new study created in memory with name: no-name-89a1ebbe-8e4f-4bf3-aef7-c76610d8d14a\n"
     ]
    },
    {
     "name": "stdout",
     "output_type": "stream",
     "text": [
      "Dataset: Dataset_14\n",
      "X_train_split shape: (144, 44)\n",
      "y_train_split shape: (144, 1)\n",
      "X_val shape: (37, 44)\n",
      "y_val shape: (37, 1)\n"
     ]
    },
    {
     "name": "stderr",
     "output_type": "stream",
     "text": [
      "[I 2024-11-06 22:37:13,106] Trial 0 finished with value: 0.9189189076423645 and parameters: {'n_units_1': 75, 'dropout_rate': 0.417722141993245, 'n_units_2': 46}. Best is trial 0 with value: 0.9189189076423645.\n",
      "[I 2024-11-06 22:37:13,922] Trial 1 finished with value: 0.9459459185600281 and parameters: {'n_units_1': 59, 'dropout_rate': 0.4381911516610559, 'n_units_2': 100}. Best is trial 1 with value: 0.9459459185600281.\n",
      "[I 2024-11-06 22:37:14,739] Trial 2 finished with value: 0.9189189076423645 and parameters: {'n_units_1': 43, 'dropout_rate': 0.36698293744435223, 'n_units_2': 51}. Best is trial 1 with value: 0.9459459185600281.\n",
      "[I 2024-11-06 22:37:15,556] Trial 3 finished with value: 0.8918918967247009 and parameters: {'n_units_1': 83, 'dropout_rate': 0.4661921266354322, 'n_units_2': 71}. Best is trial 1 with value: 0.9459459185600281.\n",
      "[I 2024-11-06 22:37:16,370] Trial 4 finished with value: 0.9189189076423645 and parameters: {'n_units_1': 74, 'dropout_rate': 0.22975643129532405, 'n_units_2': 101}. Best is trial 1 with value: 0.9459459185600281.\n",
      "[I 2024-11-06 22:37:17,178] Trial 5 finished with value: 0.8918918967247009 and parameters: {'n_units_1': 67, 'dropout_rate': 0.20591589979136557, 'n_units_2': 66}. Best is trial 1 with value: 0.9459459185600281.\n",
      "[I 2024-11-06 22:37:18,190] Trial 6 finished with value: 0.9189189076423645 and parameters: {'n_units_1': 103, 'dropout_rate': 0.2754087066589521, 'n_units_2': 46}. Best is trial 1 with value: 0.9459459185600281.\n",
      "[I 2024-11-06 22:37:19,065] Trial 7 finished with value: 0.9729729890823364 and parameters: {'n_units_1': 57, 'dropout_rate': 0.3289849578865782, 'n_units_2': 97}. Best is trial 7 with value: 0.9729729890823364.\n",
      "[I 2024-11-06 22:37:19,886] Trial 8 finished with value: 0.9459459185600281 and parameters: {'n_units_1': 57, 'dropout_rate': 0.32859350291506945, 'n_units_2': 89}. Best is trial 7 with value: 0.9729729890823364.\n",
      "[I 2024-11-06 22:37:20,696] Trial 9 finished with value: 0.9189189076423645 and parameters: {'n_units_1': 93, 'dropout_rate': 0.22699436305869347, 'n_units_2': 37}. Best is trial 7 with value: 0.9729729890823364.\n"
     ]
    },
    {
     "name": "stdout",
     "output_type": "stream",
     "text": [
      "\u001b[1m2/2\u001b[0m \u001b[32m━━━━━━━━━━━━━━━━━━━━\u001b[0m\u001b[37m\u001b[0m \u001b[1m0s\u001b[0m 12ms/step\n",
      "Dataset: Dataset_14, Score: 0.9491\n",
      "\u001b[1m4/4\u001b[0m \u001b[32m━━━━━━━━━━━━━━━━━━━━\u001b[0m\u001b[37m\u001b[0m \u001b[1m0s\u001b[0m 529us/step\n"
     ]
    },
    {
     "name": "stderr",
     "output_type": "stream",
     "text": [
      "[I 2024-11-06 22:37:22,143] A new study created in memory with name: no-name-8346d0eb-4234-4d07-aa98-2a45b1628421\n"
     ]
    },
    {
     "name": "stdout",
     "output_type": "stream",
     "text": [
      "Dataset: Dataset_13\n",
      "X_train_split shape: (144, 42)\n",
      "y_train_split shape: (144, 1)\n",
      "X_val shape: (37, 42)\n",
      "y_val shape: (37, 1)\n"
     ]
    },
    {
     "name": "stderr",
     "output_type": "stream",
     "text": [
      "[I 2024-11-06 22:37:23,093] Trial 0 finished with value: 0.8648648858070374 and parameters: {'n_units_1': 100, 'dropout_rate': 0.37966508823082573, 'n_units_2': 95}. Best is trial 0 with value: 0.8648648858070374.\n",
      "[I 2024-11-06 22:37:23,904] Trial 1 finished with value: 0.8648648858070374 and parameters: {'n_units_1': 55, 'dropout_rate': 0.377503097855933, 'n_units_2': 124}. Best is trial 0 with value: 0.8648648858070374.\n",
      "[I 2024-11-06 22:37:24,711] Trial 2 finished with value: 0.8918918967247009 and parameters: {'n_units_1': 105, 'dropout_rate': 0.343507740898723, 'n_units_2': 101}. Best is trial 2 with value: 0.8918918967247009.\n",
      "[I 2024-11-06 22:37:25,522] Trial 3 finished with value: 0.837837815284729 and parameters: {'n_units_1': 97, 'dropout_rate': 0.31800191435724606, 'n_units_2': 38}. Best is trial 2 with value: 0.8918918967247009.\n",
      "[I 2024-11-06 22:37:26,330] Trial 4 finished with value: 0.8918918967247009 and parameters: {'n_units_1': 77, 'dropout_rate': 0.42404256483452135, 'n_units_2': 59}. Best is trial 2 with value: 0.8918918967247009.\n",
      "[I 2024-11-06 22:37:27,136] Trial 5 finished with value: 0.8648648858070374 and parameters: {'n_units_1': 104, 'dropout_rate': 0.37464973207966945, 'n_units_2': 110}. Best is trial 2 with value: 0.8918918967247009.\n",
      "[I 2024-11-06 22:37:27,950] Trial 6 finished with value: 0.8648648858070374 and parameters: {'n_units_1': 120, 'dropout_rate': 0.23597858256139023, 'n_units_2': 70}. Best is trial 2 with value: 0.8918918967247009.\n",
      "[I 2024-11-06 22:37:29,015] Trial 7 finished with value: 0.8108108043670654 and parameters: {'n_units_1': 55, 'dropout_rate': 0.3427914138562846, 'n_units_2': 48}. Best is trial 2 with value: 0.8918918967247009.\n",
      "[I 2024-11-06 22:37:29,889] Trial 8 finished with value: 0.8918918967247009 and parameters: {'n_units_1': 107, 'dropout_rate': 0.27946330156607396, 'n_units_2': 119}. Best is trial 2 with value: 0.8918918967247009.\n",
      "[I 2024-11-06 22:37:30,703] Trial 9 finished with value: 0.7567567825317383 and parameters: {'n_units_1': 37, 'dropout_rate': 0.254500561482088, 'n_units_2': 92}. Best is trial 2 with value: 0.8918918967247009.\n"
     ]
    },
    {
     "name": "stdout",
     "output_type": "stream",
     "text": [
      "\u001b[1m2/2\u001b[0m \u001b[32m━━━━━━━━━━━━━━━━━━━━\u001b[0m\u001b[37m\u001b[0m \u001b[1m0s\u001b[0m 12ms/step\n",
      "Dataset: Dataset_13, Score: 0.7895\n",
      "\u001b[1m4/4\u001b[0m \u001b[32m━━━━━━━━━━━━━━━━━━━━\u001b[0m\u001b[37m\u001b[0m \u001b[1m0s\u001b[0m 641us/step\n"
     ]
    },
    {
     "name": "stderr",
     "output_type": "stream",
     "text": [
      "[I 2024-11-06 22:37:32,311] A new study created in memory with name: no-name-142f151b-6aed-47ec-ab41-4ef7a17e53ba\n"
     ]
    },
    {
     "name": "stdout",
     "output_type": "stream",
     "text": [
      "Dataset: Dataset_25\n",
      "X_train_split shape: (108, 5)\n",
      "y_train_split shape: (108, 1)\n",
      "X_val shape: (27, 5)\n",
      "y_val shape: (27, 1)\n"
     ]
    },
    {
     "name": "stderr",
     "output_type": "stream",
     "text": [
      "[I 2024-11-06 22:37:33,141] Trial 0 finished with value: 0.7037037014961243 and parameters: {'n_units_1': 126, 'dropout_rate': 0.3615909542325347, 'n_units_2': 60}. Best is trial 0 with value: 0.7037037014961243.\n",
      "[I 2024-11-06 22:37:33,939] Trial 1 finished with value: 0.7407407164573669 and parameters: {'n_units_1': 60, 'dropout_rate': 0.21279210765942624, 'n_units_2': 91}. Best is trial 1 with value: 0.7407407164573669.\n",
      "[I 2024-11-06 22:37:34,734] Trial 2 finished with value: 0.7407407164573669 and parameters: {'n_units_1': 70, 'dropout_rate': 0.30868899231157015, 'n_units_2': 75}. Best is trial 1 with value: 0.7407407164573669.\n",
      "[I 2024-11-06 22:37:35,531] Trial 3 finished with value: 0.7037037014961243 and parameters: {'n_units_1': 77, 'dropout_rate': 0.4571376752359113, 'n_units_2': 72}. Best is trial 1 with value: 0.7407407164573669.\n",
      "[I 2024-11-06 22:37:36,324] Trial 4 finished with value: 0.7037037014961243 and parameters: {'n_units_1': 118, 'dropout_rate': 0.4755889611882616, 'n_units_2': 93}. Best is trial 1 with value: 0.7407407164573669.\n",
      "[I 2024-11-06 22:37:37,142] Trial 5 finished with value: 0.7037037014961243 and parameters: {'n_units_1': 45, 'dropout_rate': 0.27892814933522264, 'n_units_2': 100}. Best is trial 1 with value: 0.7407407164573669.\n",
      "[I 2024-11-06 22:37:38,001] Trial 6 finished with value: 0.7037037014961243 and parameters: {'n_units_1': 61, 'dropout_rate': 0.27385794046091755, 'n_units_2': 62}. Best is trial 1 with value: 0.7407407164573669.\n",
      "[I 2024-11-06 22:37:38,963] Trial 7 finished with value: 0.7407407164573669 and parameters: {'n_units_1': 40, 'dropout_rate': 0.4834448453904548, 'n_units_2': 72}. Best is trial 1 with value: 0.7407407164573669.\n",
      "[I 2024-11-06 22:37:39,758] Trial 8 finished with value: 0.6666666865348816 and parameters: {'n_units_1': 46, 'dropout_rate': 0.23025833331958073, 'n_units_2': 75}. Best is trial 1 with value: 0.7407407164573669.\n",
      "[I 2024-11-06 22:37:40,559] Trial 9 finished with value: 0.7037037014961243 and parameters: {'n_units_1': 97, 'dropout_rate': 0.3825720024759359, 'n_units_2': 83}. Best is trial 1 with value: 0.7407407164573669.\n"
     ]
    },
    {
     "name": "stdout",
     "output_type": "stream",
     "text": [
      "\u001b[1m1/1\u001b[0m \u001b[32m━━━━━━━━━━━━━━━━━━━━\u001b[0m\u001b[37m\u001b[0m \u001b[1m0s\u001b[0m 18ms/step\n",
      "Dataset: Dataset_25, Score: 0.7562\n",
      "\u001b[1m3/3\u001b[0m \u001b[32m━━━━━━━━━━━━━━━━━━━━\u001b[0m\u001b[37m\u001b[0m \u001b[1m0s\u001b[0m 718us/step\n"
     ]
    },
    {
     "name": "stderr",
     "output_type": "stream",
     "text": [
      "[I 2024-11-06 22:37:41,976] A new study created in memory with name: no-name-3d0118a1-25aa-4330-8bf7-ff6c6358eb00\n"
     ]
    },
    {
     "name": "stdout",
     "output_type": "stream",
     "text": [
      "Dataset: Dataset_22\n",
      "X_train_split shape: (102, 7)\n",
      "y_train_split shape: (102, 1)\n",
      "X_val shape: (26, 7)\n",
      "y_val shape: (26, 1)\n"
     ]
    },
    {
     "name": "stderr",
     "output_type": "stream",
     "text": [
      "[I 2024-11-06 22:37:42,969] Trial 0 finished with value: 0.7692307829856873 and parameters: {'n_units_1': 83, 'dropout_rate': 0.3556830174924749, 'n_units_2': 33}. Best is trial 0 with value: 0.7692307829856873.\n",
      "[I 2024-11-06 22:37:43,787] Trial 1 finished with value: 0.7692307829856873 and parameters: {'n_units_1': 84, 'dropout_rate': 0.42028472790245897, 'n_units_2': 125}. Best is trial 0 with value: 0.7692307829856873.\n",
      "[I 2024-11-06 22:37:44,591] Trial 2 finished with value: 0.7307692170143127 and parameters: {'n_units_1': 62, 'dropout_rate': 0.2720904634861837, 'n_units_2': 37}. Best is trial 0 with value: 0.7692307829856873.\n",
      "[I 2024-11-06 22:37:45,393] Trial 3 finished with value: 0.7692307829856873 and parameters: {'n_units_1': 54, 'dropout_rate': 0.4229709251741863, 'n_units_2': 127}. Best is trial 0 with value: 0.7692307829856873.\n",
      "[I 2024-11-06 22:37:46,196] Trial 4 finished with value: 0.7692307829856873 and parameters: {'n_units_1': 73, 'dropout_rate': 0.2701620477320496, 'n_units_2': 32}. Best is trial 0 with value: 0.7692307829856873.\n",
      "[I 2024-11-06 22:37:47,000] Trial 5 finished with value: 0.7692307829856873 and parameters: {'n_units_1': 82, 'dropout_rate': 0.37211021448244164, 'n_units_2': 66}. Best is trial 0 with value: 0.7692307829856873.\n",
      "[I 2024-11-06 22:37:47,905] Trial 6 finished with value: 0.7692307829856873 and parameters: {'n_units_1': 66, 'dropout_rate': 0.3610005647363536, 'n_units_2': 39}. Best is trial 0 with value: 0.7692307829856873.\n",
      "[I 2024-11-06 22:37:48,899] Trial 7 finished with value: 0.7307692170143127 and parameters: {'n_units_1': 118, 'dropout_rate': 0.4897361251983528, 'n_units_2': 125}. Best is trial 0 with value: 0.7692307829856873.\n",
      "[I 2024-11-06 22:37:49,712] Trial 8 finished with value: 0.7307692170143127 and parameters: {'n_units_1': 49, 'dropout_rate': 0.2768519816016392, 'n_units_2': 36}. Best is trial 0 with value: 0.7692307829856873.\n",
      "[I 2024-11-06 22:37:50,500] Trial 9 finished with value: 0.7692307829856873 and parameters: {'n_units_1': 67, 'dropout_rate': 0.24571641171576605, 'n_units_2': 98}. Best is trial 0 with value: 0.7692307829856873.\n"
     ]
    },
    {
     "name": "stdout",
     "output_type": "stream",
     "text": [
      "\u001b[1m1/1\u001b[0m \u001b[32m━━━━━━━━━━━━━━━━━━━━\u001b[0m\u001b[37m\u001b[0m \u001b[1m0s\u001b[0m 18ms/step\n",
      "Dataset: Dataset_22, Score: 0.6459\n",
      "\u001b[1m3/3\u001b[0m \u001b[32m━━━━━━━━━━━━━━━━━━━━\u001b[0m\u001b[37m\u001b[0m \u001b[1m0s\u001b[0m 971us/step\n"
     ]
    },
    {
     "name": "stderr",
     "output_type": "stream",
     "text": [
      "[I 2024-11-06 22:37:51,903] A new study created in memory with name: no-name-b14886a9-12bf-4c40-80ad-60596b6c5973\n"
     ]
    },
    {
     "name": "stdout",
     "output_type": "stream",
     "text": [
      "Dataset: Dataset_49\n",
      "X_train_split shape: (460, 14)\n",
      "y_train_split shape: (460, 1)\n",
      "X_val shape: (115, 14)\n",
      "y_val shape: (115, 1)\n"
     ]
    },
    {
     "name": "stderr",
     "output_type": "stream",
     "text": [
      "[I 2024-11-06 22:37:52,943] Trial 0 finished with value: 0.9130434989929199 and parameters: {'n_units_1': 79, 'dropout_rate': 0.2995290537827968, 'n_units_2': 116}. Best is trial 0 with value: 0.9130434989929199.\n",
      "[I 2024-11-06 22:37:53,859] Trial 1 finished with value: 0.9304347634315491 and parameters: {'n_units_1': 45, 'dropout_rate': 0.3002436450662969, 'n_units_2': 93}. Best is trial 1 with value: 0.9304347634315491.\n",
      "[I 2024-11-06 22:37:54,820] Trial 2 finished with value: 0.9217391014099121 and parameters: {'n_units_1': 102, 'dropout_rate': 0.22440010935431998, 'n_units_2': 128}. Best is trial 1 with value: 0.9304347634315491.\n",
      "[I 2024-11-06 22:37:55,729] Trial 3 finished with value: 0.9130434989929199 and parameters: {'n_units_1': 63, 'dropout_rate': 0.3725541477973357, 'n_units_2': 47}. Best is trial 1 with value: 0.9304347634315491.\n",
      "[I 2024-11-06 22:37:56,651] Trial 4 finished with value: 0.9304347634315491 and parameters: {'n_units_1': 84, 'dropout_rate': 0.2854646544735615, 'n_units_2': 63}. Best is trial 1 with value: 0.9304347634315491.\n",
      "[I 2024-11-06 22:37:57,830] Trial 5 finished with value: 0.9130434989929199 and parameters: {'n_units_1': 119, 'dropout_rate': 0.3917726457739789, 'n_units_2': 33}. Best is trial 1 with value: 0.9304347634315491.\n",
      "[I 2024-11-06 22:37:58,733] Trial 6 finished with value: 0.9217391014099121 and parameters: {'n_units_1': 50, 'dropout_rate': 0.42261745229342557, 'n_units_2': 46}. Best is trial 1 with value: 0.9304347634315491.\n",
      "[I 2024-11-06 22:37:59,641] Trial 7 finished with value: 0.9217391014099121 and parameters: {'n_units_1': 69, 'dropout_rate': 0.3202393766265231, 'n_units_2': 66}. Best is trial 1 with value: 0.9304347634315491.\n",
      "[I 2024-11-06 22:38:00,547] Trial 8 finished with value: 0.939130425453186 and parameters: {'n_units_1': 60, 'dropout_rate': 0.45855980327548307, 'n_units_2': 43}. Best is trial 8 with value: 0.939130425453186.\n",
      "[I 2024-11-06 22:38:01,447] Trial 9 finished with value: 0.904347836971283 and parameters: {'n_units_1': 72, 'dropout_rate': 0.4535101231554666, 'n_units_2': 70}. Best is trial 8 with value: 0.939130425453186.\n"
     ]
    },
    {
     "name": "stdout",
     "output_type": "stream",
     "text": [
      "\u001b[1m4/4\u001b[0m \u001b[32m━━━━━━━━━━━━━━━━━━━━\u001b[0m\u001b[37m\u001b[0m \u001b[1m0s\u001b[0m 4ms/step \n",
      "Dataset: Dataset_49, Score: 0.9360\n",
      "\u001b[1m12/12\u001b[0m \u001b[32m━━━━━━━━━━━━━━━━━━━━\u001b[0m\u001b[37m\u001b[0m \u001b[1m0s\u001b[0m 435us/step\n"
     ]
    },
    {
     "name": "stderr",
     "output_type": "stream",
     "text": [
      "[I 2024-11-06 22:38:03,135] A new study created in memory with name: no-name-47495751-f3d5-4305-a664-e55c388cae95\n"
     ]
    },
    {
     "name": "stdout",
     "output_type": "stream",
     "text": [
      "Dataset: Dataset_47\n",
      "X_train_split shape: (68, 39)\n",
      "y_train_split shape: (68, 1)\n",
      "X_val shape: (18, 39)\n",
      "y_val shape: (18, 1)\n"
     ]
    },
    {
     "name": "stderr",
     "output_type": "stream",
     "text": [
      "[I 2024-11-06 22:38:04,106] Trial 0 finished with value: 0.7777777910232544 and parameters: {'n_units_1': 122, 'dropout_rate': 0.266917749089327, 'n_units_2': 82}. Best is trial 0 with value: 0.7777777910232544.\n",
      "[I 2024-11-06 22:38:04,906] Trial 1 finished with value: 0.7777777910232544 and parameters: {'n_units_1': 128, 'dropout_rate': 0.22674439717392444, 'n_units_2': 91}. Best is trial 0 with value: 0.7777777910232544.\n",
      "[I 2024-11-06 22:38:05,710] Trial 2 finished with value: 0.7777777910232544 and parameters: {'n_units_1': 120, 'dropout_rate': 0.2712454247702964, 'n_units_2': 82}. Best is trial 0 with value: 0.7777777910232544.\n",
      "[I 2024-11-06 22:38:10,200] Trial 3 finished with value: 0.8333333134651184 and parameters: {'n_units_1': 44, 'dropout_rate': 0.27038877883582385, 'n_units_2': 79}. Best is trial 3 with value: 0.8333333134651184.\n",
      "[I 2024-11-06 22:38:11,122] Trial 4 finished with value: 0.7777777910232544 and parameters: {'n_units_1': 84, 'dropout_rate': 0.40973157192384263, 'n_units_2': 93}. Best is trial 3 with value: 0.8333333134651184.\n",
      "[I 2024-11-06 22:38:12,005] Trial 5 finished with value: 0.7777777910232544 and parameters: {'n_units_1': 68, 'dropout_rate': 0.45749203184736503, 'n_units_2': 78}. Best is trial 3 with value: 0.8333333134651184.\n",
      "[I 2024-11-06 22:38:12,933] Trial 6 finished with value: 0.7777777910232544 and parameters: {'n_units_1': 111, 'dropout_rate': 0.45484727102068606, 'n_units_2': 93}. Best is trial 3 with value: 0.8333333134651184.\n",
      "[I 2024-11-06 22:38:13,754] Trial 7 finished with value: 0.8333333134651184 and parameters: {'n_units_1': 111, 'dropout_rate': 0.23146601478989895, 'n_units_2': 38}. Best is trial 3 with value: 0.8333333134651184.\n",
      "[I 2024-11-06 22:38:14,561] Trial 8 finished with value: 0.8333333134651184 and parameters: {'n_units_1': 44, 'dropout_rate': 0.2777550744700152, 'n_units_2': 100}. Best is trial 3 with value: 0.8333333134651184.\n",
      "[I 2024-11-06 22:38:15,384] Trial 9 finished with value: 0.7777777910232544 and parameters: {'n_units_1': 106, 'dropout_rate': 0.3830646382001955, 'n_units_2': 100}. Best is trial 3 with value: 0.8333333134651184.\n"
     ]
    },
    {
     "name": "stdout",
     "output_type": "stream",
     "text": [
      "\u001b[1m1/1\u001b[0m \u001b[32m━━━━━━━━━━━━━━━━━━━━\u001b[0m\u001b[37m\u001b[0m \u001b[1m0s\u001b[0m 19ms/step\n",
      "Dataset: Dataset_47, Score: 0.6881\n",
      "\u001b[1m2/2\u001b[0m \u001b[32m━━━━━━━━━━━━━━━━━━━━\u001b[0m\u001b[37m\u001b[0m \u001b[1m0s\u001b[0m 986us/step\n"
     ]
    },
    {
     "name": "stderr",
     "output_type": "stream",
     "text": [
      "[I 2024-11-06 22:38:16,838] A new study created in memory with name: no-name-71d343e9-90fa-4d9c-8c9a-3e416bc6bc45\n"
     ]
    },
    {
     "name": "stdout",
     "output_type": "stream",
     "text": [
      "Dataset: Dataset_40\n",
      "X_train_split shape: (368, 7)\n",
      "y_train_split shape: (368, 1)\n",
      "X_val shape: (92, 7)\n",
      "y_val shape: (92, 1)\n"
     ]
    },
    {
     "name": "stderr",
     "output_type": "stream",
     "text": [
      "[I 2024-11-06 22:38:17,748] Trial 0 finished with value: 0.782608687877655 and parameters: {'n_units_1': 113, 'dropout_rate': 0.46112316264687736, 'n_units_2': 116}. Best is trial 0 with value: 0.782608687877655.\n",
      "[I 2024-11-06 22:38:18,734] Trial 1 finished with value: 0.782608687877655 and parameters: {'n_units_1': 111, 'dropout_rate': 0.3944344136486347, 'n_units_2': 94}. Best is trial 0 with value: 0.782608687877655.\n",
      "[I 2024-11-06 22:38:19,636] Trial 2 finished with value: 0.79347825050354 and parameters: {'n_units_1': 115, 'dropout_rate': 0.2937958928576497, 'n_units_2': 112}. Best is trial 2 with value: 0.79347825050354.\n",
      "[I 2024-11-06 22:38:20,533] Trial 3 finished with value: 0.782608687877655 and parameters: {'n_units_1': 84, 'dropout_rate': 0.3664061134543583, 'n_units_2': 88}. Best is trial 2 with value: 0.79347825050354.\n",
      "[I 2024-11-06 22:38:21,433] Trial 4 finished with value: 0.77173912525177 and parameters: {'n_units_1': 100, 'dropout_rate': 0.4709582983722523, 'n_units_2': 128}. Best is trial 2 with value: 0.79347825050354.\n",
      "[I 2024-11-06 22:38:22,326] Trial 5 finished with value: 0.77173912525177 and parameters: {'n_units_1': 54, 'dropout_rate': 0.4750398552603139, 'n_units_2': 63}. Best is trial 2 with value: 0.79347825050354.\n",
      "[I 2024-11-06 22:38:23,538] Trial 6 finished with value: 0.79347825050354 and parameters: {'n_units_1': 99, 'dropout_rate': 0.39577771390844335, 'n_units_2': 45}. Best is trial 2 with value: 0.79347825050354.\n",
      "[I 2024-11-06 22:38:24,430] Trial 7 finished with value: 0.77173912525177 and parameters: {'n_units_1': 66, 'dropout_rate': 0.2880418473686967, 'n_units_2': 64}. Best is trial 2 with value: 0.79347825050354.\n",
      "[I 2024-11-06 22:38:25,309] Trial 8 finished with value: 0.79347825050354 and parameters: {'n_units_1': 101, 'dropout_rate': 0.36564981059187973, 'n_units_2': 123}. Best is trial 2 with value: 0.79347825050354.\n",
      "[I 2024-11-06 22:38:26,193] Trial 9 finished with value: 0.760869562625885 and parameters: {'n_units_1': 127, 'dropout_rate': 0.37783687146522776, 'n_units_2': 127}. Best is trial 2 with value: 0.79347825050354.\n"
     ]
    },
    {
     "name": "stdout",
     "output_type": "stream",
     "text": [
      "\u001b[1m3/3\u001b[0m \u001b[32m━━━━━━━━━━━━━━━━━━━━\u001b[0m\u001b[37m\u001b[0m \u001b[1m0s\u001b[0m 7ms/step\n",
      "Dataset: Dataset_40, Score: 0.7195\n",
      "\u001b[1m10/10\u001b[0m \u001b[32m━━━━━━━━━━━━━━━━━━━━\u001b[0m\u001b[37m\u001b[0m \u001b[1m0s\u001b[0m 423us/step\n"
     ]
    }
   ],
   "source": [
    "# Initialize lists to store summary metrics for all datasets\n",
    "summary_metrics = []\n",
    "\n",
    "# Loop through each dataset folder\n",
    "for dataset in dataset_folders:\n",
    "    dataset_path = os.path.join(base_path, dataset)\n",
    "\n",
    "    # Load data\n",
    "    X_train = pd.read_csv(os.path.join(dataset_path, 'X_train.csv'))\n",
    "    y_train = pd.read_csv(os.path.join(dataset_path, 'y_train.csv'))\n",
    "    X_test = pd.read_csv(os.path.join(dataset_path, 'X_test.csv'))\n",
    "\n",
    "    # Step 1: Standardize the feature values\n",
    "    scaler = StandardScaler()\n",
    "    X_train_scaled = scaler.fit_transform(X_train)\n",
    "    X_test_scaled = scaler.transform(X_test)\n",
    "\n",
    "    # Step 2: Dimensionality Reduction using PCA (keep 95% variance)\n",
    "    pca = PCA(n_components=0.95)\n",
    "    X_train_pca = pca.fit_transform(X_train_scaled)\n",
    "    X_test_pca = pca.transform(X_test_scaled)\n",
    "\n",
    "    # Combine PCA-transformed features with the target\n",
    "    X_train_pca_df = pd.DataFrame(X_train_pca, columns=[f'PC_{i+1}' for i in range(X_train_pca.shape[1])])\n",
    "    X_train_combined = pd.concat([X_train_pca_df, y_train], axis=1)\n",
    "\n",
    "    # Train Test Split\n",
    "    X_train_split, X_val, y_train_split, y_val = train_test_split(X_train_pca, y_train, test_size=0.2, random_state=42)\n",
    "\n",
    "    # Verify data shapes\n",
    "    print(f\"Dataset: {dataset}\")\n",
    "    print(\"X_train_split shape:\", X_train_split.shape)\n",
    "    print(\"y_train_split shape:\", y_train_split.shape)\n",
    "    print(\"X_val shape:\", X_val.shape)\n",
    "    print(\"y_val shape:\", y_val.shape)\n",
    "\n",
    "    # Hyperparameter Tuning with Optuna\n",
    "    def objective(trial):\n",
    "        try:\n",
    "            model = Sequential()\n",
    "            model.add(Dense(trial.suggest_int('n_units_1', 32, 128), input_dim=X_train_split.shape[1], activation='relu'))\n",
    "            model.add(Dropout(trial.suggest_float('dropout_rate', 0.2, 0.5)))\n",
    "            model.add(Dense(trial.suggest_int('n_units_2', 32, 128), activation='relu'))\n",
    "            model.add(Dropout(trial.suggest_float('dropout_rate', 0.2, 0.5)))\n",
    "            model.add(Dense(1, activation='sigmoid'))\n",
    "\n",
    "            model.compile(optimizer='adam', loss='binary_crossentropy', metrics=['accuracy'])\n",
    "\n",
    "            history = model.fit(X_train_split, y_train_split, validation_data=(X_val, y_val), epochs=20, batch_size=32, verbose=0)\n",
    "            val_accuracy = max(history.history['val_accuracy'])\n",
    "            return val_accuracy\n",
    "        except Exception as e:\n",
    "            print(f\"Trial failed due to: {e}\")\n",
    "            return None\n",
    "\n",
    "    study = optuna.create_study(direction='maximize')\n",
    "    study.optimize(objective, n_trials=10)\n",
    "\n",
    "    # Train Final Model with Best Parameters\n",
    "    best_params = study.best_params\n",
    "    model = Sequential()\n",
    "    model.add(Dense(best_params['n_units_1'], input_dim=X_train_split.shape[1], activation='relu'))\n",
    "    model.add(Dropout(best_params['dropout_rate']))\n",
    "    model.add(Dense(best_params['n_units_2'], activation='relu'))\n",
    "    model.add(Dropout(best_params['dropout_rate']))\n",
    "    model.add(Dense(1, activation='sigmoid'))\n",
    "\n",
    "    model.compile(optimizer='adam', loss='binary_crossentropy', metrics=['accuracy'])\n",
    "\n",
    "    history = model.fit(X_train_split, y_train_split, validation_data=(X_val, y_val), epochs=50, batch_size=32, verbose=0)\n",
    "\n",
    "    # Evaluate the Model\n",
    "    y_val_pred = (model.predict(X_val) > 0.5).astype(int)\n",
    "    accuracy = accuracy_score(y_val, y_val_pred)\n",
    "    precision = precision_score(y_val, y_val_pred)\n",
    "    f1 = f1_score(y_val, y_val_pred)\n",
    "\n",
    "    # Custom Score\n",
    "    score = accuracy * 0.3 + precision * 0.4 + f1 * 0.3\n",
    "    print(f\"Dataset: {dataset}, Score: {score:.4f}\")\n",
    "\n",
    "    # Store metrics for summary\n",
    "    summary_metrics.append({\n",
    "        'Dataset': dataset,\n",
    "        'Accuracy': accuracy,\n",
    "        'Precision': precision,\n",
    "        'F1 Score': f1,\n",
    "        'Score': score\n",
    "    })\n",
    "\n",
    "    # Inference on Test Set\n",
    "    y_test_pred = model.predict(X_test_pca)\n",
    "    y_test_pred_percentage = y_test_pred.flatten()  # Keep values between 0.0 and 1.0 for probability of 1\n",
    "\n",
    "    # Save Predictions\n",
    "    y_predict_path = os.path.join(dataset_path, 'y_predict.csv')\n",
    "    pd.DataFrame({'Prediction': y_test_pred_percentage}).to_csv(y_predict_path, index=False)\n"
   ]
  },
  {
   "cell_type": "code",
   "execution_count": 4,
   "id": "66b8a084",
   "metadata": {},
   "outputs": [
    {
     "data": {
      "image/png": "[encoded data removed]",
      "text/plain": [
       "<Figure size 1500x1000 with 4 Axes>"
      ]
     },
     "metadata": {},
     "output_type": "display_data"
    }
   ],
   "source": [
    "# Visualization Summary Chart for All Datasets\n",
    "summary_df = pd.DataFrame(summary_metrics)\n",
    "plt.figure(figsize=(15, 10))\n",
    "\n",
    "plt.subplot(2, 2, 1)\n",
    "sns.barplot(data=summary_df, x='Dataset', y='Accuracy')\n",
    "plt.title('Accuracy for All Datasets')\n",
    "plt.xticks(rotation=90)\n",
    "\n",
    "plt.subplot(2, 2, 2)\n",
    "sns.barplot(data=summary_df, x='Dataset', y='Precision')\n",
    "plt.title('Precision for All Datasets')\n",
    "plt.xticks(rotation=90)\n",
    "\n",
    "plt.subplot(2, 2, 3)\n",
    "sns.barplot(data=summary_df, x='Dataset', y='F1 Score')\n",
    "plt.title('F1 Score for All Datasets')\n",
    "plt.xticks(rotation=90)\n",
    "\n",
    "plt.subplot(2, 2, 4)\n",
    "sns.barplot(data=summary_df, x='Dataset', y='Score')\n",
    "plt.title('Custom Score for All Datasets')\n",
    "plt.xticks(rotation=90)\n",
    "\n",
    "plt.tight_layout()\n",
    "plt.show()\n"
   ]
  }
 ],
 "metadata": {
  "kernelspec": {
   "display_name": ".venv",
   "language": "python",
   "name": "python3"
  },
  "language_info": {
   "codemirror_mode": {
    "name": "ipython",
    "version": 3
   },
   "file_extension": ".py",
   "mimetype": "text/x-python",
   "name": "python",
   "nbconvert_exporter": "python",
   "pygments_lexer": "ipython3",
   "version": "3.9.6"
  }
 },
 "nbformat": 4,
 "nbformat_minor": 5
}
