{
 "cells": [
  {
   "cell_type": "markdown",
   "id": "0063ef13",
   "metadata": {},
   "source": [
    "# Binary Classification Model Training Notebook with XGBoost (Updated)"
   ]
  },
  {
   "cell_type": "code",
   "execution_count": 1,
   "id": "a455b778",
   "metadata": {},
   "outputs": [
    {
     "data": {
      "text/plain": [
       "(   Feature_1  Feature_2  Feature_3  Feature_4  Feature_5  Feature_6  \\\n",
       " 0  -0.659247  -0.083739  -0.566116  -0.084240  -0.089862  -0.462229   \n",
       " 1   0.196560   0.184938   0.347867   0.229415   0.803588   0.618597   \n",
       " 2  -0.383980   0.631936   1.084821   0.632012   1.167168   1.153074   \n",
       " 3   0.962083  -0.270897  -0.566116  -0.271678   0.406406   0.618597   \n",
       " 4  -0.083654   0.986852   1.084821   0.986879   1.351969   1.153074   \n",
       " \n",
       "    Feature_7  Feature_8  Feature_9  Feature_10  ...  Feature_88  Feature_89  \\\n",
       " 0  -0.089846  -0.217566  -0.079304   -0.164407  ...         NaN         NaN   \n",
       " 1   0.775470   0.677312  -0.079304   -0.164407  ...         NaN         NaN   \n",
       " 2   1.167167   1.110771  -0.079304   -0.164407  ...         NaN         NaN   \n",
       " 3   0.440842   0.169777  -0.079304   -0.164407  ...         NaN         NaN   \n",
       " 4   1.351969   1.299255   1.499914    1.502625  ...         NaN         NaN   \n",
       " \n",
       "    Feature_90  Feature_91  Feature_92  Feature_93  Feature_94  Feature_95  \\\n",
       " 0         NaN         NaN         NaN         NaN         NaN         NaN   \n",
       " 1         NaN         NaN         NaN         NaN         NaN         NaN   \n",
       " 2         NaN         NaN         NaN         NaN         NaN         NaN   \n",
       " 3         NaN         NaN         NaN         NaN         NaN         NaN   \n",
       " 4         NaN         NaN         NaN         NaN         NaN         NaN   \n",
       " \n",
       "    Feature_96  Feature_97  \n",
       " 0         NaN         NaN  \n",
       " 1         NaN         NaN  \n",
       " 2         NaN         NaN  \n",
       " 3         NaN         NaN  \n",
       " 4         NaN         NaN  \n",
       " \n",
       " [5 rows x 97 columns],\n",
       "    target\n",
       " 0     1.0\n",
       " 1     1.0\n",
       " 2     1.0\n",
       " 3     0.0\n",
       " 4     1.0)"
      ]
     },
     "execution_count": 1,
     "metadata": {},
     "output_type": "execute_result"
    }
   ],
   "source": [
    "\n",
    "# Import necessary libraries\n",
    "import pandas as pd\n",
    "import os\n",
    "from sklearn.model_selection import train_test_split\n",
    "from sklearn.preprocessing import StandardScaler\n",
    "from sklearn.linear_model import LogisticRegression\n",
    "from sklearn.metrics import accuracy_score, f1_score, roc_auc_score, confusion_matrix, classification_report\n",
    "import matplotlib.pyplot as plt\n",
    "import seaborn as sns\n",
    "\n",
    "# Paths to main dataset directory\n",
    "dataset_dir = '/mnt/data/Competition_data/Competition_data'\n",
    "dataset_dir = './Competition_data'\n",
    "dataset_dir = '../Group_DS34/Competition_data'\n",
    "\n",
    "# Initialize empty DataFrames for aggregated data\n",
    "X_train_all = pd.DataFrame()\n",
    "y_train_all = pd.DataFrame()\n",
    "\n",
    "# Loop through each dataset folder and load training data\n",
    "for folder_name in os.listdir(dataset_dir):\n",
    "    folder_path = os.path.join(dataset_dir, folder_name)\n",
    "    if os.path.isdir(folder_path):\n",
    "        X_train_path = os.path.join(folder_path, 'X_train.csv')\n",
    "        y_train_path = os.path.join(folder_path, 'y_train.csv')\n",
    "        \n",
    "        # Concatenate each dataset's training data\n",
    "        X_train_all = pd.concat([X_train_all, pd.read_csv(X_train_path)], ignore_index=True)\n",
    "        y_train_all = pd.concat([y_train_all, pd.read_csv(y_train_path)], ignore_index=True)\n",
    "\n",
    "# Display the combined data\n",
    "X_train_all.head(), y_train_all.head()\n"
   ]
  },
  {
   "cell_type": "markdown",
   "id": "1514903c",
   "metadata": {},
   "source": [
    "## Data Preprocessing"
   ]
  },
  {
   "cell_type": "code",
   "execution_count": 2,
   "id": "b5d24073",
   "metadata": {},
   "outputs": [
    {
     "name": "stdout",
     "output_type": "stream",
     "text": [
      "Missing values in X_train_all: 1151666\n"
     ]
    }
   ],
   "source": [
    "\n",
    "# Check for missing values in the aggregated dataset\n",
    "print(\"Missing values in X_train_all:\", X_train_all.isnull().sum().sum())\n",
    "\n",
    "# Scaling the features\n",
    "scaler = StandardScaler()\n",
    "X_train_scaled_all = scaler.fit_transform(X_train_all)\n"
   ]
  },
  {
   "cell_type": "markdown",
   "id": "13549eaa",
   "metadata": {},
   "source": [
    "## Model Training with XGBoost (State-of-the-Art)"
   ]
  },
  {
   "cell_type": "code",
   "execution_count": 4,
   "id": "0f8cf066",
   "metadata": {},
   "outputs": [
    {
     "name": "stdout",
     "output_type": "stream",
     "text": [
      "Validation Accuracy: 0.8523922633186292\n",
      "Validation F1 Score: 0.7652455477603886\n",
      "Validation ROC-AUC Score: 0.8151805728518058\n"
     ]
    }
   ],
   "source": [
    "\n",
    "# Importing XGBoost library\n",
    "from xgboost import XGBClassifier\n",
    "\n",
    "# Split the aggregated data into training and validation sets\n",
    "X_train_split, X_val, y_train_split, y_val = train_test_split(X_train_scaled_all, y_train_all, test_size=0.2, random_state=42)\n",
    "\n",
    "# Initialize and train an XGBoost model\n",
    "model = XGBClassifier(eval_metric='logloss', random_state=42)\n",
    "model.fit(X_train_split, y_train_split.values.ravel())\n",
    "\n",
    "# Evaluate on validation set\n",
    "y_val_pred = model.predict(X_val)\n",
    "print(\"Validation Accuracy:\", accuracy_score(y_val, y_val_pred))\n",
    "print(\"Validation F1 Score:\", f1_score(y_val, y_val_pred))\n",
    "print(\"Validation ROC-AUC Score:\", roc_auc_score(y_val, y_val_pred))\n"
   ]
  },
  {
   "cell_type": "markdown",
   "id": "388b9c4b",
   "metadata": {},
   "source": [
    "## Evaluation"
   ]
  },
  {
   "cell_type": "code",
   "execution_count": 5,
   "id": "868377a4",
   "metadata": {},
   "outputs": [
    {
     "data": {
      "image/png": "[encoded data removed]",
      "text/plain": [
       "<Figure size 640x480 with 2 Axes>"
      ]
     },
     "metadata": {},
     "output_type": "display_data"
    },
    {
     "name": "stdout",
     "output_type": "stream",
     "text": [
      "Classification Report:\n",
      "               precision    recall  f1-score   support\n",
      "\n",
      "         0.0       0.85      0.94      0.89      1925\n",
      "         1.0       0.85      0.69      0.77      1022\n",
      "\n",
      "    accuracy                           0.85      2947\n",
      "   macro avg       0.85      0.82      0.83      2947\n",
      "weighted avg       0.85      0.85      0.85      2947\n",
      "\n"
     ]
    }
   ],
   "source": [
    "\n",
    "# Confusion matrix and classification report\n",
    "conf_matrix = confusion_matrix(y_val, y_val_pred)\n",
    "sns.heatmap(conf_matrix, annot=True, fmt=\"d\")\n",
    "plt.title(\"Confusion Matrix\")\n",
    "plt.show()\n",
    "\n",
    "print(\"Classification Report:\\n\", classification_report(y_val, y_val_pred))\n"
   ]
  },
  {
   "cell_type": "markdown",
   "id": "06d3c72d",
   "metadata": {},
   "source": [
    "## Prediction and Submission for Each Dataset"
   ]
  },
  {
   "cell_type": "code",
   "execution_count": 6,
   "id": "bc8a706a",
   "metadata": {},
   "outputs": [],
   "source": [
    "\n",
    "# Loop through each dataset folder to generate and save predictions for X_test\n",
    "for folder_name in os.listdir(dataset_dir):\n",
    "    folder_path = os.path.join(dataset_dir, folder_name)\n",
    "    if os.path.isdir(folder_path):\n",
    "        X_test_path = os.path.join(folder_path, 'X_test.csv')\n",
    "        \n",
    "        # Load the test data\n",
    "        X_test = pd.read_csv(X_test_path)\n",
    "        \n",
    "        # Align features of X_test with X_train_all\n",
    "        for col in X_train_all.columns:\n",
    "            if col not in X_test.columns:\n",
    "                X_test[col] = 0  # Add missing columns with zero values\n",
    "        X_test = X_test[X_train_all.columns]  # Ensure column order matches X_train_all\n",
    "        \n",
    "        # Scale the test data\n",
    "        X_test_scaled = scaler.transform(X_test)\n",
    "        \n",
    "        # Generate predictions\n",
    "        y_test_pred = model.predict(X_test_scaled)\n",
    "        \n",
    "        # Save predictions to y_predict.csv\n",
    "        y_predict = pd.DataFrame(y_test_pred, columns=['target'])\n",
    "        y_predict.to_csv(os.path.join(folder_path, 'y_predict.csv'), index=False)\n"
   ]
  }
 ],
 "metadata": {
  "kernelspec": {
   "display_name": "base",
   "language": "python",
   "name": "python3"
  },
  "language_info": {
   "codemirror_mode": {
    "name": "ipython",
    "version": 3
   },
   "file_extension": ".py",
   "mimetype": "text/x-python",
   "name": "python",
   "nbconvert_exporter": "python",
   "pygments_lexer": "ipython3",
   "version": "3.11.5"
  }
 },
 "nbformat": 4,
 "nbformat_minor": 5
}
