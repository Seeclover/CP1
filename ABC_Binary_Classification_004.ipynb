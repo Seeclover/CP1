{
 "cells": [
  {
   "cell_type": "code",
   "execution_count": 1,
   "id": "e9708239",
   "metadata": {},
   "outputs": [],
   "source": [
    "import warnings\n",
    "warnings.filterwarnings(\"ignore\")\n",
    "\n",
    "import os\n",
    "import pandas as pd\n",
    "import numpy as np\n",
    "import matplotlib.pyplot as plt\n",
    "import seaborn as sns\n",
    "from sklearn.model_selection import train_test_split, GridSearchCV\n",
    "from sklearn.preprocessing import StandardScaler\n",
    "from sklearn.metrics import accuracy_score, precision_score, f1_score, roc_auc_score\n",
    "from sklearn.ensemble import RandomForestClassifier\n",
    "from tensorflow.keras.models import Sequential\n",
    "from tensorflow.keras.layers import Dense, Dropout\n",
    "import optuna\n",
    "\n",
    "# Paths\n",
    "base_path = '../Competition_data'\n",
    "dataset_folders = os.listdir(base_path)"
   ]
  },
  {
   "cell_type": "code",
   "execution_count": 2,
   "id": "fe203a7f",
   "metadata": {},
   "outputs": [],
   "source": [
    "# Define a function for hyperparameter tuning using Optuna\n",
    "def tune_nn_model(trial, input_dim):\n",
    "    model = Sequential()\n",
    "    # Suggest number of units for each layer\n",
    "    n_units_1 = trial.suggest_int('n_units_1', 64, 256)\n",
    "    n_units_2 = trial.suggest_int('n_units_2', 32, 128)\n",
    "    dropout_rate = trial.suggest_float('dropout_rate', 0.2, 0.5)\n",
    "\n",
    "    model.add(Dense(n_units_1, input_dim=input_dim, activation='relu'))\n",
    "    model.add(Dropout(dropout_rate))\n",
    "    model.add(Dense(n_units_2, activation='relu'))\n",
    "    model.add(Dropout(dropout_rate))\n",
    "    model.add(Dense(1, activation='sigmoid'))\n",
    "\n",
    "    model.compile(optimizer='adam', loss='binary_crossentropy', metrics=['accuracy'])\n",
    "    return model"
   ]
  },
  {
   "cell_type": "code",
   "execution_count": 3,
   "id": "52dd8be4",
   "metadata": {},
   "outputs": [
    {
     "name": "stderr",
     "output_type": "stream",
     "text": [
      "[I 2024-11-05 12:49:13,732] A new study created in memory with name: no-name-de5a46e4-292b-40bb-8d70-c0ae25e47e35\n"
     ]
    },
    {
     "name": "stdout",
     "output_type": "stream",
     "text": [
      "Dataset: Dataset_2\n",
      "X_train_split shape: (372, 24)\n",
      "y_train_split shape: (372, 1)\n",
      "X_val shape: (93, 24)\n",
      "y_val shape: (93, 1)\n"
     ]
    },
    {
     "name": "stderr",
     "output_type": "stream",
     "text": [
      "[I 2024-11-05 12:49:14,632] Trial 0 finished with value: 1.0 and parameters: {'n_units_1': 230, 'n_units_2': 43, 'dropout_rate': 0.27203867570070467}. Best is trial 0 with value: 1.0.\n",
      "[I 2024-11-05 12:49:15,490] Trial 1 finished with value: 1.0 and parameters: {'n_units_1': 170, 'n_units_2': 72, 'dropout_rate': 0.404475675111505}. Best is trial 0 with value: 1.0.\n",
      "[I 2024-11-05 12:49:16,487] Trial 2 finished with value: 1.0 and parameters: {'n_units_1': 213, 'n_units_2': 122, 'dropout_rate': 0.4790073849005088}. Best is trial 0 with value: 1.0.\n",
      "[I 2024-11-05 12:49:17,337] Trial 3 finished with value: 1.0 and parameters: {'n_units_1': 168, 'n_units_2': 47, 'dropout_rate': 0.34175169986097137}. Best is trial 0 with value: 1.0.\n",
      "[I 2024-11-05 12:49:18,193] Trial 4 finished with value: 1.0 and parameters: {'n_units_1': 175, 'n_units_2': 56, 'dropout_rate': 0.3835902990132875}. Best is trial 0 with value: 1.0.\n",
      "[I 2024-11-05 12:49:19,054] Trial 5 finished with value: 1.0 and parameters: {'n_units_1': 162, 'n_units_2': 83, 'dropout_rate': 0.46492072292109005}. Best is trial 0 with value: 1.0.\n",
      "[I 2024-11-05 12:49:19,910] Trial 6 finished with value: 1.0 and parameters: {'n_units_1': 145, 'n_units_2': 119, 'dropout_rate': 0.29273634452090735}. Best is trial 0 with value: 1.0.\n",
      "[I 2024-11-05 12:49:20,753] Trial 7 finished with value: 1.0 and parameters: {'n_units_1': 130, 'n_units_2': 56, 'dropout_rate': 0.4173339572143949}. Best is trial 0 with value: 1.0.\n",
      "[I 2024-11-05 12:49:21,614] Trial 8 finished with value: 1.0 and parameters: {'n_units_1': 66, 'n_units_2': 46, 'dropout_rate': 0.23129134210374602}. Best is trial 0 with value: 1.0.\n",
      "[I 2024-11-05 12:49:22,632] Trial 9 finished with value: 1.0 and parameters: {'n_units_1': 241, 'n_units_2': 94, 'dropout_rate': 0.2202470675529986}. Best is trial 0 with value: 1.0.\n"
     ]
    },
    {
     "name": "stdout",
     "output_type": "stream",
     "text": [
      "\u001b[1m3/3\u001b[0m \u001b[32m━━━━━━━━━━━━━━━━━━━━\u001b[0m\u001b[37m\u001b[0m \u001b[1m0s\u001b[0m 7ms/step  \n",
      "Dataset: Dataset_2, Score: 0.9751\n",
      "\u001b[1m10/10\u001b[0m \u001b[32m━━━━━━━━━━━━━━━━━━━━\u001b[0m\u001b[37m\u001b[0m \u001b[1m0s\u001b[0m 441us/step\n"
     ]
    },
    {
     "name": "stderr",
     "output_type": "stream",
     "text": [
      "[I 2024-11-05 12:49:24,227] A new study created in memory with name: no-name-f31da4d3-84a1-4016-826d-b0a4f099631e\n"
     ]
    },
    {
     "name": "stdout",
     "output_type": "stream",
     "text": [
      "Dataset: Dataset_35\n",
      "X_train_split shape: (368, 8)\n",
      "y_train_split shape: (368, 1)\n",
      "X_val shape: (92, 8)\n",
      "y_val shape: (92, 1)\n"
     ]
    },
    {
     "name": "stderr",
     "output_type": "stream",
     "text": [
      "[I 2024-11-05 12:49:25,109] Trial 0 finished with value: 0.782608687877655 and parameters: {'n_units_1': 88, 'n_units_2': 97, 'dropout_rate': 0.46503041213458224}. Best is trial 0 with value: 0.782608687877655.\n",
      "[I 2024-11-05 12:49:26,024] Trial 1 finished with value: 0.79347825050354 and parameters: {'n_units_1': 250, 'n_units_2': 113, 'dropout_rate': 0.42719196942621057}. Best is trial 1 with value: 0.79347825050354.\n",
      "[I 2024-11-05 12:49:26,895] Trial 2 finished with value: 0.77173912525177 and parameters: {'n_units_1': 98, 'n_units_2': 53, 'dropout_rate': 0.33179368539368254}. Best is trial 1 with value: 0.79347825050354.\n",
      "[I 2024-11-05 12:49:27,780] Trial 3 finished with value: 0.77173912525177 and parameters: {'n_units_1': 167, 'n_units_2': 97, 'dropout_rate': 0.2921649277138149}. Best is trial 1 with value: 0.79347825050354.\n",
      "[I 2024-11-05 12:49:28,683] Trial 4 finished with value: 0.79347825050354 and parameters: {'n_units_1': 227, 'n_units_2': 118, 'dropout_rate': 0.2798857199492394}. Best is trial 1 with value: 0.79347825050354.\n",
      "[I 2024-11-05 12:49:29,543] Trial 5 finished with value: 0.782608687877655 and parameters: {'n_units_1': 94, 'n_units_2': 125, 'dropout_rate': 0.207918239590183}. Best is trial 1 with value: 0.79347825050354.\n",
      "[I 2024-11-05 12:49:30,617] Trial 6 finished with value: 0.79347825050354 and parameters: {'n_units_1': 227, 'n_units_2': 91, 'dropout_rate': 0.4634015441324553}. Best is trial 1 with value: 0.79347825050354.\n",
      "[I 2024-11-05 12:49:31,495] Trial 7 finished with value: 0.79347825050354 and parameters: {'n_units_1': 238, 'n_units_2': 112, 'dropout_rate': 0.21927040433737055}. Best is trial 1 with value: 0.79347825050354.\n",
      "[I 2024-11-05 12:49:32,372] Trial 8 finished with value: 0.79347825050354 and parameters: {'n_units_1': 173, 'n_units_2': 118, 'dropout_rate': 0.371206483696635}. Best is trial 1 with value: 0.79347825050354.\n",
      "[I 2024-11-05 12:49:33,570] Trial 9 finished with value: 0.79347825050354 and parameters: {'n_units_1': 250, 'n_units_2': 105, 'dropout_rate': 0.4507021045848289}. Best is trial 1 with value: 0.79347825050354.\n"
     ]
    },
    {
     "name": "stdout",
     "output_type": "stream",
     "text": [
      "\u001b[1m3/3\u001b[0m \u001b[32m━━━━━━━━━━━━━━━━━━━━\u001b[0m\u001b[37m\u001b[0m \u001b[1m0s\u001b[0m 7ms/step  \n",
      "Dataset: Dataset_35, Score: 0.6890\n",
      "\u001b[1m10/10\u001b[0m \u001b[32m━━━━━━━━━━━━━━━━━━━━\u001b[0m\u001b[37m\u001b[0m \u001b[1m0s\u001b[0m 380us/step\n"
     ]
    },
    {
     "name": "stderr",
     "output_type": "stream",
     "text": [
      "[I 2024-11-05 12:49:35,212] A new study created in memory with name: no-name-82ad2879-ee0f-4cb7-b683-1d2ffef2d88e\n"
     ]
    },
    {
     "name": "stdout",
     "output_type": "stream",
     "text": [
      "Dataset: Dataset_5\n",
      "X_train_split shape: (259, 19)\n",
      "y_train_split shape: (259, 1)\n",
      "X_val shape: (65, 19)\n",
      "y_val shape: (65, 1)\n"
     ]
    },
    {
     "name": "stderr",
     "output_type": "stream",
     "text": [
      "[I 2024-11-05 12:49:36,107] Trial 0 finished with value: 0.9384615421295166 and parameters: {'n_units_1': 115, 'n_units_2': 111, 'dropout_rate': 0.3202201593322349}. Best is trial 0 with value: 0.9384615421295166.\n",
      "[I 2024-11-05 12:49:36,955] Trial 1 finished with value: 0.9384615421295166 and parameters: {'n_units_1': 211, 'n_units_2': 67, 'dropout_rate': 0.252624692566931}. Best is trial 0 with value: 0.9384615421295166.\n",
      "[I 2024-11-05 12:49:37,797] Trial 2 finished with value: 0.9230769276618958 and parameters: {'n_units_1': 72, 'n_units_2': 79, 'dropout_rate': 0.23941224536880631}. Best is trial 0 with value: 0.9384615421295166.\n",
      "[I 2024-11-05 12:49:38,653] Trial 3 finished with value: 0.9384615421295166 and parameters: {'n_units_1': 165, 'n_units_2': 118, 'dropout_rate': 0.27455113911245976}. Best is trial 0 with value: 0.9384615421295166.\n",
      "[I 2024-11-05 12:49:39,692] Trial 4 finished with value: 0.9230769276618958 and parameters: {'n_units_1': 152, 'n_units_2': 104, 'dropout_rate': 0.44764451983508025}. Best is trial 0 with value: 0.9384615421295166.\n",
      "[I 2024-11-05 12:49:40,732] Trial 5 finished with value: 0.9230769276618958 and parameters: {'n_units_1': 145, 'n_units_2': 43, 'dropout_rate': 0.29440205466175645}. Best is trial 0 with value: 0.9384615421295166.\n",
      "[I 2024-11-05 12:49:41,588] Trial 6 finished with value: 0.9230769276618958 and parameters: {'n_units_1': 205, 'n_units_2': 34, 'dropout_rate': 0.4848386708374965}. Best is trial 0 with value: 0.9384615421295166.\n",
      "[I 2024-11-05 12:49:42,426] Trial 7 finished with value: 0.9384615421295166 and parameters: {'n_units_1': 135, 'n_units_2': 108, 'dropout_rate': 0.31498069504147036}. Best is trial 0 with value: 0.9384615421295166.\n",
      "[I 2024-11-05 12:49:43,268] Trial 8 finished with value: 0.9384615421295166 and parameters: {'n_units_1': 232, 'n_units_2': 77, 'dropout_rate': 0.2301464165007355}. Best is trial 0 with value: 0.9384615421295166.\n",
      "[I 2024-11-05 12:49:44,098] Trial 9 finished with value: 0.9384615421295166 and parameters: {'n_units_1': 127, 'n_units_2': 119, 'dropout_rate': 0.44713032024440474}. Best is trial 0 with value: 0.9384615421295166.\n"
     ]
    },
    {
     "name": "stdout",
     "output_type": "stream",
     "text": [
      "\u001b[1m3/3\u001b[0m \u001b[32m━━━━━━━━━━━━━━━━━━━━\u001b[0m\u001b[37m\u001b[0m \u001b[1m0s\u001b[0m 6ms/step  \n",
      "Dataset: Dataset_5, Score: 0.7815\n",
      "\u001b[1m7/7\u001b[0m \u001b[32m━━━━━━━━━━━━━━━━━━━━\u001b[0m\u001b[37m\u001b[0m \u001b[1m0s\u001b[0m 402us/step\n"
     ]
    },
    {
     "name": "stderr",
     "output_type": "stream",
     "text": [
      "[I 2024-11-05 12:49:45,624] A new study created in memory with name: no-name-d27684d6-a7a5-43b4-b080-852b3eec6609\n"
     ]
    },
    {
     "name": "stdout",
     "output_type": "stream",
     "text": [
      "Dataset: Dataset_32\n",
      "X_train_split shape: (474, 4)\n",
      "y_train_split shape: (474, 1)\n",
      "X_val shape: (119, 4)\n",
      "y_val shape: (119, 1)\n"
     ]
    },
    {
     "name": "stderr",
     "output_type": "stream",
     "text": [
      "[I 2024-11-05 12:49:46,533] Trial 0 finished with value: 0.8907563090324402 and parameters: {'n_units_1': 211, 'n_units_2': 106, 'dropout_rate': 0.27291790286232087}. Best is trial 0 with value: 0.8907563090324402.\n",
      "[I 2024-11-05 12:49:47,436] Trial 1 finished with value: 0.8907563090324402 and parameters: {'n_units_1': 87, 'n_units_2': 89, 'dropout_rate': 0.22212406988036593}. Best is trial 0 with value: 0.8907563090324402.\n",
      "[I 2024-11-05 12:49:48,335] Trial 2 finished with value: 0.8907563090324402 and parameters: {'n_units_1': 105, 'n_units_2': 43, 'dropout_rate': 0.28147209559350267}. Best is trial 0 with value: 0.8907563090324402.\n",
      "[I 2024-11-05 12:49:49,245] Trial 3 finished with value: 0.8907563090324402 and parameters: {'n_units_1': 166, 'n_units_2': 119, 'dropout_rate': 0.46946420828258584}. Best is trial 0 with value: 0.8907563090324402.\n",
      "[I 2024-11-05 12:49:50,389] Trial 4 finished with value: 0.8907563090324402 and parameters: {'n_units_1': 103, 'n_units_2': 69, 'dropout_rate': 0.2195681660121686}. Best is trial 0 with value: 0.8907563090324402.\n",
      "[I 2024-11-05 12:49:51,647] Trial 5 finished with value: 0.8907563090324402 and parameters: {'n_units_1': 115, 'n_units_2': 61, 'dropout_rate': 0.36208048410577254}. Best is trial 0 with value: 0.8907563090324402.\n",
      "[I 2024-11-05 12:49:52,525] Trial 6 finished with value: 0.8907563090324402 and parameters: {'n_units_1': 79, 'n_units_2': 86, 'dropout_rate': 0.3824036203362835}. Best is trial 0 with value: 0.8907563090324402.\n",
      "[I 2024-11-05 12:49:53,422] Trial 7 finished with value: 0.8907563090324402 and parameters: {'n_units_1': 131, 'n_units_2': 121, 'dropout_rate': 0.2473725784969975}. Best is trial 0 with value: 0.8907563090324402.\n",
      "[I 2024-11-05 12:49:54,298] Trial 8 finished with value: 0.8907563090324402 and parameters: {'n_units_1': 99, 'n_units_2': 54, 'dropout_rate': 0.35962932444117734}. Best is trial 0 with value: 0.8907563090324402.\n",
      "[I 2024-11-05 12:49:55,181] Trial 9 finished with value: 0.8907563090324402 and parameters: {'n_units_1': 92, 'n_units_2': 125, 'dropout_rate': 0.23589441588766835}. Best is trial 0 with value: 0.8907563090324402.\n"
     ]
    },
    {
     "name": "stdout",
     "output_type": "stream",
     "text": [
      "\u001b[1m4/4\u001b[0m \u001b[32m━━━━━━━━━━━━━━━━━━━━\u001b[0m\u001b[37m\u001b[0m \u001b[1m0s\u001b[0m 4ms/step  \n",
      "Dataset: Dataset_32, Score: 0.4355\n",
      "\u001b[1m13/13\u001b[0m \u001b[32m━━━━━━━━━━━━━━━━━━━━\u001b[0m\u001b[37m\u001b[0m \u001b[1m0s\u001b[0m 413us/step\n"
     ]
    },
    {
     "name": "stderr",
     "output_type": "stream",
     "text": [
      "[I 2024-11-05 12:49:56,890] A new study created in memory with name: no-name-eb9d4b5a-4761-42fc-9f1a-ff7fdf03f3f2\n"
     ]
    },
    {
     "name": "stdout",
     "output_type": "stream",
     "text": [
      "Dataset: Dataset_4\n",
      "X_train_split shape: (411, 30)\n",
      "y_train_split shape: (411, 1)\n",
      "X_val shape: (103, 30)\n",
      "y_val shape: (103, 1)\n"
     ]
    },
    {
     "name": "stderr",
     "output_type": "stream",
     "text": [
      "[I 2024-11-05 12:49:57,801] Trial 0 finished with value: 0.9514563083648682 and parameters: {'n_units_1': 228, 'n_units_2': 124, 'dropout_rate': 0.42401388820587615}. Best is trial 0 with value: 0.9514563083648682.\n",
      "[I 2024-11-05 12:49:58,680] Trial 1 finished with value: 0.9514563083648682 and parameters: {'n_units_1': 158, 'n_units_2': 66, 'dropout_rate': 0.4558268075634566}. Best is trial 0 with value: 0.9514563083648682.\n",
      "[I 2024-11-05 12:49:59,565] Trial 2 finished with value: 0.9514563083648682 and parameters: {'n_units_1': 128, 'n_units_2': 36, 'dropout_rate': 0.3718418774065425}. Best is trial 0 with value: 0.9514563083648682.\n",
      "[I 2024-11-05 12:50:00,449] Trial 3 finished with value: 0.9514563083648682 and parameters: {'n_units_1': 83, 'n_units_2': 63, 'dropout_rate': 0.31052486606207547}. Best is trial 0 with value: 0.9514563083648682.\n",
      "[I 2024-11-05 12:50:01,503] Trial 4 finished with value: 0.9514563083648682 and parameters: {'n_units_1': 191, 'n_units_2': 98, 'dropout_rate': 0.2997879141243321}. Best is trial 0 with value: 0.9514563083648682.\n",
      "[I 2024-11-05 12:50:02,472] Trial 5 finished with value: 0.9514563083648682 and parameters: {'n_units_1': 200, 'n_units_2': 101, 'dropout_rate': 0.2616858208066275}. Best is trial 0 with value: 0.9514563083648682.\n",
      "[I 2024-11-05 12:50:03,652] Trial 6 finished with value: 0.9514563083648682 and parameters: {'n_units_1': 253, 'n_units_2': 35, 'dropout_rate': 0.30037934828660984}. Best is trial 0 with value: 0.9514563083648682.\n",
      "[I 2024-11-05 12:50:04,536] Trial 7 finished with value: 0.9514563083648682 and parameters: {'n_units_1': 242, 'n_units_2': 36, 'dropout_rate': 0.25633592154574153}. Best is trial 0 with value: 0.9514563083648682.\n",
      "[I 2024-11-05 12:50:05,451] Trial 8 finished with value: 0.9514563083648682 and parameters: {'n_units_1': 188, 'n_units_2': 98, 'dropout_rate': 0.3608532710950889}. Best is trial 0 with value: 0.9514563083648682.\n",
      "[I 2024-11-05 12:50:06,320] Trial 9 finished with value: 0.9514563083648682 and parameters: {'n_units_1': 187, 'n_units_2': 32, 'dropout_rate': 0.3659738675133041}. Best is trial 0 with value: 0.9514563083648682.\n"
     ]
    },
    {
     "name": "stdout",
     "output_type": "stream",
     "text": [
      "\u001b[1m4/4\u001b[0m \u001b[32m━━━━━━━━━━━━━━━━━━━━\u001b[0m\u001b[37m\u001b[0m \u001b[1m0s\u001b[0m 5ms/step  \n",
      "Dataset: Dataset_4, Score: 0.2854\n",
      "\u001b[1m11/11\u001b[0m \u001b[32m━━━━━━━━━━━━━━━━━━━━\u001b[0m\u001b[37m\u001b[0m \u001b[1m0s\u001b[0m 431us/step\n"
     ]
    },
    {
     "name": "stderr",
     "output_type": "stream",
     "text": [
      "[I 2024-11-05 12:50:08,028] A new study created in memory with name: no-name-1727b30d-d44d-4924-b1af-2fc5ad36dc43\n"
     ]
    },
    {
     "name": "stdout",
     "output_type": "stream",
     "text": [
      "Dataset: Dataset_33\n",
      "X_train_split shape: (192, 13)\n",
      "y_train_split shape: (192, 1)\n",
      "X_val shape: (48, 13)\n",
      "y_val shape: (48, 1)\n"
     ]
    },
    {
     "name": "stderr",
     "output_type": "stream",
     "text": [
      "[I 2024-11-05 12:50:08,809] Trial 0 finished with value: 1.0 and parameters: {'n_units_1': 172, 'n_units_2': 120, 'dropout_rate': 0.30923804111523673}. Best is trial 0 with value: 1.0.\n",
      "[I 2024-11-05 12:50:09,577] Trial 1 finished with value: 1.0 and parameters: {'n_units_1': 219, 'n_units_2': 71, 'dropout_rate': 0.22050499992141678}. Best is trial 0 with value: 1.0.\n",
      "[I 2024-11-05 12:50:10,358] Trial 2 finished with value: 1.0 and parameters: {'n_units_1': 202, 'n_units_2': 75, 'dropout_rate': 0.23556573317804336}. Best is trial 0 with value: 1.0.\n",
      "[I 2024-11-05 12:50:11,133] Trial 3 finished with value: 1.0 and parameters: {'n_units_1': 192, 'n_units_2': 116, 'dropout_rate': 0.36268077423647604}. Best is trial 0 with value: 1.0.\n",
      "[I 2024-11-05 12:50:11,886] Trial 4 finished with value: 0.9791666865348816 and parameters: {'n_units_1': 115, 'n_units_2': 71, 'dropout_rate': 0.36687627080144114}. Best is trial 0 with value: 1.0.\n",
      "[I 2024-11-05 12:50:12,791] Trial 5 finished with value: 0.9791666865348816 and parameters: {'n_units_1': 72, 'n_units_2': 70, 'dropout_rate': 0.3627393126107724}. Best is trial 0 with value: 1.0.\n",
      "[I 2024-11-05 12:50:13,651] Trial 6 finished with value: 1.0 and parameters: {'n_units_1': 184, 'n_units_2': 120, 'dropout_rate': 0.3254466705097349}. Best is trial 0 with value: 1.0.\n",
      "[I 2024-11-05 12:50:14,399] Trial 7 finished with value: 0.9791666865348816 and parameters: {'n_units_1': 92, 'n_units_2': 60, 'dropout_rate': 0.45062499610140705}. Best is trial 0 with value: 1.0.\n",
      "[I 2024-11-05 12:50:15,165] Trial 8 finished with value: 1.0 and parameters: {'n_units_1': 126, 'n_units_2': 124, 'dropout_rate': 0.3047528235926734}. Best is trial 0 with value: 1.0.\n",
      "[I 2024-11-05 12:50:15,948] Trial 9 finished with value: 1.0 and parameters: {'n_units_1': 161, 'n_units_2': 53, 'dropout_rate': 0.2570852258080222}. Best is trial 0 with value: 1.0.\n"
     ]
    },
    {
     "name": "stdout",
     "output_type": "stream",
     "text": [
      "\u001b[1m2/2\u001b[0m \u001b[32m━━━━━━━━━━━━━━━━━━━━\u001b[0m\u001b[37m\u001b[0m \u001b[1m0s\u001b[0m 13ms/step\n",
      "Dataset: Dataset_33, Score: 0.9611\n",
      "\u001b[1m5/5\u001b[0m \u001b[32m━━━━━━━━━━━━━━━━━━━━\u001b[0m\u001b[37m\u001b[0m \u001b[1m0s\u001b[0m 577us/step\n"
     ]
    },
    {
     "name": "stderr",
     "output_type": "stream",
     "text": [
      "[I 2024-11-05 12:50:17,831] A new study created in memory with name: no-name-7cb597f4-a679-4920-9213-95d7b7c9dde5\n"
     ]
    },
    {
     "name": "stdout",
     "output_type": "stream",
     "text": [
      "Dataset: Dataset_3\n",
      "X_train_split shape: (55, 9)\n",
      "y_train_split shape: (55, 1)\n",
      "X_val shape: (14, 9)\n",
      "y_val shape: (14, 1)\n"
     ]
    },
    {
     "name": "stderr",
     "output_type": "stream",
     "text": [
      "[I 2024-11-05 12:50:18,780] Trial 0 finished with value: 0.6428571343421936 and parameters: {'n_units_1': 91, 'n_units_2': 44, 'dropout_rate': 0.4920074138103368}. Best is trial 0 with value: 0.6428571343421936.\n",
      "[I 2024-11-05 12:50:19,595] Trial 1 finished with value: 0.6428571343421936 and parameters: {'n_units_1': 205, 'n_units_2': 100, 'dropout_rate': 0.3061110269620466}. Best is trial 0 with value: 0.6428571343421936.\n",
      "[I 2024-11-05 12:50:20,394] Trial 2 finished with value: 0.7142857313156128 and parameters: {'n_units_1': 89, 'n_units_2': 42, 'dropout_rate': 0.29592475858093265}. Best is trial 2 with value: 0.7142857313156128.\n",
      "[I 2024-11-05 12:50:21,151] Trial 3 finished with value: 0.7142857313156128 and parameters: {'n_units_1': 208, 'n_units_2': 97, 'dropout_rate': 0.48514164103379614}. Best is trial 2 with value: 0.7142857313156128.\n",
      "[I 2024-11-05 12:50:22,090] Trial 4 finished with value: 0.6428571343421936 and parameters: {'n_units_1': 171, 'n_units_2': 110, 'dropout_rate': 0.32238122067642255}. Best is trial 2 with value: 0.7142857313156128.\n",
      "[I 2024-11-05 12:50:22,921] Trial 5 finished with value: 0.7857142686843872 and parameters: {'n_units_1': 256, 'n_units_2': 85, 'dropout_rate': 0.3786690424076791}. Best is trial 5 with value: 0.7857142686843872.\n",
      "[I 2024-11-05 12:50:23,673] Trial 6 finished with value: 0.6428571343421936 and parameters: {'n_units_1': 174, 'n_units_2': 75, 'dropout_rate': 0.43836964757712793}. Best is trial 5 with value: 0.7857142686843872.\n",
      "[I 2024-11-05 12:50:24,430] Trial 7 finished with value: 0.7142857313156128 and parameters: {'n_units_1': 255, 'n_units_2': 94, 'dropout_rate': 0.38074341699038333}. Best is trial 5 with value: 0.7857142686843872.\n",
      "[I 2024-11-05 12:50:25,189] Trial 8 finished with value: 0.6428571343421936 and parameters: {'n_units_1': 207, 'n_units_2': 49, 'dropout_rate': 0.26859782476395877}. Best is trial 5 with value: 0.7857142686843872.\n",
      "[I 2024-11-05 12:50:25,975] Trial 9 finished with value: 0.7857142686843872 and parameters: {'n_units_1': 190, 'n_units_2': 124, 'dropout_rate': 0.32666887130341876}. Best is trial 5 with value: 0.7857142686843872.\n"
     ]
    },
    {
     "name": "stdout",
     "output_type": "stream",
     "text": [
      "\u001b[1m1/1\u001b[0m \u001b[32m━━━━━━━━━━━━━━━━━━━━\u001b[0m\u001b[37m\u001b[0m \u001b[1m0s\u001b[0m 21ms/step\n",
      "Dataset: Dataset_3, Score: 0.8186\n",
      "WARNING:tensorflow:5 out of the last 21 calls to <function TensorFlowTrainer.make_predict_function.<locals>.one_step_on_data_distributed at 0x3531f7820> triggered tf.function retracing. Tracing is expensive and the excessive number of tracings could be due to (1) creating @tf.function repeatedly in a loop, (2) passing tensors with different shapes, (3) passing Python objects instead of tensors. For (1), please define your @tf.function outside of the loop. For (2), @tf.function has reduce_retracing=True option that can avoid unnecessary retracing. For (3), please refer to https://www.tensorflow.org/guide/function#controlling_retracing and https://www.tensorflow.org/api_docs/python/tf/function for  more details.\n",
      "\u001b[1m2/2\u001b[0m \u001b[32m━━━━━━━━━━━━━━━━━━━━\u001b[0m\u001b[37m\u001b[0m \u001b[1m0s\u001b[0m 1ms/step \n"
     ]
    },
    {
     "name": "stderr",
     "output_type": "stream",
     "text": [
      "[I 2024-11-05 12:50:27,416] A new study created in memory with name: no-name-90882553-a76d-4fb0-9aa9-1561dad389b3\n"
     ]
    },
    {
     "name": "stdout",
     "output_type": "stream",
     "text": [
      "Dataset: Dataset_34\n",
      "X_train_split shape: (219, 13)\n",
      "y_train_split shape: (219, 1)\n",
      "X_val shape: (55, 13)\n",
      "y_val shape: (55, 1)\n"
     ]
    },
    {
     "name": "stderr",
     "output_type": "stream",
     "text": [
      "[I 2024-11-05 12:50:28,342] Trial 0 finished with value: 0.800000011920929 and parameters: {'n_units_1': 86, 'n_units_2': 58, 'dropout_rate': 0.35465601418153586}. Best is trial 0 with value: 0.800000011920929.\n",
      "[I 2024-11-05 12:50:29,185] Trial 1 finished with value: 0.800000011920929 and parameters: {'n_units_1': 220, 'n_units_2': 35, 'dropout_rate': 0.2281570512407946}. Best is trial 0 with value: 0.800000011920929.\n",
      "[I 2024-11-05 12:50:30,040] Trial 2 finished with value: 0.800000011920929 and parameters: {'n_units_1': 217, 'n_units_2': 113, 'dropout_rate': 0.36809657202626456}. Best is trial 0 with value: 0.800000011920929.\n",
      "[I 2024-11-05 12:50:30,918] Trial 3 finished with value: 0.800000011920929 and parameters: {'n_units_1': 148, 'n_units_2': 55, 'dropout_rate': 0.48122486284914046}. Best is trial 0 with value: 0.800000011920929.\n",
      "[I 2024-11-05 12:50:32,118] Trial 4 finished with value: 0.7818182110786438 and parameters: {'n_units_1': 248, 'n_units_2': 69, 'dropout_rate': 0.3762903044093908}. Best is trial 0 with value: 0.800000011920929.\n",
      "[I 2024-11-05 12:50:33,395] Trial 5 finished with value: 0.8181818127632141 and parameters: {'n_units_1': 226, 'n_units_2': 48, 'dropout_rate': 0.25784379614686803}. Best is trial 5 with value: 0.8181818127632141.\n",
      "[I 2024-11-05 12:50:34,218] Trial 6 finished with value: 0.8181818127632141 and parameters: {'n_units_1': 174, 'n_units_2': 56, 'dropout_rate': 0.3463043490461854}. Best is trial 5 with value: 0.8181818127632141.\n",
      "[I 2024-11-05 12:50:35,026] Trial 7 finished with value: 0.7818182110786438 and parameters: {'n_units_1': 104, 'n_units_2': 50, 'dropout_rate': 0.26226409649454924}. Best is trial 5 with value: 0.8181818127632141.\n",
      "[I 2024-11-05 12:50:35,829] Trial 8 finished with value: 0.8181818127632141 and parameters: {'n_units_1': 66, 'n_units_2': 65, 'dropout_rate': 0.39123146905551753}. Best is trial 5 with value: 0.8181818127632141.\n",
      "[I 2024-11-05 12:50:36,637] Trial 9 finished with value: 0.8181818127632141 and parameters: {'n_units_1': 86, 'n_units_2': 59, 'dropout_rate': 0.462090924105011}. Best is trial 5 with value: 0.8181818127632141.\n"
     ]
    },
    {
     "name": "stdout",
     "output_type": "stream",
     "text": [
      "WARNING:tensorflow:5 out of the last 11 calls to <function TensorFlowTrainer.make_predict_function.<locals>.one_step_on_data_distributed at 0x317897e50> triggered tf.function retracing. Tracing is expensive and the excessive number of tracings could be due to (1) creating @tf.function repeatedly in a loop, (2) passing tensors with different shapes, (3) passing Python objects instead of tensors. For (1), please define your @tf.function outside of the loop. For (2), @tf.function has reduce_retracing=True option that can avoid unnecessary retracing. For (3), please refer to https://www.tensorflow.org/guide/function#controlling_retracing and https://www.tensorflow.org/api_docs/python/tf/function for  more details.\n",
      "\u001b[1m2/2\u001b[0m \u001b[32m━━━━━━━━━━━━━━━━━━━━\u001b[0m\u001b[37m\u001b[0m \u001b[1m0s\u001b[0m 12ms/step\n",
      "Dataset: Dataset_34, Score: 0.7452\n",
      "\u001b[1m6/6\u001b[0m \u001b[32m━━━━━━━━━━━━━━━━━━━━\u001b[0m\u001b[37m\u001b[0m \u001b[1m0s\u001b[0m 436us/step\n"
     ]
    },
    {
     "name": "stderr",
     "output_type": "stream",
     "text": [
      "[I 2024-11-05 12:50:38,110] A new study created in memory with name: no-name-b5645c1c-89f6-4333-98f6-24ea04b60c7d\n"
     ]
    },
    {
     "name": "stdout",
     "output_type": "stream",
     "text": [
      "Dataset: Dataset_45\n",
      "X_train_split shape: (126, 4)\n",
      "y_train_split shape: (126, 1)\n",
      "X_val shape: (32, 4)\n",
      "y_val shape: (32, 1)\n"
     ]
    },
    {
     "name": "stderr",
     "output_type": "stream",
     "text": [
      "[I 2024-11-05 12:50:38,895] Trial 0 finished with value: 0.9375 and parameters: {'n_units_1': 252, 'n_units_2': 92, 'dropout_rate': 0.4641142550369839}. Best is trial 0 with value: 0.9375.\n",
      "[I 2024-11-05 12:50:39,658] Trial 1 finished with value: 0.9375 and parameters: {'n_units_1': 234, 'n_units_2': 47, 'dropout_rate': 0.3848425756991493}. Best is trial 0 with value: 0.9375.\n",
      "[I 2024-11-05 12:50:40,449] Trial 2 finished with value: 0.9375 and parameters: {'n_units_1': 178, 'n_units_2': 63, 'dropout_rate': 0.38652895352221506}. Best is trial 0 with value: 0.9375.\n",
      "[I 2024-11-05 12:50:41,210] Trial 3 finished with value: 0.9375 and parameters: {'n_units_1': 210, 'n_units_2': 79, 'dropout_rate': 0.4429334622296172}. Best is trial 0 with value: 0.9375.\n",
      "[I 2024-11-05 12:50:41,959] Trial 4 finished with value: 0.9375 and parameters: {'n_units_1': 93, 'n_units_2': 50, 'dropout_rate': 0.3577921685888853}. Best is trial 0 with value: 0.9375.\n",
      "[I 2024-11-05 12:50:42,782] Trial 5 finished with value: 1.0 and parameters: {'n_units_1': 195, 'n_units_2': 99, 'dropout_rate': 0.49477817871076873}. Best is trial 5 with value: 1.0.\n",
      "[I 2024-11-05 12:50:43,688] Trial 6 finished with value: 0.9375 and parameters: {'n_units_1': 217, 'n_units_2': 32, 'dropout_rate': 0.29165156432001915}. Best is trial 5 with value: 1.0.\n",
      "[I 2024-11-05 12:50:44,443] Trial 7 finished with value: 0.9375 and parameters: {'n_units_1': 219, 'n_units_2': 118, 'dropout_rate': 0.24859488996860896}. Best is trial 5 with value: 1.0.\n",
      "[I 2024-11-05 12:50:45,190] Trial 8 finished with value: 0.9375 and parameters: {'n_units_1': 205, 'n_units_2': 48, 'dropout_rate': 0.4364854006743774}. Best is trial 5 with value: 1.0.\n",
      "[I 2024-11-05 12:50:45,942] Trial 9 finished with value: 0.9375 and parameters: {'n_units_1': 91, 'n_units_2': 127, 'dropout_rate': 0.2205595324669608}. Best is trial 5 with value: 1.0.\n"
     ]
    },
    {
     "name": "stdout",
     "output_type": "stream",
     "text": [
      "\u001b[1m1/1\u001b[0m \u001b[32m━━━━━━━━━━━━━━━━━━━━\u001b[0m\u001b[37m\u001b[0m \u001b[1m0s\u001b[0m 17ms/step\n",
      "Dataset: Dataset_45, Score: 0.8906\n",
      "\u001b[1m4/4\u001b[0m \u001b[32m━━━━━━━━━━━━━━━━━━━━\u001b[0m\u001b[37m\u001b[0m \u001b[1m0s\u001b[0m 4ms/step\n"
     ]
    },
    {
     "name": "stderr",
     "output_type": "stream",
     "text": [
      "[I 2024-11-05 12:50:47,376] A new study created in memory with name: no-name-13522441-3b19-4db1-bf2c-c96db9bd5467\n"
     ]
    },
    {
     "name": "stdout",
     "output_type": "stream",
     "text": [
      "Dataset: Dataset_42\n",
      "X_train_split shape: (96, 6)\n",
      "y_train_split shape: (96, 1)\n",
      "X_val shape: (24, 6)\n",
      "y_val shape: (24, 1)\n"
     ]
    },
    {
     "name": "stderr",
     "output_type": "stream",
     "text": [
      "[I 2024-11-05 12:50:48,200] Trial 0 finished with value: 0.9583333134651184 and parameters: {'n_units_1': 197, 'n_units_2': 97, 'dropout_rate': 0.3813634701303067}. Best is trial 0 with value: 0.9583333134651184.\n",
      "[I 2024-11-05 12:50:48,923] Trial 1 finished with value: 1.0 and parameters: {'n_units_1': 80, 'n_units_2': 41, 'dropout_rate': 0.4740382232981471}. Best is trial 1 with value: 1.0.\n",
      "[I 2024-11-05 12:50:49,652] Trial 2 finished with value: 0.9583333134651184 and parameters: {'n_units_1': 228, 'n_units_2': 81, 'dropout_rate': 0.45096480560539726}. Best is trial 1 with value: 1.0.\n",
      "[I 2024-11-05 12:50:50,931] Trial 3 finished with value: 0.9583333134651184 and parameters: {'n_units_1': 243, 'n_units_2': 94, 'dropout_rate': 0.39481600042422305}. Best is trial 1 with value: 1.0.\n",
      "[I 2024-11-05 12:50:51,680] Trial 4 finished with value: 0.9583333134651184 and parameters: {'n_units_1': 132, 'n_units_2': 68, 'dropout_rate': 0.31478198015482345}. Best is trial 1 with value: 1.0.\n",
      "[I 2024-11-05 12:50:52,688] Trial 5 finished with value: 0.9583333134651184 and parameters: {'n_units_1': 159, 'n_units_2': 60, 'dropout_rate': 0.35487010312723977}. Best is trial 1 with value: 1.0.\n",
      "[I 2024-11-05 12:50:53,573] Trial 6 finished with value: 0.9583333134651184 and parameters: {'n_units_1': 180, 'n_units_2': 74, 'dropout_rate': 0.20264371607789633}. Best is trial 1 with value: 1.0.\n",
      "[I 2024-11-05 12:50:54,362] Trial 7 finished with value: 1.0 and parameters: {'n_units_1': 218, 'n_units_2': 50, 'dropout_rate': 0.25618107250720196}. Best is trial 1 with value: 1.0.\n",
      "[I 2024-11-05 12:50:55,097] Trial 8 finished with value: 0.9583333134651184 and parameters: {'n_units_1': 159, 'n_units_2': 34, 'dropout_rate': 0.33453278211137044}. Best is trial 1 with value: 1.0.\n",
      "[I 2024-11-05 12:50:55,849] Trial 9 finished with value: 0.9583333134651184 and parameters: {'n_units_1': 117, 'n_units_2': 56, 'dropout_rate': 0.2689764368990125}. Best is trial 1 with value: 1.0.\n"
     ]
    },
    {
     "name": "stdout",
     "output_type": "stream",
     "text": [
      "\u001b[1m1/1\u001b[0m \u001b[32m━━━━━━━━━━━━━━━━━━━━\u001b[0m\u001b[37m\u001b[0m \u001b[1m0s\u001b[0m 21ms/step\n",
      "Dataset: Dataset_42, Score: 0.9755\n",
      "\u001b[1m3/3\u001b[0m \u001b[32m━━━━━━━━━━━━━━━━━━━━\u001b[0m\u001b[37m\u001b[0m \u001b[1m0s\u001b[0m 640us/step\n"
     ]
    },
    {
     "name": "stderr",
     "output_type": "stream",
     "text": [
      "[I 2024-11-05 12:50:57,196] A new study created in memory with name: no-name-f95e3a6d-8c01-446e-90b3-16894cefbaa0\n"
     ]
    },
    {
     "name": "stdout",
     "output_type": "stream",
     "text": [
      "Dataset: Dataset_27\n",
      "X_train_split shape: (164, 6)\n",
      "y_train_split shape: (164, 1)\n",
      "X_val shape: (42, 6)\n",
      "y_val shape: (42, 1)\n"
     ]
    },
    {
     "name": "stderr",
     "output_type": "stream",
     "text": [
      "[I 2024-11-05 12:50:58,053] Trial 0 finished with value: 1.0 and parameters: {'n_units_1': 105, 'n_units_2': 112, 'dropout_rate': 0.4370577431643084}. Best is trial 0 with value: 1.0.\n",
      "[I 2024-11-05 12:50:58,872] Trial 1 finished with value: 1.0 and parameters: {'n_units_1': 214, 'n_units_2': 34, 'dropout_rate': 0.32118408361693573}. Best is trial 0 with value: 1.0.\n",
      "[I 2024-11-05 12:50:59,699] Trial 2 finished with value: 1.0 and parameters: {'n_units_1': 150, 'n_units_2': 107, 'dropout_rate': 0.43069363252744897}. Best is trial 0 with value: 1.0.\n",
      "[I 2024-11-05 12:51:00,531] Trial 3 finished with value: 1.0 and parameters: {'n_units_1': 81, 'n_units_2': 42, 'dropout_rate': 0.339795299507254}. Best is trial 0 with value: 1.0.\n",
      "[I 2024-11-05 12:51:01,542] Trial 4 finished with value: 1.0 and parameters: {'n_units_1': 169, 'n_units_2': 126, 'dropout_rate': 0.48983777765106723}. Best is trial 0 with value: 1.0.\n",
      "[I 2024-11-05 12:51:02,368] Trial 5 finished with value: 1.0 and parameters: {'n_units_1': 103, 'n_units_2': 40, 'dropout_rate': 0.2342534185904412}. Best is trial 0 with value: 1.0.\n",
      "[I 2024-11-05 12:51:03,170] Trial 6 finished with value: 1.0 and parameters: {'n_units_1': 211, 'n_units_2': 98, 'dropout_rate': 0.30867687409112515}. Best is trial 0 with value: 1.0.\n",
      "[I 2024-11-05 12:51:03,977] Trial 7 finished with value: 1.0 and parameters: {'n_units_1': 191, 'n_units_2': 103, 'dropout_rate': 0.3206145482852788}. Best is trial 0 with value: 1.0.\n",
      "[I 2024-11-05 12:51:04,782] Trial 8 finished with value: 1.0 and parameters: {'n_units_1': 199, 'n_units_2': 123, 'dropout_rate': 0.23875831361661817}. Best is trial 0 with value: 1.0.\n",
      "[I 2024-11-05 12:51:05,572] Trial 9 finished with value: 1.0 and parameters: {'n_units_1': 110, 'n_units_2': 43, 'dropout_rate': 0.20923538737893488}. Best is trial 0 with value: 1.0.\n"
     ]
    },
    {
     "name": "stdout",
     "output_type": "stream",
     "text": [
      "\u001b[1m2/2\u001b[0m \u001b[32m━━━━━━━━━━━━━━━━━━━━\u001b[0m\u001b[37m\u001b[0m \u001b[1m0s\u001b[0m 12ms/step\n",
      "Dataset: Dataset_27, Score: 1.0000\n",
      "\u001b[1m5/5\u001b[0m \u001b[32m━━━━━━━━━━━━━━━━━━━━\u001b[0m\u001b[37m\u001b[0m \u001b[1m0s\u001b[0m 484us/step\n"
     ]
    },
    {
     "name": "stderr",
     "output_type": "stream",
     "text": [
      "[I 2024-11-05 12:51:07,012] A new study created in memory with name: no-name-63246b91-6243-48d4-958a-d8c6642cdd1c\n"
     ]
    },
    {
     "name": "stdout",
     "output_type": "stream",
     "text": [
      "Dataset: Dataset_18\n",
      "X_train_split shape: (272, 14)\n",
      "y_train_split shape: (272, 1)\n",
      "X_val shape: (68, 14)\n",
      "y_val shape: (68, 1)\n"
     ]
    },
    {
     "name": "stderr",
     "output_type": "stream",
     "text": [
      "[I 2024-11-05 12:51:07,911] Trial 0 finished with value: 1.0 and parameters: {'n_units_1': 220, 'n_units_2': 46, 'dropout_rate': 0.35454447410556406}. Best is trial 0 with value: 1.0.\n",
      "[I 2024-11-05 12:51:08,755] Trial 1 finished with value: 1.0 and parameters: {'n_units_1': 193, 'n_units_2': 52, 'dropout_rate': 0.21529313858951687}. Best is trial 0 with value: 1.0.\n",
      "[I 2024-11-05 12:51:09,601] Trial 2 finished with value: 1.0 and parameters: {'n_units_1': 95, 'n_units_2': 49, 'dropout_rate': 0.21192138738502617}. Best is trial 0 with value: 1.0.\n",
      "[I 2024-11-05 12:51:10,472] Trial 3 finished with value: 1.0 and parameters: {'n_units_1': 225, 'n_units_2': 90, 'dropout_rate': 0.4422489907160688}. Best is trial 0 with value: 1.0.\n",
      "[I 2024-11-05 12:51:12,267] Trial 4 finished with value: 1.0 and parameters: {'n_units_1': 196, 'n_units_2': 91, 'dropout_rate': 0.3427122908836143}. Best is trial 0 with value: 1.0.\n",
      "[I 2024-11-05 12:51:13,127] Trial 5 finished with value: 1.0 and parameters: {'n_units_1': 93, 'n_units_2': 34, 'dropout_rate': 0.44446895421796323}. Best is trial 0 with value: 1.0.\n",
      "[I 2024-11-05 12:51:13,975] Trial 6 finished with value: 1.0 and parameters: {'n_units_1': 236, 'n_units_2': 42, 'dropout_rate': 0.4353112607199536}. Best is trial 0 with value: 1.0.\n",
      "[I 2024-11-05 12:51:14,828] Trial 7 finished with value: 1.0 and parameters: {'n_units_1': 256, 'n_units_2': 110, 'dropout_rate': 0.4331151733846139}. Best is trial 0 with value: 1.0.\n",
      "[I 2024-11-05 12:51:15,657] Trial 8 finished with value: 1.0 and parameters: {'n_units_1': 125, 'n_units_2': 69, 'dropout_rate': 0.3266854908575902}. Best is trial 0 with value: 1.0.\n",
      "[I 2024-11-05 12:51:16,505] Trial 9 finished with value: 1.0 and parameters: {'n_units_1': 233, 'n_units_2': 60, 'dropout_rate': 0.45156751389455585}. Best is trial 0 with value: 1.0.\n"
     ]
    },
    {
     "name": "stdout",
     "output_type": "stream",
     "text": [
      "\u001b[1m3/3\u001b[0m \u001b[32m━━━━━━━━━━━━━━━━━━━━\u001b[0m\u001b[37m\u001b[0m \u001b[1m0s\u001b[0m 6ms/step  \n",
      "Dataset: Dataset_18, Score: 0.8956\n",
      "\u001b[1m8/8\u001b[0m \u001b[32m━━━━━━━━━━━━━━━━━━━━\u001b[0m\u001b[37m\u001b[0m \u001b[1m0s\u001b[0m 406us/step\n"
     ]
    },
    {
     "name": "stderr",
     "output_type": "stream",
     "text": [
      "[I 2024-11-05 12:51:18,084] A new study created in memory with name: no-name-93c445fa-be69-44b0-8c41-14eab9e3c737\n"
     ]
    },
    {
     "name": "stdout",
     "output_type": "stream",
     "text": [
      "Dataset: Dataset_20\n",
      "X_train_split shape: (103, 13)\n",
      "y_train_split shape: (103, 1)\n",
      "X_val shape: (26, 13)\n",
      "y_val shape: (26, 1)\n"
     ]
    },
    {
     "name": "stderr",
     "output_type": "stream",
     "text": [
      "[I 2024-11-05 12:51:18,894] Trial 0 finished with value: 0.8461538553237915 and parameters: {'n_units_1': 88, 'n_units_2': 112, 'dropout_rate': 0.35531506327285695}. Best is trial 0 with value: 0.8461538553237915.\n",
      "[I 2024-11-05 12:51:19,674] Trial 1 finished with value: 0.8461538553237915 and parameters: {'n_units_1': 108, 'n_units_2': 95, 'dropout_rate': 0.4388811961962164}. Best is trial 0 with value: 0.8461538553237915.\n",
      "[I 2024-11-05 12:51:20,475] Trial 2 finished with value: 0.8461538553237915 and parameters: {'n_units_1': 240, 'n_units_2': 37, 'dropout_rate': 0.3555668691394619}. Best is trial 0 with value: 0.8461538553237915.\n",
      "[I 2024-11-05 12:51:21,254] Trial 3 finished with value: 0.8846153616905212 and parameters: {'n_units_1': 95, 'n_units_2': 49, 'dropout_rate': 0.30024687593055377}. Best is trial 3 with value: 0.8846153616905212.\n",
      "[I 2024-11-05 12:51:22,215] Trial 4 finished with value: 0.807692289352417 and parameters: {'n_units_1': 102, 'n_units_2': 69, 'dropout_rate': 0.3054522226387294}. Best is trial 3 with value: 0.8846153616905212.\n",
      "[I 2024-11-05 12:51:23,086] Trial 5 finished with value: 0.8461538553237915 and parameters: {'n_units_1': 80, 'n_units_2': 46, 'dropout_rate': 0.44358157240154605}. Best is trial 3 with value: 0.8846153616905212.\n",
      "[I 2024-11-05 12:51:23,863] Trial 6 finished with value: 0.8461538553237915 and parameters: {'n_units_1': 229, 'n_units_2': 71, 'dropout_rate': 0.37283437688616644}. Best is trial 3 with value: 0.8846153616905212.\n",
      "[I 2024-11-05 12:51:24,635] Trial 7 finished with value: 0.8846153616905212 and parameters: {'n_units_1': 110, 'n_units_2': 114, 'dropout_rate': 0.37807628634425366}. Best is trial 3 with value: 0.8846153616905212.\n",
      "[I 2024-11-05 12:51:25,411] Trial 8 finished with value: 0.8461538553237915 and parameters: {'n_units_1': 97, 'n_units_2': 39, 'dropout_rate': 0.2971256534009204}. Best is trial 3 with value: 0.8846153616905212.\n",
      "[I 2024-11-05 12:51:26,187] Trial 9 finished with value: 0.8846153616905212 and parameters: {'n_units_1': 232, 'n_units_2': 74, 'dropout_rate': 0.27414064585172615}. Best is trial 3 with value: 0.8846153616905212.\n"
     ]
    },
    {
     "name": "stdout",
     "output_type": "stream",
     "text": [
      "\u001b[1m1/1\u001b[0m \u001b[32m━━━━━━━━━━━━━━━━━━━━\u001b[0m\u001b[37m\u001b[0m \u001b[1m0s\u001b[0m 17ms/step\n",
      "Dataset: Dataset_20, Score: 0.7909\n",
      "\u001b[1m3/3\u001b[0m \u001b[32m━━━━━━━━━━━━━━━━━━━━\u001b[0m\u001b[37m\u001b[0m \u001b[1m0s\u001b[0m 625us/step\n"
     ]
    },
    {
     "name": "stderr",
     "output_type": "stream",
     "text": [
      "[I 2024-11-05 12:51:27,570] A new study created in memory with name: no-name-0fd3e977-300b-4b7f-aadc-544e86133c35\n"
     ]
    },
    {
     "name": "stdout",
     "output_type": "stream",
     "text": [
      "Dataset: Dataset_16\n",
      "X_train_split shape: (372, 24)\n",
      "y_train_split shape: (372, 1)\n",
      "X_val shape: (93, 24)\n",
      "y_val shape: (93, 1)\n"
     ]
    },
    {
     "name": "stderr",
     "output_type": "stream",
     "text": [
      "[I 2024-11-05 12:51:28,497] Trial 0 finished with value: 1.0 and parameters: {'n_units_1': 159, 'n_units_2': 108, 'dropout_rate': 0.4237373850853055}. Best is trial 0 with value: 1.0.\n",
      "[I 2024-11-05 12:51:29,398] Trial 1 finished with value: 1.0 and parameters: {'n_units_1': 160, 'n_units_2': 92, 'dropout_rate': 0.42955535146893914}. Best is trial 0 with value: 1.0.\n",
      "[I 2024-11-05 12:51:30,288] Trial 2 finished with value: 1.0 and parameters: {'n_units_1': 187, 'n_units_2': 48, 'dropout_rate': 0.43014290788378146}. Best is trial 0 with value: 1.0.\n",
      "[I 2024-11-05 12:51:31,191] Trial 3 finished with value: 1.0 and parameters: {'n_units_1': 77, 'n_units_2': 104, 'dropout_rate': 0.48181445762415226}. Best is trial 0 with value: 1.0.\n",
      "[I 2024-11-05 12:51:32,324] Trial 4 finished with value: 1.0 and parameters: {'n_units_1': 208, 'n_units_2': 98, 'dropout_rate': 0.2489367678536511}. Best is trial 0 with value: 1.0.\n",
      "[I 2024-11-05 12:51:33,189] Trial 5 finished with value: 1.0 and parameters: {'n_units_1': 129, 'n_units_2': 82, 'dropout_rate': 0.406849553254051}. Best is trial 0 with value: 1.0.\n",
      "[I 2024-11-05 12:51:34,047] Trial 6 finished with value: 1.0 and parameters: {'n_units_1': 66, 'n_units_2': 102, 'dropout_rate': 0.3542910152392564}. Best is trial 0 with value: 1.0.\n",
      "[I 2024-11-05 12:51:34,910] Trial 7 finished with value: 1.0 and parameters: {'n_units_1': 190, 'n_units_2': 57, 'dropout_rate': 0.42504306459866315}. Best is trial 0 with value: 1.0.\n",
      "[I 2024-11-05 12:51:35,767] Trial 8 finished with value: 1.0 and parameters: {'n_units_1': 89, 'n_units_2': 61, 'dropout_rate': 0.4860914337861294}. Best is trial 0 with value: 1.0.\n",
      "[I 2024-11-05 12:51:37,384] Trial 9 finished with value: 1.0 and parameters: {'n_units_1': 131, 'n_units_2': 61, 'dropout_rate': 0.2120301856468826}. Best is trial 0 with value: 1.0.\n"
     ]
    },
    {
     "name": "stdout",
     "output_type": "stream",
     "text": [
      "\u001b[1m3/3\u001b[0m \u001b[32m━━━━━━━━━━━━━━━━━━━━\u001b[0m\u001b[37m\u001b[0m \u001b[1m0s\u001b[0m 7ms/step  \n",
      "Dataset: Dataset_16, Score: 0.9928\n",
      "\u001b[1m10/10\u001b[0m \u001b[32m━━━━━━━━━━━━━━━━━━━━\u001b[0m\u001b[37m\u001b[0m \u001b[1m0s\u001b[0m 436us/step\n"
     ]
    },
    {
     "name": "stderr",
     "output_type": "stream",
     "text": [
      "[I 2024-11-05 12:51:39,092] A new study created in memory with name: no-name-20202ee1-7d29-49e2-8fff-9cdd7c509108\n"
     ]
    },
    {
     "name": "stdout",
     "output_type": "stream",
     "text": [
      "Dataset: Dataset_29\n",
      "X_train_split shape: (244, 13)\n",
      "y_train_split shape: (244, 1)\n",
      "X_val shape: (62, 13)\n",
      "y_val shape: (62, 1)\n"
     ]
    },
    {
     "name": "stderr",
     "output_type": "stream",
     "text": [
      "[I 2024-11-05 12:51:40,013] Trial 0 finished with value: 0.8225806355476379 and parameters: {'n_units_1': 96, 'n_units_2': 63, 'dropout_rate': 0.3168878223601425}. Best is trial 0 with value: 0.8225806355476379.\n",
      "[I 2024-11-05 12:51:40,863] Trial 1 finished with value: 0.8225806355476379 and parameters: {'n_units_1': 187, 'n_units_2': 63, 'dropout_rate': 0.29988527595732717}. Best is trial 0 with value: 0.8225806355476379.\n",
      "[I 2024-11-05 12:51:41,730] Trial 2 finished with value: 0.7903226017951965 and parameters: {'n_units_1': 222, 'n_units_2': 46, 'dropout_rate': 0.43966756374871013}. Best is trial 0 with value: 0.8225806355476379.\n",
      "[I 2024-11-05 12:51:42,577] Trial 3 finished with value: 0.8064516186714172 and parameters: {'n_units_1': 152, 'n_units_2': 119, 'dropout_rate': 0.4227838144723913}. Best is trial 0 with value: 0.8225806355476379.\n",
      "[I 2024-11-05 12:51:43,399] Trial 4 finished with value: 0.8064516186714172 and parameters: {'n_units_1': 147, 'n_units_2': 79, 'dropout_rate': 0.3925987145412952}. Best is trial 0 with value: 0.8225806355476379.\n",
      "[I 2024-11-05 12:51:44,306] Trial 5 finished with value: 0.774193525314331 and parameters: {'n_units_1': 152, 'n_units_2': 33, 'dropout_rate': 0.46542913800344315}. Best is trial 0 with value: 0.8225806355476379.\n",
      "[I 2024-11-05 12:51:45,327] Trial 6 finished with value: 0.8225806355476379 and parameters: {'n_units_1': 155, 'n_units_2': 99, 'dropout_rate': 0.4813052456924088}. Best is trial 0 with value: 0.8225806355476379.\n",
      "[I 2024-11-05 12:51:46,148] Trial 7 finished with value: 0.8225806355476379 and parameters: {'n_units_1': 221, 'n_units_2': 47, 'dropout_rate': 0.41003411311799415}. Best is trial 0 with value: 0.8225806355476379.\n",
      "[I 2024-11-05 12:51:47,014] Trial 8 finished with value: 0.8225806355476379 and parameters: {'n_units_1': 153, 'n_units_2': 60, 'dropout_rate': 0.3462979477287184}. Best is trial 0 with value: 0.8225806355476379.\n",
      "[I 2024-11-05 12:51:47,893] Trial 9 finished with value: 0.8548387289047241 and parameters: {'n_units_1': 97, 'n_units_2': 122, 'dropout_rate': 0.2736033893246879}. Best is trial 9 with value: 0.8548387289047241.\n"
     ]
    },
    {
     "name": "stdout",
     "output_type": "stream",
     "text": [
      "\u001b[1m2/2\u001b[0m \u001b[32m━━━━━━━━━━━━━━━━━━━━\u001b[0m\u001b[37m\u001b[0m \u001b[1m0s\u001b[0m 12ms/step\n",
      "Dataset: Dataset_29, Score: 0.8714\n",
      "\u001b[1m7/7\u001b[0m \u001b[32m━━━━━━━━━━━━━━━━━━━━\u001b[0m\u001b[37m\u001b[0m \u001b[1m0s\u001b[0m 426us/step\n"
     ]
    },
    {
     "name": "stderr",
     "output_type": "stream",
     "text": [
      "[I 2024-11-05 12:51:49,390] A new study created in memory with name: no-name-29fec701-d7b2-4d4c-91c8-2ba99b0fc829\n"
     ]
    },
    {
     "name": "stdout",
     "output_type": "stream",
     "text": [
      "Dataset: Dataset_11\n",
      "X_train_split shape: (46, 62)\n",
      "y_train_split shape: (46, 1)\n",
      "X_val shape: (12, 62)\n",
      "y_val shape: (12, 1)\n"
     ]
    },
    {
     "name": "stderr",
     "output_type": "stream",
     "text": [
      "[I 2024-11-05 12:51:50,187] Trial 0 finished with value: 0.5833333134651184 and parameters: {'n_units_1': 99, 'n_units_2': 98, 'dropout_rate': 0.38677181443364206}. Best is trial 0 with value: 0.5833333134651184.\n",
      "[I 2024-11-05 12:51:50,968] Trial 1 finished with value: 0.75 and parameters: {'n_units_1': 158, 'n_units_2': 35, 'dropout_rate': 0.4469158399675649}. Best is trial 1 with value: 0.75.\n",
      "[I 2024-11-05 12:51:51,749] Trial 2 finished with value: 0.5833333134651184 and parameters: {'n_units_1': 225, 'n_units_2': 71, 'dropout_rate': 0.3532251281278023}. Best is trial 1 with value: 0.75.\n",
      "[I 2024-11-05 12:51:52,537] Trial 3 finished with value: 0.5833333134651184 and parameters: {'n_units_1': 207, 'n_units_2': 126, 'dropout_rate': 0.27607193603300756}. Best is trial 1 with value: 0.75.\n",
      "[I 2024-11-05 12:51:53,300] Trial 4 finished with value: 0.75 and parameters: {'n_units_1': 101, 'n_units_2': 102, 'dropout_rate': 0.2730813578627764}. Best is trial 1 with value: 0.75.\n",
      "[I 2024-11-05 12:51:54,100] Trial 5 finished with value: 0.5833333134651184 and parameters: {'n_units_1': 158, 'n_units_2': 77, 'dropout_rate': 0.3469961360762895}. Best is trial 1 with value: 0.75.\n",
      "[I 2024-11-05 12:51:54,999] Trial 6 finished with value: 0.5833333134651184 and parameters: {'n_units_1': 132, 'n_units_2': 121, 'dropout_rate': 0.31317637390936776}. Best is trial 1 with value: 0.75.\n",
      "[I 2024-11-05 12:51:55,763] Trial 7 finished with value: 0.5833333134651184 and parameters: {'n_units_1': 186, 'n_units_2': 97, 'dropout_rate': 0.39535223595111446}. Best is trial 1 with value: 0.75.\n",
      "[I 2024-11-05 12:51:56,523] Trial 8 finished with value: 0.5833333134651184 and parameters: {'n_units_1': 174, 'n_units_2': 118, 'dropout_rate': 0.3867906931282967}. Best is trial 1 with value: 0.75.\n",
      "[I 2024-11-05 12:51:57,284] Trial 9 finished with value: 0.5833333134651184 and parameters: {'n_units_1': 200, 'n_units_2': 105, 'dropout_rate': 0.2310216461180791}. Best is trial 1 with value: 0.75.\n"
     ]
    },
    {
     "name": "stdout",
     "output_type": "stream",
     "text": [
      "\u001b[1m1/1\u001b[0m \u001b[32m━━━━━━━━━━━━━━━━━━━━\u001b[0m\u001b[37m\u001b[0m \u001b[1m0s\u001b[0m 18ms/step\n",
      "Dataset: Dataset_11, Score: 0.1750\n",
      "\u001b[1m2/2\u001b[0m \u001b[32m━━━━━━━━━━━━━━━━━━━━\u001b[0m\u001b[37m\u001b[0m \u001b[1m0s\u001b[0m 963us/step\n"
     ]
    },
    {
     "name": "stderr",
     "output_type": "stream",
     "text": [
      "[I 2024-11-05 12:51:58,619] A new study created in memory with name: no-name-6a6a248e-e73e-4468-88ff-138aa33c2be6\n"
     ]
    },
    {
     "name": "stdout",
     "output_type": "stream",
     "text": [
      "Dataset: Dataset_43\n",
      "X_train_split shape: (474, 4)\n",
      "y_train_split shape: (474, 1)\n",
      "X_val shape: (119, 4)\n",
      "y_val shape: (119, 1)\n"
     ]
    },
    {
     "name": "stderr",
     "output_type": "stream",
     "text": [
      "[I 2024-11-05 12:51:59,520] Trial 0 finished with value: 0.8907563090324402 and parameters: {'n_units_1': 92, 'n_units_2': 34, 'dropout_rate': 0.3021089826770954}. Best is trial 0 with value: 0.8907563090324402.\n",
      "[I 2024-11-05 12:52:00,489] Trial 1 finished with value: 0.8907563090324402 and parameters: {'n_units_1': 171, 'n_units_2': 69, 'dropout_rate': 0.3931538182701533}. Best is trial 0 with value: 0.8907563090324402.\n",
      "[I 2024-11-05 12:52:01,390] Trial 2 finished with value: 0.8907563090324402 and parameters: {'n_units_1': 74, 'n_units_2': 66, 'dropout_rate': 0.4418758040213726}. Best is trial 0 with value: 0.8907563090324402.\n",
      "[I 2024-11-05 12:52:02,319] Trial 3 finished with value: 0.8907563090324402 and parameters: {'n_units_1': 183, 'n_units_2': 40, 'dropout_rate': 0.2682901348913618}. Best is trial 0 with value: 0.8907563090324402.\n",
      "[I 2024-11-05 12:52:03,384] Trial 4 finished with value: 0.8907563090324402 and parameters: {'n_units_1': 112, 'n_units_2': 46, 'dropout_rate': 0.4365062908244744}. Best is trial 0 with value: 0.8907563090324402.\n",
      "[I 2024-11-05 12:52:04,265] Trial 5 finished with value: 0.8907563090324402 and parameters: {'n_units_1': 125, 'n_units_2': 57, 'dropout_rate': 0.35780419559821025}. Best is trial 0 with value: 0.8907563090324402.\n",
      "[I 2024-11-05 12:52:05,149] Trial 6 finished with value: 0.8907563090324402 and parameters: {'n_units_1': 188, 'n_units_2': 66, 'dropout_rate': 0.24963668842854253}. Best is trial 0 with value: 0.8907563090324402.\n",
      "[I 2024-11-05 12:52:07,080] Trial 7 finished with value: 0.8907563090324402 and parameters: {'n_units_1': 251, 'n_units_2': 126, 'dropout_rate': 0.2784606197978279}. Best is trial 0 with value: 0.8907563090324402.\n",
      "[I 2024-11-05 12:52:08,017] Trial 8 finished with value: 0.8907563090324402 and parameters: {'n_units_1': 192, 'n_units_2': 95, 'dropout_rate': 0.39404085393680527}. Best is trial 0 with value: 0.8907563090324402.\n",
      "[I 2024-11-05 12:52:08,925] Trial 9 finished with value: 0.8907563090324402 and parameters: {'n_units_1': 134, 'n_units_2': 119, 'dropout_rate': 0.21220073636139555}. Best is trial 0 with value: 0.8907563090324402.\n"
     ]
    },
    {
     "name": "stdout",
     "output_type": "stream",
     "text": [
      "\u001b[1m4/4\u001b[0m \u001b[32m━━━━━━━━━━━━━━━━━━━━\u001b[0m\u001b[37m\u001b[0m \u001b[1m0s\u001b[0m 4ms/step  \n",
      "Dataset: Dataset_43, Score: 0.2622\n",
      "\u001b[1m13/13\u001b[0m \u001b[32m━━━━━━━━━━━━━━━━━━━━\u001b[0m\u001b[37m\u001b[0m \u001b[1m0s\u001b[0m 392us/step\n"
     ]
    },
    {
     "name": "stderr",
     "output_type": "stream",
     "text": [
      "[I 2024-11-05 12:52:10,585] A new study created in memory with name: no-name-e8bd738b-413a-46d2-abfe-d1accf00598b\n"
     ]
    },
    {
     "name": "stdout",
     "output_type": "stream",
     "text": [
      "Dataset: Dataset_44\n",
      "X_train_split shape: (48, 6)\n",
      "y_train_split shape: (48, 1)\n",
      "X_val shape: (12, 6)\n",
      "y_val shape: (12, 1)\n"
     ]
    },
    {
     "name": "stderr",
     "output_type": "stream",
     "text": [
      "[I 2024-11-05 12:52:11,380] Trial 0 finished with value: 0.9166666865348816 and parameters: {'n_units_1': 112, 'n_units_2': 115, 'dropout_rate': 0.475003085418142}. Best is trial 0 with value: 0.9166666865348816.\n",
      "[I 2024-11-05 12:52:12,156] Trial 1 finished with value: 1.0 and parameters: {'n_units_1': 155, 'n_units_2': 125, 'dropout_rate': 0.30102185068681603}. Best is trial 1 with value: 1.0.\n",
      "[I 2024-11-05 12:52:12,939] Trial 2 finished with value: 1.0 and parameters: {'n_units_1': 223, 'n_units_2': 56, 'dropout_rate': 0.22214136635827506}. Best is trial 1 with value: 1.0.\n",
      "[I 2024-11-05 12:52:13,719] Trial 3 finished with value: 0.9166666865348816 and parameters: {'n_units_1': 90, 'n_units_2': 121, 'dropout_rate': 0.3687496573064907}. Best is trial 1 with value: 1.0.\n",
      "[I 2024-11-05 12:52:14,514] Trial 4 finished with value: 1.0 and parameters: {'n_units_1': 70, 'n_units_2': 116, 'dropout_rate': 0.29728349626798056}. Best is trial 1 with value: 1.0.\n",
      "[I 2024-11-05 12:52:15,467] Trial 5 finished with value: 1.0 and parameters: {'n_units_1': 104, 'n_units_2': 35, 'dropout_rate': 0.38981709931576486}. Best is trial 1 with value: 1.0.\n",
      "[I 2024-11-05 12:52:16,232] Trial 6 finished with value: 1.0 and parameters: {'n_units_1': 184, 'n_units_2': 79, 'dropout_rate': 0.20739058216746267}. Best is trial 1 with value: 1.0.\n",
      "[I 2024-11-05 12:52:16,989] Trial 7 finished with value: 1.0 and parameters: {'n_units_1': 151, 'n_units_2': 102, 'dropout_rate': 0.41327637699936826}. Best is trial 1 with value: 1.0.\n",
      "[I 2024-11-05 12:52:17,740] Trial 8 finished with value: 1.0 and parameters: {'n_units_1': 166, 'n_units_2': 58, 'dropout_rate': 0.39299668048481756}. Best is trial 1 with value: 1.0.\n",
      "[I 2024-11-05 12:52:18,501] Trial 9 finished with value: 1.0 and parameters: {'n_units_1': 178, 'n_units_2': 80, 'dropout_rate': 0.21741155072546317}. Best is trial 1 with value: 1.0.\n"
     ]
    },
    {
     "name": "stdout",
     "output_type": "stream",
     "text": [
      "\u001b[1m1/1\u001b[0m \u001b[32m━━━━━━━━━━━━━━━━━━━━\u001b[0m\u001b[37m\u001b[0m \u001b[1m0s\u001b[0m 23ms/step\n",
      "Dataset: Dataset_44, Score: 1.0000\n",
      "\u001b[1m2/2\u001b[0m \u001b[32m━━━━━━━━━━━━━━━━━━━━\u001b[0m\u001b[37m\u001b[0m \u001b[1m0s\u001b[0m 900us/step\n"
     ]
    },
    {
     "name": "stderr",
     "output_type": "stream",
     "text": [
      "[I 2024-11-05 12:52:19,868] A new study created in memory with name: no-name-36899a5b-5c36-48b1-8f43-5d1c3c61aa01\n"
     ]
    },
    {
     "name": "stdout",
     "output_type": "stream",
     "text": [
      "Dataset: Dataset_10\n",
      "X_train_split shape: (373, 11)\n",
      "y_train_split shape: (373, 1)\n",
      "X_val shape: (94, 11)\n",
      "y_val shape: (94, 1)\n"
     ]
    },
    {
     "name": "stderr",
     "output_type": "stream",
     "text": [
      "[I 2024-11-05 12:52:20,846] Trial 0 finished with value: 0.7659574747085571 and parameters: {'n_units_1': 117, 'n_units_2': 61, 'dropout_rate': 0.3228074611341503}. Best is trial 0 with value: 0.7659574747085571.\n",
      "[I 2024-11-05 12:52:21,712] Trial 1 finished with value: 0.7659574747085571 and parameters: {'n_units_1': 221, 'n_units_2': 33, 'dropout_rate': 0.3555422962921734}. Best is trial 0 with value: 0.7659574747085571.\n",
      "[I 2024-11-05 12:52:22,607] Trial 2 finished with value: 0.7872340679168701 and parameters: {'n_units_1': 136, 'n_units_2': 117, 'dropout_rate': 0.2778278629637335}. Best is trial 2 with value: 0.7872340679168701.\n",
      "[I 2024-11-05 12:52:23,486] Trial 3 finished with value: 0.7872340679168701 and parameters: {'n_units_1': 228, 'n_units_2': 85, 'dropout_rate': 0.34811699278742086}. Best is trial 2 with value: 0.7872340679168701.\n",
      "[I 2024-11-05 12:52:24,579] Trial 4 finished with value: 0.7765957713127136 and parameters: {'n_units_1': 188, 'n_units_2': 56, 'dropout_rate': 0.2912150563083498}. Best is trial 2 with value: 0.7872340679168701.\n",
      "[I 2024-11-05 12:52:25,456] Trial 5 finished with value: 0.7659574747085571 and parameters: {'n_units_1': 189, 'n_units_2': 119, 'dropout_rate': 0.38280246552216834}. Best is trial 2 with value: 0.7872340679168701.\n",
      "[I 2024-11-05 12:52:26,303] Trial 6 finished with value: 0.7659574747085571 and parameters: {'n_units_1': 74, 'n_units_2': 49, 'dropout_rate': 0.20298906359354174}. Best is trial 2 with value: 0.7872340679168701.\n",
      "[I 2024-11-05 12:52:27,168] Trial 7 finished with value: 0.7765957713127136 and parameters: {'n_units_1': 184, 'n_units_2': 74, 'dropout_rate': 0.3363740598975885}. Best is trial 2 with value: 0.7872340679168701.\n",
      "[I 2024-11-05 12:52:28,038] Trial 8 finished with value: 0.7872340679168701 and parameters: {'n_units_1': 203, 'n_units_2': 87, 'dropout_rate': 0.41510483804521}. Best is trial 2 with value: 0.7872340679168701.\n",
      "[I 2024-11-05 12:52:28,884] Trial 9 finished with value: 0.7553191781044006 and parameters: {'n_units_1': 66, 'n_units_2': 53, 'dropout_rate': 0.2602430816805405}. Best is trial 2 with value: 0.7872340679168701.\n"
     ]
    },
    {
     "name": "stdout",
     "output_type": "stream",
     "text": [
      "\u001b[1m3/3\u001b[0m \u001b[32m━━━━━━━━━━━━━━━━━━━━\u001b[0m\u001b[37m\u001b[0m \u001b[1m0s\u001b[0m 6ms/step \n",
      "Dataset: Dataset_10, Score: 0.7617\n",
      "\u001b[1m10/10\u001b[0m \u001b[32m━━━━━━━━━━━━━━━━━━━━\u001b[0m\u001b[37m\u001b[0m \u001b[1m0s\u001b[0m 428us/step\n"
     ]
    },
    {
     "name": "stderr",
     "output_type": "stream",
     "text": [
      "[I 2024-11-05 12:52:30,535] A new study created in memory with name: no-name-bce17643-56f3-449e-8f08-7130609fbf0e\n"
     ]
    },
    {
     "name": "stdout",
     "output_type": "stream",
     "text": [
      "Dataset: Dataset_17\n",
      "X_train_split shape: (96, 24)\n",
      "y_train_split shape: (96, 1)\n",
      "X_val shape: (24, 24)\n",
      "y_val shape: (24, 1)\n"
     ]
    },
    {
     "name": "stderr",
     "output_type": "stream",
     "text": [
      "[I 2024-11-05 12:52:31,282] Trial 0 finished with value: 0.9166666865348816 and parameters: {'n_units_1': 176, 'n_units_2': 108, 'dropout_rate': 0.3254784548071455}. Best is trial 0 with value: 0.9166666865348816.\n",
      "[I 2024-11-05 12:52:31,998] Trial 1 finished with value: 0.8333333134651184 and parameters: {'n_units_1': 204, 'n_units_2': 97, 'dropout_rate': 0.3686711436752487}. Best is trial 0 with value: 0.9166666865348816.\n",
      "[I 2024-11-05 12:52:32,714] Trial 2 finished with value: 0.8333333134651184 and parameters: {'n_units_1': 216, 'n_units_2': 124, 'dropout_rate': 0.20173415186847948}. Best is trial 0 with value: 0.9166666865348816.\n",
      "[I 2024-11-05 12:52:33,465] Trial 3 finished with value: 0.8333333134651184 and parameters: {'n_units_1': 208, 'n_units_2': 97, 'dropout_rate': 0.3453238230459579}. Best is trial 0 with value: 0.9166666865348816.\n",
      "[I 2024-11-05 12:52:34,180] Trial 4 finished with value: 0.8333333134651184 and parameters: {'n_units_1': 105, 'n_units_2': 106, 'dropout_rate': 0.28856951635771755}. Best is trial 0 with value: 0.9166666865348816.\n",
      "[I 2024-11-05 12:52:34,900] Trial 5 finished with value: 0.8333333134651184 and parameters: {'n_units_1': 236, 'n_units_2': 92, 'dropout_rate': 0.4329647357505415}. Best is trial 0 with value: 0.9166666865348816.\n",
      "[I 2024-11-05 12:52:35,633] Trial 6 finished with value: 0.875 and parameters: {'n_units_1': 193, 'n_units_2': 98, 'dropout_rate': 0.23041598762166732}. Best is trial 0 with value: 0.9166666865348816.\n",
      "[I 2024-11-05 12:52:36,612] Trial 7 finished with value: 0.8333333134651184 and parameters: {'n_units_1': 118, 'n_units_2': 84, 'dropout_rate': 0.23055137927626437}. Best is trial 0 with value: 0.9166666865348816.\n",
      "[I 2024-11-05 12:52:37,333] Trial 8 finished with value: 0.875 and parameters: {'n_units_1': 141, 'n_units_2': 98, 'dropout_rate': 0.2489897274531454}. Best is trial 0 with value: 0.9166666865348816.\n",
      "[I 2024-11-05 12:52:38,049] Trial 9 finished with value: 0.8333333134651184 and parameters: {'n_units_1': 217, 'n_units_2': 65, 'dropout_rate': 0.21966410805170866}. Best is trial 0 with value: 0.9166666865348816.\n"
     ]
    },
    {
     "name": "stdout",
     "output_type": "stream",
     "text": [
      "\u001b[1m1/1\u001b[0m \u001b[32m━━━━━━━━━━━━━━━━━━━━\u001b[0m\u001b[37m\u001b[0m \u001b[1m0s\u001b[0m 17ms/step\n",
      "Dataset: Dataset_17, Score: 0.7885\n",
      "\u001b[1m3/3\u001b[0m \u001b[32m━━━━━━━━━━━━━━━━━━━━\u001b[0m\u001b[37m\u001b[0m \u001b[1m0s\u001b[0m 780us/step\n"
     ]
    },
    {
     "name": "stderr",
     "output_type": "stream",
     "text": [
      "[I 2024-11-05 12:52:39,338] A new study created in memory with name: no-name-8f6df5f6-cf7a-4b82-9a8d-bc75613bb151\n"
     ]
    },
    {
     "name": "stdout",
     "output_type": "stream",
     "text": [
      "Dataset: Dataset_28\n",
      "X_train_split shape: (368, 8)\n",
      "y_train_split shape: (368, 1)\n",
      "X_val shape: (92, 8)\n",
      "y_val shape: (92, 1)\n"
     ]
    },
    {
     "name": "stderr",
     "output_type": "stream",
     "text": [
      "[I 2024-11-05 12:52:41,516] Trial 0 finished with value: 0.8152173757553101 and parameters: {'n_units_1': 96, 'n_units_2': 105, 'dropout_rate': 0.27269757689784424}. Best is trial 0 with value: 0.8152173757553101.\n",
      "[I 2024-11-05 12:52:42,470] Trial 1 finished with value: 0.804347813129425 and parameters: {'n_units_1': 153, 'n_units_2': 49, 'dropout_rate': 0.2036964199578168}. Best is trial 0 with value: 0.8152173757553101.\n",
      "[I 2024-11-05 12:52:43,388] Trial 2 finished with value: 0.804347813129425 and parameters: {'n_units_1': 224, 'n_units_2': 98, 'dropout_rate': 0.38292131403351815}. Best is trial 0 with value: 0.8152173757553101.\n",
      "[I 2024-11-05 12:52:44,268] Trial 3 finished with value: 0.8152173757553101 and parameters: {'n_units_1': 116, 'n_units_2': 87, 'dropout_rate': 0.3770246574328298}. Best is trial 0 with value: 0.8152173757553101.\n",
      "[I 2024-11-05 12:52:45,375] Trial 4 finished with value: 0.782608687877655 and parameters: {'n_units_1': 212, 'n_units_2': 36, 'dropout_rate': 0.40305616288283574}. Best is trial 0 with value: 0.8152173757553101.\n",
      "[I 2024-11-05 12:52:46,229] Trial 5 finished with value: 0.8260869383811951 and parameters: {'n_units_1': 95, 'n_units_2': 42, 'dropout_rate': 0.22342539028159858}. Best is trial 5 with value: 0.8260869383811951.\n",
      "[I 2024-11-05 12:52:47,137] Trial 6 finished with value: 0.8152173757553101 and parameters: {'n_units_1': 93, 'n_units_2': 48, 'dropout_rate': 0.21356825218686523}. Best is trial 5 with value: 0.8260869383811951.\n",
      "[I 2024-11-05 12:52:48,004] Trial 7 finished with value: 0.804347813129425 and parameters: {'n_units_1': 82, 'n_units_2': 103, 'dropout_rate': 0.32661117241034693}. Best is trial 5 with value: 0.8260869383811951.\n",
      "[I 2024-11-05 12:52:48,864] Trial 8 finished with value: 0.79347825050354 and parameters: {'n_units_1': 134, 'n_units_2': 76, 'dropout_rate': 0.3110050117700752}. Best is trial 5 with value: 0.8260869383811951.\n",
      "[I 2024-11-05 12:52:49,721] Trial 9 finished with value: 0.79347825050354 and parameters: {'n_units_1': 114, 'n_units_2': 105, 'dropout_rate': 0.3774660715232199}. Best is trial 5 with value: 0.8260869383811951.\n"
     ]
    },
    {
     "name": "stdout",
     "output_type": "stream",
     "text": [
      "\u001b[1m3/3\u001b[0m \u001b[32m━━━━━━━━━━━━━━━━━━━━\u001b[0m\u001b[37m\u001b[0m \u001b[1m0s\u001b[0m 6ms/step  \n",
      "Dataset: Dataset_28, Score: 0.6719\n",
      "\u001b[1m10/10\u001b[0m \u001b[32m━━━━━━━━━━━━━━━━━━━━\u001b[0m\u001b[37m\u001b[0m \u001b[1m0s\u001b[0m 365us/step\n"
     ]
    },
    {
     "name": "stderr",
     "output_type": "stream",
     "text": [
      "[I 2024-11-05 12:52:51,292] A new study created in memory with name: no-name-7776190b-d952-4f58-ab8d-498b6c8d4f02\n"
     ]
    },
    {
     "name": "stdout",
     "output_type": "stream",
     "text": [
      "Dataset: Dataset_21\n",
      "X_train_split shape: (242, 17)\n",
      "y_train_split shape: (242, 1)\n",
      "X_val shape: (61, 17)\n",
      "y_val shape: (61, 1)\n"
     ]
    },
    {
     "name": "stderr",
     "output_type": "stream",
     "text": [
      "[I 2024-11-05 12:52:52,176] Trial 0 finished with value: 0.9016393423080444 and parameters: {'n_units_1': 215, 'n_units_2': 119, 'dropout_rate': 0.24360966191321898}. Best is trial 0 with value: 0.9016393423080444.\n",
      "[I 2024-11-05 12:52:53,030] Trial 1 finished with value: 0.9180327653884888 and parameters: {'n_units_1': 218, 'n_units_2': 87, 'dropout_rate': 0.24574769424402926}. Best is trial 1 with value: 0.9180327653884888.\n",
      "[I 2024-11-05 12:52:53,872] Trial 2 finished with value: 0.8524590134620667 and parameters: {'n_units_1': 155, 'n_units_2': 35, 'dropout_rate': 0.49443857508847705}. Best is trial 1 with value: 0.9180327653884888.\n",
      "[I 2024-11-05 12:52:54,715] Trial 3 finished with value: 0.8852459192276001 and parameters: {'n_units_1': 233, 'n_units_2': 53, 'dropout_rate': 0.29553289630183355}. Best is trial 1 with value: 0.9180327653884888.\n",
      "[I 2024-11-05 12:52:55,545] Trial 4 finished with value: 0.8852459192276001 and parameters: {'n_units_1': 157, 'n_units_2': 118, 'dropout_rate': 0.3195905646476571}. Best is trial 1 with value: 0.9180327653884888.\n",
      "[I 2024-11-05 12:52:56,550] Trial 5 finished with value: 0.8852459192276001 and parameters: {'n_units_1': 213, 'n_units_2': 50, 'dropout_rate': 0.370241388455015}. Best is trial 1 with value: 0.9180327653884888.\n",
      "[I 2024-11-05 12:52:57,489] Trial 6 finished with value: 0.8852459192276001 and parameters: {'n_units_1': 212, 'n_units_2': 43, 'dropout_rate': 0.416842874363359}. Best is trial 1 with value: 0.9180327653884888.\n",
      "[I 2024-11-05 12:52:58,320] Trial 7 finished with value: 0.8852459192276001 and parameters: {'n_units_1': 229, 'n_units_2': 95, 'dropout_rate': 0.4955243935292288}. Best is trial 1 with value: 0.9180327653884888.\n",
      "[I 2024-11-05 12:52:59,137] Trial 8 finished with value: 0.868852436542511 and parameters: {'n_units_1': 86, 'n_units_2': 96, 'dropout_rate': 0.35947782527878547}. Best is trial 1 with value: 0.9180327653884888.\n",
      "[I 2024-11-05 12:52:59,957] Trial 9 finished with value: 0.9016393423080444 and parameters: {'n_units_1': 149, 'n_units_2': 36, 'dropout_rate': 0.2248165528820666}. Best is trial 1 with value: 0.9180327653884888.\n"
     ]
    },
    {
     "name": "stdout",
     "output_type": "stream",
     "text": [
      "\u001b[1m2/2\u001b[0m \u001b[32m━━━━━━━━━━━━━━━━━━━━\u001b[0m\u001b[37m\u001b[0m \u001b[1m0s\u001b[0m 12ms/step\n",
      "Dataset: Dataset_21, Score: 0.8334\n",
      "\u001b[1m7/7\u001b[0m \u001b[32m━━━━━━━━━━━━━━━━━━━━\u001b[0m\u001b[37m\u001b[0m \u001b[1m0s\u001b[0m 494us/step\n"
     ]
    },
    {
     "name": "stderr",
     "output_type": "stream",
     "text": [
      "[I 2024-11-05 12:53:01,478] A new study created in memory with name: no-name-974cb3b4-bf88-4912-b417-6ccb150125dc\n"
     ]
    },
    {
     "name": "stdout",
     "output_type": "stream",
     "text": [
      "Dataset: Dataset_26\n",
      "X_train_split shape: (143, 27)\n",
      "y_train_split shape: (143, 1)\n",
      "X_val shape: (36, 27)\n",
      "y_val shape: (36, 1)\n"
     ]
    },
    {
     "name": "stderr",
     "output_type": "stream",
     "text": [
      "[I 2024-11-05 12:53:02,308] Trial 0 finished with value: 0.8055555820465088 and parameters: {'n_units_1': 172, 'n_units_2': 71, 'dropout_rate': 0.38406432118791933}. Best is trial 0 with value: 0.8055555820465088.\n",
      "[I 2024-11-05 12:53:03,148] Trial 1 finished with value: 0.8055555820465088 and parameters: {'n_units_1': 85, 'n_units_2': 119, 'dropout_rate': 0.3538389586664915}. Best is trial 0 with value: 0.8055555820465088.\n",
      "[I 2024-11-05 12:53:03,963] Trial 2 finished with value: 0.8055555820465088 and parameters: {'n_units_1': 132, 'n_units_2': 70, 'dropout_rate': 0.4928266990486683}. Best is trial 0 with value: 0.8055555820465088.\n",
      "[I 2024-11-05 12:53:04,783] Trial 3 finished with value: 0.8055555820465088 and parameters: {'n_units_1': 235, 'n_units_2': 126, 'dropout_rate': 0.327772029762378}. Best is trial 0 with value: 0.8055555820465088.\n",
      "[I 2024-11-05 12:53:05,675] Trial 4 finished with value: 0.8055555820465088 and parameters: {'n_units_1': 137, 'n_units_2': 48, 'dropout_rate': 0.43394283547998524}. Best is trial 0 with value: 0.8055555820465088.\n",
      "[I 2024-11-05 12:53:06,615] Trial 5 finished with value: 0.8055555820465088 and parameters: {'n_units_1': 120, 'n_units_2': 52, 'dropout_rate': 0.20413956865180488}. Best is trial 0 with value: 0.8055555820465088.\n",
      "[I 2024-11-05 12:53:07,410] Trial 6 finished with value: 0.8055555820465088 and parameters: {'n_units_1': 151, 'n_units_2': 61, 'dropout_rate': 0.4126147045278621}. Best is trial 0 with value: 0.8055555820465088.\n",
      "[I 2024-11-05 12:53:08,218] Trial 7 finished with value: 0.8055555820465088 and parameters: {'n_units_1': 245, 'n_units_2': 108, 'dropout_rate': 0.29558636277653133}. Best is trial 0 with value: 0.8055555820465088.\n",
      "[I 2024-11-05 12:53:09,024] Trial 8 finished with value: 0.7777777910232544 and parameters: {'n_units_1': 152, 'n_units_2': 101, 'dropout_rate': 0.21616670802620933}. Best is trial 0 with value: 0.8055555820465088.\n",
      "[I 2024-11-05 12:53:09,824] Trial 9 finished with value: 0.75 and parameters: {'n_units_1': 166, 'n_units_2': 39, 'dropout_rate': 0.40016527133389884}. Best is trial 0 with value: 0.8055555820465088.\n"
     ]
    },
    {
     "name": "stdout",
     "output_type": "stream",
     "text": [
      "\u001b[1m2/2\u001b[0m \u001b[32m━━━━━━━━━━━━━━━━━━━━\u001b[0m\u001b[37m\u001b[0m \u001b[1m0s\u001b[0m 12ms/step\n",
      "Dataset: Dataset_26, Score: 0.6576\n",
      "\u001b[1m4/4\u001b[0m \u001b[32m━━━━━━━━━━━━━━━━━━━━\u001b[0m\u001b[37m\u001b[0m \u001b[1m0s\u001b[0m 514us/step\n"
     ]
    },
    {
     "name": "stderr",
     "output_type": "stream",
     "text": [
      "[I 2024-11-05 12:53:11,299] A new study created in memory with name: no-name-558cdd65-9227-45ea-b2ba-ae6a724017e4\n"
     ]
    },
    {
     "name": "stdout",
     "output_type": "stream",
     "text": [
      "Dataset: Dataset_19\n",
      "X_train_split shape: (272, 30)\n",
      "y_train_split shape: (272, 1)\n",
      "X_val shape: (69, 30)\n",
      "y_val shape: (69, 1)\n"
     ]
    },
    {
     "name": "stderr",
     "output_type": "stream",
     "text": [
      "[I 2024-11-05 12:53:12,169] Trial 0 finished with value: 0.9420289993286133 and parameters: {'n_units_1': 151, 'n_units_2': 77, 'dropout_rate': 0.4472033322384706}. Best is trial 0 with value: 0.9420289993286133.\n",
      "[I 2024-11-05 12:53:13,027] Trial 1 finished with value: 0.9275362491607666 and parameters: {'n_units_1': 125, 'n_units_2': 84, 'dropout_rate': 0.41002993760228634}. Best is trial 0 with value: 0.9420289993286133.\n",
      "[I 2024-11-05 12:53:13,917] Trial 2 finished with value: 0.9420289993286133 and parameters: {'n_units_1': 222, 'n_units_2': 113, 'dropout_rate': 0.40019497737698717}. Best is trial 0 with value: 0.9420289993286133.\n",
      "[I 2024-11-05 12:53:14,779] Trial 3 finished with value: 0.9275362491607666 and parameters: {'n_units_1': 221, 'n_units_2': 88, 'dropout_rate': 0.262124713175801}. Best is trial 0 with value: 0.9420289993286133.\n",
      "[I 2024-11-05 12:53:15,793] Trial 4 finished with value: 0.9420289993286133 and parameters: {'n_units_1': 66, 'n_units_2': 93, 'dropout_rate': 0.3419082011065761}. Best is trial 0 with value: 0.9420289993286133.\n",
      "[I 2024-11-05 12:53:16,733] Trial 5 finished with value: 0.9420289993286133 and parameters: {'n_units_1': 233, 'n_units_2': 81, 'dropout_rate': 0.3581351314219227}. Best is trial 0 with value: 0.9420289993286133.\n",
      "[I 2024-11-05 12:53:17,573] Trial 6 finished with value: 0.9130434989929199 and parameters: {'n_units_1': 111, 'n_units_2': 115, 'dropout_rate': 0.34688399563886874}. Best is trial 0 with value: 0.9420289993286133.\n",
      "[I 2024-11-05 12:53:18,409] Trial 7 finished with value: 0.9420289993286133 and parameters: {'n_units_1': 135, 'n_units_2': 113, 'dropout_rate': 0.23309678958432808}. Best is trial 0 with value: 0.9420289993286133.\n",
      "[I 2024-11-05 12:53:19,257] Trial 8 finished with value: 0.9420289993286133 and parameters: {'n_units_1': 225, 'n_units_2': 100, 'dropout_rate': 0.49120455766093213}. Best is trial 0 with value: 0.9420289993286133.\n",
      "[I 2024-11-05 12:53:21,565] Trial 9 finished with value: 0.9420289993286133 and parameters: {'n_units_1': 221, 'n_units_2': 60, 'dropout_rate': 0.4555560930675488}. Best is trial 0 with value: 0.9420289993286133.\n"
     ]
    },
    {
     "name": "stdout",
     "output_type": "stream",
     "text": [
      "\u001b[1m3/3\u001b[0m \u001b[32m━━━━━━━━━━━━━━━━━━━━\u001b[0m\u001b[37m\u001b[0m \u001b[1m0s\u001b[0m 7ms/step  \n",
      "Dataset: Dataset_19, Score: 0.8838\n",
      "\u001b[1m8/8\u001b[0m \u001b[32m━━━━━━━━━━━━━━━━━━━━\u001b[0m\u001b[37m\u001b[0m \u001b[1m0s\u001b[0m 513us/step\n"
     ]
    },
    {
     "name": "stderr",
     "output_type": "stream",
     "text": [
      "[I 2024-11-05 12:53:23,202] A new study created in memory with name: no-name-ab4d4f77-b01b-4a55-a061-3ac4f52e8368\n"
     ]
    },
    {
     "name": "stdout",
     "output_type": "stream",
     "text": [
      "Dataset: Dataset_8\n",
      "X_train_split shape: (143, 12)\n",
      "y_train_split shape: (143, 1)\n",
      "X_val shape: (36, 12)\n",
      "y_val shape: (36, 1)\n"
     ]
    },
    {
     "name": "stderr",
     "output_type": "stream",
     "text": [
      "[I 2024-11-05 12:53:24,093] Trial 0 finished with value: 0.8888888955116272 and parameters: {'n_units_1': 158, 'n_units_2': 61, 'dropout_rate': 0.3981862888968592}. Best is trial 0 with value: 0.8888888955116272.\n",
      "[I 2024-11-05 12:53:24,956] Trial 1 finished with value: 0.8611111044883728 and parameters: {'n_units_1': 217, 'n_units_2': 125, 'dropout_rate': 0.25926026574810784}. Best is trial 0 with value: 0.8888888955116272.\n",
      "[I 2024-11-05 12:53:25,797] Trial 2 finished with value: 0.8333333134651184 and parameters: {'n_units_1': 121, 'n_units_2': 44, 'dropout_rate': 0.4949757927484244}. Best is trial 0 with value: 0.8888888955116272.\n",
      "[I 2024-11-05 12:53:26,620] Trial 3 finished with value: 0.8333333134651184 and parameters: {'n_units_1': 99, 'n_units_2': 120, 'dropout_rate': 0.43759558426209405}. Best is trial 0 with value: 0.8888888955116272.\n",
      "[I 2024-11-05 12:53:27,597] Trial 4 finished with value: 0.8333333134651184 and parameters: {'n_units_1': 96, 'n_units_2': 54, 'dropout_rate': 0.23242533410499797}. Best is trial 0 with value: 0.8888888955116272.\n",
      "[I 2024-11-05 12:53:28,531] Trial 5 finished with value: 0.8055555820465088 and parameters: {'n_units_1': 75, 'n_units_2': 56, 'dropout_rate': 0.37397612621147586}. Best is trial 0 with value: 0.8888888955116272.\n",
      "[I 2024-11-05 12:53:29,353] Trial 6 finished with value: 0.8611111044883728 and parameters: {'n_units_1': 247, 'n_units_2': 105, 'dropout_rate': 0.23616484596967824}. Best is trial 0 with value: 0.8888888955116272.\n",
      "[I 2024-11-05 12:53:30,180] Trial 7 finished with value: 0.8333333134651184 and parameters: {'n_units_1': 123, 'n_units_2': 47, 'dropout_rate': 0.49821905461468374}. Best is trial 0 with value: 0.8888888955116272.\n",
      "[I 2024-11-05 12:53:31,056] Trial 8 finished with value: 0.8888888955116272 and parameters: {'n_units_1': 175, 'n_units_2': 99, 'dropout_rate': 0.3512193157070884}. Best is trial 0 with value: 0.8888888955116272.\n",
      "[I 2024-11-05 12:53:31,863] Trial 9 finished with value: 0.8611111044883728 and parameters: {'n_units_1': 235, 'n_units_2': 90, 'dropout_rate': 0.4044196622731594}. Best is trial 0 with value: 0.8888888955116272.\n"
     ]
    },
    {
     "name": "stdout",
     "output_type": "stream",
     "text": [
      "\u001b[1m2/2\u001b[0m \u001b[32m━━━━━━━━━━━━━━━━━━━━\u001b[0m\u001b[37m\u001b[0m \u001b[1m0s\u001b[0m 12ms/step\n",
      "Dataset: Dataset_8, Score: 0.7519\n",
      "\u001b[1m4/4\u001b[0m \u001b[32m━━━━━━━━━━━━━━━━━━━━\u001b[0m\u001b[37m\u001b[0m \u001b[1m0s\u001b[0m 696us/step\n"
     ]
    },
    {
     "name": "stderr",
     "output_type": "stream",
     "text": [
      "[I 2024-11-05 12:53:33,317] A new study created in memory with name: no-name-49866f24-ac4c-4036-b6ba-79f81b9f0b48\n"
     ]
    },
    {
     "name": "stdout",
     "output_type": "stream",
     "text": [
      "Dataset: Dataset_38\n",
      "X_train_split shape: (279, 11)\n",
      "y_train_split shape: (279, 1)\n",
      "X_val shape: (70, 11)\n",
      "y_val shape: (70, 1)\n"
     ]
    },
    {
     "name": "stderr",
     "output_type": "stream",
     "text": [
      "[I 2024-11-05 12:53:34,237] Trial 0 finished with value: 0.7428571581840515 and parameters: {'n_units_1': 222, 'n_units_2': 66, 'dropout_rate': 0.44921343231136557}. Best is trial 0 with value: 0.7428571581840515.\n",
      "[I 2024-11-05 12:53:35,120] Trial 1 finished with value: 0.7428571581840515 and parameters: {'n_units_1': 131, 'n_units_2': 126, 'dropout_rate': 0.3005663198276055}. Best is trial 0 with value: 0.7428571581840515.\n",
      "[I 2024-11-05 12:53:36,009] Trial 2 finished with value: 0.7285714149475098 and parameters: {'n_units_1': 187, 'n_units_2': 82, 'dropout_rate': 0.4122392636997467}. Best is trial 0 with value: 0.7428571581840515.\n",
      "[I 2024-11-05 12:53:36,875] Trial 3 finished with value: 0.7428571581840515 and parameters: {'n_units_1': 72, 'n_units_2': 69, 'dropout_rate': 0.41636795997177745}. Best is trial 0 with value: 0.7428571581840515.\n",
      "[I 2024-11-05 12:53:37,736] Trial 4 finished with value: 0.7428571581840515 and parameters: {'n_units_1': 100, 'n_units_2': 63, 'dropout_rate': 0.4906311298484565}. Best is trial 0 with value: 0.7428571581840515.\n",
      "[I 2024-11-05 12:53:38,940] Trial 5 finished with value: 0.7428571581840515 and parameters: {'n_units_1': 187, 'n_units_2': 35, 'dropout_rate': 0.44621267304986945}. Best is trial 0 with value: 0.7428571581840515.\n",
      "[I 2024-11-05 12:53:39,827] Trial 6 finished with value: 0.7285714149475098 and parameters: {'n_units_1': 201, 'n_units_2': 54, 'dropout_rate': 0.2233122529806695}. Best is trial 0 with value: 0.7428571581840515.\n",
      "[I 2024-11-05 12:53:40,678] Trial 7 finished with value: 0.7428571581840515 and parameters: {'n_units_1': 99, 'n_units_2': 99, 'dropout_rate': 0.30681723126276195}. Best is trial 0 with value: 0.7428571581840515.\n",
      "[I 2024-11-05 12:53:41,528] Trial 8 finished with value: 0.7571428418159485 and parameters: {'n_units_1': 168, 'n_units_2': 42, 'dropout_rate': 0.37392400835646106}. Best is trial 8 with value: 0.7571428418159485.\n",
      "[I 2024-11-05 12:53:42,370] Trial 9 finished with value: 0.7571428418159485 and parameters: {'n_units_1': 147, 'n_units_2': 47, 'dropout_rate': 0.31388119397947456}. Best is trial 8 with value: 0.7571428418159485.\n"
     ]
    },
    {
     "name": "stdout",
     "output_type": "stream",
     "text": [
      "\u001b[1m3/3\u001b[0m \u001b[32m━━━━━━━━━━━━━━━━━━━━\u001b[0m\u001b[37m\u001b[0m \u001b[1m0s\u001b[0m 6ms/step \n",
      "Dataset: Dataset_38, Score: 0.7689\n",
      "\u001b[1m8/8\u001b[0m \u001b[32m━━━━━━━━━━━━━━━━━━━━\u001b[0m\u001b[37m\u001b[0m \u001b[1m0s\u001b[0m 402us/step\n"
     ]
    },
    {
     "name": "stderr",
     "output_type": "stream",
     "text": [
      "[I 2024-11-05 12:53:43,950] A new study created in memory with name: no-name-b53dd21b-f426-43bf-b15a-6d98acf08d21\n"
     ]
    },
    {
     "name": "stdout",
     "output_type": "stream",
     "text": [
      "Dataset: Dataset_6\n",
      "X_train_split shape: (249, 16)\n",
      "y_train_split shape: (249, 1)\n",
      "X_val shape: (63, 16)\n",
      "y_val shape: (63, 1)\n"
     ]
    },
    {
     "name": "stderr",
     "output_type": "stream",
     "text": [
      "[I 2024-11-05 12:53:44,796] Trial 0 finished with value: 0.9365079402923584 and parameters: {'n_units_1': 130, 'n_units_2': 73, 'dropout_rate': 0.30359588697951945}. Best is trial 0 with value: 0.9365079402923584.\n",
      "[I 2024-11-05 12:53:45,632] Trial 1 finished with value: 0.9523809552192688 and parameters: {'n_units_1': 252, 'n_units_2': 60, 'dropout_rate': 0.26354629173285726}. Best is trial 1 with value: 0.9523809552192688.\n",
      "[I 2024-11-05 12:53:46,487] Trial 2 finished with value: 0.9523809552192688 and parameters: {'n_units_1': 152, 'n_units_2': 60, 'dropout_rate': 0.23946413671228195}. Best is trial 1 with value: 0.9523809552192688.\n",
      "[I 2024-11-05 12:53:47,425] Trial 3 finished with value: 0.9523809552192688 and parameters: {'n_units_1': 79, 'n_units_2': 112, 'dropout_rate': 0.4245330870297568}. Best is trial 1 with value: 0.9523809552192688.\n",
      "[I 2024-11-05 12:53:48,260] Trial 4 finished with value: 0.9365079402923584 and parameters: {'n_units_1': 245, 'n_units_2': 61, 'dropout_rate': 0.4722860044821666}. Best is trial 1 with value: 0.9523809552192688.\n",
      "[I 2024-11-05 12:53:49,265] Trial 5 finished with value: 0.9523809552192688 and parameters: {'n_units_1': 149, 'n_units_2': 107, 'dropout_rate': 0.4580328637084479}. Best is trial 1 with value: 0.9523809552192688.\n",
      "[I 2024-11-05 12:53:50,210] Trial 6 finished with value: 0.9523809552192688 and parameters: {'n_units_1': 96, 'n_units_2': 107, 'dropout_rate': 0.4493285065666158}. Best is trial 1 with value: 0.9523809552192688.\n",
      "[I 2024-11-05 12:53:51,042] Trial 7 finished with value: 0.9047619104385376 and parameters: {'n_units_1': 211, 'n_units_2': 67, 'dropout_rate': 0.4719217153224571}. Best is trial 1 with value: 0.9523809552192688.\n",
      "[I 2024-11-05 12:53:51,871] Trial 8 finished with value: 0.920634925365448 and parameters: {'n_units_1': 124, 'n_units_2': 51, 'dropout_rate': 0.393149817941186}. Best is trial 1 with value: 0.9523809552192688.\n",
      "[I 2024-11-05 12:53:52,718] Trial 9 finished with value: 0.9523809552192688 and parameters: {'n_units_1': 198, 'n_units_2': 125, 'dropout_rate': 0.29654529338993807}. Best is trial 1 with value: 0.9523809552192688.\n"
     ]
    },
    {
     "name": "stdout",
     "output_type": "stream",
     "text": [
      "\u001b[1m2/2\u001b[0m \u001b[32m━━━━━━━━━━━━━━━━━━━━\u001b[0m\u001b[37m\u001b[0m \u001b[1m0s\u001b[0m 12ms/step\n",
      "Dataset: Dataset_6, Score: 0.9318\n",
      "\u001b[1m7/7\u001b[0m \u001b[32m━━━━━━━━━━━━━━━━━━━━\u001b[0m\u001b[37m\u001b[0m \u001b[1m0s\u001b[0m 519us/step\n"
     ]
    },
    {
     "name": "stderr",
     "output_type": "stream",
     "text": [
      "[I 2024-11-05 12:53:54,239] A new study created in memory with name: no-name-bde61210-01fe-4287-abf7-cf8d0aefe0b2\n"
     ]
    },
    {
     "name": "stdout",
     "output_type": "stream",
     "text": [
      "Dataset: Dataset_31\n",
      "X_train_split shape: (64, 15)\n",
      "y_train_split shape: (64, 1)\n",
      "X_val shape: (17, 15)\n",
      "y_val shape: (17, 1)\n"
     ]
    },
    {
     "name": "stderr",
     "output_type": "stream",
     "text": [
      "[I 2024-11-05 12:53:55,009] Trial 0 finished with value: 0.7058823704719543 and parameters: {'n_units_1': 247, 'n_units_2': 90, 'dropout_rate': 0.3120185442014625}. Best is trial 0 with value: 0.7058823704719543.\n",
      "[I 2024-11-05 12:53:55,804] Trial 1 finished with value: 0.7058823704719543 and parameters: {'n_units_1': 250, 'n_units_2': 57, 'dropout_rate': 0.2930082958525686}. Best is trial 0 with value: 0.7058823704719543.\n",
      "[I 2024-11-05 12:53:56,543] Trial 2 finished with value: 0.7058823704719543 and parameters: {'n_units_1': 129, 'n_units_2': 85, 'dropout_rate': 0.3389697963404086}. Best is trial 0 with value: 0.7058823704719543.\n",
      "[I 2024-11-05 12:53:57,292] Trial 3 finished with value: 0.7058823704719543 and parameters: {'n_units_1': 136, 'n_units_2': 112, 'dropout_rate': 0.48099727105689905}. Best is trial 0 with value: 0.7058823704719543.\n",
      "[I 2024-11-05 12:53:58,011] Trial 4 finished with value: 0.7058823704719543 and parameters: {'n_units_1': 178, 'n_units_2': 37, 'dropout_rate': 0.4149626599665043}. Best is trial 0 with value: 0.7058823704719543.\n",
      "[I 2024-11-05 12:53:58,733] Trial 5 finished with value: 0.7058823704719543 and parameters: {'n_units_1': 99, 'n_units_2': 93, 'dropout_rate': 0.3689536596903385}. Best is trial 0 with value: 0.7058823704719543.\n",
      "[I 2024-11-05 12:53:59,624] Trial 6 finished with value: 0.7058823704719543 and parameters: {'n_units_1': 98, 'n_units_2': 88, 'dropout_rate': 0.3917477611521844}. Best is trial 0 with value: 0.7058823704719543.\n",
      "[I 2024-11-05 12:54:00,345] Trial 7 finished with value: 0.7058823704719543 and parameters: {'n_units_1': 138, 'n_units_2': 86, 'dropout_rate': 0.4515127044372205}. Best is trial 0 with value: 0.7058823704719543.\n",
      "[I 2024-11-05 12:54:01,063] Trial 8 finished with value: 0.7647058963775635 and parameters: {'n_units_1': 165, 'n_units_2': 69, 'dropout_rate': 0.2716508047385979}. Best is trial 8 with value: 0.7647058963775635.\n",
      "[I 2024-11-05 12:54:01,781] Trial 9 finished with value: 0.7058823704719543 and parameters: {'n_units_1': 203, 'n_units_2': 89, 'dropout_rate': 0.33546256778633465}. Best is trial 8 with value: 0.7647058963775635.\n"
     ]
    },
    {
     "name": "stdout",
     "output_type": "stream",
     "text": [
      "\u001b[1m1/1\u001b[0m \u001b[32m━━━━━━━━━━━━━━━━━━━━\u001b[0m\u001b[37m\u001b[0m \u001b[1m0s\u001b[0m 18ms/step\n",
      "Dataset: Dataset_31, Score: 0.6975\n",
      "\u001b[1m2/2\u001b[0m \u001b[32m━━━━━━━━━━━━━━━━━━━━\u001b[0m\u001b[37m\u001b[0m \u001b[1m0s\u001b[0m 877us/step\n"
     ]
    },
    {
     "name": "stderr",
     "output_type": "stream",
     "text": [
      "[I 2024-11-05 12:54:03,047] A new study created in memory with name: no-name-1754aaba-beb0-4648-9514-bb3ccc0a51cb\n"
     ]
    },
    {
     "name": "stdout",
     "output_type": "stream",
     "text": [
      "Dataset: Dataset_1\n",
      "X_train_split shape: (355, 20)\n",
      "y_train_split shape: (355, 1)\n",
      "X_val shape: (89, 20)\n",
      "y_val shape: (89, 1)\n"
     ]
    },
    {
     "name": "stderr",
     "output_type": "stream",
     "text": [
      "[I 2024-11-05 12:54:04,036] Trial 0 finished with value: 0.7865168452262878 and parameters: {'n_units_1': 180, 'n_units_2': 52, 'dropout_rate': 0.2700316460699194}. Best is trial 0 with value: 0.7865168452262878.\n",
      "[I 2024-11-05 12:54:04,917] Trial 1 finished with value: 0.7977527976036072 and parameters: {'n_units_1': 189, 'n_units_2': 54, 'dropout_rate': 0.3975544331940404}. Best is trial 1 with value: 0.7977527976036072.\n",
      "[I 2024-11-05 12:54:05,796] Trial 2 finished with value: 0.7865168452262878 and parameters: {'n_units_1': 197, 'n_units_2': 87, 'dropout_rate': 0.3535584392660341}. Best is trial 1 with value: 0.7977527976036072.\n",
      "[I 2024-11-05 12:54:06,664] Trial 3 finished with value: 0.7865168452262878 and parameters: {'n_units_1': 171, 'n_units_2': 51, 'dropout_rate': 0.2338410698489973}. Best is trial 1 with value: 0.7977527976036072.\n",
      "[I 2024-11-05 12:54:09,637] Trial 4 finished with value: 0.7752808928489685 and parameters: {'n_units_1': 87, 'n_units_2': 44, 'dropout_rate': 0.27927967504251294}. Best is trial 1 with value: 0.7977527976036072.\n",
      "[I 2024-11-05 12:54:10,585] Trial 5 finished with value: 0.7865168452262878 and parameters: {'n_units_1': 159, 'n_units_2': 80, 'dropout_rate': 0.47943219638082396}. Best is trial 1 with value: 0.7977527976036072.\n",
      "[I 2024-11-05 12:54:11,500] Trial 6 finished with value: 0.7752808928489685 and parameters: {'n_units_1': 73, 'n_units_2': 81, 'dropout_rate': 0.2807078746500476}. Best is trial 1 with value: 0.7977527976036072.\n",
      "[I 2024-11-05 12:54:12,402] Trial 7 finished with value: 0.7865168452262878 and parameters: {'n_units_1': 224, 'n_units_2': 56, 'dropout_rate': 0.3386618932131455}. Best is trial 1 with value: 0.7977527976036072.\n",
      "[I 2024-11-05 12:54:13,278] Trial 8 finished with value: 0.7977527976036072 and parameters: {'n_units_1': 176, 'n_units_2': 68, 'dropout_rate': 0.23303093308873765}. Best is trial 1 with value: 0.7977527976036072.\n",
      "[I 2024-11-05 12:54:14,141] Trial 9 finished with value: 0.7865168452262878 and parameters: {'n_units_1': 163, 'n_units_2': 43, 'dropout_rate': 0.21919909591867653}. Best is trial 1 with value: 0.7977527976036072.\n"
     ]
    },
    {
     "name": "stdout",
     "output_type": "stream",
     "text": [
      "\u001b[1m3/3\u001b[0m \u001b[32m━━━━━━━━━━━━━━━━━━━━\u001b[0m\u001b[37m\u001b[0m \u001b[1m0s\u001b[0m 7ms/step  \n",
      "Dataset: Dataset_1, Score: 0.6715\n",
      "\u001b[1m10/10\u001b[0m \u001b[32m━━━━━━━━━━━━━━━━━━━━\u001b[0m\u001b[37m\u001b[0m \u001b[1m0s\u001b[0m 384us/step\n"
     ]
    },
    {
     "name": "stderr",
     "output_type": "stream",
     "text": [
      "[I 2024-11-05 12:54:15,763] A new study created in memory with name: no-name-1df11baf-a289-4e11-896b-5b441bdd533b\n"
     ]
    },
    {
     "name": "stdout",
     "output_type": "stream",
     "text": [
      "Dataset: Dataset_36\n",
      "X_train_split shape: (134, 97)\n",
      "y_train_split shape: (134, 1)\n",
      "X_val shape: (34, 97)\n",
      "y_val shape: (34, 1)\n"
     ]
    },
    {
     "name": "stderr",
     "output_type": "stream",
     "text": [
      "[I 2024-11-05 12:54:16,596] Trial 0 finished with value: 0.7941176295280457 and parameters: {'n_units_1': 98, 'n_units_2': 120, 'dropout_rate': 0.33169144781478915}. Best is trial 0 with value: 0.7941176295280457.\n",
      "[I 2024-11-05 12:54:17,432] Trial 1 finished with value: 0.8823529481887817 and parameters: {'n_units_1': 103, 'n_units_2': 42, 'dropout_rate': 0.3250527726343951}. Best is trial 1 with value: 0.8823529481887817.\n",
      "[I 2024-11-05 12:54:18,284] Trial 2 finished with value: 0.9117646813392639 and parameters: {'n_units_1': 133, 'n_units_2': 126, 'dropout_rate': 0.42429149624015217}. Best is trial 2 with value: 0.9117646813392639.\n",
      "[I 2024-11-05 12:54:19,094] Trial 3 finished with value: 0.8235294222831726 and parameters: {'n_units_1': 97, 'n_units_2': 38, 'dropout_rate': 0.2531581021488326}. Best is trial 2 with value: 0.9117646813392639.\n",
      "[I 2024-11-05 12:54:20,144] Trial 4 finished with value: 0.9117646813392639 and parameters: {'n_units_1': 184, 'n_units_2': 111, 'dropout_rate': 0.4909885887470923}. Best is trial 2 with value: 0.9117646813392639.\n",
      "[I 2024-11-05 12:54:21,055] Trial 5 finished with value: 0.8529411554336548 and parameters: {'n_units_1': 161, 'n_units_2': 116, 'dropout_rate': 0.49571202504673456}. Best is trial 2 with value: 0.9117646813392639.\n",
      "[I 2024-11-05 12:54:21,865] Trial 6 finished with value: 0.7941176295280457 and parameters: {'n_units_1': 163, 'n_units_2': 43, 'dropout_rate': 0.49549645822918464}. Best is trial 2 with value: 0.9117646813392639.\n",
      "[I 2024-11-05 12:54:22,702] Trial 7 finished with value: 0.8529411554336548 and parameters: {'n_units_1': 217, 'n_units_2': 81, 'dropout_rate': 0.2865957690027847}. Best is trial 2 with value: 0.9117646813392639.\n",
      "[I 2024-11-05 12:54:23,516] Trial 8 finished with value: 0.7941176295280457 and parameters: {'n_units_1': 75, 'n_units_2': 72, 'dropout_rate': 0.43907524392221714}. Best is trial 2 with value: 0.9117646813392639.\n",
      "[I 2024-11-05 12:54:24,322] Trial 9 finished with value: 0.7941176295280457 and parameters: {'n_units_1': 65, 'n_units_2': 92, 'dropout_rate': 0.4727121826628923}. Best is trial 2 with value: 0.9117646813392639.\n"
     ]
    },
    {
     "name": "stdout",
     "output_type": "stream",
     "text": [
      "\u001b[1m2/2\u001b[0m \u001b[32m━━━━━━━━━━━━━━━━━━━━\u001b[0m\u001b[37m\u001b[0m \u001b[1m0s\u001b[0m 12ms/step\n",
      "Dataset: Dataset_36, Score: 0.8665\n",
      "\u001b[1m4/4\u001b[0m \u001b[32m━━━━━━━━━━━━━━━━━━━━\u001b[0m\u001b[37m\u001b[0m \u001b[1m0s\u001b[0m 550us/step\n"
     ]
    },
    {
     "name": "stderr",
     "output_type": "stream",
     "text": [
      "[I 2024-11-05 12:54:25,856] A new study created in memory with name: no-name-cc44da85-0e50-4282-af9a-52c413747f80\n"
     ]
    },
    {
     "name": "stdout",
     "output_type": "stream",
     "text": [
      "Dataset: Dataset_37\n",
      "X_train_split shape: (141, 13)\n",
      "y_train_split shape: (141, 1)\n",
      "X_val shape: (36, 13)\n",
      "y_val shape: (36, 1)\n"
     ]
    },
    {
     "name": "stderr",
     "output_type": "stream",
     "text": [
      "[I 2024-11-05 12:54:26,763] Trial 0 finished with value: 0.8333333134651184 and parameters: {'n_units_1': 185, 'n_units_2': 101, 'dropout_rate': 0.2771413098636562}. Best is trial 0 with value: 0.8333333134651184.\n",
      "[I 2024-11-05 12:54:27,624] Trial 1 finished with value: 0.8611111044883728 and parameters: {'n_units_1': 124, 'n_units_2': 63, 'dropout_rate': 0.23891845744184684}. Best is trial 1 with value: 0.8611111044883728.\n",
      "[I 2024-11-05 12:54:28,468] Trial 2 finished with value: 0.8055555820465088 and parameters: {'n_units_1': 178, 'n_units_2': 50, 'dropout_rate': 0.47829448007434955}. Best is trial 1 with value: 0.8611111044883728.\n",
      "[I 2024-11-05 12:54:29,309] Trial 3 finished with value: 0.8333333134651184 and parameters: {'n_units_1': 167, 'n_units_2': 117, 'dropout_rate': 0.20313504997792464}. Best is trial 1 with value: 0.8611111044883728.\n",
      "[I 2024-11-05 12:54:30,303] Trial 4 finished with value: 0.8333333134651184 and parameters: {'n_units_1': 234, 'n_units_2': 89, 'dropout_rate': 0.29778594522965823}. Best is trial 1 with value: 0.8611111044883728.\n",
      "[I 2024-11-05 12:54:31,195] Trial 5 finished with value: 0.8055555820465088 and parameters: {'n_units_1': 142, 'n_units_2': 62, 'dropout_rate': 0.3738593952799263}. Best is trial 1 with value: 0.8611111044883728.\n",
      "[I 2024-11-05 12:54:31,994] Trial 6 finished with value: 0.8333333134651184 and parameters: {'n_units_1': 74, 'n_units_2': 126, 'dropout_rate': 0.35927113681970846}. Best is trial 1 with value: 0.8611111044883728.\n",
      "[I 2024-11-05 12:54:32,793] Trial 7 finished with value: 0.8333333134651184 and parameters: {'n_units_1': 187, 'n_units_2': 77, 'dropout_rate': 0.269344500498638}. Best is trial 1 with value: 0.8611111044883728.\n",
      "[I 2024-11-05 12:54:33,590] Trial 8 finished with value: 0.8055555820465088 and parameters: {'n_units_1': 86, 'n_units_2': 110, 'dropout_rate': 0.43282625956113446}. Best is trial 1 with value: 0.8611111044883728.\n",
      "[I 2024-11-05 12:54:34,395] Trial 9 finished with value: 0.8611111044883728 and parameters: {'n_units_1': 236, 'n_units_2': 86, 'dropout_rate': 0.400786525183998}. Best is trial 1 with value: 0.8611111044883728.\n"
     ]
    },
    {
     "name": "stdout",
     "output_type": "stream",
     "text": [
      "\u001b[1m2/2\u001b[0m \u001b[32m━━━━━━━━━━━━━━━━━━━━\u001b[0m\u001b[37m\u001b[0m \u001b[1m0s\u001b[0m 12ms/step\n",
      "Dataset: Dataset_37, Score: 0.7537\n",
      "\u001b[1m4/4\u001b[0m \u001b[32m━━━━━━━━━━━━━━━━━━━━\u001b[0m\u001b[37m\u001b[0m \u001b[1m0s\u001b[0m 541us/step\n"
     ]
    },
    {
     "name": "stderr",
     "output_type": "stream",
     "text": [
      "[I 2024-11-05 12:54:35,847] A new study created in memory with name: no-name-8ee65696-8092-48cd-bc76-0d7539c9b9c3\n"
     ]
    },
    {
     "name": "stdout",
     "output_type": "stream",
     "text": [
      "Dataset: Dataset_7\n",
      "X_train_split shape: (295, 12)\n",
      "y_train_split shape: (295, 1)\n",
      "X_val shape: (74, 12)\n",
      "y_val shape: (74, 1)\n"
     ]
    },
    {
     "name": "stderr",
     "output_type": "stream",
     "text": [
      "[I 2024-11-05 12:54:36,722] Trial 0 finished with value: 0.9864864945411682 and parameters: {'n_units_1': 195, 'n_units_2': 50, 'dropout_rate': 0.48780241359202364}. Best is trial 0 with value: 0.9864864945411682.\n",
      "[I 2024-11-05 12:54:37,600] Trial 1 finished with value: 0.9864864945411682 and parameters: {'n_units_1': 87, 'n_units_2': 47, 'dropout_rate': 0.3586979268188454}. Best is trial 0 with value: 0.9864864945411682.\n",
      "[I 2024-11-05 12:54:38,497] Trial 2 finished with value: 0.9864864945411682 and parameters: {'n_units_1': 227, 'n_units_2': 54, 'dropout_rate': 0.44963020356455285}. Best is trial 0 with value: 0.9864864945411682.\n",
      "[I 2024-11-05 12:54:39,350] Trial 3 finished with value: 0.9864864945411682 and parameters: {'n_units_1': 144, 'n_units_2': 71, 'dropout_rate': 0.36142947901676203}. Best is trial 0 with value: 0.9864864945411682.\n",
      "[I 2024-11-05 12:54:40,212] Trial 4 finished with value: 0.9864864945411682 and parameters: {'n_units_1': 250, 'n_units_2': 57, 'dropout_rate': 0.278498169943234}. Best is trial 0 with value: 0.9864864945411682.\n",
      "[I 2024-11-05 12:54:41,384] Trial 5 finished with value: 0.9864864945411682 and parameters: {'n_units_1': 141, 'n_units_2': 65, 'dropout_rate': 0.41108981850815307}. Best is trial 0 with value: 0.9864864945411682.\n",
      "[I 2024-11-05 12:54:42,239] Trial 6 finished with value: 0.9594594836235046 and parameters: {'n_units_1': 108, 'n_units_2': 120, 'dropout_rate': 0.3144824670790961}. Best is trial 0 with value: 0.9864864945411682.\n",
      "[I 2024-11-05 12:54:43,092] Trial 7 finished with value: 0.9864864945411682 and parameters: {'n_units_1': 96, 'n_units_2': 95, 'dropout_rate': 0.4061671933243057}. Best is trial 0 with value: 0.9864864945411682.\n",
      "[I 2024-11-05 12:54:43,943] Trial 8 finished with value: 0.9729729890823364 and parameters: {'n_units_1': 188, 'n_units_2': 69, 'dropout_rate': 0.4296257097741394}. Best is trial 0 with value: 0.9864864945411682.\n",
      "[I 2024-11-05 12:54:44,802] Trial 9 finished with value: 0.9864864945411682 and parameters: {'n_units_1': 135, 'n_units_2': 115, 'dropout_rate': 0.33565839297677846}. Best is trial 0 with value: 0.9864864945411682.\n"
     ]
    },
    {
     "name": "stdout",
     "output_type": "stream",
     "text": [
      "\u001b[1m3/3\u001b[0m \u001b[32m━━━━━━━━━━━━━━━━━━━━\u001b[0m\u001b[37m\u001b[0m \u001b[1m0s\u001b[0m 6ms/step \n",
      "Dataset: Dataset_7, Score: 0.9729\n",
      "\u001b[1m8/8\u001b[0m \u001b[32m━━━━━━━━━━━━━━━━━━━━\u001b[0m\u001b[37m\u001b[0m \u001b[1m0s\u001b[0m 485us/step\n"
     ]
    },
    {
     "name": "stderr",
     "output_type": "stream",
     "text": [
      "[I 2024-11-05 12:54:46,360] A new study created in memory with name: no-name-98acdf60-e783-4cd8-a8f9-a42a93468e5f\n"
     ]
    },
    {
     "name": "stdout",
     "output_type": "stream",
     "text": [
      "Dataset: Dataset_30\n",
      "X_train_split shape: (442, 35)\n",
      "y_train_split shape: (442, 1)\n",
      "X_val shape: (111, 35)\n",
      "y_val shape: (111, 1)\n"
     ]
    },
    {
     "name": "stderr",
     "output_type": "stream",
     "text": [
      "[I 2024-11-05 12:54:47,419] Trial 0 finished with value: 0.7837837934494019 and parameters: {'n_units_1': 254, 'n_units_2': 102, 'dropout_rate': 0.456602605842097}. Best is trial 0 with value: 0.7837837934494019.\n",
      "[I 2024-11-05 12:54:48,320] Trial 1 finished with value: 0.792792797088623 and parameters: {'n_units_1': 78, 'n_units_2': 44, 'dropout_rate': 0.3710240881972455}. Best is trial 1 with value: 0.792792797088623.\n",
      "[I 2024-11-05 12:54:49,281] Trial 2 finished with value: 0.792792797088623 and parameters: {'n_units_1': 250, 'n_units_2': 90, 'dropout_rate': 0.49060122298217723}. Best is trial 1 with value: 0.792792797088623.\n",
      "[I 2024-11-05 12:54:50,208] Trial 3 finished with value: 0.7837837934494019 and parameters: {'n_units_1': 163, 'n_units_2': 124, 'dropout_rate': 0.2852325245473244}. Best is trial 1 with value: 0.792792797088623.\n",
      "[I 2024-11-05 12:54:51,137] Trial 4 finished with value: 0.7567567825317383 and parameters: {'n_units_1': 139, 'n_units_2': 76, 'dropout_rate': 0.4845713984151335}. Best is trial 1 with value: 0.792792797088623.\n",
      "[I 2024-11-05 12:54:52,200] Trial 5 finished with value: 0.7837837934494019 and parameters: {'n_units_1': 212, 'n_units_2': 48, 'dropout_rate': 0.38120678301204053}. Best is trial 1 with value: 0.792792797088623.\n",
      "[I 2024-11-05 12:54:53,147] Trial 6 finished with value: 0.792792797088623 and parameters: {'n_units_1': 202, 'n_units_2': 112, 'dropout_rate': 0.22145187971973967}. Best is trial 1 with value: 0.792792797088623.\n",
      "[I 2024-11-05 12:54:54,042] Trial 7 finished with value: 0.7477477192878723 and parameters: {'n_units_1': 156, 'n_units_2': 68, 'dropout_rate': 0.3005724099496978}. Best is trial 1 with value: 0.792792797088623.\n",
      "[I 2024-11-05 12:54:54,941] Trial 8 finished with value: 0.7657657861709595 and parameters: {'n_units_1': 123, 'n_units_2': 112, 'dropout_rate': 0.37676414304543154}. Best is trial 1 with value: 0.792792797088623.\n",
      "[I 2024-11-05 12:54:55,853] Trial 9 finished with value: 0.7747747898101807 and parameters: {'n_units_1': 214, 'n_units_2': 93, 'dropout_rate': 0.39682145344825925}. Best is trial 1 with value: 0.792792797088623.\n"
     ]
    },
    {
     "name": "stdout",
     "output_type": "stream",
     "text": [
      "\u001b[1m4/4\u001b[0m \u001b[32m━━━━━━━━━━━━━━━━━━━━\u001b[0m\u001b[37m\u001b[0m \u001b[1m0s\u001b[0m 4ms/step \n",
      "Dataset: Dataset_30, Score: 0.7102\n",
      "\u001b[1m12/12\u001b[0m \u001b[32m━━━━━━━━━━━━━━━━━━━━\u001b[0m\u001b[37m\u001b[0m \u001b[1m0s\u001b[0m 346us/step\n"
     ]
    },
    {
     "name": "stderr",
     "output_type": "stream",
     "text": [
      "[I 2024-11-05 12:54:57,485] A new study created in memory with name: no-name-b1e58adc-b345-4ffe-b185-8c427f3fdfb8\n"
     ]
    },
    {
     "name": "stdout",
     "output_type": "stream",
     "text": [
      "Dataset: Dataset_39\n",
      "X_train_split shape: (480, 18)\n",
      "y_train_split shape: (480, 1)\n",
      "X_val shape: (120, 18)\n",
      "y_val shape: (120, 1)\n"
     ]
    },
    {
     "name": "stderr",
     "output_type": "stream",
     "text": [
      "[I 2024-11-05 12:54:58,391] Trial 0 finished with value: 0.9583333134651184 and parameters: {'n_units_1': 77, 'n_units_2': 101, 'dropout_rate': 0.35180092457950185}. Best is trial 0 with value: 0.9583333134651184.\n",
      "[I 2024-11-05 12:54:59,269] Trial 1 finished with value: 0.949999988079071 and parameters: {'n_units_1': 110, 'n_units_2': 101, 'dropout_rate': 0.4893223208589404}. Best is trial 0 with value: 0.9583333134651184.\n",
      "[I 2024-11-05 12:55:00,166] Trial 2 finished with value: 0.949999988079071 and parameters: {'n_units_1': 233, 'n_units_2': 100, 'dropout_rate': 0.2889078078759749}. Best is trial 0 with value: 0.9583333134651184.\n",
      "[I 2024-11-05 12:55:01,021] Trial 3 finished with value: 0.9583333134651184 and parameters: {'n_units_1': 253, 'n_units_2': 52, 'dropout_rate': 0.25574627990046317}. Best is trial 0 with value: 0.9583333134651184.\n",
      "[I 2024-11-05 12:55:01,871] Trial 4 finished with value: 0.9416666626930237 and parameters: {'n_units_1': 129, 'n_units_2': 83, 'dropout_rate': 0.4261737554728359}. Best is trial 0 with value: 0.9583333134651184.\n",
      "[I 2024-11-05 12:55:02,939] Trial 5 finished with value: 0.949999988079071 and parameters: {'n_units_1': 240, 'n_units_2': 36, 'dropout_rate': 0.21617996001172352}. Best is trial 0 with value: 0.9583333134651184.\n",
      "[I 2024-11-05 12:55:06,071] Trial 6 finished with value: 0.9416666626930237 and parameters: {'n_units_1': 184, 'n_units_2': 114, 'dropout_rate': 0.28215133920643193}. Best is trial 0 with value: 0.9583333134651184.\n",
      "[I 2024-11-05 12:55:07,080] Trial 7 finished with value: 0.949999988079071 and parameters: {'n_units_1': 206, 'n_units_2': 117, 'dropout_rate': 0.4879114481704279}. Best is trial 0 with value: 0.9583333134651184.\n",
      "[I 2024-11-05 12:55:08,007] Trial 8 finished with value: 0.949999988079071 and parameters: {'n_units_1': 250, 'n_units_2': 84, 'dropout_rate': 0.36487177121400377}. Best is trial 0 with value: 0.9583333134651184.\n",
      "[I 2024-11-05 12:55:08,906] Trial 9 finished with value: 0.9416666626930237 and parameters: {'n_units_1': 148, 'n_units_2': 112, 'dropout_rate': 0.44033911989174435}. Best is trial 0 with value: 0.9583333134651184.\n"
     ]
    },
    {
     "name": "stdout",
     "output_type": "stream",
     "text": [
      "\u001b[1m4/4\u001b[0m \u001b[32m━━━━━━━━━━━━━━━━━━━━\u001b[0m\u001b[37m\u001b[0m \u001b[1m0s\u001b[0m 4ms/step  \n",
      "Dataset: Dataset_39, Score: 0.9609\n",
      "\u001b[1m13/13\u001b[0m \u001b[32m━━━━━━━━━━━━━━━━━━━━\u001b[0m\u001b[37m\u001b[0m \u001b[1m0s\u001b[0m 401us/step\n"
     ]
    },
    {
     "name": "stderr",
     "output_type": "stream",
     "text": [
      "[I 2024-11-05 12:55:10,546] A new study created in memory with name: no-name-42b1dcf7-d9a9-403e-9b6c-89f8fc7ab1a5\n"
     ]
    },
    {
     "name": "stdout",
     "output_type": "stream",
     "text": [
      "Dataset: Dataset_9\n",
      "X_train_split shape: (115, 46)\n",
      "y_train_split shape: (115, 1)\n",
      "X_val shape: (29, 46)\n",
      "y_val shape: (29, 1)\n"
     ]
    },
    {
     "name": "stderr",
     "output_type": "stream",
     "text": [
      "[I 2024-11-05 12:55:11,401] Trial 0 finished with value: 0.8620689511299133 and parameters: {'n_units_1': 92, 'n_units_2': 65, 'dropout_rate': 0.44691298953092445}. Best is trial 0 with value: 0.8620689511299133.\n",
      "[I 2024-11-05 12:55:12,244] Trial 1 finished with value: 0.8620689511299133 and parameters: {'n_units_1': 250, 'n_units_2': 60, 'dropout_rate': 0.3444033429465682}. Best is trial 0 with value: 0.8620689511299133.\n",
      "[I 2024-11-05 12:55:13,071] Trial 2 finished with value: 0.8620689511299133 and parameters: {'n_units_1': 90, 'n_units_2': 48, 'dropout_rate': 0.4611729242948749}. Best is trial 0 with value: 0.8620689511299133.\n",
      "[I 2024-11-05 12:55:13,886] Trial 3 finished with value: 0.8620689511299133 and parameters: {'n_units_1': 114, 'n_units_2': 59, 'dropout_rate': 0.22785421073975418}. Best is trial 0 with value: 0.8620689511299133.\n",
      "[I 2024-11-05 12:55:14,763] Trial 4 finished with value: 0.8620689511299133 and parameters: {'n_units_1': 125, 'n_units_2': 125, 'dropout_rate': 0.304111669287175}. Best is trial 0 with value: 0.8620689511299133.\n",
      "[I 2024-11-05 12:55:15,837] Trial 5 finished with value: 0.8620689511299133 and parameters: {'n_units_1': 205, 'n_units_2': 96, 'dropout_rate': 0.31891514760888146}. Best is trial 0 with value: 0.8620689511299133.\n",
      "[I 2024-11-05 12:55:16,647] Trial 6 finished with value: 0.8620689511299133 and parameters: {'n_units_1': 236, 'n_units_2': 51, 'dropout_rate': 0.21207656877034467}. Best is trial 0 with value: 0.8620689511299133.\n",
      "[I 2024-11-05 12:55:17,454] Trial 7 finished with value: 0.8620689511299133 and parameters: {'n_units_1': 133, 'n_units_2': 126, 'dropout_rate': 0.39244931770296054}. Best is trial 0 with value: 0.8620689511299133.\n",
      "[I 2024-11-05 12:55:18,250] Trial 8 finished with value: 0.8620689511299133 and parameters: {'n_units_1': 176, 'n_units_2': 128, 'dropout_rate': 0.3902123586587407}. Best is trial 0 with value: 0.8620689511299133.\n",
      "[I 2024-11-05 12:55:19,041] Trial 9 finished with value: 0.8620689511299133 and parameters: {'n_units_1': 107, 'n_units_2': 125, 'dropout_rate': 0.35978226779928324}. Best is trial 0 with value: 0.8620689511299133.\n"
     ]
    },
    {
     "name": "stdout",
     "output_type": "stream",
     "text": [
      "\u001b[1m1/1\u001b[0m \u001b[32m━━━━━━━━━━━━━━━━━━━━\u001b[0m\u001b[37m\u001b[0m \u001b[1m0s\u001b[0m 19ms/step\n",
      "Dataset: Dataset_9, Score: 0.8358\n",
      "\u001b[1m3/3\u001b[0m \u001b[32m━━━━━━━━━━━━━━━━━━━━\u001b[0m\u001b[37m\u001b[0m \u001b[1m0s\u001b[0m 643us/step\n"
     ]
    },
    {
     "name": "stderr",
     "output_type": "stream",
     "text": [
      "[I 2024-11-05 12:55:20,558] A new study created in memory with name: no-name-25d886c9-f63a-416d-83f2-47ce1652a6d7\n"
     ]
    },
    {
     "name": "stdout",
     "output_type": "stream",
     "text": [
      "Dataset: Dataset_23\n",
      "X_train_split shape: (283, 15)\n",
      "y_train_split shape: (283, 1)\n",
      "X_val shape: (71, 15)\n",
      "y_val shape: (71, 1)\n"
     ]
    },
    {
     "name": "stderr",
     "output_type": "stream",
     "text": [
      "[I 2024-11-05 12:55:21,459] Trial 0 finished with value: 0.9014084339141846 and parameters: {'n_units_1': 157, 'n_units_2': 78, 'dropout_rate': 0.24586211360595764}. Best is trial 0 with value: 0.9014084339141846.\n",
      "[I 2024-11-05 12:55:22,346] Trial 1 finished with value: 0.9295774698257446 and parameters: {'n_units_1': 179, 'n_units_2': 81, 'dropout_rate': 0.43285104775694005}. Best is trial 1 with value: 0.9295774698257446.\n",
      "[I 2024-11-05 12:55:23,232] Trial 2 finished with value: 0.9154929518699646 and parameters: {'n_units_1': 180, 'n_units_2': 96, 'dropout_rate': 0.2812240857937988}. Best is trial 1 with value: 0.9295774698257446.\n",
      "[I 2024-11-05 12:55:24,135] Trial 3 finished with value: 0.9295774698257446 and parameters: {'n_units_1': 193, 'n_units_2': 127, 'dropout_rate': 0.3273393275863949}. Best is trial 1 with value: 0.9295774698257446.\n",
      "[I 2024-11-05 12:55:25,150] Trial 4 finished with value: 0.9295774698257446 and parameters: {'n_units_1': 157, 'n_units_2': 102, 'dropout_rate': 0.3152368225700448}. Best is trial 1 with value: 0.9295774698257446.\n",
      "[I 2024-11-05 12:55:26,010] Trial 5 finished with value: 0.9154929518699646 and parameters: {'n_units_1': 93, 'n_units_2': 122, 'dropout_rate': 0.2778091206478526}. Best is trial 1 with value: 0.9295774698257446.\n",
      "[I 2024-11-05 12:55:26,868] Trial 6 finished with value: 0.9295774698257446 and parameters: {'n_units_1': 205, 'n_units_2': 48, 'dropout_rate': 0.3124373916502055}. Best is trial 1 with value: 0.9295774698257446.\n",
      "[I 2024-11-05 12:55:27,741] Trial 7 finished with value: 0.9154929518699646 and parameters: {'n_units_1': 248, 'n_units_2': 128, 'dropout_rate': 0.46816386355930506}. Best is trial 1 with value: 0.9295774698257446.\n",
      "[I 2024-11-05 12:55:28,596] Trial 8 finished with value: 0.9154929518699646 and parameters: {'n_units_1': 95, 'n_units_2': 100, 'dropout_rate': 0.3146194066949662}. Best is trial 1 with value: 0.9295774698257446.\n",
      "[I 2024-11-05 12:55:29,441] Trial 9 finished with value: 0.9014084339141846 and parameters: {'n_units_1': 70, 'n_units_2': 107, 'dropout_rate': 0.2691319294301005}. Best is trial 1 with value: 0.9295774698257446.\n"
     ]
    },
    {
     "name": "stdout",
     "output_type": "stream",
     "text": [
      "\u001b[1m3/3\u001b[0m \u001b[32m━━━━━━━━━━━━━━━━━━━━\u001b[0m\u001b[37m\u001b[0m \u001b[1m0s\u001b[0m 6ms/step \n",
      "Dataset: Dataset_23, Score: 0.8413\n",
      "\u001b[1m8/8\u001b[0m \u001b[32m━━━━━━━━━━━━━━━━━━━━\u001b[0m\u001b[37m\u001b[0m \u001b[1m0s\u001b[0m 493us/step\n"
     ]
    },
    {
     "name": "stderr",
     "output_type": "stream",
     "text": [
      "[I 2024-11-05 12:55:30,998] A new study created in memory with name: no-name-0213b8e1-d9fb-4e2a-8691-7a803481c655\n"
     ]
    },
    {
     "name": "stdout",
     "output_type": "stream",
     "text": [
      "Dataset: Dataset_24\n",
      "X_train_split shape: (480, 11)\n",
      "y_train_split shape: (480, 1)\n",
      "X_val shape: (120, 11)\n",
      "y_val shape: (120, 1)\n"
     ]
    },
    {
     "name": "stderr",
     "output_type": "stream",
     "text": [
      "[I 2024-11-05 12:55:31,872] Trial 0 finished with value: 0.7166666388511658 and parameters: {'n_units_1': 112, 'n_units_2': 64, 'dropout_rate': 0.4624404153209956}. Best is trial 0 with value: 0.7166666388511658.\n",
      "[I 2024-11-05 12:55:32,738] Trial 1 finished with value: 0.7166666388511658 and parameters: {'n_units_1': 87, 'n_units_2': 103, 'dropout_rate': 0.23999140823232465}. Best is trial 0 with value: 0.7166666388511658.\n",
      "[I 2024-11-05 12:55:33,616] Trial 2 finished with value: 0.7166666388511658 and parameters: {'n_units_1': 248, 'n_units_2': 40, 'dropout_rate': 0.3601282430820223}. Best is trial 0 with value: 0.7166666388511658.\n",
      "[I 2024-11-05 12:55:34,505] Trial 3 finished with value: 0.7083333134651184 and parameters: {'n_units_1': 231, 'n_units_2': 75, 'dropout_rate': 0.23908097458985583}. Best is trial 0 with value: 0.7166666388511658.\n",
      "[I 2024-11-05 12:55:35,353] Trial 4 finished with value: 0.7166666388511658 and parameters: {'n_units_1': 192, 'n_units_2': 47, 'dropout_rate': 0.25135859093799773}. Best is trial 0 with value: 0.7166666388511658.\n",
      "[I 2024-11-05 12:55:36,487] Trial 5 finished with value: 0.7166666388511658 and parameters: {'n_units_1': 66, 'n_units_2': 103, 'dropout_rate': 0.4919667390773561}. Best is trial 0 with value: 0.7166666388511658.\n",
      "[I 2024-11-05 12:55:37,405] Trial 6 finished with value: 0.7166666388511658 and parameters: {'n_units_1': 132, 'n_units_2': 82, 'dropout_rate': 0.2152191676232055}. Best is trial 0 with value: 0.7166666388511658.\n",
      "[I 2024-11-05 12:55:38,251] Trial 7 finished with value: 0.7250000238418579 and parameters: {'n_units_1': 78, 'n_units_2': 126, 'dropout_rate': 0.31145533117390456}. Best is trial 7 with value: 0.7250000238418579.\n",
      "[I 2024-11-05 12:55:39,112] Trial 8 finished with value: 0.7166666388511658 and parameters: {'n_units_1': 115, 'n_units_2': 118, 'dropout_rate': 0.2532846933598928}. Best is trial 7 with value: 0.7250000238418579.\n",
      "[I 2024-11-05 12:55:39,965] Trial 9 finished with value: 0.7333333492279053 and parameters: {'n_units_1': 95, 'n_units_2': 108, 'dropout_rate': 0.3060375863432764}. Best is trial 9 with value: 0.7333333492279053.\n"
     ]
    },
    {
     "name": "stdout",
     "output_type": "stream",
     "text": [
      "\u001b[1m4/4\u001b[0m \u001b[32m━━━━━━━━━━━━━━━━━━━━\u001b[0m\u001b[37m\u001b[0m \u001b[1m0s\u001b[0m 4ms/step \n",
      "Dataset: Dataset_24, Score: 0.4178\n",
      "\u001b[1m13/13\u001b[0m \u001b[32m━━━━━━━━━━━━━━━━━━━━\u001b[0m\u001b[37m\u001b[0m \u001b[1m0s\u001b[0m 350us/step\n"
     ]
    },
    {
     "name": "stderr",
     "output_type": "stream",
     "text": [
      "[I 2024-11-05 12:55:41,563] A new study created in memory with name: no-name-2a33164a-d2a3-481d-8bbc-79b544bd8db6\n"
     ]
    },
    {
     "name": "stdout",
     "output_type": "stream",
     "text": [
      "Dataset: Dataset_12\n",
      "X_train_split shape: (123, 5)\n",
      "y_train_split shape: (123, 1)\n",
      "X_val shape: (31, 5)\n",
      "y_val shape: (31, 1)\n"
     ]
    },
    {
     "name": "stderr",
     "output_type": "stream",
     "text": [
      "[I 2024-11-05 12:55:42,373] Trial 0 finished with value: 0.6774193644523621 and parameters: {'n_units_1': 69, 'n_units_2': 65, 'dropout_rate': 0.3480443639639959}. Best is trial 0 with value: 0.6774193644523621.\n",
      "[I 2024-11-05 12:55:43,199] Trial 1 finished with value: 0.7419354915618896 and parameters: {'n_units_1': 241, 'n_units_2': 66, 'dropout_rate': 0.3560318775653521}. Best is trial 1 with value: 0.7419354915618896.\n",
      "[I 2024-11-05 12:55:44,025] Trial 2 finished with value: 0.774193525314331 and parameters: {'n_units_1': 229, 'n_units_2': 125, 'dropout_rate': 0.49292017396746496}. Best is trial 2 with value: 0.774193525314331.\n",
      "[I 2024-11-05 12:55:44,835] Trial 3 finished with value: 0.7419354915618896 and parameters: {'n_units_1': 241, 'n_units_2': 78, 'dropout_rate': 0.2231358894067982}. Best is trial 2 with value: 0.774193525314331.\n",
      "[I 2024-11-05 12:55:45,623] Trial 4 finished with value: 0.774193525314331 and parameters: {'n_units_1': 187, 'n_units_2': 65, 'dropout_rate': 0.27680785817300274}. Best is trial 2 with value: 0.774193525314331.\n",
      "[I 2024-11-05 12:55:46,424] Trial 5 finished with value: 0.7419354915618896 and parameters: {'n_units_1': 71, 'n_units_2': 118, 'dropout_rate': 0.21610481317320424}. Best is trial 2 with value: 0.774193525314331.\n",
      "[I 2024-11-05 12:55:47,510] Trial 6 finished with value: 0.774193525314331 and parameters: {'n_units_1': 73, 'n_units_2': 126, 'dropout_rate': 0.20186880263408252}. Best is trial 2 with value: 0.774193525314331.\n",
      "[I 2024-11-05 12:55:48,318] Trial 7 finished with value: 0.774193525314331 and parameters: {'n_units_1': 144, 'n_units_2': 111, 'dropout_rate': 0.4184253682332656}. Best is trial 2 with value: 0.774193525314331.\n",
      "[I 2024-11-05 12:55:49,113] Trial 8 finished with value: 0.774193525314331 and parameters: {'n_units_1': 172, 'n_units_2': 85, 'dropout_rate': 0.40696015339067293}. Best is trial 2 with value: 0.774193525314331.\n",
      "[I 2024-11-05 12:55:49,906] Trial 9 finished with value: 0.7419354915618896 and parameters: {'n_units_1': 97, 'n_units_2': 48, 'dropout_rate': 0.301534618404425}. Best is trial 2 with value: 0.774193525314331.\n"
     ]
    },
    {
     "name": "stdout",
     "output_type": "stream",
     "text": [
      "\u001b[1m1/1\u001b[0m \u001b[32m━━━━━━━━━━━━━━━━━━━━\u001b[0m\u001b[37m\u001b[0m \u001b[1m0s\u001b[0m 19ms/step\n",
      "Dataset: Dataset_12, Score: 0.9473\n",
      "\u001b[1m4/4\u001b[0m \u001b[32m━━━━━━━━━━━━━━━━━━━━\u001b[0m\u001b[37m\u001b[0m \u001b[1m0s\u001b[0m 551us/step\n"
     ]
    },
    {
     "name": "stderr",
     "output_type": "stream",
     "text": [
      "[I 2024-11-05 12:55:51,343] A new study created in memory with name: no-name-201cd172-74f2-4fc3-aa7a-8cd0310ad57a\n"
     ]
    },
    {
     "name": "stdout",
     "output_type": "stream",
     "text": [
      "Dataset: Dataset_15\n",
      "X_train_split shape: (294, 11)\n",
      "y_train_split shape: (294, 1)\n",
      "X_val shape: (74, 11)\n",
      "y_val shape: (74, 1)\n"
     ]
    },
    {
     "name": "stderr",
     "output_type": "stream",
     "text": [
      "[I 2024-11-05 12:55:52,260] Trial 0 finished with value: 0.7567567825317383 and parameters: {'n_units_1': 234, 'n_units_2': 51, 'dropout_rate': 0.37353077906425103}. Best is trial 0 with value: 0.7567567825317383.\n",
      "[I 2024-11-05 12:55:53,186] Trial 1 finished with value: 0.7567567825317383 and parameters: {'n_units_1': 232, 'n_units_2': 119, 'dropout_rate': 0.35786101708067314}. Best is trial 0 with value: 0.7567567825317383.\n",
      "[I 2024-11-05 12:55:54,088] Trial 2 finished with value: 0.7297297120094299 and parameters: {'n_units_1': 129, 'n_units_2': 97, 'dropout_rate': 0.43670852475426974}. Best is trial 0 with value: 0.7567567825317383.\n",
      "[I 2024-11-05 12:55:54,995] Trial 3 finished with value: 0.7567567825317383 and parameters: {'n_units_1': 96, 'n_units_2': 91, 'dropout_rate': 0.2653895640668824}. Best is trial 0 with value: 0.7567567825317383.\n",
      "[I 2024-11-05 12:55:55,855] Trial 4 finished with value: 0.7162162065505981 and parameters: {'n_units_1': 170, 'n_units_2': 66, 'dropout_rate': 0.3031389585831344}. Best is trial 0 with value: 0.7567567825317383.\n",
      "[I 2024-11-05 12:55:56,955] Trial 5 finished with value: 0.7432432174682617 and parameters: {'n_units_1': 134, 'n_units_2': 119, 'dropout_rate': 0.25992998209353174}. Best is trial 0 with value: 0.7567567825317383.\n",
      "[I 2024-11-05 12:55:57,841] Trial 6 finished with value: 0.7567567825317383 and parameters: {'n_units_1': 101, 'n_units_2': 71, 'dropout_rate': 0.34850672700664925}. Best is trial 0 with value: 0.7567567825317383.\n",
      "[I 2024-11-05 12:55:58,701] Trial 7 finished with value: 0.7702702879905701 and parameters: {'n_units_1': 86, 'n_units_2': 112, 'dropout_rate': 0.3992826643374757}. Best is trial 7 with value: 0.7702702879905701.\n",
      "[I 2024-11-05 12:55:59,576] Trial 8 finished with value: 0.7162162065505981 and parameters: {'n_units_1': 245, 'n_units_2': 104, 'dropout_rate': 0.4207556078506005}. Best is trial 7 with value: 0.7702702879905701.\n",
      "[I 2024-11-05 12:56:00,459] Trial 9 finished with value: 0.7432432174682617 and parameters: {'n_units_1': 248, 'n_units_2': 106, 'dropout_rate': 0.4171684971172693}. Best is trial 7 with value: 0.7702702879905701.\n"
     ]
    },
    {
     "name": "stdout",
     "output_type": "stream",
     "text": [
      "\u001b[1m3/3\u001b[0m \u001b[32m━━━━━━━━━━━━━━━━━━━━\u001b[0m\u001b[37m\u001b[0m \u001b[1m0s\u001b[0m 8ms/step \n",
      "Dataset: Dataset_15, Score: 0.5132\n",
      "\u001b[1m8/8\u001b[0m \u001b[32m━━━━━━━━━━━━━━━━━━━━\u001b[0m\u001b[37m\u001b[0m \u001b[1m0s\u001b[0m 431us/step\n"
     ]
    },
    {
     "name": "stderr",
     "output_type": "stream",
     "text": [
      "[I 2024-11-05 12:56:02,093] A new study created in memory with name: no-name-5e917fbe-5aba-4d8f-8dbd-60cd89b360ad\n"
     ]
    },
    {
     "name": "stdout",
     "output_type": "stream",
     "text": [
      "Dataset: Dataset_41\n",
      "X_train_split shape: (384, 10)\n",
      "y_train_split shape: (384, 1)\n",
      "X_val shape: (96, 10)\n",
      "y_val shape: (96, 1)\n"
     ]
    },
    {
     "name": "stderr",
     "output_type": "stream",
     "text": [
      "[I 2024-11-05 12:56:03,033] Trial 0 finished with value: 0.9166666865348816 and parameters: {'n_units_1': 231, 'n_units_2': 112, 'dropout_rate': 0.3537677735530256}. Best is trial 0 with value: 0.9166666865348816.\n",
      "[I 2024-11-05 12:56:03,871] Trial 1 finished with value: 0.9166666865348816 and parameters: {'n_units_1': 175, 'n_units_2': 40, 'dropout_rate': 0.434160089632507}. Best is trial 0 with value: 0.9166666865348816.\n",
      "[I 2024-11-05 12:56:04,722] Trial 2 finished with value: 0.90625 and parameters: {'n_units_1': 160, 'n_units_2': 61, 'dropout_rate': 0.32811276211931456}. Best is trial 0 with value: 0.9166666865348816.\n",
      "[I 2024-11-05 12:56:05,586] Trial 3 finished with value: 0.9166666865348816 and parameters: {'n_units_1': 224, 'n_units_2': 109, 'dropout_rate': 0.2765709457023784}. Best is trial 0 with value: 0.9166666865348816.\n",
      "[I 2024-11-05 12:56:06,406] Trial 4 finished with value: 0.90625 and parameters: {'n_units_1': 127, 'n_units_2': 107, 'dropout_rate': 0.3825088424498905}. Best is trial 0 with value: 0.9166666865348816.\n",
      "[I 2024-11-05 12:56:07,543] Trial 5 finished with value: 0.90625 and parameters: {'n_units_1': 203, 'n_units_2': 42, 'dropout_rate': 0.282730792331672}. Best is trial 0 with value: 0.9166666865348816.\n",
      "[I 2024-11-05 12:56:08,487] Trial 6 finished with value: 0.9166666865348816 and parameters: {'n_units_1': 192, 'n_units_2': 56, 'dropout_rate': 0.3168752732936837}. Best is trial 0 with value: 0.9166666865348816.\n",
      "[I 2024-11-05 12:56:09,314] Trial 7 finished with value: 0.90625 and parameters: {'n_units_1': 76, 'n_units_2': 49, 'dropout_rate': 0.438720748416022}. Best is trial 0 with value: 0.9166666865348816.\n",
      "[I 2024-11-05 12:56:12,775] Trial 8 finished with value: 0.9270833134651184 and parameters: {'n_units_1': 192, 'n_units_2': 41, 'dropout_rate': 0.23561397765709505}. Best is trial 8 with value: 0.9270833134651184.\n",
      "[I 2024-11-05 12:56:13,653] Trial 9 finished with value: 0.90625 and parameters: {'n_units_1': 97, 'n_units_2': 97, 'dropout_rate': 0.279278152841127}. Best is trial 8 with value: 0.9270833134651184.\n"
     ]
    },
    {
     "name": "stdout",
     "output_type": "stream",
     "text": [
      "\u001b[1m3/3\u001b[0m \u001b[32m━━━━━━━━━━━━━━━━━━━━\u001b[0m\u001b[37m\u001b[0m \u001b[1m0s\u001b[0m 655us/step\n",
      "Dataset: Dataset_41, Score: 0.8068\n",
      "\u001b[1m11/11\u001b[0m \u001b[32m━━━━━━━━━━━━━━━━━━━━\u001b[0m\u001b[37m\u001b[0m \u001b[1m0s\u001b[0m 3ms/step \n"
     ]
    },
    {
     "name": "stderr",
     "output_type": "stream",
     "text": [
      "[I 2024-11-05 12:56:15,276] A new study created in memory with name: no-name-ed50cb8e-4b4e-48be-b267-9c44aea1b5d7\n"
     ]
    },
    {
     "name": "stdout",
     "output_type": "stream",
     "text": [
      "Dataset: Dataset_46\n",
      "X_train_split shape: (140, 13)\n",
      "y_train_split shape: (140, 1)\n",
      "X_val shape: (36, 13)\n",
      "y_val shape: (36, 1)\n"
     ]
    },
    {
     "name": "stderr",
     "output_type": "stream",
     "text": [
      "[I 2024-11-05 12:56:16,270] Trial 0 finished with value: 0.9166666865348816 and parameters: {'n_units_1': 171, 'n_units_2': 94, 'dropout_rate': 0.2118031710346934}. Best is trial 0 with value: 0.9166666865348816.\n",
      "[I 2024-11-05 12:56:17,174] Trial 1 finished with value: 0.9166666865348816 and parameters: {'n_units_1': 253, 'n_units_2': 66, 'dropout_rate': 0.2703616121372667}. Best is trial 0 with value: 0.9166666865348816.\n",
      "[I 2024-11-05 12:56:18,045] Trial 2 finished with value: 0.9166666865348816 and parameters: {'n_units_1': 214, 'n_units_2': 33, 'dropout_rate': 0.28467098533902624}. Best is trial 0 with value: 0.9166666865348816.\n",
      "[I 2024-11-05 12:56:18,892] Trial 3 finished with value: 0.9166666865348816 and parameters: {'n_units_1': 207, 'n_units_2': 112, 'dropout_rate': 0.3082390243075956}. Best is trial 0 with value: 0.9166666865348816.\n",
      "[I 2024-11-05 12:56:20,010] Trial 4 finished with value: 0.9166666865348816 and parameters: {'n_units_1': 204, 'n_units_2': 38, 'dropout_rate': 0.32072579715465005}. Best is trial 0 with value: 0.9166666865348816.\n",
      "[I 2024-11-05 12:56:20,875] Trial 5 finished with value: 0.8888888955116272 and parameters: {'n_units_1': 72, 'n_units_2': 44, 'dropout_rate': 0.30945556274987657}. Best is trial 0 with value: 0.9166666865348816.\n",
      "[I 2024-11-05 12:56:21,693] Trial 6 finished with value: 0.9166666865348816 and parameters: {'n_units_1': 183, 'n_units_2': 104, 'dropout_rate': 0.27621157032020727}. Best is trial 0 with value: 0.9166666865348816.\n",
      "[I 2024-11-05 12:56:22,534] Trial 7 finished with value: 0.9166666865348816 and parameters: {'n_units_1': 157, 'n_units_2': 88, 'dropout_rate': 0.3941462840970972}. Best is trial 0 with value: 0.9166666865348816.\n",
      "[I 2024-11-05 12:56:23,374] Trial 8 finished with value: 0.9166666865348816 and parameters: {'n_units_1': 68, 'n_units_2': 99, 'dropout_rate': 0.3756008579247046}. Best is trial 0 with value: 0.9166666865348816.\n",
      "[I 2024-11-05 12:56:24,219] Trial 9 finished with value: 0.9166666865348816 and parameters: {'n_units_1': 255, 'n_units_2': 32, 'dropout_rate': 0.3650449159780686}. Best is trial 0 with value: 0.9166666865348816.\n"
     ]
    },
    {
     "name": "stdout",
     "output_type": "stream",
     "text": [
      "\u001b[1m2/2\u001b[0m \u001b[32m━━━━━━━━━━━━━━━━━━━━\u001b[0m\u001b[37m\u001b[0m \u001b[1m0s\u001b[0m 12ms/step\n",
      "Dataset: Dataset_46, Score: 0.8733\n",
      "\u001b[1m4/4\u001b[0m \u001b[32m━━━━━━━━━━━━━━━━━━━━\u001b[0m\u001b[37m\u001b[0m \u001b[1m0s\u001b[0m 542us/step\n"
     ]
    },
    {
     "name": "stderr",
     "output_type": "stream",
     "text": [
      "[I 2024-11-05 12:56:25,744] A new study created in memory with name: no-name-e76f1711-0436-4d0a-bf94-f43a8f4f8b24\n"
     ]
    },
    {
     "name": "stdout",
     "output_type": "stream",
     "text": [
      "Dataset: Dataset_48\n",
      "X_train_split shape: (189, 29)\n",
      "y_train_split shape: (189, 1)\n",
      "X_val shape: (48, 29)\n",
      "y_val shape: (48, 1)\n"
     ]
    },
    {
     "name": "stderr",
     "output_type": "stream",
     "text": [
      "[I 2024-11-05 12:56:26,587] Trial 0 finished with value: 0.875 and parameters: {'n_units_1': 94, 'n_units_2': 110, 'dropout_rate': 0.20333853425172793}. Best is trial 0 with value: 0.875.\n",
      "[I 2024-11-05 12:56:27,450] Trial 1 finished with value: 0.9166666865348816 and parameters: {'n_units_1': 209, 'n_units_2': 66, 'dropout_rate': 0.3267508701278613}. Best is trial 1 with value: 0.9166666865348816.\n",
      "[I 2024-11-05 12:56:28,303] Trial 2 finished with value: 0.8958333134651184 and parameters: {'n_units_1': 116, 'n_units_2': 44, 'dropout_rate': 0.35048731869027927}. Best is trial 1 with value: 0.9166666865348816.\n",
      "[I 2024-11-05 12:56:29,157] Trial 3 finished with value: 0.875 and parameters: {'n_units_1': 113, 'n_units_2': 101, 'dropout_rate': 0.46121924393985236}. Best is trial 1 with value: 0.9166666865348816.\n",
      "[I 2024-11-05 12:56:30,218] Trial 4 finished with value: 0.8958333134651184 and parameters: {'n_units_1': 143, 'n_units_2': 73, 'dropout_rate': 0.4976894856031089}. Best is trial 1 with value: 0.9166666865348816.\n",
      "[I 2024-11-05 12:56:31,076] Trial 5 finished with value: 0.9375 and parameters: {'n_units_1': 160, 'n_units_2': 84, 'dropout_rate': 0.3604120971149765}. Best is trial 5 with value: 0.9375.\n",
      "[I 2024-11-05 12:56:31,906] Trial 6 finished with value: 0.8958333134651184 and parameters: {'n_units_1': 252, 'n_units_2': 37, 'dropout_rate': 0.45525470292067693}. Best is trial 5 with value: 0.9375.\n",
      "[I 2024-11-05 12:56:32,729] Trial 7 finished with value: 0.9166666865348816 and parameters: {'n_units_1': 195, 'n_units_2': 39, 'dropout_rate': 0.242395553218871}. Best is trial 5 with value: 0.9375.\n",
      "[I 2024-11-05 12:56:33,556] Trial 8 finished with value: 0.875 and parameters: {'n_units_1': 120, 'n_units_2': 97, 'dropout_rate': 0.374011860642891}. Best is trial 5 with value: 0.9375.\n",
      "[I 2024-11-05 12:56:34,378] Trial 9 finished with value: 0.8541666865348816 and parameters: {'n_units_1': 109, 'n_units_2': 77, 'dropout_rate': 0.49166890864271295}. Best is trial 5 with value: 0.9375.\n"
     ]
    },
    {
     "name": "stdout",
     "output_type": "stream",
     "text": [
      "\u001b[1m2/2\u001b[0m \u001b[32m━━━━━━━━━━━━━━━━━━━━\u001b[0m\u001b[37m\u001b[0m \u001b[1m0s\u001b[0m 12ms/step\n",
      "Dataset: Dataset_48, Score: 0.9543\n",
      "\u001b[1m5/5\u001b[0m \u001b[32m━━━━━━━━━━━━━━━━━━━━\u001b[0m\u001b[37m\u001b[0m \u001b[1m0s\u001b[0m 502us/step\n"
     ]
    },
    {
     "name": "stderr",
     "output_type": "stream",
     "text": [
      "[I 2024-11-05 12:56:35,874] A new study created in memory with name: no-name-c1a94af9-00d6-47e7-a76d-66c09b4ec6e4\n"
     ]
    },
    {
     "name": "stdout",
     "output_type": "stream",
     "text": [
      "Dataset: Dataset_14\n",
      "X_train_split shape: (144, 57)\n",
      "y_train_split shape: (144, 1)\n",
      "X_val shape: (37, 57)\n",
      "y_val shape: (37, 1)\n"
     ]
    },
    {
     "name": "stderr",
     "output_type": "stream",
     "text": [
      "[I 2024-11-05 12:56:36,732] Trial 0 finished with value: 0.9189189076423645 and parameters: {'n_units_1': 210, 'n_units_2': 83, 'dropout_rate': 0.3115913465573486}. Best is trial 0 with value: 0.9189189076423645.\n",
      "[I 2024-11-05 12:56:37,643] Trial 1 finished with value: 0.8918918967247009 and parameters: {'n_units_1': 93, 'n_units_2': 102, 'dropout_rate': 0.20707446847491626}. Best is trial 0 with value: 0.9189189076423645.\n",
      "[I 2024-11-05 12:56:38,494] Trial 2 finished with value: 0.9189189076423645 and parameters: {'n_units_1': 70, 'n_units_2': 112, 'dropout_rate': 0.3685063116551531}. Best is trial 0 with value: 0.9189189076423645.\n",
      "[I 2024-11-05 12:56:39,320] Trial 3 finished with value: 0.9459459185600281 and parameters: {'n_units_1': 219, 'n_units_2': 46, 'dropout_rate': 0.22923439248297584}. Best is trial 3 with value: 0.9459459185600281.\n",
      "[I 2024-11-05 12:56:40,130] Trial 4 finished with value: 0.8108108043670654 and parameters: {'n_units_1': 68, 'n_units_2': 93, 'dropout_rate': 0.36046909776643454}. Best is trial 3 with value: 0.9459459185600281.\n",
      "[I 2024-11-05 12:56:41,129] Trial 5 finished with value: 0.9729729890823364 and parameters: {'n_units_1': 188, 'n_units_2': 73, 'dropout_rate': 0.46393751332384064}. Best is trial 5 with value: 0.9729729890823364.\n",
      "[I 2024-11-05 12:56:42,118] Trial 6 finished with value: 0.9459459185600281 and parameters: {'n_units_1': 161, 'n_units_2': 49, 'dropout_rate': 0.46645046019026765}. Best is trial 5 with value: 0.9729729890823364.\n",
      "[I 2024-11-05 12:56:42,946] Trial 7 finished with value: 0.9729729890823364 and parameters: {'n_units_1': 252, 'n_units_2': 107, 'dropout_rate': 0.30459126132138886}. Best is trial 5 with value: 0.9729729890823364.\n",
      "[I 2024-11-05 12:56:43,760] Trial 8 finished with value: 0.9459459185600281 and parameters: {'n_units_1': 129, 'n_units_2': 45, 'dropout_rate': 0.2934425445143938}. Best is trial 5 with value: 0.9729729890823364.\n",
      "[I 2024-11-05 12:56:44,580] Trial 9 finished with value: 0.9459459185600281 and parameters: {'n_units_1': 69, 'n_units_2': 104, 'dropout_rate': 0.4099806680143803}. Best is trial 5 with value: 0.9729729890823364.\n"
     ]
    },
    {
     "name": "stdout",
     "output_type": "stream",
     "text": [
      "\u001b[1m2/2\u001b[0m \u001b[32m━━━━━━━━━━━━━━━━━━━━\u001b[0m\u001b[37m\u001b[0m \u001b[1m0s\u001b[0m 12ms/step\n",
      "Dataset: Dataset_14, Score: 0.9036\n",
      "\u001b[1m4/4\u001b[0m \u001b[32m━━━━━━━━━━━━━━━━━━━━\u001b[0m\u001b[37m\u001b[0m \u001b[1m0s\u001b[0m 546us/step\n"
     ]
    },
    {
     "name": "stderr",
     "output_type": "stream",
     "text": [
      "[I 2024-11-05 12:56:46,056] A new study created in memory with name: no-name-735a9360-156b-4001-92f0-dfef40450ce4\n"
     ]
    },
    {
     "name": "stdout",
     "output_type": "stream",
     "text": [
      "Dataset: Dataset_13\n",
      "X_train_split shape: (144, 54)\n",
      "y_train_split shape: (144, 1)\n",
      "X_val shape: (37, 54)\n",
      "y_val shape: (37, 1)\n"
     ]
    },
    {
     "name": "stderr",
     "output_type": "stream",
     "text": [
      "[I 2024-11-05 12:56:47,036] Trial 0 finished with value: 0.8918918967247009 and parameters: {'n_units_1': 97, 'n_units_2': 87, 'dropout_rate': 0.41900333676698637}. Best is trial 0 with value: 0.8918918967247009.\n",
      "[I 2024-11-05 12:56:47,975] Trial 1 finished with value: 0.9189189076423645 and parameters: {'n_units_1': 232, 'n_units_2': 117, 'dropout_rate': 0.22112881280495394}. Best is trial 1 with value: 0.9189189076423645.\n",
      "[I 2024-11-05 12:56:48,814] Trial 2 finished with value: 0.8648648858070374 and parameters: {'n_units_1': 64, 'n_units_2': 106, 'dropout_rate': 0.47031217211674703}. Best is trial 1 with value: 0.9189189076423645.\n",
      "[I 2024-11-05 12:56:49,672] Trial 3 finished with value: 0.8918918967247009 and parameters: {'n_units_1': 237, 'n_units_2': 110, 'dropout_rate': 0.4943825302332551}. Best is trial 1 with value: 0.9189189076423645.\n",
      "[I 2024-11-05 12:56:50,503] Trial 4 finished with value: 0.8648648858070374 and parameters: {'n_units_1': 251, 'n_units_2': 107, 'dropout_rate': 0.4083233920714359}. Best is trial 1 with value: 0.9189189076423645.\n",
      "[I 2024-11-05 12:56:51,530] Trial 5 finished with value: 0.8918918967247009 and parameters: {'n_units_1': 176, 'n_units_2': 66, 'dropout_rate': 0.2866335516518771}. Best is trial 1 with value: 0.9189189076423645.\n",
      "[I 2024-11-05 12:56:52,447] Trial 6 finished with value: 0.9189189076423645 and parameters: {'n_units_1': 78, 'n_units_2': 99, 'dropout_rate': 0.3906308476508108}. Best is trial 1 with value: 0.9189189076423645.\n",
      "[I 2024-11-05 12:56:53,269] Trial 7 finished with value: 0.837837815284729 and parameters: {'n_units_1': 94, 'n_units_2': 46, 'dropout_rate': 0.3854627056156447}. Best is trial 1 with value: 0.9189189076423645.\n",
      "[I 2024-11-05 12:56:54,102] Trial 8 finished with value: 0.8918918967247009 and parameters: {'n_units_1': 241, 'n_units_2': 111, 'dropout_rate': 0.2382591189674924}. Best is trial 1 with value: 0.9189189076423645.\n",
      "[I 2024-11-05 12:56:54,929] Trial 9 finished with value: 0.9189189076423645 and parameters: {'n_units_1': 224, 'n_units_2': 118, 'dropout_rate': 0.35023129111359347}. Best is trial 1 with value: 0.9189189076423645.\n"
     ]
    },
    {
     "name": "stdout",
     "output_type": "stream",
     "text": [
      "\u001b[1m2/2\u001b[0m \u001b[32m━━━━━━━━━━━━━━━━━━━━\u001b[0m\u001b[37m\u001b[0m \u001b[1m0s\u001b[0m 12ms/step\n",
      "Dataset: Dataset_13, Score: 0.8509\n",
      "\u001b[1m4/4\u001b[0m \u001b[32m━━━━━━━━━━━━━━━━━━━━\u001b[0m\u001b[37m\u001b[0m \u001b[1m0s\u001b[0m 646us/step\n"
     ]
    },
    {
     "name": "stderr",
     "output_type": "stream",
     "text": [
      "[I 2024-11-05 12:56:56,416] A new study created in memory with name: no-name-47023b0f-3e71-4b11-ba78-1ba013ba4e0d\n"
     ]
    },
    {
     "name": "stdout",
     "output_type": "stream",
     "text": [
      "Dataset: Dataset_25\n",
      "X_train_split shape: (108, 6)\n",
      "y_train_split shape: (108, 1)\n",
      "X_val shape: (27, 6)\n",
      "y_val shape: (27, 1)\n"
     ]
    },
    {
     "name": "stderr",
     "output_type": "stream",
     "text": [
      "[I 2024-11-05 12:56:57,308] Trial 0 finished with value: 0.7407407164573669 and parameters: {'n_units_1': 144, 'n_units_2': 111, 'dropout_rate': 0.22563737848972323}. Best is trial 0 with value: 0.7407407164573669.\n",
      "[I 2024-11-05 12:56:58,132] Trial 1 finished with value: 0.7407407164573669 and parameters: {'n_units_1': 218, 'n_units_2': 114, 'dropout_rate': 0.22048821716616357}. Best is trial 0 with value: 0.7407407164573669.\n",
      "[I 2024-11-05 12:56:58,967] Trial 2 finished with value: 0.7407407164573669 and parameters: {'n_units_1': 170, 'n_units_2': 85, 'dropout_rate': 0.3757460070963447}. Best is trial 0 with value: 0.7407407164573669.\n",
      "[I 2024-11-05 12:56:59,776] Trial 3 finished with value: 0.7407407164573669 and parameters: {'n_units_1': 147, 'n_units_2': 34, 'dropout_rate': 0.30534675413678164}. Best is trial 0 with value: 0.7407407164573669.\n",
      "[I 2024-11-05 12:57:00,580] Trial 4 finished with value: 0.7407407164573669 and parameters: {'n_units_1': 92, 'n_units_2': 112, 'dropout_rate': 0.2002914025271325}. Best is trial 0 with value: 0.7407407164573669.\n",
      "[I 2024-11-05 12:57:01,402] Trial 5 finished with value: 0.7777777910232544 and parameters: {'n_units_1': 251, 'n_units_2': 61, 'dropout_rate': 0.2116556431763393}. Best is trial 5 with value: 0.7777777910232544.\n",
      "[I 2024-11-05 12:57:02,423] Trial 6 finished with value: 0.7407407164573669 and parameters: {'n_units_1': 185, 'n_units_2': 80, 'dropout_rate': 0.45500204953072776}. Best is trial 5 with value: 0.7777777910232544.\n",
      "[I 2024-11-05 12:57:03,265] Trial 7 finished with value: 0.7777777910232544 and parameters: {'n_units_1': 204, 'n_units_2': 38, 'dropout_rate': 0.3892034951705503}. Best is trial 5 with value: 0.7777777910232544.\n",
      "[I 2024-11-05 12:57:04,061] Trial 8 finished with value: 0.7407407164573669 and parameters: {'n_units_1': 68, 'n_units_2': 101, 'dropout_rate': 0.31122235071367343}. Best is trial 5 with value: 0.7777777910232544.\n",
      "[I 2024-11-05 12:57:04,853] Trial 9 finished with value: 0.7037037014961243 and parameters: {'n_units_1': 94, 'n_units_2': 41, 'dropout_rate': 0.2384665317056888}. Best is trial 5 with value: 0.7777777910232544.\n"
     ]
    },
    {
     "name": "stdout",
     "output_type": "stream",
     "text": [
      "\u001b[1m1/1\u001b[0m \u001b[32m━━━━━━━━━━━━━━━━━━━━\u001b[0m\u001b[37m\u001b[0m \u001b[1m0s\u001b[0m 18ms/step\n",
      "Dataset: Dataset_25, Score: 0.7562\n",
      "\u001b[1m3/3\u001b[0m \u001b[32m━━━━━━━━━━━━━━━━━━━━\u001b[0m\u001b[37m\u001b[0m \u001b[1m0s\u001b[0m 740us/step\n"
     ]
    },
    {
     "name": "stderr",
     "output_type": "stream",
     "text": [
      "[I 2024-11-05 12:57:06,276] A new study created in memory with name: no-name-a5eef6dd-3d03-456f-b379-da2c49334866\n"
     ]
    },
    {
     "name": "stdout",
     "output_type": "stream",
     "text": [
      "Dataset: Dataset_22\n",
      "X_train_split shape: (102, 9)\n",
      "y_train_split shape: (102, 1)\n",
      "X_val shape: (26, 9)\n",
      "y_val shape: (26, 1)\n"
     ]
    },
    {
     "name": "stderr",
     "output_type": "stream",
     "text": [
      "[I 2024-11-05 12:57:07,124] Trial 0 finished with value: 0.7692307829856873 and parameters: {'n_units_1': 147, 'n_units_2': 98, 'dropout_rate': 0.4012454219685726}. Best is trial 0 with value: 0.7692307829856873.\n",
      "[I 2024-11-05 12:57:07,950] Trial 1 finished with value: 0.7692307829856873 and parameters: {'n_units_1': 193, 'n_units_2': 120, 'dropout_rate': 0.4106108392407754}. Best is trial 0 with value: 0.7692307829856873.\n",
      "[I 2024-11-05 12:57:08,767] Trial 2 finished with value: 0.7692307829856873 and parameters: {'n_units_1': 179, 'n_units_2': 55, 'dropout_rate': 0.40789249230363944}. Best is trial 0 with value: 0.7692307829856873.\n",
      "[I 2024-11-05 12:57:09,589] Trial 3 finished with value: 0.7692307829856873 and parameters: {'n_units_1': 80, 'n_units_2': 50, 'dropout_rate': 0.45243352430248984}. Best is trial 0 with value: 0.7692307829856873.\n",
      "[I 2024-11-05 12:57:10,590] Trial 4 finished with value: 0.7692307829856873 and parameters: {'n_units_1': 213, 'n_units_2': 95, 'dropout_rate': 0.2862667503417095}. Best is trial 0 with value: 0.7692307829856873.\n",
      "[I 2024-11-05 12:57:11,420] Trial 5 finished with value: 0.7692307829856873 and parameters: {'n_units_1': 184, 'n_units_2': 36, 'dropout_rate': 0.4076604990529421}. Best is trial 0 with value: 0.7692307829856873.\n",
      "[I 2024-11-05 12:57:12,214] Trial 6 finished with value: 0.7692307829856873 and parameters: {'n_units_1': 219, 'n_units_2': 73, 'dropout_rate': 0.43808566246045993}. Best is trial 0 with value: 0.7692307829856873.\n",
      "[I 2024-11-05 12:57:13,008] Trial 7 finished with value: 0.7692307829856873 and parameters: {'n_units_1': 168, 'n_units_2': 107, 'dropout_rate': 0.3627820248790332}. Best is trial 0 with value: 0.7692307829856873.\n",
      "[I 2024-11-05 12:57:13,795] Trial 8 finished with value: 0.7692307829856873 and parameters: {'n_units_1': 86, 'n_units_2': 99, 'dropout_rate': 0.3860598365903103}. Best is trial 0 with value: 0.7692307829856873.\n",
      "[I 2024-11-05 12:57:14,641] Trial 9 finished with value: 0.7692307829856873 and parameters: {'n_units_1': 168, 'n_units_2': 79, 'dropout_rate': 0.27391499429830496}. Best is trial 0 with value: 0.7692307829856873.\n"
     ]
    },
    {
     "name": "stdout",
     "output_type": "stream",
     "text": [
      "\u001b[1m1/1\u001b[0m \u001b[32m━━━━━━━━━━━━━━━━━━━━\u001b[0m\u001b[37m\u001b[0m \u001b[1m0s\u001b[0m 18ms/step\n",
      "Dataset: Dataset_22, Score: 0.7434\n",
      "\u001b[1m3/3\u001b[0m \u001b[32m━━━━━━━━━━━━━━━━━━━━\u001b[0m\u001b[37m\u001b[0m \u001b[1m0s\u001b[0m 641us/step\n"
     ]
    },
    {
     "name": "stderr",
     "output_type": "stream",
     "text": [
      "[I 2024-11-05 12:57:16,081] A new study created in memory with name: no-name-ed5bd9bd-2dbf-492f-9d3d-80dc8605ff55\n"
     ]
    },
    {
     "name": "stdout",
     "output_type": "stream",
     "text": [
      "Dataset: Dataset_49\n",
      "X_train_split shape: (460, 44)\n",
      "y_train_split shape: (460, 1)\n",
      "X_val shape: (115, 44)\n",
      "y_val shape: (115, 1)\n"
     ]
    },
    {
     "name": "stderr",
     "output_type": "stream",
     "text": [
      "[I 2024-11-05 12:57:17,083] Trial 0 finished with value: 0.9304347634315491 and parameters: {'n_units_1': 251, 'n_units_2': 62, 'dropout_rate': 0.3174882577301513}. Best is trial 0 with value: 0.9304347634315491.\n",
      "[I 2024-11-05 12:57:18,136] Trial 1 finished with value: 0.9304347634315491 and parameters: {'n_units_1': 202, 'n_units_2': 102, 'dropout_rate': 0.3789854357887035}. Best is trial 0 with value: 0.9304347634315491.\n",
      "[I 2024-11-05 12:57:19,107] Trial 2 finished with value: 0.9130434989929199 and parameters: {'n_units_1': 207, 'n_units_2': 110, 'dropout_rate': 0.40466411162424387}. Best is trial 0 with value: 0.9304347634315491.\n",
      "[I 2024-11-05 12:57:20,188] Trial 3 finished with value: 0.9304347634315491 and parameters: {'n_units_1': 191, 'n_units_2': 62, 'dropout_rate': 0.22614213197132738}. Best is trial 0 with value: 0.9304347634315491.\n",
      "[I 2024-11-05 12:57:21,367] Trial 4 finished with value: 0.939130425453186 and parameters: {'n_units_1': 137, 'n_units_2': 66, 'dropout_rate': 0.2120539840032865}. Best is trial 4 with value: 0.939130425453186.\n",
      "[I 2024-11-05 12:57:22,337] Trial 5 finished with value: 0.947826087474823 and parameters: {'n_units_1': 144, 'n_units_2': 110, 'dropout_rate': 0.2971356227396095}. Best is trial 5 with value: 0.947826087474823.\n",
      "[I 2024-11-05 12:57:23,245] Trial 6 finished with value: 0.904347836971283 and parameters: {'n_units_1': 86, 'n_units_2': 36, 'dropout_rate': 0.40073181135653413}. Best is trial 5 with value: 0.947826087474823.\n",
      "[I 2024-11-05 12:57:24,154] Trial 7 finished with value: 0.939130425453186 and parameters: {'n_units_1': 86, 'n_units_2': 74, 'dropout_rate': 0.351992057513797}. Best is trial 5 with value: 0.947826087474823.\n",
      "[I 2024-11-05 12:57:28,276] Trial 8 finished with value: 0.9130434989929199 and parameters: {'n_units_1': 189, 'n_units_2': 50, 'dropout_rate': 0.46259320511824265}. Best is trial 5 with value: 0.947826087474823.\n",
      "[I 2024-11-05 12:57:29,313] Trial 9 finished with value: 0.939130425453186 and parameters: {'n_units_1': 210, 'n_units_2': 73, 'dropout_rate': 0.34907645334193366}. Best is trial 5 with value: 0.947826087474823.\n"
     ]
    },
    {
     "name": "stdout",
     "output_type": "stream",
     "text": [
      "\u001b[1m4/4\u001b[0m \u001b[32m━━━━━━━━━━━━━━━━━━━━\u001b[0m\u001b[37m\u001b[0m \u001b[1m0s\u001b[0m 4ms/step \n",
      "Dataset: Dataset_49, Score: 0.9510\n",
      "\u001b[1m12/12\u001b[0m \u001b[32m━━━━━━━━━━━━━━━━━━━━\u001b[0m\u001b[37m\u001b[0m \u001b[1m0s\u001b[0m 412us/step\n"
     ]
    },
    {
     "name": "stderr",
     "output_type": "stream",
     "text": [
      "[I 2024-11-05 12:57:31,217] A new study created in memory with name: no-name-29a8b539-e564-472f-a652-7e63a7254a0e\n"
     ]
    },
    {
     "name": "stdout",
     "output_type": "stream",
     "text": [
      "Dataset: Dataset_47\n",
      "X_train_split shape: (68, 76)\n",
      "y_train_split shape: (68, 1)\n",
      "X_val shape: (18, 76)\n",
      "y_val shape: (18, 1)\n"
     ]
    },
    {
     "name": "stderr",
     "output_type": "stream",
     "text": [
      "[I 2024-11-05 12:57:32,202] Trial 0 finished with value: 0.8333333134651184 and parameters: {'n_units_1': 136, 'n_units_2': 37, 'dropout_rate': 0.2538769663022817}. Best is trial 0 with value: 0.8333333134651184.\n",
      "[I 2024-11-05 12:57:33,109] Trial 1 finished with value: 0.8888888955116272 and parameters: {'n_units_1': 236, 'n_units_2': 113, 'dropout_rate': 0.4839759966523647}. Best is trial 1 with value: 0.8888888955116272.\n",
      "[I 2024-11-05 12:57:33,976] Trial 2 finished with value: 0.8888888955116272 and parameters: {'n_units_1': 159, 'n_units_2': 86, 'dropout_rate': 0.2508557718911668}. Best is trial 1 with value: 0.8888888955116272.\n",
      "[I 2024-11-05 12:57:34,811] Trial 3 finished with value: 0.8888888955116272 and parameters: {'n_units_1': 201, 'n_units_2': 80, 'dropout_rate': 0.41450956027477204}. Best is trial 1 with value: 0.8888888955116272.\n",
      "[I 2024-11-05 12:57:35,647] Trial 4 finished with value: 0.8888888955116272 and parameters: {'n_units_1': 99, 'n_units_2': 95, 'dropout_rate': 0.2164994189938521}. Best is trial 1 with value: 0.8888888955116272.\n",
      "[I 2024-11-05 12:57:36,720] Trial 5 finished with value: 0.8333333134651184 and parameters: {'n_units_1': 223, 'n_units_2': 76, 'dropout_rate': 0.450316597297351}. Best is trial 1 with value: 0.8888888955116272.\n",
      "[I 2024-11-05 12:57:37,554] Trial 6 finished with value: 0.8333333134651184 and parameters: {'n_units_1': 96, 'n_units_2': 34, 'dropout_rate': 0.4479019171111345}. Best is trial 1 with value: 0.8888888955116272.\n",
      "[I 2024-11-05 12:57:38,363] Trial 7 finished with value: 0.8333333134651184 and parameters: {'n_units_1': 134, 'n_units_2': 38, 'dropout_rate': 0.4902955006108567}. Best is trial 1 with value: 0.8888888955116272.\n",
      "[I 2024-11-05 12:57:39,179] Trial 8 finished with value: 0.8888888955116272 and parameters: {'n_units_1': 245, 'n_units_2': 47, 'dropout_rate': 0.4342245998937314}. Best is trial 1 with value: 0.8888888955116272.\n",
      "[I 2024-11-05 12:57:39,985] Trial 9 finished with value: 0.8333333134651184 and parameters: {'n_units_1': 166, 'n_units_2': 94, 'dropout_rate': 0.27291464461042625}. Best is trial 1 with value: 0.8888888955116272.\n"
     ]
    },
    {
     "name": "stdout",
     "output_type": "stream",
     "text": [
      "\u001b[1m1/1\u001b[0m \u001b[32m━━━━━━━━━━━━━━━━━━━━\u001b[0m\u001b[37m\u001b[0m \u001b[1m0s\u001b[0m 19ms/step\n",
      "Dataset: Dataset_47, Score: 0.7700\n",
      "\u001b[1m2/2\u001b[0m \u001b[32m━━━━━━━━━━━━━━━━━━━━\u001b[0m\u001b[37m\u001b[0m \u001b[1m0s\u001b[0m 1ms/step \n"
     ]
    },
    {
     "name": "stderr",
     "output_type": "stream",
     "text": [
      "[I 2024-11-05 12:57:41,483] A new study created in memory with name: no-name-3d01215b-6967-40b4-b86d-fe403830d8e2\n"
     ]
    },
    {
     "name": "stdout",
     "output_type": "stream",
     "text": [
      "Dataset: Dataset_40\n",
      "X_train_split shape: (368, 8)\n",
      "y_train_split shape: (368, 1)\n",
      "X_val shape: (92, 8)\n",
      "y_val shape: (92, 1)\n"
     ]
    },
    {
     "name": "stderr",
     "output_type": "stream",
     "text": [
      "[I 2024-11-05 12:57:42,480] Trial 0 finished with value: 0.804347813129425 and parameters: {'n_units_1': 192, 'n_units_2': 32, 'dropout_rate': 0.3471448462743778}. Best is trial 0 with value: 0.804347813129425.\n",
      "[I 2024-11-05 12:57:43,389] Trial 1 finished with value: 0.79347825050354 and parameters: {'n_units_1': 218, 'n_units_2': 58, 'dropout_rate': 0.3914294621144671}. Best is trial 0 with value: 0.804347813129425.\n",
      "[I 2024-11-05 12:57:44,336] Trial 2 finished with value: 0.804347813129425 and parameters: {'n_units_1': 123, 'n_units_2': 90, 'dropout_rate': 0.32393985103554873}. Best is trial 0 with value: 0.804347813129425.\n",
      "[I 2024-11-05 12:57:45,237] Trial 3 finished with value: 0.782608687877655 and parameters: {'n_units_1': 202, 'n_units_2': 96, 'dropout_rate': 0.20448679394888802}. Best is trial 0 with value: 0.804347813129425.\n",
      "[I 2024-11-05 12:57:46,131] Trial 4 finished with value: 0.782608687877655 and parameters: {'n_units_1': 106, 'n_units_2': 86, 'dropout_rate': 0.4115421039782652}. Best is trial 0 with value: 0.804347813129425.\n",
      "[I 2024-11-05 12:57:47,395] Trial 5 finished with value: 0.804347813129425 and parameters: {'n_units_1': 123, 'n_units_2': 115, 'dropout_rate': 0.4219378044982445}. Best is trial 0 with value: 0.804347813129425.\n",
      "[I 2024-11-05 12:57:48,433] Trial 6 finished with value: 0.782608687877655 and parameters: {'n_units_1': 189, 'n_units_2': 104, 'dropout_rate': 0.4768937415854035}. Best is trial 0 with value: 0.804347813129425.\n",
      "[I 2024-11-05 12:57:49,421] Trial 7 finished with value: 0.79347825050354 and parameters: {'n_units_1': 134, 'n_units_2': 60, 'dropout_rate': 0.34168883192730004}. Best is trial 0 with value: 0.804347813129425.\n",
      "[I 2024-11-05 12:57:50,349] Trial 8 finished with value: 0.77173912525177 and parameters: {'n_units_1': 142, 'n_units_2': 108, 'dropout_rate': 0.3744936676789268}. Best is trial 0 with value: 0.804347813129425.\n",
      "[I 2024-11-05 12:57:51,263] Trial 9 finished with value: 0.804347813129425 and parameters: {'n_units_1': 170, 'n_units_2': 33, 'dropout_rate': 0.3725369897708092}. Best is trial 0 with value: 0.804347813129425.\n"
     ]
    },
    {
     "name": "stdout",
     "output_type": "stream",
     "text": [
      "\u001b[1m3/3\u001b[0m \u001b[32m━━━━━━━━━━━━━━━━━━━━\u001b[0m\u001b[37m\u001b[0m \u001b[1m0s\u001b[0m 6ms/step \n",
      "Dataset: Dataset_40, Score: 0.7195\n",
      "\u001b[1m10/10\u001b[0m \u001b[32m━━━━━━━━━━━━━━━━━━━━\u001b[0m\u001b[37m\u001b[0m \u001b[1m0s\u001b[0m 438us/step\n"
     ]
    }
   ],
   "source": [
    "# Initialize lists to store summary metrics for all datasets\n",
    "summary_metrics = []\n",
    "\n",
    "# Loop through each dataset folder\n",
    "for dataset in dataset_folders:\n",
    "    dataset_path = os.path.join(base_path, dataset)\n",
    "\n",
    "    # Load data\n",
    "    X_train = pd.read_csv(os.path.join(dataset_path, 'X_train.csv'))\n",
    "    y_train = pd.read_csv(os.path.join(dataset_path, 'y_train.csv'))\n",
    "    X_test = pd.read_csv(os.path.join(dataset_path, 'X_test.csv'))\n",
    "\n",
    "    # Data Preprocessing\n",
    "    scaler = StandardScaler()\n",
    "    X_train_scaled = scaler.fit_transform(X_train)\n",
    "    X_test_scaled = scaler.transform(X_test)\n",
    "\n",
    "    # Train Test Split\n",
    "    X_train_split, X_val, y_train_split, y_val = train_test_split(X_train_scaled, y_train, test_size=0.2, random_state=42)\n",
    "\n",
    "    # Verify data shapes\n",
    "    print(f\"Dataset: {dataset}\")\n",
    "    print(\"X_train_split shape:\", X_train_split.shape)\n",
    "    print(\"y_train_split shape:\", y_train_split.shape)\n",
    "    print(\"X_val shape:\", X_val.shape)\n",
    "    print(\"y_val shape:\", y_val.shape)\n",
    "\n",
    "    # Hyperparameter Tuning with Optuna\n",
    "    def objective(trial):\n",
    "        try:\n",
    "            model = tune_nn_model(trial, X_train.shape[1])\n",
    "            history = model.fit(X_train_split, y_train_split, validation_data=(X_val, y_val), epochs=20, batch_size=32, verbose=0)\n",
    "            val_accuracy = max(history.history['val_accuracy'])\n",
    "            return val_accuracy\n",
    "        except Exception as e:\n",
    "            print(f\"Trial failed due to: {e}\")\n",
    "            return None\n",
    "\n",
    "    study = optuna.create_study(direction='maximize')\n",
    "    study.optimize(objective, n_trials=10)\n",
    "\n",
    "    # Train Final Model with Best Parameters\n",
    "    best_params = study.best_params\n",
    "    model = Sequential()\n",
    "    model.add(Dense(best_params['n_units_1'], input_dim=X_train.shape[1], activation='relu'))\n",
    "    model.add(Dropout(best_params['dropout_rate']))\n",
    "    model.add(Dense(best_params['n_units_2'], activation='relu'))\n",
    "    model.add(Dropout(best_params['dropout_rate']))\n",
    "    model.add(Dense(1, activation='sigmoid'))\n",
    "\n",
    "    model.compile(optimizer='adam', loss='binary_crossentropy', metrics=['accuracy'])\n",
    "\n",
    "    history = model.fit(X_train_split, y_train_split, validation_data=(X_val, y_val), epochs=50, batch_size=32, verbose=0)\n",
    "\n",
    "    # Evaluate the Model\n",
    "    y_val_pred = (model.predict(X_val) > 0.5).astype(int)\n",
    "    accuracy = accuracy_score(y_val, y_val_pred)\n",
    "    precision = precision_score(y_val, y_val_pred)\n",
    "    f1 = f1_score(y_val, y_val_pred)\n",
    "\n",
    "    # Custom Score\n",
    "    score = accuracy * 0.3 + precision * 0.4 + f1 * 0.3\n",
    "    print(f\"Dataset: {dataset}, Score: {score:.4f}\")\n",
    "\n",
    "    # Store metrics for summary\n",
    "    summary_metrics.append({\n",
    "        'Dataset': dataset,\n",
    "        'Accuracy': accuracy,\n",
    "        'Precision': precision,\n",
    "        'F1 Score': f1,\n",
    "        'Score': score\n",
    "    })\n",
    "\n",
    "    # Inference on Test Set\n",
    "    y_test_pred = model.predict(X_test_scaled)\n",
    "    y_test_pred_percentage = y_test_pred.flatten()  # Keep values between 0.0 and 1.0 for probability of 1\n",
    "\n",
    "    # Save Predictions\n",
    "    y_predict_path = os.path.join(dataset_path, 'y_predict.csv')\n",
    "    pd.DataFrame({'Prediction': y_test_pred_percentage}).to_csv(y_predict_path, index=False)\n",
    "\n"
   ]
  },
  {
   "cell_type": "code",
   "execution_count": 4,
   "id": "66b8a084",
   "metadata": {},
   "outputs": [
    {
     "data": {
      "image/png": "[encoded data removed]",
      "text/plain": [
       "<Figure size 1500x1000 with 4 Axes>"
      ]
     },
     "metadata": {},
     "output_type": "display_data"
    }
   ],
   "source": [
    "# Visualization Summary Chart for All Datasets\n",
    "summary_df = pd.DataFrame(summary_metrics)\n",
    "plt.figure(figsize=(15, 10))\n",
    "\n",
    "plt.subplot(2, 2, 1)\n",
    "sns.barplot(data=summary_df, x='Dataset', y='Accuracy')\n",
    "plt.title('Accuracy for All Datasets')\n",
    "plt.xticks(rotation=90)\n",
    "\n",
    "plt.subplot(2, 2, 2)\n",
    "sns.barplot(data=summary_df, x='Dataset', y='Precision')\n",
    "plt.title('Precision for All Datasets')\n",
    "plt.xticks(rotation=90)\n",
    "\n",
    "plt.subplot(2, 2, 3)\n",
    "sns.barplot(data=summary_df, x='Dataset', y='F1 Score')\n",
    "plt.title('F1 Score for All Datasets')\n",
    "plt.xticks(rotation=90)\n",
    "\n",
    "plt.subplot(2, 2, 4)\n",
    "sns.barplot(data=summary_df, x='Dataset', y='Score')\n",
    "plt.title('Custom Score for All Datasets')\n",
    "plt.xticks(rotation=90)\n",
    "\n",
    "plt.tight_layout()\n",
    "plt.show()\n"
   ]
  }
 ],
 "metadata": {
  "kernelspec": {
   "display_name": ".venv",
   "language": "python",
   "name": "python3"
  },
  "language_info": {
   "codemirror_mode": {
    "name": "ipython",
    "version": 3
   },
   "file_extension": ".py",
   "mimetype": "text/x-python",
   "name": "python",
   "nbconvert_exporter": "python",
   "pygments_lexer": "ipython3",
   "version": "3.9.6"
  }
 },
 "nbformat": 4,
 "nbformat_minor": 5
}
