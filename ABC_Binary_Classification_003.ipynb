{
 "cells": [
  {
   "cell_type": "code",
   "execution_count": 1,
   "id": "e9708239",
   "metadata": {},
   "outputs": [],
   "source": [
    "import warnings\n",
    "warnings.filterwarnings(\"ignore\")\n",
    "\n",
    "import os\n",
    "import pandas as pd\n",
    "import numpy as np\n",
    "import matplotlib.pyplot as plt\n",
    "import seaborn as sns\n",
    "from sklearn.model_selection import train_test_split, GridSearchCV\n",
    "from sklearn.preprocessing import StandardScaler\n",
    "from sklearn.metrics import accuracy_score, precision_score, f1_score, roc_auc_score\n",
    "from sklearn.ensemble import RandomForestClassifier\n",
    "from tensorflow.keras.models import Sequential\n",
    "from tensorflow.keras.layers import Dense, Dropout\n",
    "import optuna\n"
   ]
  },
  {
   "cell_type": "code",
   "execution_count": 2,
   "id": "8e8bf98c",
   "metadata": {},
   "outputs": [],
   "source": [
    "# Paths\n",
    "base_path = '../Competition_data'\n",
    "dataset_folders = os.listdir(base_path)"
   ]
  },
  {
   "cell_type": "code",
   "execution_count": 3,
   "id": "fe203a7f",
   "metadata": {},
   "outputs": [],
   "source": [
    "# Define a function for hyperparameter tuning using Optuna\n",
    "def tune_nn_model(trial, input_dim):\n",
    "    model = Sequential()\n",
    "    # Suggest number of units for each layer\n",
    "    n_units_1 = trial.suggest_int('n_units_1', 64, 256)\n",
    "    n_units_2 = trial.suggest_int('n_units_2', 32, 128)\n",
    "    dropout_rate = trial.suggest_float('dropout_rate', 0.2, 0.5)\n",
    "\n",
    "    model.add(Dense(n_units_1, input_dim=input_dim, activation='relu'))\n",
    "    model.add(Dropout(dropout_rate))\n",
    "    model.add(Dense(n_units_2, activation='relu'))\n",
    "    model.add(Dropout(dropout_rate))\n",
    "    model.add(Dense(1, activation='sigmoid'))\n",
    "\n",
    "    model.compile(optimizer='adam', loss='binary_crossentropy', metrics=['accuracy'])\n",
    "    return model"
   ]
  },
  {
   "cell_type": "code",
   "execution_count": 4,
   "id": "52dd8be4",
   "metadata": {},
   "outputs": [
    {
     "name": "stderr",
     "output_type": "stream",
     "text": [
      "[I 2024-11-05 12:24:45,477] A new study created in memory with name: no-name-90386ae9-1a71-4d7a-812d-3cd6f2923f2a\n"
     ]
    },
    {
     "name": "stdout",
     "output_type": "stream",
     "text": [
      "Dataset: Dataset_2\n",
      "X_train_split shape: (372, 24)\n",
      "y_train_split shape: (372, 1)\n",
      "X_train shape: (465, 24)\n",
      "y_train shape: (465, 1)\n"
     ]
    },
    {
     "name": "stderr",
     "output_type": "stream",
     "text": [
      "[I 2024-11-05 12:24:46,397] Trial 0 finished with value: 1.0 and parameters: {'n_units_1': 133, 'n_units_2': 62, 'dropout_rate': 0.4507582116372672}. Best is trial 0 with value: 1.0.\n",
      "[I 2024-11-05 12:24:47,255] Trial 1 finished with value: 1.0 and parameters: {'n_units_1': 147, 'n_units_2': 54, 'dropout_rate': 0.4460545077279146}. Best is trial 0 with value: 1.0.\n",
      "[I 2024-11-05 12:24:48,116] Trial 2 finished with value: 1.0 and parameters: {'n_units_1': 243, 'n_units_2': 55, 'dropout_rate': 0.324739086626695}. Best is trial 0 with value: 1.0.\n",
      "[I 2024-11-05 12:24:49,052] Trial 3 finished with value: 1.0 and parameters: {'n_units_1': 105, 'n_units_2': 88, 'dropout_rate': 0.3191179010199267}. Best is trial 0 with value: 1.0.\n",
      "[I 2024-11-05 12:24:49,924] Trial 4 finished with value: 1.0 and parameters: {'n_units_1': 195, 'n_units_2': 125, 'dropout_rate': 0.457393497806785}. Best is trial 0 with value: 1.0.\n",
      "[I 2024-11-05 12:24:50,790] Trial 5 finished with value: 1.0 and parameters: {'n_units_1': 134, 'n_units_2': 128, 'dropout_rate': 0.2791811126940234}. Best is trial 0 with value: 1.0.\n",
      "[I 2024-11-05 12:24:51,684] Trial 6 finished with value: 1.0 and parameters: {'n_units_1': 104, 'n_units_2': 51, 'dropout_rate': 0.49477601987752506}. Best is trial 0 with value: 1.0.\n",
      "[I 2024-11-05 12:24:52,594] Trial 7 finished with value: 1.0 and parameters: {'n_units_1': 239, 'n_units_2': 102, 'dropout_rate': 0.43773062557748055}. Best is trial 0 with value: 1.0.\n",
      "[I 2024-11-05 12:24:53,454] Trial 8 finished with value: 1.0 and parameters: {'n_units_1': 236, 'n_units_2': 62, 'dropout_rate': 0.4514871312262418}. Best is trial 0 with value: 1.0.\n",
      "[I 2024-11-05 12:24:54,308] Trial 9 finished with value: 1.0 and parameters: {'n_units_1': 203, 'n_units_2': 50, 'dropout_rate': 0.2702207833815995}. Best is trial 0 with value: 1.0.\n"
     ]
    },
    {
     "name": "stdout",
     "output_type": "stream",
     "text": [
      "\u001b[1m3/3\u001b[0m \u001b[32m━━━━━━━━━━━━━━━━━━━━\u001b[0m\u001b[37m\u001b[0m \u001b[1m0s\u001b[0m 6ms/step \n",
      "Dataset: Dataset_2, Score: 0.9928\n",
      "\u001b[1m10/10\u001b[0m \u001b[32m━━━━━━━━━━━━━━━━━━━━\u001b[0m\u001b[37m\u001b[0m \u001b[1m0s\u001b[0m 426us/step\n"
     ]
    },
    {
     "name": "stderr",
     "output_type": "stream",
     "text": [
      "[I 2024-11-05 12:24:56,019] A new study created in memory with name: no-name-de5921e5-5daa-4e39-8fad-fe6a59ca95b5\n"
     ]
    },
    {
     "name": "stdout",
     "output_type": "stream",
     "text": [
      "Dataset: Dataset_35\n",
      "X_train_split shape: (368, 8)\n",
      "y_train_split shape: (368, 1)\n",
      "X_train shape: (460, 8)\n",
      "y_train shape: (460, 1)\n"
     ]
    },
    {
     "name": "stderr",
     "output_type": "stream",
     "text": [
      "[I 2024-11-05 12:24:56,893] Trial 0 finished with value: 0.79347825050354 and parameters: {'n_units_1': 205, 'n_units_2': 88, 'dropout_rate': 0.2785362112615742}. Best is trial 0 with value: 0.79347825050354.\n",
      "[I 2024-11-05 12:24:57,757] Trial 1 finished with value: 0.782608687877655 and parameters: {'n_units_1': 112, 'n_units_2': 61, 'dropout_rate': 0.2313787283074398}. Best is trial 0 with value: 0.79347825050354.\n",
      "[I 2024-11-05 12:24:58,625] Trial 2 finished with value: 0.782608687877655 and parameters: {'n_units_1': 164, 'n_units_2': 59, 'dropout_rate': 0.4703030167002157}. Best is trial 0 with value: 0.79347825050354.\n",
      "[I 2024-11-05 12:24:59,506] Trial 3 finished with value: 0.782608687877655 and parameters: {'n_units_1': 126, 'n_units_2': 67, 'dropout_rate': 0.2969481263330367}. Best is trial 0 with value: 0.79347825050354.\n",
      "[I 2024-11-05 12:25:00,361] Trial 4 finished with value: 0.804347813129425 and parameters: {'n_units_1': 242, 'n_units_2': 37, 'dropout_rate': 0.39701523581766124}. Best is trial 4 with value: 0.804347813129425.\n",
      "[I 2024-11-05 12:25:01,468] Trial 5 finished with value: 0.79347825050354 and parameters: {'n_units_1': 256, 'n_units_2': 82, 'dropout_rate': 0.31170229072763184}. Best is trial 4 with value: 0.804347813129425.\n",
      "[I 2024-11-05 12:25:02,369] Trial 6 finished with value: 0.782608687877655 and parameters: {'n_units_1': 141, 'n_units_2': 82, 'dropout_rate': 0.2690309908718418}. Best is trial 4 with value: 0.804347813129425.\n",
      "[I 2024-11-05 12:25:03,393] Trial 7 finished with value: 0.782608687877655 and parameters: {'n_units_1': 253, 'n_units_2': 100, 'dropout_rate': 0.2441252699947506}. Best is trial 4 with value: 0.804347813129425.\n",
      "[I 2024-11-05 12:25:04,301] Trial 8 finished with value: 0.782608687877655 and parameters: {'n_units_1': 239, 'n_units_2': 85, 'dropout_rate': 0.3703002450231352}. Best is trial 4 with value: 0.804347813129425.\n",
      "[I 2024-11-05 12:25:05,150] Trial 9 finished with value: 0.804347813129425 and parameters: {'n_units_1': 81, 'n_units_2': 90, 'dropout_rate': 0.279808639798827}. Best is trial 4 with value: 0.804347813129425.\n"
     ]
    },
    {
     "name": "stdout",
     "output_type": "stream",
     "text": [
      "\u001b[1m3/3\u001b[0m \u001b[32m━━━━━━━━━━━━━━━━━━━━\u001b[0m\u001b[37m\u001b[0m \u001b[1m0s\u001b[0m 6ms/step  \n",
      "Dataset: Dataset_35, Score: 0.7005\n",
      "\u001b[1m10/10\u001b[0m \u001b[32m━━━━━━━━━━━━━━━━━━━━\u001b[0m\u001b[37m\u001b[0m \u001b[1m0s\u001b[0m 363us/step\n"
     ]
    },
    {
     "name": "stderr",
     "output_type": "stream",
     "text": [
      "[I 2024-11-05 12:25:06,722] A new study created in memory with name: no-name-984fb368-95d5-4d2f-97f5-05d24643e3e4\n"
     ]
    },
    {
     "name": "stdout",
     "output_type": "stream",
     "text": [
      "Dataset: Dataset_5\n",
      "X_train_split shape: (259, 19)\n",
      "y_train_split shape: (259, 1)\n",
      "X_train shape: (324, 19)\n",
      "y_train shape: (324, 1)\n"
     ]
    },
    {
     "name": "stderr",
     "output_type": "stream",
     "text": [
      "[I 2024-11-05 12:25:07,593] Trial 0 finished with value: 0.9384615421295166 and parameters: {'n_units_1': 140, 'n_units_2': 123, 'dropout_rate': 0.3236536092103278}. Best is trial 0 with value: 0.9384615421295166.\n",
      "[I 2024-11-05 12:25:08,430] Trial 1 finished with value: 0.9230769276618958 and parameters: {'n_units_1': 95, 'n_units_2': 76, 'dropout_rate': 0.20676467238353413}. Best is trial 0 with value: 0.9384615421295166.\n",
      "[I 2024-11-05 12:25:09,289] Trial 2 finished with value: 0.9230769276618958 and parameters: {'n_units_1': 92, 'n_units_2': 69, 'dropout_rate': 0.40639668824944075}. Best is trial 0 with value: 0.9384615421295166.\n",
      "[I 2024-11-05 12:25:10,126] Trial 3 finished with value: 0.9230769276618958 and parameters: {'n_units_1': 145, 'n_units_2': 108, 'dropout_rate': 0.37396686618266023}. Best is trial 0 with value: 0.9384615421295166.\n",
      "[I 2024-11-05 12:25:11,191] Trial 4 finished with value: 0.9384615421295166 and parameters: {'n_units_1': 142, 'n_units_2': 121, 'dropout_rate': 0.33382485202585205}. Best is trial 0 with value: 0.9384615421295166.\n",
      "[I 2024-11-05 12:25:12,264] Trial 5 finished with value: 0.9384615421295166 and parameters: {'n_units_1': 177, 'n_units_2': 128, 'dropout_rate': 0.3514033777380875}. Best is trial 0 with value: 0.9384615421295166.\n",
      "[I 2024-11-05 12:25:13,107] Trial 6 finished with value: 0.9384615421295166 and parameters: {'n_units_1': 198, 'n_units_2': 87, 'dropout_rate': 0.40361024114251937}. Best is trial 0 with value: 0.9384615421295166.\n",
      "[I 2024-11-05 12:25:13,953] Trial 7 finished with value: 0.9384615421295166 and parameters: {'n_units_1': 206, 'n_units_2': 124, 'dropout_rate': 0.49654217743951873}. Best is trial 0 with value: 0.9384615421295166.\n",
      "[I 2024-11-05 12:25:14,788] Trial 8 finished with value: 0.9384615421295166 and parameters: {'n_units_1': 176, 'n_units_2': 88, 'dropout_rate': 0.41042560239979015}. Best is trial 0 with value: 0.9384615421295166.\n",
      "[I 2024-11-05 12:25:15,651] Trial 9 finished with value: 0.9230769276618958 and parameters: {'n_units_1': 122, 'n_units_2': 98, 'dropout_rate': 0.4812167837156914}. Best is trial 0 with value: 0.9384615421295166.\n"
     ]
    },
    {
     "name": "stdout",
     "output_type": "stream",
     "text": [
      "\u001b[1m3/3\u001b[0m \u001b[32m━━━━━━━━━━━━━━━━━━━━\u001b[0m\u001b[37m\u001b[0m \u001b[1m0s\u001b[0m 7ms/step  \n",
      "Dataset: Dataset_5, Score: 0.7815\n",
      "\u001b[1m7/7\u001b[0m \u001b[32m━━━━━━━━━━━━━━━━━━━━\u001b[0m\u001b[37m\u001b[0m \u001b[1m0s\u001b[0m 494us/step\n"
     ]
    },
    {
     "name": "stderr",
     "output_type": "stream",
     "text": [
      "[I 2024-11-05 12:25:17,355] A new study created in memory with name: no-name-f6e77071-3fc0-4b94-8f20-73a46b12fefe\n"
     ]
    },
    {
     "name": "stdout",
     "output_type": "stream",
     "text": [
      "Dataset: Dataset_32\n",
      "X_train_split shape: (474, 4)\n",
      "y_train_split shape: (474, 1)\n",
      "X_train shape: (593, 4)\n",
      "y_train shape: (593, 1)\n"
     ]
    },
    {
     "name": "stderr",
     "output_type": "stream",
     "text": [
      "[I 2024-11-05 12:25:18,279] Trial 0 finished with value: 0.8907563090324402 and parameters: {'n_units_1': 98, 'n_units_2': 78, 'dropout_rate': 0.3873543568355548}. Best is trial 0 with value: 0.8907563090324402.\n",
      "[I 2024-11-05 12:25:19,214] Trial 1 finished with value: 0.8907563090324402 and parameters: {'n_units_1': 124, 'n_units_2': 58, 'dropout_rate': 0.398258771259694}. Best is trial 0 with value: 0.8907563090324402.\n",
      "[I 2024-11-05 12:25:20,133] Trial 2 finished with value: 0.8907563090324402 and parameters: {'n_units_1': 120, 'n_units_2': 91, 'dropout_rate': 0.49640540350302254}. Best is trial 0 with value: 0.8907563090324402.\n",
      "[I 2024-11-05 12:25:21,035] Trial 3 finished with value: 0.8907563090324402 and parameters: {'n_units_1': 164, 'n_units_2': 65, 'dropout_rate': 0.24528017341981606}. Best is trial 0 with value: 0.8907563090324402.\n",
      "[I 2024-11-05 12:25:22,196] Trial 4 finished with value: 0.8907563090324402 and parameters: {'n_units_1': 239, 'n_units_2': 122, 'dropout_rate': 0.20801803377965838}. Best is trial 0 with value: 0.8907563090324402.\n",
      "[I 2024-11-05 12:25:23,352] Trial 5 finished with value: 0.8907563090324402 and parameters: {'n_units_1': 146, 'n_units_2': 114, 'dropout_rate': 0.24649667847061651}. Best is trial 0 with value: 0.8907563090324402.\n",
      "[I 2024-11-05 12:25:24,276] Trial 6 finished with value: 0.8907563090324402 and parameters: {'n_units_1': 223, 'n_units_2': 115, 'dropout_rate': 0.34073017683701334}. Best is trial 0 with value: 0.8907563090324402.\n",
      "[I 2024-11-05 12:25:25,200] Trial 7 finished with value: 0.8907563090324402 and parameters: {'n_units_1': 148, 'n_units_2': 127, 'dropout_rate': 0.2839579978075534}. Best is trial 0 with value: 0.8907563090324402.\n",
      "[I 2024-11-05 12:25:26,084] Trial 8 finished with value: 0.8907563090324402 and parameters: {'n_units_1': 125, 'n_units_2': 95, 'dropout_rate': 0.4344605750112031}. Best is trial 0 with value: 0.8907563090324402.\n",
      "[I 2024-11-05 12:25:26,973] Trial 9 finished with value: 0.8907563090324402 and parameters: {'n_units_1': 181, 'n_units_2': 77, 'dropout_rate': 0.40204176297213406}. Best is trial 0 with value: 0.8907563090324402.\n"
     ]
    },
    {
     "name": "stdout",
     "output_type": "stream",
     "text": [
      "\u001b[1m4/4\u001b[0m \u001b[32m━━━━━━━━━━━━━━━━━━━━\u001b[0m\u001b[37m\u001b[0m \u001b[1m0s\u001b[0m 4ms/step \n",
      "Dataset: Dataset_32, Score: 0.2622\n",
      "\u001b[1m13/13\u001b[0m \u001b[32m━━━━━━━━━━━━━━━━━━━━\u001b[0m\u001b[37m\u001b[0m \u001b[1m0s\u001b[0m 368us/step\n"
     ]
    },
    {
     "name": "stderr",
     "output_type": "stream",
     "text": [
      "[I 2024-11-05 12:25:28,616] A new study created in memory with name: no-name-54193994-e14c-459a-bfdc-fbad31e3f877\n"
     ]
    },
    {
     "name": "stdout",
     "output_type": "stream",
     "text": [
      "Dataset: Dataset_4\n",
      "X_train_split shape: (411, 30)\n",
      "y_train_split shape: (411, 1)\n",
      "X_train shape: (514, 30)\n",
      "y_train shape: (514, 1)\n"
     ]
    },
    {
     "name": "stderr",
     "output_type": "stream",
     "text": [
      "[I 2024-11-05 12:25:29,497] Trial 0 finished with value: 0.9514563083648682 and parameters: {'n_units_1': 114, 'n_units_2': 63, 'dropout_rate': 0.4338574587645223}. Best is trial 0 with value: 0.9514563083648682.\n",
      "[I 2024-11-05 12:25:30,439] Trial 1 finished with value: 0.9514563083648682 and parameters: {'n_units_1': 226, 'n_units_2': 72, 'dropout_rate': 0.35151487400946735}. Best is trial 0 with value: 0.9514563083648682.\n",
      "[I 2024-11-05 12:25:31,366] Trial 2 finished with value: 0.9514563083648682 and parameters: {'n_units_1': 240, 'n_units_2': 101, 'dropout_rate': 0.354946144282387}. Best is trial 0 with value: 0.9514563083648682.\n",
      "[I 2024-11-05 12:25:32,261] Trial 3 finished with value: 0.9514563083648682 and parameters: {'n_units_1': 224, 'n_units_2': 125, 'dropout_rate': 0.3326988183118759}. Best is trial 0 with value: 0.9514563083648682.\n",
      "[I 2024-11-05 12:25:33,380] Trial 4 finished with value: 0.9514563083648682 and parameters: {'n_units_1': 71, 'n_units_2': 78, 'dropout_rate': 0.3826720994730652}. Best is trial 0 with value: 0.9514563083648682.\n",
      "[I 2024-11-05 12:25:34,297] Trial 5 finished with value: 0.9514563083648682 and parameters: {'n_units_1': 176, 'n_units_2': 103, 'dropout_rate': 0.2547537517513543}. Best is trial 0 with value: 0.9514563083648682.\n",
      "[I 2024-11-05 12:25:35,153] Trial 6 finished with value: 0.9514563083648682 and parameters: {'n_units_1': 90, 'n_units_2': 33, 'dropout_rate': 0.2929201162853566}. Best is trial 0 with value: 0.9514563083648682.\n",
      "[I 2024-11-05 12:25:36,321] Trial 7 finished with value: 0.9514563083648682 and parameters: {'n_units_1': 66, 'n_units_2': 68, 'dropout_rate': 0.3471863745826848}. Best is trial 0 with value: 0.9514563083648682.\n",
      "[I 2024-11-05 12:25:37,237] Trial 8 finished with value: 0.9514563083648682 and parameters: {'n_units_1': 188, 'n_units_2': 119, 'dropout_rate': 0.4789349140938016}. Best is trial 0 with value: 0.9514563083648682.\n",
      "[I 2024-11-05 12:25:38,153] Trial 9 finished with value: 0.9514563083648682 and parameters: {'n_units_1': 129, 'n_units_2': 36, 'dropout_rate': 0.4704746607624983}. Best is trial 0 with value: 0.9514563083648682.\n"
     ]
    },
    {
     "name": "stdout",
     "output_type": "stream",
     "text": [
      "\u001b[1m4/4\u001b[0m \u001b[32m━━━━━━━━━━━━━━━━━━━━\u001b[0m\u001b[37m\u001b[0m \u001b[1m0s\u001b[0m 8ms/step \n",
      "Dataset: Dataset_4, Score: 0.2854\n",
      "\u001b[1m11/11\u001b[0m \u001b[32m━━━━━━━━━━━━━━━━━━━━\u001b[0m\u001b[37m\u001b[0m \u001b[1m0s\u001b[0m 328us/step\n"
     ]
    },
    {
     "name": "stderr",
     "output_type": "stream",
     "text": [
      "[I 2024-11-05 12:25:39,927] A new study created in memory with name: no-name-1b0b8232-80c7-4e92-aad7-0ffa5a6d38e3\n"
     ]
    },
    {
     "name": "stdout",
     "output_type": "stream",
     "text": [
      "Dataset: Dataset_33\n",
      "X_train_split shape: (192, 13)\n",
      "y_train_split shape: (192, 1)\n",
      "X_train shape: (240, 13)\n",
      "y_train shape: (240, 1)\n"
     ]
    },
    {
     "name": "stderr",
     "output_type": "stream",
     "text": [
      "[I 2024-11-05 12:25:40,765] Trial 0 finished with value: 0.9583333134651184 and parameters: {'n_units_1': 73, 'n_units_2': 89, 'dropout_rate': 0.48375873112900175}. Best is trial 0 with value: 0.9583333134651184.\n",
      "[I 2024-11-05 12:25:41,619] Trial 1 finished with value: 0.9791666865348816 and parameters: {'n_units_1': 182, 'n_units_2': 47, 'dropout_rate': 0.34417966415874146}. Best is trial 1 with value: 0.9791666865348816.\n",
      "[I 2024-11-05 12:25:42,515] Trial 2 finished with value: 0.9583333134651184 and parameters: {'n_units_1': 151, 'n_units_2': 33, 'dropout_rate': 0.29910427233378273}. Best is trial 1 with value: 0.9791666865348816.\n",
      "[I 2024-11-05 12:25:43,378] Trial 3 finished with value: 1.0 and parameters: {'n_units_1': 171, 'n_units_2': 73, 'dropout_rate': 0.47694629019725426}. Best is trial 3 with value: 1.0.\n",
      "[I 2024-11-05 12:25:44,519] Trial 4 finished with value: 1.0 and parameters: {'n_units_1': 248, 'n_units_2': 38, 'dropout_rate': 0.25058467311661087}. Best is trial 3 with value: 1.0.\n",
      "[I 2024-11-05 12:25:45,374] Trial 5 finished with value: 1.0 and parameters: {'n_units_1': 150, 'n_units_2': 96, 'dropout_rate': 0.3489735231618627}. Best is trial 3 with value: 1.0.\n",
      "[I 2024-11-05 12:25:46,141] Trial 6 finished with value: 1.0 and parameters: {'n_units_1': 161, 'n_units_2': 85, 'dropout_rate': 0.28893481427808104}. Best is trial 3 with value: 1.0.\n",
      "[I 2024-11-05 12:25:46,902] Trial 7 finished with value: 0.9583333134651184 and parameters: {'n_units_1': 74, 'n_units_2': 46, 'dropout_rate': 0.40657262571629327}. Best is trial 3 with value: 1.0.\n",
      "[I 2024-11-05 12:25:47,664] Trial 8 finished with value: 1.0 and parameters: {'n_units_1': 249, 'n_units_2': 99, 'dropout_rate': 0.28121283966468674}. Best is trial 3 with value: 1.0.\n",
      "[I 2024-11-05 12:25:48,427] Trial 9 finished with value: 1.0 and parameters: {'n_units_1': 208, 'n_units_2': 109, 'dropout_rate': 0.23751510689650546}. Best is trial 3 with value: 1.0.\n"
     ]
    },
    {
     "name": "stdout",
     "output_type": "stream",
     "text": [
      "\u001b[1m2/2\u001b[0m \u001b[32m━━━━━━━━━━━━━━━━━━━━\u001b[0m\u001b[37m\u001b[0m \u001b[1m0s\u001b[0m 11ms/step\n",
      "Dataset: Dataset_33, Score: 1.0000\n",
      "\u001b[1m5/5\u001b[0m \u001b[32m━━━━━━━━━━━━━━━━━━━━\u001b[0m\u001b[37m\u001b[0m \u001b[1m0s\u001b[0m 615us/step\n"
     ]
    },
    {
     "name": "stderr",
     "output_type": "stream",
     "text": [
      "[I 2024-11-05 12:25:49,790] A new study created in memory with name: no-name-6999b62e-85f1-4e0f-9c20-06c5708832ab\n"
     ]
    },
    {
     "name": "stdout",
     "output_type": "stream",
     "text": [
      "Dataset: Dataset_3\n",
      "X_train_split shape: (55, 9)\n",
      "y_train_split shape: (55, 1)\n",
      "X_train shape: (69, 9)\n",
      "y_train shape: (69, 1)\n"
     ]
    },
    {
     "name": "stderr",
     "output_type": "stream",
     "text": [
      "[I 2024-11-05 12:25:50,947] Trial 0 finished with value: 0.7857142686843872 and parameters: {'n_units_1': 193, 'n_units_2': 35, 'dropout_rate': 0.4927828528544636}. Best is trial 0 with value: 0.7857142686843872.\n",
      "[I 2024-11-05 12:25:51,724] Trial 1 finished with value: 0.8571428656578064 and parameters: {'n_units_1': 100, 'n_units_2': 126, 'dropout_rate': 0.47951907342066735}. Best is trial 1 with value: 0.8571428656578064.\n",
      "[I 2024-11-05 12:25:52,512] Trial 2 finished with value: 0.7142857313156128 and parameters: {'n_units_1': 192, 'n_units_2': 112, 'dropout_rate': 0.28999867961229064}. Best is trial 1 with value: 0.8571428656578064.\n",
      "[I 2024-11-05 12:25:53,303] Trial 3 finished with value: 0.7142857313156128 and parameters: {'n_units_1': 183, 'n_units_2': 85, 'dropout_rate': 0.33374771721225815}. Best is trial 1 with value: 0.8571428656578064.\n",
      "[I 2024-11-05 12:25:54,145] Trial 4 finished with value: 0.7857142686843872 and parameters: {'n_units_1': 83, 'n_units_2': 124, 'dropout_rate': 0.48834729156798445}. Best is trial 1 with value: 0.8571428656578064.\n",
      "[I 2024-11-05 12:25:55,076] Trial 5 finished with value: 0.5 and parameters: {'n_units_1': 66, 'n_units_2': 108, 'dropout_rate': 0.3403983599874499}. Best is trial 1 with value: 0.8571428656578064.\n",
      "[I 2024-11-05 12:25:55,873] Trial 6 finished with value: 0.5714285969734192 and parameters: {'n_units_1': 212, 'n_units_2': 63, 'dropout_rate': 0.39042431188944954}. Best is trial 1 with value: 0.8571428656578064.\n",
      "[I 2024-11-05 12:25:56,625] Trial 7 finished with value: 0.7857142686843872 and parameters: {'n_units_1': 93, 'n_units_2': 66, 'dropout_rate': 0.22633869030728415}. Best is trial 1 with value: 0.8571428656578064.\n",
      "[I 2024-11-05 12:25:57,375] Trial 8 finished with value: 0.5714285969734192 and parameters: {'n_units_1': 109, 'n_units_2': 117, 'dropout_rate': 0.2649775085605592}. Best is trial 1 with value: 0.8571428656578064.\n",
      "[I 2024-11-05 12:25:58,125] Trial 9 finished with value: 0.7857142686843872 and parameters: {'n_units_1': 127, 'n_units_2': 46, 'dropout_rate': 0.33068331846165333}. Best is trial 1 with value: 0.8571428656578064.\n"
     ]
    },
    {
     "name": "stdout",
     "output_type": "stream",
     "text": [
      "\u001b[1m1/1\u001b[0m \u001b[32m━━━━━━━━━━━━━━━━━━━━\u001b[0m\u001b[37m\u001b[0m \u001b[1m0s\u001b[0m 18ms/step\n",
      "Dataset: Dataset_3, Score: 0.6713\n",
      "WARNING:tensorflow:5 out of the last 21 calls to <function TensorFlowTrainer.make_predict_function.<locals>.one_step_on_data_distributed at 0x34ddd0c10> triggered tf.function retracing. Tracing is expensive and the excessive number of tracings could be due to (1) creating @tf.function repeatedly in a loop, (2) passing tensors with different shapes, (3) passing Python objects instead of tensors. For (1), please define your @tf.function outside of the loop. For (2), @tf.function has reduce_retracing=True option that can avoid unnecessary retracing. For (3), please refer to https://www.tensorflow.org/guide/function#controlling_retracing and https://www.tensorflow.org/api_docs/python/tf/function for  more details.\n",
      "\u001b[1m2/2\u001b[0m \u001b[32m━━━━━━━━━━━━━━━━━━━━\u001b[0m\u001b[37m\u001b[0m \u001b[1m0s\u001b[0m 1ms/step  \n"
     ]
    },
    {
     "name": "stderr",
     "output_type": "stream",
     "text": [
      "[I 2024-11-05 12:25:59,502] A new study created in memory with name: no-name-8bc61f1d-7b6d-4dbe-8774-0057cac46b27\n"
     ]
    },
    {
     "name": "stdout",
     "output_type": "stream",
     "text": [
      "Dataset: Dataset_34\n",
      "X_train_split shape: (219, 13)\n",
      "y_train_split shape: (219, 1)\n",
      "X_train shape: (274, 13)\n",
      "y_train shape: (274, 1)\n"
     ]
    },
    {
     "name": "stderr",
     "output_type": "stream",
     "text": [
      "[I 2024-11-05 12:26:00,346] Trial 0 finished with value: 0.800000011920929 and parameters: {'n_units_1': 143, 'n_units_2': 106, 'dropout_rate': 0.47080218994391654}. Best is trial 0 with value: 0.800000011920929.\n",
      "[I 2024-11-05 12:26:01,187] Trial 1 finished with value: 0.8181818127632141 and parameters: {'n_units_1': 147, 'n_units_2': 53, 'dropout_rate': 0.44175353936927536}. Best is trial 1 with value: 0.8181818127632141.\n",
      "[I 2024-11-05 12:26:02,011] Trial 2 finished with value: 0.800000011920929 and parameters: {'n_units_1': 68, 'n_units_2': 63, 'dropout_rate': 0.2683584219525594}. Best is trial 1 with value: 0.8181818127632141.\n",
      "[I 2024-11-05 12:26:02,833] Trial 3 finished with value: 0.8181818127632141 and parameters: {'n_units_1': 188, 'n_units_2': 57, 'dropout_rate': 0.4173656929813168}. Best is trial 1 with value: 0.8181818127632141.\n",
      "[I 2024-11-05 12:26:03,803] Trial 4 finished with value: 0.8181818127632141 and parameters: {'n_units_1': 85, 'n_units_2': 116, 'dropout_rate': 0.3911071471413813}. Best is trial 1 with value: 0.8181818127632141.\n",
      "[I 2024-11-05 12:26:04,706] Trial 5 finished with value: 0.8181818127632141 and parameters: {'n_units_1': 221, 'n_units_2': 113, 'dropout_rate': 0.4077040718927321}. Best is trial 1 with value: 0.8181818127632141.\n",
      "[I 2024-11-05 12:26:05,948] Trial 6 finished with value: 0.800000011920929 and parameters: {'n_units_1': 123, 'n_units_2': 73, 'dropout_rate': 0.38635297782545464}. Best is trial 1 with value: 0.8181818127632141.\n",
      "[I 2024-11-05 12:26:06,783] Trial 7 finished with value: 0.800000011920929 and parameters: {'n_units_1': 239, 'n_units_2': 73, 'dropout_rate': 0.38912001713989847}. Best is trial 1 with value: 0.8181818127632141.\n",
      "[I 2024-11-05 12:26:07,657] Trial 8 finished with value: 0.8363636136054993 and parameters: {'n_units_1': 98, 'n_units_2': 75, 'dropout_rate': 0.20077301161955485}. Best is trial 8 with value: 0.8363636136054993.\n",
      "[I 2024-11-05 12:26:08,494] Trial 9 finished with value: 0.800000011920929 and parameters: {'n_units_1': 150, 'n_units_2': 114, 'dropout_rate': 0.3248378482982472}. Best is trial 8 with value: 0.8363636136054993.\n"
     ]
    },
    {
     "name": "stdout",
     "output_type": "stream",
     "text": [
      "WARNING:tensorflow:5 out of the last 11 calls to <function TensorFlowTrainer.make_predict_function.<locals>.one_step_on_data_distributed at 0x315cbe040> triggered tf.function retracing. Tracing is expensive and the excessive number of tracings could be due to (1) creating @tf.function repeatedly in a loop, (2) passing tensors with different shapes, (3) passing Python objects instead of tensors. For (1), please define your @tf.function outside of the loop. For (2), @tf.function has reduce_retracing=True option that can avoid unnecessary retracing. For (3), please refer to https://www.tensorflow.org/guide/function#controlling_retracing and https://www.tensorflow.org/api_docs/python/tf/function for  more details.\n",
      "\u001b[1m2/2\u001b[0m \u001b[32m━━━━━━━━━━━━━━━━━━━━\u001b[0m\u001b[37m\u001b[0m \u001b[1m0s\u001b[0m 12ms/step\n",
      "Dataset: Dataset_34, Score: 0.6782\n",
      "\u001b[1m6/6\u001b[0m \u001b[32m━━━━━━━━━━━━━━━━━━━━\u001b[0m\u001b[37m\u001b[0m \u001b[1m0s\u001b[0m 530us/step\n"
     ]
    },
    {
     "name": "stderr",
     "output_type": "stream",
     "text": [
      "[I 2024-11-05 12:26:09,977] A new study created in memory with name: no-name-1c16bb87-6164-4637-b24c-03751ddb0ffe\n"
     ]
    },
    {
     "name": "stdout",
     "output_type": "stream",
     "text": [
      "Dataset: Dataset_45\n",
      "X_train_split shape: (126, 4)\n",
      "y_train_split shape: (126, 1)\n",
      "X_train shape: (158, 4)\n",
      "y_train shape: (158, 1)\n"
     ]
    },
    {
     "name": "stderr",
     "output_type": "stream",
     "text": [
      "[I 2024-11-05 12:26:10,813] Trial 0 finished with value: 0.9375 and parameters: {'n_units_1': 107, 'n_units_2': 87, 'dropout_rate': 0.48434722828902077}. Best is trial 0 with value: 0.9375.\n",
      "[I 2024-11-05 12:26:11,579] Trial 1 finished with value: 0.9375 and parameters: {'n_units_1': 153, 'n_units_2': 69, 'dropout_rate': 0.3051659525514333}. Best is trial 0 with value: 0.9375.\n",
      "[I 2024-11-05 12:26:12,423] Trial 2 finished with value: 0.9375 and parameters: {'n_units_1': 98, 'n_units_2': 74, 'dropout_rate': 0.2897782685823242}. Best is trial 0 with value: 0.9375.\n",
      "[I 2024-11-05 12:26:13,206] Trial 3 finished with value: 0.9375 and parameters: {'n_units_1': 119, 'n_units_2': 63, 'dropout_rate': 0.25306842129190427}. Best is trial 0 with value: 0.9375.\n",
      "[I 2024-11-05 12:26:13,964] Trial 4 finished with value: 0.9375 and parameters: {'n_units_1': 146, 'n_units_2': 105, 'dropout_rate': 0.379690985194344}. Best is trial 0 with value: 0.9375.\n",
      "[I 2024-11-05 12:26:14,730] Trial 5 finished with value: 0.9375 and parameters: {'n_units_1': 177, 'n_units_2': 105, 'dropout_rate': 0.251593537844695}. Best is trial 0 with value: 0.9375.\n",
      "[I 2024-11-05 12:26:15,613] Trial 6 finished with value: 0.9375 and parameters: {'n_units_1': 138, 'n_units_2': 107, 'dropout_rate': 0.2852095834692779}. Best is trial 0 with value: 0.9375.\n",
      "[I 2024-11-05 12:26:16,480] Trial 7 finished with value: 0.9375 and parameters: {'n_units_1': 114, 'n_units_2': 79, 'dropout_rate': 0.33719526262606486}. Best is trial 0 with value: 0.9375.\n",
      "[I 2024-11-05 12:26:17,232] Trial 8 finished with value: 0.9375 and parameters: {'n_units_1': 173, 'n_units_2': 44, 'dropout_rate': 0.47870500922764525}. Best is trial 0 with value: 0.9375.\n",
      "[I 2024-11-05 12:26:17,983] Trial 9 finished with value: 0.9375 and parameters: {'n_units_1': 150, 'n_units_2': 116, 'dropout_rate': 0.2143310531531955}. Best is trial 0 with value: 0.9375.\n"
     ]
    },
    {
     "name": "stdout",
     "output_type": "stream",
     "text": [
      "\u001b[1m1/1\u001b[0m \u001b[32m━━━━━━━━━━━━━━━━━━━━\u001b[0m\u001b[37m\u001b[0m \u001b[1m0s\u001b[0m 20ms/step\n",
      "Dataset: Dataset_45, Score: 0.8906\n",
      "\u001b[1m4/4\u001b[0m \u001b[32m━━━━━━━━━━━━━━━━━━━━\u001b[0m\u001b[37m\u001b[0m \u001b[1m0s\u001b[0m 4ms/step\n"
     ]
    },
    {
     "name": "stderr",
     "output_type": "stream",
     "text": [
      "[I 2024-11-05 12:26:19,342] A new study created in memory with name: no-name-1a9a0137-82cd-4a03-afbe-af39a33690de\n"
     ]
    },
    {
     "name": "stdout",
     "output_type": "stream",
     "text": [
      "Dataset: Dataset_42\n",
      "X_train_split shape: (96, 6)\n",
      "y_train_split shape: (96, 1)\n",
      "X_train shape: (120, 6)\n",
      "y_train shape: (120, 1)\n"
     ]
    },
    {
     "name": "stderr",
     "output_type": "stream",
     "text": [
      "[I 2024-11-05 12:26:20,086] Trial 0 finished with value: 1.0 and parameters: {'n_units_1': 79, 'n_units_2': 68, 'dropout_rate': 0.3525171095382489}. Best is trial 0 with value: 1.0.\n",
      "[I 2024-11-05 12:26:20,822] Trial 1 finished with value: 0.9583333134651184 and parameters: {'n_units_1': 84, 'n_units_2': 88, 'dropout_rate': 0.23904137345399898}. Best is trial 0 with value: 1.0.\n",
      "[I 2024-11-05 12:26:21,556] Trial 2 finished with value: 1.0 and parameters: {'n_units_1': 196, 'n_units_2': 72, 'dropout_rate': 0.41805760657592855}. Best is trial 0 with value: 1.0.\n",
      "[I 2024-11-05 12:26:22,299] Trial 3 finished with value: 0.9583333134651184 and parameters: {'n_units_1': 211, 'n_units_2': 52, 'dropout_rate': 0.3666347982692006}. Best is trial 0 with value: 1.0.\n",
      "[I 2024-11-05 12:26:23,012] Trial 4 finished with value: 0.9583333134651184 and parameters: {'n_units_1': 237, 'n_units_2': 46, 'dropout_rate': 0.38402133839946423}. Best is trial 0 with value: 1.0.\n",
      "[I 2024-11-05 12:26:24,277] Trial 5 finished with value: 1.0 and parameters: {'n_units_1': 83, 'n_units_2': 92, 'dropout_rate': 0.20945721821478186}. Best is trial 0 with value: 1.0.\n",
      "[I 2024-11-05 12:26:25,197] Trial 6 finished with value: 1.0 and parameters: {'n_units_1': 185, 'n_units_2': 117, 'dropout_rate': 0.3385422681464424}. Best is trial 0 with value: 1.0.\n",
      "[I 2024-11-05 12:26:25,928] Trial 7 finished with value: 0.9583333134651184 and parameters: {'n_units_1': 199, 'n_units_2': 83, 'dropout_rate': 0.23487147556285298}. Best is trial 0 with value: 1.0.\n",
      "[I 2024-11-05 12:26:26,644] Trial 8 finished with value: 1.0 and parameters: {'n_units_1': 70, 'n_units_2': 70, 'dropout_rate': 0.24007581069090755}. Best is trial 0 with value: 1.0.\n",
      "[I 2024-11-05 12:26:27,360] Trial 9 finished with value: 1.0 and parameters: {'n_units_1': 165, 'n_units_2': 97, 'dropout_rate': 0.3783920439166388}. Best is trial 0 with value: 1.0.\n"
     ]
    },
    {
     "name": "stdout",
     "output_type": "stream",
     "text": [
      "\u001b[1m1/1\u001b[0m \u001b[32m━━━━━━━━━━━━━━━━━━━━\u001b[0m\u001b[37m\u001b[0m \u001b[1m0s\u001b[0m 18ms/step\n",
      "Dataset: Dataset_42, Score: 0.9755\n",
      "\u001b[1m3/3\u001b[0m \u001b[32m━━━━━━━━━━━━━━━━━━━━\u001b[0m\u001b[37m\u001b[0m \u001b[1m0s\u001b[0m 681us/step\n"
     ]
    },
    {
     "name": "stderr",
     "output_type": "stream",
     "text": [
      "[I 2024-11-05 12:26:28,709] A new study created in memory with name: no-name-646b8386-c06b-4a70-aef2-7fa36905ab06\n"
     ]
    },
    {
     "name": "stdout",
     "output_type": "stream",
     "text": [
      "Dataset: Dataset_27\n",
      "X_train_split shape: (164, 6)\n",
      "y_train_split shape: (164, 1)\n",
      "X_train shape: (206, 6)\n",
      "y_train shape: (206, 1)\n"
     ]
    },
    {
     "name": "stderr",
     "output_type": "stream",
     "text": [
      "[I 2024-11-05 12:26:29,529] Trial 0 finished with value: 1.0 and parameters: {'n_units_1': 182, 'n_units_2': 97, 'dropout_rate': 0.42277628680490364}. Best is trial 0 with value: 1.0.\n",
      "[I 2024-11-05 12:26:30,372] Trial 1 finished with value: 1.0 and parameters: {'n_units_1': 230, 'n_units_2': 116, 'dropout_rate': 0.43655213233062534}. Best is trial 0 with value: 1.0.\n",
      "[I 2024-11-05 12:26:31,199] Trial 2 finished with value: 1.0 and parameters: {'n_units_1': 68, 'n_units_2': 35, 'dropout_rate': 0.25288478781064305}. Best is trial 0 with value: 1.0.\n",
      "[I 2024-11-05 12:26:31,998] Trial 3 finished with value: 1.0 and parameters: {'n_units_1': 97, 'n_units_2': 63, 'dropout_rate': 0.31045316550271074}. Best is trial 0 with value: 1.0.\n",
      "[I 2024-11-05 12:26:32,996] Trial 4 finished with value: 1.0 and parameters: {'n_units_1': 199, 'n_units_2': 74, 'dropout_rate': 0.24329819308563433}. Best is trial 0 with value: 1.0.\n",
      "[I 2024-11-05 12:26:33,855] Trial 5 finished with value: 1.0 and parameters: {'n_units_1': 209, 'n_units_2': 89, 'dropout_rate': 0.445570899051859}. Best is trial 0 with value: 1.0.\n",
      "[I 2024-11-05 12:26:34,652] Trial 6 finished with value: 1.0 and parameters: {'n_units_1': 169, 'n_units_2': 84, 'dropout_rate': 0.48811704621714136}. Best is trial 0 with value: 1.0.\n",
      "[I 2024-11-05 12:26:35,450] Trial 7 finished with value: 1.0 and parameters: {'n_units_1': 156, 'n_units_2': 119, 'dropout_rate': 0.34627310489459423}. Best is trial 0 with value: 1.0.\n",
      "[I 2024-11-05 12:26:36,297] Trial 8 finished with value: 1.0 and parameters: {'n_units_1': 72, 'n_units_2': 94, 'dropout_rate': 0.4225374615435224}. Best is trial 0 with value: 1.0.\n",
      "[I 2024-11-05 12:26:37,094] Trial 9 finished with value: 1.0 and parameters: {'n_units_1': 158, 'n_units_2': 85, 'dropout_rate': 0.4301340287129767}. Best is trial 0 with value: 1.0.\n"
     ]
    },
    {
     "name": "stdout",
     "output_type": "stream",
     "text": [
      "\u001b[1m2/2\u001b[0m \u001b[32m━━━━━━━━━━━━━━━━━━━━\u001b[0m\u001b[37m\u001b[0m \u001b[1m0s\u001b[0m 12ms/step\n",
      "Dataset: Dataset_27, Score: 1.0000\n",
      "\u001b[1m5/5\u001b[0m \u001b[32m━━━━━━━━━━━━━━━━━━━━\u001b[0m\u001b[37m\u001b[0m \u001b[1m0s\u001b[0m 463us/step\n"
     ]
    },
    {
     "name": "stderr",
     "output_type": "stream",
     "text": [
      "[I 2024-11-05 12:26:38,533] A new study created in memory with name: no-name-76c2b104-88ea-47ba-8baf-6d0b03d6745b\n"
     ]
    },
    {
     "name": "stdout",
     "output_type": "stream",
     "text": [
      "Dataset: Dataset_18\n",
      "X_train_split shape: (272, 14)\n",
      "y_train_split shape: (272, 1)\n",
      "X_train shape: (340, 14)\n",
      "y_train shape: (340, 1)\n"
     ]
    },
    {
     "name": "stderr",
     "output_type": "stream",
     "text": [
      "[I 2024-11-05 12:26:39,377] Trial 0 finished with value: 1.0 and parameters: {'n_units_1': 94, 'n_units_2': 119, 'dropout_rate': 0.32002717484031945}. Best is trial 0 with value: 1.0.\n",
      "[I 2024-11-05 12:26:40,233] Trial 1 finished with value: 1.0 and parameters: {'n_units_1': 249, 'n_units_2': 93, 'dropout_rate': 0.22786459310984875}. Best is trial 0 with value: 1.0.\n",
      "[I 2024-11-05 12:26:41,094] Trial 2 finished with value: 1.0 and parameters: {'n_units_1': 95, 'n_units_2': 126, 'dropout_rate': 0.3839662301765501}. Best is trial 0 with value: 1.0.\n",
      "[I 2024-11-05 12:26:41,959] Trial 3 finished with value: 1.0 and parameters: {'n_units_1': 204, 'n_units_2': 110, 'dropout_rate': 0.4627518085201367}. Best is trial 0 with value: 1.0.\n",
      "[I 2024-11-05 12:26:42,783] Trial 4 finished with value: 1.0 and parameters: {'n_units_1': 96, 'n_units_2': 84, 'dropout_rate': 0.3043728129645027}. Best is trial 0 with value: 1.0.\n",
      "[I 2024-11-05 12:26:43,892] Trial 5 finished with value: 1.0 and parameters: {'n_units_1': 183, 'n_units_2': 52, 'dropout_rate': 0.4674064997559149}. Best is trial 0 with value: 1.0.\n",
      "[I 2024-11-05 12:26:45,364] Trial 6 finished with value: 1.0 and parameters: {'n_units_1': 70, 'n_units_2': 51, 'dropout_rate': 0.29811316072185523}. Best is trial 0 with value: 1.0.\n",
      "[I 2024-11-05 12:26:46,287] Trial 7 finished with value: 1.0 and parameters: {'n_units_1': 241, 'n_units_2': 102, 'dropout_rate': 0.4984028700318864}. Best is trial 0 with value: 1.0.\n",
      "[I 2024-11-05 12:26:47,149] Trial 8 finished with value: 1.0 and parameters: {'n_units_1': 162, 'n_units_2': 32, 'dropout_rate': 0.35245719073731213}. Best is trial 0 with value: 1.0.\n",
      "[I 2024-11-05 12:26:48,029] Trial 9 finished with value: 1.0 and parameters: {'n_units_1': 138, 'n_units_2': 81, 'dropout_rate': 0.34677049454841774}. Best is trial 0 with value: 1.0.\n"
     ]
    },
    {
     "name": "stdout",
     "output_type": "stream",
     "text": [
      "\u001b[1m3/3\u001b[0m \u001b[32m━━━━━━━━━━━━━━━━━━━━\u001b[0m\u001b[37m\u001b[0m \u001b[1m0s\u001b[0m 6ms/step \n",
      "Dataset: Dataset_18, Score: 0.8956\n",
      "\u001b[1m8/8\u001b[0m \u001b[32m━━━━━━━━━━━━━━━━━━━━\u001b[0m\u001b[37m\u001b[0m \u001b[1m0s\u001b[0m 531us/step\n"
     ]
    },
    {
     "name": "stderr",
     "output_type": "stream",
     "text": [
      "[I 2024-11-05 12:26:49,560] A new study created in memory with name: no-name-4b6ba44b-7f0d-4979-b346-5ec8cdb698a1\n"
     ]
    },
    {
     "name": "stdout",
     "output_type": "stream",
     "text": [
      "Dataset: Dataset_20\n",
      "X_train_split shape: (103, 13)\n",
      "y_train_split shape: (103, 1)\n",
      "X_train shape: (129, 13)\n",
      "y_train shape: (129, 1)\n"
     ]
    },
    {
     "name": "stderr",
     "output_type": "stream",
     "text": [
      "[I 2024-11-05 12:26:50,354] Trial 0 finished with value: 0.8461538553237915 and parameters: {'n_units_1': 142, 'n_units_2': 47, 'dropout_rate': 0.37575221790076047}. Best is trial 0 with value: 0.8461538553237915.\n",
      "[I 2024-11-05 12:26:51,151] Trial 1 finished with value: 0.8846153616905212 and parameters: {'n_units_1': 188, 'n_units_2': 34, 'dropout_rate': 0.20280131344169866}. Best is trial 1 with value: 0.8846153616905212.\n",
      "[I 2024-11-05 12:26:51,945] Trial 2 finished with value: 0.807692289352417 and parameters: {'n_units_1': 150, 'n_units_2': 35, 'dropout_rate': 0.4840886359661382}. Best is trial 1 with value: 0.8846153616905212.\n",
      "[I 2024-11-05 12:26:52,747] Trial 3 finished with value: 0.8846153616905212 and parameters: {'n_units_1': 132, 'n_units_2': 115, 'dropout_rate': 0.2618451721360037}. Best is trial 1 with value: 0.8846153616905212.\n",
      "[I 2024-11-05 12:26:53,525] Trial 4 finished with value: 0.8846153616905212 and parameters: {'n_units_1': 180, 'n_units_2': 118, 'dropout_rate': 0.40050995712823617}. Best is trial 1 with value: 0.8846153616905212.\n",
      "[I 2024-11-05 12:26:54,372] Trial 5 finished with value: 0.8461538553237915 and parameters: {'n_units_1': 254, 'n_units_2': 97, 'dropout_rate': 0.3191815852639222}. Best is trial 1 with value: 0.8846153616905212.\n",
      "[I 2024-11-05 12:26:55,265] Trial 6 finished with value: 0.8461538553237915 and parameters: {'n_units_1': 151, 'n_units_2': 117, 'dropout_rate': 0.2778497195707915}. Best is trial 1 with value: 0.8846153616905212.\n",
      "[I 2024-11-05 12:26:56,078] Trial 7 finished with value: 0.8461538553237915 and parameters: {'n_units_1': 97, 'n_units_2': 36, 'dropout_rate': 0.49332399572017965}. Best is trial 1 with value: 0.8846153616905212.\n",
      "[I 2024-11-05 12:26:56,856] Trial 8 finished with value: 0.8846153616905212 and parameters: {'n_units_1': 84, 'n_units_2': 109, 'dropout_rate': 0.44801439454263337}. Best is trial 1 with value: 0.8846153616905212.\n",
      "[I 2024-11-05 12:26:57,633] Trial 9 finished with value: 0.8846153616905212 and parameters: {'n_units_1': 161, 'n_units_2': 120, 'dropout_rate': 0.45093880792806557}. Best is trial 1 with value: 0.8846153616905212.\n"
     ]
    },
    {
     "name": "stdout",
     "output_type": "stream",
     "text": [
      "\u001b[1m1/1\u001b[0m \u001b[32m━━━━━━━━━━━━━━━━━━━━\u001b[0m\u001b[37m\u001b[0m \u001b[1m0s\u001b[0m 18ms/step\n",
      "Dataset: Dataset_20, Score: 0.7909\n",
      "\u001b[1m3/3\u001b[0m \u001b[32m━━━━━━━━━━━━━━━━━━━━\u001b[0m\u001b[37m\u001b[0m \u001b[1m0s\u001b[0m 647us/step\n"
     ]
    },
    {
     "name": "stderr",
     "output_type": "stream",
     "text": [
      "[I 2024-11-05 12:26:59,019] A new study created in memory with name: no-name-18ef093d-6929-4222-8dc4-d86743c335b5\n"
     ]
    },
    {
     "name": "stdout",
     "output_type": "stream",
     "text": [
      "Dataset: Dataset_16\n",
      "X_train_split shape: (372, 24)\n",
      "y_train_split shape: (372, 1)\n",
      "X_train shape: (465, 24)\n",
      "y_train shape: (465, 1)\n"
     ]
    },
    {
     "name": "stderr",
     "output_type": "stream",
     "text": [
      "[I 2024-11-05 12:26:59,913] Trial 0 finished with value: 1.0 and parameters: {'n_units_1': 209, 'n_units_2': 75, 'dropout_rate': 0.4709643559371233}. Best is trial 0 with value: 1.0.\n",
      "[I 2024-11-05 12:27:00,843] Trial 1 finished with value: 1.0 and parameters: {'n_units_1': 98, 'n_units_2': 96, 'dropout_rate': 0.42790443024041985}. Best is trial 0 with value: 1.0.\n",
      "[I 2024-11-05 12:27:01,799] Trial 2 finished with value: 1.0 and parameters: {'n_units_1': 122, 'n_units_2': 38, 'dropout_rate': 0.2360704413190057}. Best is trial 0 with value: 1.0.\n",
      "[I 2024-11-05 12:27:02,697] Trial 3 finished with value: 1.0 and parameters: {'n_units_1': 184, 'n_units_2': 59, 'dropout_rate': 0.4507980062594725}. Best is trial 0 with value: 1.0.\n",
      "[I 2024-11-05 12:27:03,851] Trial 4 finished with value: 1.0 and parameters: {'n_units_1': 149, 'n_units_2': 101, 'dropout_rate': 0.38935845447659506}. Best is trial 0 with value: 1.0.\n",
      "[I 2024-11-05 12:27:04,705] Trial 5 finished with value: 1.0 and parameters: {'n_units_1': 102, 'n_units_2': 68, 'dropout_rate': 0.4018491161413009}. Best is trial 0 with value: 1.0.\n",
      "[I 2024-11-05 12:27:05,583] Trial 6 finished with value: 1.0 and parameters: {'n_units_1': 236, 'n_units_2': 116, 'dropout_rate': 0.30765706822535593}. Best is trial 0 with value: 1.0.\n",
      "[I 2024-11-05 12:27:06,511] Trial 7 finished with value: 1.0 and parameters: {'n_units_1': 194, 'n_units_2': 128, 'dropout_rate': 0.20050319413349718}. Best is trial 0 with value: 1.0.\n",
      "[I 2024-11-05 12:27:07,564] Trial 8 finished with value: 1.0 and parameters: {'n_units_1': 216, 'n_units_2': 111, 'dropout_rate': 0.3596424995094661}. Best is trial 0 with value: 1.0.\n",
      "[I 2024-11-05 12:27:08,486] Trial 9 finished with value: 1.0 and parameters: {'n_units_1': 249, 'n_units_2': 40, 'dropout_rate': 0.3525364980186785}. Best is trial 0 with value: 1.0.\n"
     ]
    },
    {
     "name": "stdout",
     "output_type": "stream",
     "text": [
      "\u001b[1m3/3\u001b[0m \u001b[32m━━━━━━━━━━━━━━━━━━━━\u001b[0m\u001b[37m\u001b[0m \u001b[1m0s\u001b[0m 6ms/step \n",
      "Dataset: Dataset_16, Score: 0.9928\n",
      "\u001b[1m10/10\u001b[0m \u001b[32m━━━━━━━━━━━━━━━━━━━━\u001b[0m\u001b[37m\u001b[0m \u001b[1m0s\u001b[0m 456us/step\n"
     ]
    },
    {
     "name": "stderr",
     "output_type": "stream",
     "text": [
      "[I 2024-11-05 12:27:10,267] A new study created in memory with name: no-name-36e6c353-aaa8-496b-9059-c5169cab311b\n"
     ]
    },
    {
     "name": "stdout",
     "output_type": "stream",
     "text": [
      "Dataset: Dataset_29\n",
      "X_train_split shape: (244, 13)\n",
      "y_train_split shape: (244, 1)\n",
      "X_train shape: (306, 13)\n",
      "y_train shape: (306, 1)\n"
     ]
    },
    {
     "name": "stderr",
     "output_type": "stream",
     "text": [
      "[I 2024-11-05 12:27:12,115] Trial 0 finished with value: 0.7903226017951965 and parameters: {'n_units_1': 142, 'n_units_2': 66, 'dropout_rate': 0.36465305055074204}. Best is trial 0 with value: 0.7903226017951965.\n",
      "[I 2024-11-05 12:27:13,120] Trial 1 finished with value: 0.8064516186714172 and parameters: {'n_units_1': 194, 'n_units_2': 90, 'dropout_rate': 0.2851375533778411}. Best is trial 1 with value: 0.8064516186714172.\n",
      "[I 2024-11-05 12:27:14,131] Trial 2 finished with value: 0.774193525314331 and parameters: {'n_units_1': 75, 'n_units_2': 110, 'dropout_rate': 0.4736192447981929}. Best is trial 1 with value: 0.8064516186714172.\n",
      "[I 2024-11-05 12:27:15,323] Trial 3 finished with value: 0.8225806355476379 and parameters: {'n_units_1': 220, 'n_units_2': 82, 'dropout_rate': 0.353297820976438}. Best is trial 3 with value: 0.8225806355476379.\n",
      "[I 2024-11-05 12:27:16,223] Trial 4 finished with value: 0.8064516186714172 and parameters: {'n_units_1': 142, 'n_units_2': 96, 'dropout_rate': 0.3323179310978113}. Best is trial 3 with value: 0.8225806355476379.\n",
      "[I 2024-11-05 12:27:17,080] Trial 5 finished with value: 0.7903226017951965 and parameters: {'n_units_1': 191, 'n_units_2': 35, 'dropout_rate': 0.4220002491557584}. Best is trial 3 with value: 0.8225806355476379.\n",
      "[I 2024-11-05 12:27:18,022] Trial 6 finished with value: 0.8225806355476379 and parameters: {'n_units_1': 190, 'n_units_2': 54, 'dropout_rate': 0.40784292029169283}. Best is trial 3 with value: 0.8225806355476379.\n",
      "[I 2024-11-05 12:27:18,875] Trial 7 finished with value: 0.8225806355476379 and parameters: {'n_units_1': 208, 'n_units_2': 37, 'dropout_rate': 0.3619049847751776}. Best is trial 3 with value: 0.8225806355476379.\n",
      "[I 2024-11-05 12:27:19,799] Trial 8 finished with value: 0.8225806355476379 and parameters: {'n_units_1': 244, 'n_units_2': 115, 'dropout_rate': 0.45228285241810157}. Best is trial 3 with value: 0.8225806355476379.\n",
      "[I 2024-11-05 12:27:20,639] Trial 9 finished with value: 0.8064516186714172 and parameters: {'n_units_1': 138, 'n_units_2': 42, 'dropout_rate': 0.3359108120600771}. Best is trial 3 with value: 0.8225806355476379.\n"
     ]
    },
    {
     "name": "stdout",
     "output_type": "stream",
     "text": [
      "\u001b[1m2/2\u001b[0m \u001b[32m━━━━━━━━━━━━━━━━━━━━\u001b[0m\u001b[37m\u001b[0m \u001b[1m0s\u001b[0m 13ms/step\n",
      "Dataset: Dataset_29, Score: 0.8565\n",
      "\u001b[1m7/7\u001b[0m \u001b[32m━━━━━━━━━━━━━━━━━━━━\u001b[0m\u001b[37m\u001b[0m \u001b[1m0s\u001b[0m 450us/step\n"
     ]
    },
    {
     "name": "stderr",
     "output_type": "stream",
     "text": [
      "[I 2024-11-05 12:27:22,280] A new study created in memory with name: no-name-14fe4772-2468-46b3-bd43-9f9661959ca9\n"
     ]
    },
    {
     "name": "stdout",
     "output_type": "stream",
     "text": [
      "Dataset: Dataset_11\n",
      "X_train_split shape: (46, 62)\n",
      "y_train_split shape: (46, 1)\n",
      "X_train shape: (58, 62)\n",
      "y_train shape: (58, 1)\n"
     ]
    },
    {
     "name": "stderr",
     "output_type": "stream",
     "text": [
      "[I 2024-11-05 12:27:23,135] Trial 0 finished with value: 0.5833333134651184 and parameters: {'n_units_1': 209, 'n_units_2': 64, 'dropout_rate': 0.38410433058678317}. Best is trial 0 with value: 0.5833333134651184.\n",
      "[I 2024-11-05 12:27:24,002] Trial 1 finished with value: 0.5833333134651184 and parameters: {'n_units_1': 155, 'n_units_2': 54, 'dropout_rate': 0.45066437228349276}. Best is trial 0 with value: 0.5833333134651184.\n",
      "[I 2024-11-05 12:27:24,845] Trial 2 finished with value: 0.5833333134651184 and parameters: {'n_units_1': 202, 'n_units_2': 83, 'dropout_rate': 0.28449456723286426}. Best is trial 0 with value: 0.5833333134651184.\n",
      "[I 2024-11-05 12:27:25,636] Trial 3 finished with value: 0.5833333134651184 and parameters: {'n_units_1': 139, 'n_units_2': 128, 'dropout_rate': 0.3514797826317787}. Best is trial 0 with value: 0.5833333134651184.\n",
      "[I 2024-11-05 12:27:26,603] Trial 4 finished with value: 0.5833333134651184 and parameters: {'n_units_1': 127, 'n_units_2': 60, 'dropout_rate': 0.20709379397617209}. Best is trial 0 with value: 0.5833333134651184.\n",
      "[I 2024-11-05 12:27:27,388] Trial 5 finished with value: 0.5833333134651184 and parameters: {'n_units_1': 188, 'n_units_2': 117, 'dropout_rate': 0.23066193235505011}. Best is trial 0 with value: 0.5833333134651184.\n",
      "[I 2024-11-05 12:27:28,158] Trial 6 finished with value: 0.5833333134651184 and parameters: {'n_units_1': 155, 'n_units_2': 42, 'dropout_rate': 0.3141155799409191}. Best is trial 0 with value: 0.5833333134651184.\n",
      "[I 2024-11-05 12:27:28,925] Trial 7 finished with value: 0.5833333134651184 and parameters: {'n_units_1': 138, 'n_units_2': 61, 'dropout_rate': 0.3629639023170208}. Best is trial 0 with value: 0.5833333134651184.\n",
      "[I 2024-11-05 12:27:29,683] Trial 8 finished with value: 0.5833333134651184 and parameters: {'n_units_1': 124, 'n_units_2': 118, 'dropout_rate': 0.4126637234257885}. Best is trial 0 with value: 0.5833333134651184.\n",
      "[I 2024-11-05 12:27:30,491] Trial 9 finished with value: 0.5833333134651184 and parameters: {'n_units_1': 222, 'n_units_2': 99, 'dropout_rate': 0.2837802602711674}. Best is trial 0 with value: 0.5833333134651184.\n"
     ]
    },
    {
     "name": "stdout",
     "output_type": "stream",
     "text": [
      "\u001b[1m1/1\u001b[0m \u001b[32m━━━━━━━━━━━━━━━━━━━━\u001b[0m\u001b[37m\u001b[0m \u001b[1m0s\u001b[0m 18ms/step\n",
      "Dataset: Dataset_11, Score: 0.1750\n",
      "\u001b[1m2/2\u001b[0m \u001b[32m━━━━━━━━━━━━━━━━━━━━\u001b[0m\u001b[37m\u001b[0m \u001b[1m0s\u001b[0m 923us/step\n"
     ]
    },
    {
     "name": "stderr",
     "output_type": "stream",
     "text": [
      "[I 2024-11-05 12:27:31,828] A new study created in memory with name: no-name-037e7b60-a7ce-4d07-9925-f7b3be421f39\n"
     ]
    },
    {
     "name": "stdout",
     "output_type": "stream",
     "text": [
      "Dataset: Dataset_43\n",
      "X_train_split shape: (474, 4)\n",
      "y_train_split shape: (474, 1)\n",
      "X_train shape: (593, 4)\n",
      "y_train shape: (593, 1)\n"
     ]
    },
    {
     "name": "stderr",
     "output_type": "stream",
     "text": [
      "[I 2024-11-05 12:27:32,747] Trial 0 finished with value: 0.8907563090324402 and parameters: {'n_units_1': 229, 'n_units_2': 66, 'dropout_rate': 0.3707661360474487}. Best is trial 0 with value: 0.8907563090324402.\n",
      "[I 2024-11-05 12:27:33,688] Trial 1 finished with value: 0.8907563090324402 and parameters: {'n_units_1': 129, 'n_units_2': 121, 'dropout_rate': 0.2723833119960787}. Best is trial 0 with value: 0.8907563090324402.\n",
      "[I 2024-11-05 12:27:34,648] Trial 2 finished with value: 0.8907563090324402 and parameters: {'n_units_1': 150, 'n_units_2': 109, 'dropout_rate': 0.36503539330496915}. Best is trial 0 with value: 0.8907563090324402.\n",
      "[I 2024-11-05 12:27:35,607] Trial 3 finished with value: 0.8907563090324402 and parameters: {'n_units_1': 196, 'n_units_2': 93, 'dropout_rate': 0.21004747683147848}. Best is trial 0 with value: 0.8907563090324402.\n",
      "[I 2024-11-05 12:27:36,724] Trial 4 finished with value: 0.8907563090324402 and parameters: {'n_units_1': 119, 'n_units_2': 101, 'dropout_rate': 0.3183768070163325}. Best is trial 0 with value: 0.8907563090324402.\n",
      "[I 2024-11-05 12:27:37,609] Trial 5 finished with value: 0.8907563090324402 and parameters: {'n_units_1': 195, 'n_units_2': 46, 'dropout_rate': 0.3015980851760056}. Best is trial 0 with value: 0.8907563090324402.\n",
      "[I 2024-11-05 12:27:38,497] Trial 6 finished with value: 0.8907563090324402 and parameters: {'n_units_1': 178, 'n_units_2': 85, 'dropout_rate': 0.45788207702640976}. Best is trial 0 with value: 0.8907563090324402.\n",
      "[I 2024-11-05 12:27:39,373] Trial 7 finished with value: 0.8907563090324402 and parameters: {'n_units_1': 113, 'n_units_2': 41, 'dropout_rate': 0.21542828107121423}. Best is trial 0 with value: 0.8907563090324402.\n",
      "[I 2024-11-05 12:27:40,243] Trial 8 finished with value: 0.8907563090324402 and parameters: {'n_units_1': 75, 'n_units_2': 65, 'dropout_rate': 0.4677862386099257}. Best is trial 0 with value: 0.8907563090324402.\n",
      "[I 2024-11-05 12:27:41,124] Trial 9 finished with value: 0.8907563090324402 and parameters: {'n_units_1': 120, 'n_units_2': 54, 'dropout_rate': 0.26002559931299424}. Best is trial 0 with value: 0.8907563090324402.\n"
     ]
    },
    {
     "name": "stdout",
     "output_type": "stream",
     "text": [
      "\u001b[1m4/4\u001b[0m \u001b[32m━━━━━━━━━━━━━━━━━━━━\u001b[0m\u001b[37m\u001b[0m \u001b[1m0s\u001b[0m 4ms/step \n",
      "Dataset: Dataset_43, Score: 0.2622\n",
      "\u001b[1m13/13\u001b[0m \u001b[32m━━━━━━━━━━━━━━━━━━━━\u001b[0m\u001b[37m\u001b[0m \u001b[1m0s\u001b[0m 411us/step\n"
     ]
    },
    {
     "name": "stderr",
     "output_type": "stream",
     "text": [
      "[I 2024-11-05 12:27:43,760] A new study created in memory with name: no-name-e598c9d2-083d-4d66-8562-bbe287487358\n"
     ]
    },
    {
     "name": "stdout",
     "output_type": "stream",
     "text": [
      "Dataset: Dataset_44\n",
      "X_train_split shape: (48, 6)\n",
      "y_train_split shape: (48, 1)\n",
      "X_train shape: (60, 6)\n",
      "y_train shape: (60, 1)\n"
     ]
    },
    {
     "name": "stderr",
     "output_type": "stream",
     "text": [
      "[I 2024-11-05 12:27:44,597] Trial 0 finished with value: 1.0 and parameters: {'n_units_1': 239, 'n_units_2': 36, 'dropout_rate': 0.21534676088321347}. Best is trial 0 with value: 1.0.\n",
      "[I 2024-11-05 12:27:45,398] Trial 1 finished with value: 1.0 and parameters: {'n_units_1': 182, 'n_units_2': 102, 'dropout_rate': 0.33917045591713324}. Best is trial 0 with value: 1.0.\n",
      "[I 2024-11-05 12:27:46,204] Trial 2 finished with value: 1.0 and parameters: {'n_units_1': 246, 'n_units_2': 86, 'dropout_rate': 0.24719451644410592}. Best is trial 0 with value: 1.0.\n",
      "[I 2024-11-05 12:27:47,029] Trial 3 finished with value: 0.9166666865348816 and parameters: {'n_units_1': 150, 'n_units_2': 86, 'dropout_rate': 0.4742891507811309}. Best is trial 0 with value: 1.0.\n",
      "[I 2024-11-05 12:27:47,815] Trial 4 finished with value: 1.0 and parameters: {'n_units_1': 217, 'n_units_2': 112, 'dropout_rate': 0.3145240896213455}. Best is trial 0 with value: 1.0.\n",
      "[I 2024-11-05 12:27:48,595] Trial 5 finished with value: 1.0 and parameters: {'n_units_1': 254, 'n_units_2': 93, 'dropout_rate': 0.4881789749187722}. Best is trial 0 with value: 1.0.\n",
      "[I 2024-11-05 12:27:49,548] Trial 6 finished with value: 1.0 and parameters: {'n_units_1': 136, 'n_units_2': 118, 'dropout_rate': 0.4342023563691361}. Best is trial 0 with value: 1.0.\n",
      "[I 2024-11-05 12:27:50,315] Trial 7 finished with value: 1.0 and parameters: {'n_units_1': 111, 'n_units_2': 33, 'dropout_rate': 0.242992632277485}. Best is trial 0 with value: 1.0.\n",
      "[I 2024-11-05 12:27:51,078] Trial 8 finished with value: 1.0 and parameters: {'n_units_1': 244, 'n_units_2': 119, 'dropout_rate': 0.22680634690696475}. Best is trial 0 with value: 1.0.\n",
      "[I 2024-11-05 12:27:51,844] Trial 9 finished with value: 1.0 and parameters: {'n_units_1': 184, 'n_units_2': 62, 'dropout_rate': 0.32045085082034885}. Best is trial 0 with value: 1.0.\n"
     ]
    },
    {
     "name": "stdout",
     "output_type": "stream",
     "text": [
      "\u001b[1m1/1\u001b[0m \u001b[32m━━━━━━━━━━━━━━━━━━━━\u001b[0m\u001b[37m\u001b[0m \u001b[1m0s\u001b[0m 23ms/step\n",
      "Dataset: Dataset_44, Score: 1.0000\n",
      "\u001b[1m2/2\u001b[0m \u001b[32m━━━━━━━━━━━━━━━━━━━━\u001b[0m\u001b[37m\u001b[0m \u001b[1m0s\u001b[0m 2ms/step \n"
     ]
    },
    {
     "name": "stderr",
     "output_type": "stream",
     "text": [
      "[I 2024-11-05 12:27:53,347] A new study created in memory with name: no-name-75b38f7f-dc36-47c1-b19e-6a178fa7609a\n"
     ]
    },
    {
     "name": "stdout",
     "output_type": "stream",
     "text": [
      "Dataset: Dataset_10\n",
      "X_train_split shape: (373, 11)\n",
      "y_train_split shape: (373, 1)\n",
      "X_train shape: (467, 11)\n",
      "y_train shape: (467, 1)\n"
     ]
    },
    {
     "name": "stderr",
     "output_type": "stream",
     "text": [
      "[I 2024-11-05 12:27:54,295] Trial 0 finished with value: 0.7553191781044006 and parameters: {'n_units_1': 181, 'n_units_2': 47, 'dropout_rate': 0.45867346501512724}. Best is trial 0 with value: 0.7553191781044006.\n",
      "[I 2024-11-05 12:27:55,245] Trial 1 finished with value: 0.7765957713127136 and parameters: {'n_units_1': 188, 'n_units_2': 122, 'dropout_rate': 0.3528127944767173}. Best is trial 1 with value: 0.7765957713127136.\n",
      "[I 2024-11-05 12:27:56,194] Trial 2 finished with value: 0.7872340679168701 and parameters: {'n_units_1': 237, 'n_units_2': 93, 'dropout_rate': 0.3191737906610469}. Best is trial 2 with value: 0.7872340679168701.\n",
      "[I 2024-11-05 12:27:57,243] Trial 3 finished with value: 0.7765957713127136 and parameters: {'n_units_1': 221, 'n_units_2': 94, 'dropout_rate': 0.22016329162471962}. Best is trial 2 with value: 0.7872340679168701.\n",
      "[I 2024-11-05 12:27:58,172] Trial 4 finished with value: 0.7872340679168701 and parameters: {'n_units_1': 239, 'n_units_2': 72, 'dropout_rate': 0.3234776372658124}. Best is trial 2 with value: 0.7872340679168701.\n",
      "[I 2024-11-05 12:27:59,047] Trial 5 finished with value: 0.7765957713127136 and parameters: {'n_units_1': 186, 'n_units_2': 121, 'dropout_rate': 0.4663622746320143}. Best is trial 2 with value: 0.7872340679168701.\n",
      "[I 2024-11-05 12:27:59,895] Trial 6 finished with value: 0.7659574747085571 and parameters: {'n_units_1': 85, 'n_units_2': 43, 'dropout_rate': 0.20164173633283075}. Best is trial 2 with value: 0.7872340679168701.\n",
      "[I 2024-11-05 12:28:00,758] Trial 7 finished with value: 0.7659574747085571 and parameters: {'n_units_1': 205, 'n_units_2': 86, 'dropout_rate': 0.2778480230367042}. Best is trial 2 with value: 0.7872340679168701.\n",
      "[I 2024-11-05 12:28:01,640] Trial 8 finished with value: 0.7872340679168701 and parameters: {'n_units_1': 249, 'n_units_2': 125, 'dropout_rate': 0.2611276374629601}. Best is trial 2 with value: 0.7872340679168701.\n",
      "[I 2024-11-05 12:28:02,502] Trial 9 finished with value: 0.7659574747085571 and parameters: {'n_units_1': 116, 'n_units_2': 102, 'dropout_rate': 0.4155913814253691}. Best is trial 2 with value: 0.7872340679168701.\n"
     ]
    },
    {
     "name": "stdout",
     "output_type": "stream",
     "text": [
      "\u001b[1m3/3\u001b[0m \u001b[32m━━━━━━━━━━━━━━━━━━━━\u001b[0m\u001b[37m\u001b[0m \u001b[1m0s\u001b[0m 7ms/step  \n",
      "Dataset: Dataset_10, Score: 0.7118\n",
      "\u001b[1m10/10\u001b[0m \u001b[32m━━━━━━━━━━━━━━━━━━━━\u001b[0m\u001b[37m\u001b[0m \u001b[1m0s\u001b[0m 385us/step\n"
     ]
    },
    {
     "name": "stderr",
     "output_type": "stream",
     "text": [
      "[I 2024-11-05 12:28:04,220] A new study created in memory with name: no-name-1e13ae56-99c9-489c-adb4-9d38fe01e4e2\n"
     ]
    },
    {
     "name": "stdout",
     "output_type": "stream",
     "text": [
      "Dataset: Dataset_17\n",
      "X_train_split shape: (96, 24)\n",
      "y_train_split shape: (96, 1)\n",
      "X_train shape: (120, 24)\n",
      "y_train shape: (120, 1)\n"
     ]
    },
    {
     "name": "stderr",
     "output_type": "stream",
     "text": [
      "[I 2024-11-05 12:28:05,021] Trial 0 finished with value: 0.9166666865348816 and parameters: {'n_units_1': 94, 'n_units_2': 36, 'dropout_rate': 0.2668515632173921}. Best is trial 0 with value: 0.9166666865348816.\n",
      "[I 2024-11-05 12:28:05,790] Trial 1 finished with value: 0.8333333134651184 and parameters: {'n_units_1': 164, 'n_units_2': 34, 'dropout_rate': 0.49010259407783835}. Best is trial 0 with value: 0.9166666865348816.\n",
      "[I 2024-11-05 12:28:06,573] Trial 2 finished with value: 0.875 and parameters: {'n_units_1': 160, 'n_units_2': 57, 'dropout_rate': 0.4863411842981084}. Best is trial 0 with value: 0.9166666865348816.\n",
      "[I 2024-11-05 12:28:07,364] Trial 3 finished with value: 0.875 and parameters: {'n_units_1': 221, 'n_units_2': 54, 'dropout_rate': 0.24511160443239116}. Best is trial 0 with value: 0.9166666865348816.\n",
      "[I 2024-11-05 12:28:08,135] Trial 4 finished with value: 0.875 and parameters: {'n_units_1': 163, 'n_units_2': 93, 'dropout_rate': 0.4710822694825582}. Best is trial 0 with value: 0.9166666865348816.\n",
      "[I 2024-11-05 12:28:09,097] Trial 5 finished with value: 0.875 and parameters: {'n_units_1': 153, 'n_units_2': 51, 'dropout_rate': 0.34857369973952823}. Best is trial 0 with value: 0.9166666865348816.\n",
      "[I 2024-11-05 12:28:10,014] Trial 6 finished with value: 0.8333333134651184 and parameters: {'n_units_1': 213, 'n_units_2': 54, 'dropout_rate': 0.3917922152559678}. Best is trial 0 with value: 0.9166666865348816.\n",
      "[I 2024-11-05 12:28:10,775] Trial 7 finished with value: 0.9166666865348816 and parameters: {'n_units_1': 120, 'n_units_2': 100, 'dropout_rate': 0.4316468423540804}. Best is trial 0 with value: 0.9166666865348816.\n",
      "[I 2024-11-05 12:28:11,534] Trial 8 finished with value: 0.8333333134651184 and parameters: {'n_units_1': 157, 'n_units_2': 50, 'dropout_rate': 0.33022684109995587}. Best is trial 0 with value: 0.9166666865348816.\n",
      "[I 2024-11-05 12:28:12,296] Trial 9 finished with value: 0.875 and parameters: {'n_units_1': 208, 'n_units_2': 99, 'dropout_rate': 0.2808979283858156}. Best is trial 0 with value: 0.9166666865348816.\n"
     ]
    },
    {
     "name": "stdout",
     "output_type": "stream",
     "text": [
      "\u001b[1m1/1\u001b[0m \u001b[32m━━━━━━━━━━━━━━━━━━━━\u001b[0m\u001b[37m\u001b[0m \u001b[1m0s\u001b[0m 20ms/step\n",
      "Dataset: Dataset_17, Score: 0.8500\n",
      "\u001b[1m3/3\u001b[0m \u001b[32m━━━━━━━━━━━━━━━━━━━━\u001b[0m\u001b[37m\u001b[0m \u001b[1m0s\u001b[0m 729us/step\n"
     ]
    },
    {
     "name": "stderr",
     "output_type": "stream",
     "text": [
      "[I 2024-11-05 12:28:13,664] A new study created in memory with name: no-name-e401af7a-e0d7-48d2-8a26-3721526eef16\n"
     ]
    },
    {
     "name": "stdout",
     "output_type": "stream",
     "text": [
      "Dataset: Dataset_28\n",
      "X_train_split shape: (368, 8)\n",
      "y_train_split shape: (368, 1)\n",
      "X_train shape: (460, 8)\n",
      "y_train shape: (460, 1)\n"
     ]
    },
    {
     "name": "stderr",
     "output_type": "stream",
     "text": [
      "[I 2024-11-05 12:28:14,540] Trial 0 finished with value: 0.760869562625885 and parameters: {'n_units_1': 89, 'n_units_2': 92, 'dropout_rate': 0.4934050750728801}. Best is trial 0 with value: 0.760869562625885.\n",
      "[I 2024-11-05 12:28:15,428] Trial 1 finished with value: 0.8152173757553101 and parameters: {'n_units_1': 246, 'n_units_2': 127, 'dropout_rate': 0.2318413233685652}. Best is trial 1 with value: 0.8152173757553101.\n",
      "[I 2024-11-05 12:28:16,325] Trial 2 finished with value: 0.804347813129425 and parameters: {'n_units_1': 205, 'n_units_2': 57, 'dropout_rate': 0.3964604923771077}. Best is trial 1 with value: 0.8152173757553101.\n",
      "[I 2024-11-05 12:28:18,309] Trial 3 finished with value: 0.8260869383811951 and parameters: {'n_units_1': 141, 'n_units_2': 77, 'dropout_rate': 0.4097327997748432}. Best is trial 3 with value: 0.8260869383811951.\n",
      "[I 2024-11-05 12:28:19,352] Trial 4 finished with value: 0.8152173757553101 and parameters: {'n_units_1': 172, 'n_units_2': 56, 'dropout_rate': 0.26355762563177554}. Best is trial 3 with value: 0.8260869383811951.\n",
      "[I 2024-11-05 12:28:20,295] Trial 5 finished with value: 0.8152173757553101 and parameters: {'n_units_1': 178, 'n_units_2': 121, 'dropout_rate': 0.35633394448155153}. Best is trial 3 with value: 0.8260869383811951.\n",
      "[I 2024-11-05 12:28:21,170] Trial 6 finished with value: 0.79347825050354 and parameters: {'n_units_1': 135, 'n_units_2': 47, 'dropout_rate': 0.38768528654187917}. Best is trial 3 with value: 0.8260869383811951.\n",
      "[I 2024-11-05 12:28:22,051] Trial 7 finished with value: 0.8152173757553101 and parameters: {'n_units_1': 254, 'n_units_2': 43, 'dropout_rate': 0.3317796090909939}. Best is trial 3 with value: 0.8260869383811951.\n",
      "[I 2024-11-05 12:28:22,912] Trial 8 finished with value: 0.72826087474823 and parameters: {'n_units_1': 96, 'n_units_2': 50, 'dropout_rate': 0.48828422017165335}. Best is trial 3 with value: 0.8260869383811951.\n",
      "[I 2024-11-05 12:28:23,774] Trial 9 finished with value: 0.804347813129425 and parameters: {'n_units_1': 171, 'n_units_2': 61, 'dropout_rate': 0.37722037064070646}. Best is trial 3 with value: 0.8260869383811951.\n"
     ]
    },
    {
     "name": "stdout",
     "output_type": "stream",
     "text": [
      "\u001b[1m3/3\u001b[0m \u001b[32m━━━━━━━━━━━━━━━━━━━━\u001b[0m\u001b[37m\u001b[0m \u001b[1m0s\u001b[0m 6ms/step  \n",
      "Dataset: Dataset_28, Score: 0.7070\n",
      "\u001b[1m10/10\u001b[0m \u001b[32m━━━━━━━━━━━━━━━━━━━━\u001b[0m\u001b[37m\u001b[0m \u001b[1m0s\u001b[0m 450us/step\n"
     ]
    },
    {
     "name": "stderr",
     "output_type": "stream",
     "text": [
      "[I 2024-11-05 12:28:25,360] A new study created in memory with name: no-name-96edf639-386d-474a-adb9-0d4bb6dc9bf5\n"
     ]
    },
    {
     "name": "stdout",
     "output_type": "stream",
     "text": [
      "Dataset: Dataset_21\n",
      "X_train_split shape: (242, 17)\n",
      "y_train_split shape: (242, 1)\n",
      "X_train shape: (303, 17)\n",
      "y_train shape: (303, 1)\n"
     ]
    },
    {
     "name": "stderr",
     "output_type": "stream",
     "text": [
      "[I 2024-11-05 12:28:26,212] Trial 0 finished with value: 0.8524590134620667 and parameters: {'n_units_1': 134, 'n_units_2': 126, 'dropout_rate': 0.444265685960243}. Best is trial 0 with value: 0.8524590134620667.\n",
      "[I 2024-11-05 12:28:27,054] Trial 1 finished with value: 0.8196721076965332 and parameters: {'n_units_1': 66, 'n_units_2': 92, 'dropout_rate': 0.32806152148297857}. Best is trial 0 with value: 0.8524590134620667.\n",
      "[I 2024-11-05 12:28:27,913] Trial 2 finished with value: 0.8852459192276001 and parameters: {'n_units_1': 193, 'n_units_2': 119, 'dropout_rate': 0.3361819432606104}. Best is trial 2 with value: 0.8852459192276001.\n",
      "[I 2024-11-05 12:28:28,743] Trial 3 finished with value: 0.8524590134620667 and parameters: {'n_units_1': 81, 'n_units_2': 57, 'dropout_rate': 0.41950636305427164}. Best is trial 2 with value: 0.8852459192276001.\n",
      "[I 2024-11-05 12:28:29,764] Trial 4 finished with value: 0.8852459192276001 and parameters: {'n_units_1': 197, 'n_units_2': 127, 'dropout_rate': 0.4654166443996015}. Best is trial 2 with value: 0.8852459192276001.\n",
      "[I 2024-11-05 12:28:30,660] Trial 5 finished with value: 0.9016393423080444 and parameters: {'n_units_1': 124, 'n_units_2': 79, 'dropout_rate': 0.3172259270029917}. Best is trial 5 with value: 0.9016393423080444.\n",
      "[I 2024-11-05 12:28:31,487] Trial 6 finished with value: 0.9016393423080444 and parameters: {'n_units_1': 227, 'n_units_2': 39, 'dropout_rate': 0.21850035400139878}. Best is trial 5 with value: 0.9016393423080444.\n",
      "[I 2024-11-05 12:28:32,309] Trial 7 finished with value: 0.8032786846160889 and parameters: {'n_units_1': 68, 'n_units_2': 120, 'dropout_rate': 0.3609265248268922}. Best is trial 5 with value: 0.9016393423080444.\n",
      "[I 2024-11-05 12:28:33,150] Trial 8 finished with value: 0.8852459192276001 and parameters: {'n_units_1': 228, 'n_units_2': 125, 'dropout_rate': 0.4843621916587054}. Best is trial 5 with value: 0.9016393423080444.\n",
      "[I 2024-11-05 12:28:33,975] Trial 9 finished with value: 0.868852436542511 and parameters: {'n_units_1': 143, 'n_units_2': 35, 'dropout_rate': 0.43336208585327296}. Best is trial 5 with value: 0.9016393423080444.\n"
     ]
    },
    {
     "name": "stdout",
     "output_type": "stream",
     "text": [
      "\u001b[1m2/2\u001b[0m \u001b[32m━━━━━━━━━━━━━━━━━━━━\u001b[0m\u001b[37m\u001b[0m \u001b[1m0s\u001b[0m 14ms/step\n",
      "Dataset: Dataset_21, Score: 0.8334\n",
      "\u001b[1m7/7\u001b[0m \u001b[32m━━━━━━━━━━━━━━━━━━━━\u001b[0m\u001b[37m\u001b[0m \u001b[1m0s\u001b[0m 471us/step\n"
     ]
    },
    {
     "name": "stderr",
     "output_type": "stream",
     "text": [
      "[I 2024-11-05 12:28:35,496] A new study created in memory with name: no-name-0c73b53f-c15b-4bd8-bd80-7782a60e5dfa\n"
     ]
    },
    {
     "name": "stdout",
     "output_type": "stream",
     "text": [
      "Dataset: Dataset_26\n",
      "X_train_split shape: (143, 27)\n",
      "y_train_split shape: (143, 1)\n",
      "X_train shape: (179, 27)\n",
      "y_train shape: (179, 1)\n"
     ]
    },
    {
     "name": "stderr",
     "output_type": "stream",
     "text": [
      "[I 2024-11-05 12:28:36,361] Trial 0 finished with value: 0.8055555820465088 and parameters: {'n_units_1': 83, 'n_units_2': 128, 'dropout_rate': 0.3313202228629881}. Best is trial 0 with value: 0.8055555820465088.\n",
      "[I 2024-11-05 12:28:37,183] Trial 1 finished with value: 0.75 and parameters: {'n_units_1': 237, 'n_units_2': 90, 'dropout_rate': 0.26237323692731107}. Best is trial 0 with value: 0.8055555820465088.\n",
      "[I 2024-11-05 12:28:38,007] Trial 2 finished with value: 0.7777777910232544 and parameters: {'n_units_1': 201, 'n_units_2': 32, 'dropout_rate': 0.3277311937516229}. Best is trial 0 with value: 0.8055555820465088.\n",
      "[I 2024-11-05 12:28:38,825] Trial 3 finished with value: 0.8055555820465088 and parameters: {'n_units_1': 190, 'n_units_2': 37, 'dropout_rate': 0.2912569970715721}. Best is trial 0 with value: 0.8055555820465088.\n",
      "[I 2024-11-05 12:28:39,624] Trial 4 finished with value: 0.7777777910232544 and parameters: {'n_units_1': 198, 'n_units_2': 91, 'dropout_rate': 0.339698032903513}. Best is trial 0 with value: 0.8055555820465088.\n",
      "[I 2024-11-05 12:28:40,513] Trial 5 finished with value: 0.8055555820465088 and parameters: {'n_units_1': 162, 'n_units_2': 97, 'dropout_rate': 0.4245747665978929}. Best is trial 0 with value: 0.8055555820465088.\n",
      "[I 2024-11-05 12:28:41,458] Trial 6 finished with value: 0.7777777910232544 and parameters: {'n_units_1': 130, 'n_units_2': 122, 'dropout_rate': 0.4368030288553465}. Best is trial 0 with value: 0.8055555820465088.\n",
      "[I 2024-11-05 12:28:42,270] Trial 7 finished with value: 0.75 and parameters: {'n_units_1': 199, 'n_units_2': 108, 'dropout_rate': 0.49969555361134743}. Best is trial 0 with value: 0.8055555820465088.\n",
      "[I 2024-11-05 12:28:43,066] Trial 8 finished with value: 0.75 and parameters: {'n_units_1': 154, 'n_units_2': 73, 'dropout_rate': 0.35647853931411594}. Best is trial 0 with value: 0.8055555820465088.\n",
      "[I 2024-11-05 12:28:43,858] Trial 9 finished with value: 0.8055555820465088 and parameters: {'n_units_1': 90, 'n_units_2': 43, 'dropout_rate': 0.35301728512409375}. Best is trial 0 with value: 0.8055555820465088.\n"
     ]
    },
    {
     "name": "stdout",
     "output_type": "stream",
     "text": [
      "\u001b[1m2/2\u001b[0m \u001b[32m━━━━━━━━━━━━━━━━━━━━\u001b[0m\u001b[37m\u001b[0m \u001b[1m0s\u001b[0m 12ms/step\n",
      "Dataset: Dataset_26, Score: 0.5803\n",
      "\u001b[1m4/4\u001b[0m \u001b[32m━━━━━━━━━━━━━━━━━━━━\u001b[0m\u001b[37m\u001b[0m \u001b[1m0s\u001b[0m 800us/step\n"
     ]
    },
    {
     "name": "stderr",
     "output_type": "stream",
     "text": [
      "[I 2024-11-05 12:28:45,277] A new study created in memory with name: no-name-b265e973-1ed3-4a8a-8d56-481463946dce\n"
     ]
    },
    {
     "name": "stdout",
     "output_type": "stream",
     "text": [
      "Dataset: Dataset_19\n",
      "X_train_split shape: (272, 30)\n",
      "y_train_split shape: (272, 1)\n",
      "X_train shape: (341, 30)\n",
      "y_train shape: (341, 1)\n"
     ]
    },
    {
     "name": "stderr",
     "output_type": "stream",
     "text": [
      "[I 2024-11-05 12:28:46,154] Trial 0 finished with value: 0.9275362491607666 and parameters: {'n_units_1': 227, 'n_units_2': 72, 'dropout_rate': 0.2967389804864489}. Best is trial 0 with value: 0.9275362491607666.\n",
      "[I 2024-11-05 12:28:47,025] Trial 1 finished with value: 0.9420289993286133 and parameters: {'n_units_1': 122, 'n_units_2': 66, 'dropout_rate': 0.3004858199266323}. Best is trial 1 with value: 0.9420289993286133.\n",
      "[I 2024-11-05 12:28:47,936] Trial 2 finished with value: 0.9420289993286133 and parameters: {'n_units_1': 122, 'n_units_2': 59, 'dropout_rate': 0.3150456153214778}. Best is trial 1 with value: 0.9420289993286133.\n",
      "[I 2024-11-05 12:28:48,800] Trial 3 finished with value: 0.9420289993286133 and parameters: {'n_units_1': 170, 'n_units_2': 87, 'dropout_rate': 0.3988363871931814}. Best is trial 1 with value: 0.9420289993286133.\n",
      "[I 2024-11-05 12:28:49,649] Trial 4 finished with value: 0.9420289993286133 and parameters: {'n_units_1': 186, 'n_units_2': 73, 'dropout_rate': 0.4155631642852101}. Best is trial 1 with value: 0.9420289993286133.\n",
      "[I 2024-11-05 12:28:50,784] Trial 5 finished with value: 0.9275362491607666 and parameters: {'n_units_1': 223, 'n_units_2': 50, 'dropout_rate': 0.23686875103383714}. Best is trial 1 with value: 0.9420289993286133.\n",
      "[I 2024-11-05 12:28:51,630] Trial 6 finished with value: 0.9275362491607666 and parameters: {'n_units_1': 243, 'n_units_2': 32, 'dropout_rate': 0.3194798497060785}. Best is trial 1 with value: 0.9420289993286133.\n",
      "[I 2024-11-05 12:28:52,459] Trial 7 finished with value: 0.9420289993286133 and parameters: {'n_units_1': 81, 'n_units_2': 42, 'dropout_rate': 0.39293184143310583}. Best is trial 1 with value: 0.9420289993286133.\n",
      "[I 2024-11-05 12:28:53,305] Trial 8 finished with value: 0.9420289993286133 and parameters: {'n_units_1': 242, 'n_units_2': 44, 'dropout_rate': 0.4984931187789632}. Best is trial 1 with value: 0.9420289993286133.\n",
      "[I 2024-11-05 12:28:54,156] Trial 9 finished with value: 0.9275362491607666 and parameters: {'n_units_1': 102, 'n_units_2': 122, 'dropout_rate': 0.4227938436324958}. Best is trial 1 with value: 0.9420289993286133.\n"
     ]
    },
    {
     "name": "stdout",
     "output_type": "stream",
     "text": [
      "\u001b[1m3/3\u001b[0m \u001b[32m━━━━━━━━━━━━━━━━━━━━\u001b[0m\u001b[37m\u001b[0m \u001b[1m0s\u001b[0m 6ms/step \n",
      "Dataset: Dataset_19, Score: 0.8866\n",
      "\u001b[1m8/8\u001b[0m \u001b[32m━━━━━━━━━━━━━━━━━━━━\u001b[0m\u001b[37m\u001b[0m \u001b[1m0s\u001b[0m 432us/step\n"
     ]
    },
    {
     "name": "stderr",
     "output_type": "stream",
     "text": [
      "[I 2024-11-05 12:28:55,745] A new study created in memory with name: no-name-e9bc895b-2b61-46cb-be4c-2ac73d4c6321\n"
     ]
    },
    {
     "name": "stdout",
     "output_type": "stream",
     "text": [
      "Dataset: Dataset_8\n",
      "X_train_split shape: (143, 12)\n",
      "y_train_split shape: (143, 1)\n",
      "X_train shape: (179, 12)\n",
      "y_train shape: (179, 1)\n"
     ]
    },
    {
     "name": "stderr",
     "output_type": "stream",
     "text": [
      "[I 2024-11-05 12:28:56,587] Trial 0 finished with value: 0.8611111044883728 and parameters: {'n_units_1': 162, 'n_units_2': 48, 'dropout_rate': 0.36874579148335834}. Best is trial 0 with value: 0.8611111044883728.\n",
      "[I 2024-11-05 12:28:57,440] Trial 1 finished with value: 0.8611111044883728 and parameters: {'n_units_1': 196, 'n_units_2': 118, 'dropout_rate': 0.2933225972487474}. Best is trial 0 with value: 0.8611111044883728.\n",
      "[I 2024-11-05 12:28:59,684] Trial 2 finished with value: 0.8333333134651184 and parameters: {'n_units_1': 146, 'n_units_2': 45, 'dropout_rate': 0.36052101712094103}. Best is trial 0 with value: 0.8611111044883728.\n",
      "[I 2024-11-05 12:29:00,859] Trial 3 finished with value: 0.8611111044883728 and parameters: {'n_units_1': 212, 'n_units_2': 107, 'dropout_rate': 0.24487000629107486}. Best is trial 0 with value: 0.8611111044883728.\n",
      "[I 2024-11-05 12:29:01,738] Trial 4 finished with value: 0.8333333134651184 and parameters: {'n_units_1': 181, 'n_units_2': 78, 'dropout_rate': 0.43707703583651697}. Best is trial 0 with value: 0.8611111044883728.\n",
      "[I 2024-11-05 12:29:02,570] Trial 5 finished with value: 0.8611111044883728 and parameters: {'n_units_1': 120, 'n_units_2': 122, 'dropout_rate': 0.32777475285417335}. Best is trial 0 with value: 0.8611111044883728.\n",
      "[I 2024-11-05 12:29:03,374] Trial 6 finished with value: 0.8333333134651184 and parameters: {'n_units_1': 227, 'n_units_2': 55, 'dropout_rate': 0.48232294496454353}. Best is trial 0 with value: 0.8611111044883728.\n",
      "[I 2024-11-05 12:29:04,177] Trial 7 finished with value: 0.8611111044883728 and parameters: {'n_units_1': 190, 'n_units_2': 39, 'dropout_rate': 0.42576736359385414}. Best is trial 0 with value: 0.8611111044883728.\n",
      "[I 2024-11-05 12:29:04,983] Trial 8 finished with value: 0.8055555820465088 and parameters: {'n_units_1': 167, 'n_units_2': 104, 'dropout_rate': 0.49192947034069795}. Best is trial 0 with value: 0.8611111044883728.\n",
      "[I 2024-11-05 12:29:05,787] Trial 9 finished with value: 0.8333333134651184 and parameters: {'n_units_1': 134, 'n_units_2': 93, 'dropout_rate': 0.23107121389908525}. Best is trial 0 with value: 0.8611111044883728.\n"
     ]
    },
    {
     "name": "stdout",
     "output_type": "stream",
     "text": [
      "\u001b[1m2/2\u001b[0m \u001b[32m━━━━━━━━━━━━━━━━━━━━\u001b[0m\u001b[37m\u001b[0m \u001b[1m0s\u001b[0m 12ms/step\n",
      "Dataset: Dataset_8, Score: 0.7591\n",
      "\u001b[1m4/4\u001b[0m \u001b[32m━━━━━━━━━━━━━━━━━━━━\u001b[0m\u001b[37m\u001b[0m \u001b[1m0s\u001b[0m 558us/step\n"
     ]
    },
    {
     "name": "stderr",
     "output_type": "stream",
     "text": [
      "[I 2024-11-05 12:29:07,236] A new study created in memory with name: no-name-d9394f9d-94d2-4282-86d9-bdd83a45515b\n"
     ]
    },
    {
     "name": "stdout",
     "output_type": "stream",
     "text": [
      "Dataset: Dataset_38\n",
      "X_train_split shape: (279, 11)\n",
      "y_train_split shape: (279, 1)\n",
      "X_train shape: (349, 11)\n",
      "y_train shape: (349, 1)\n"
     ]
    },
    {
     "name": "stderr",
     "output_type": "stream",
     "text": [
      "[I 2024-11-05 12:29:08,103] Trial 0 finished with value: 0.7428571581840515 and parameters: {'n_units_1': 98, 'n_units_2': 33, 'dropout_rate': 0.2532840177977307}. Best is trial 0 with value: 0.7428571581840515.\n",
      "[I 2024-11-05 12:29:09,058] Trial 1 finished with value: 0.7285714149475098 and parameters: {'n_units_1': 143, 'n_units_2': 70, 'dropout_rate': 0.3340744225614255}. Best is trial 0 with value: 0.7428571581840515.\n",
      "[I 2024-11-05 12:29:09,918] Trial 2 finished with value: 0.7571428418159485 and parameters: {'n_units_1': 81, 'n_units_2': 78, 'dropout_rate': 0.4396906959242402}. Best is trial 2 with value: 0.7571428418159485.\n",
      "[I 2024-11-05 12:29:10,817] Trial 3 finished with value: 0.7285714149475098 and parameters: {'n_units_1': 221, 'n_units_2': 32, 'dropout_rate': 0.49337421107072954}. Best is trial 2 with value: 0.7571428418159485.\n",
      "[I 2024-11-05 12:29:11,891] Trial 4 finished with value: 0.7571428418159485 and parameters: {'n_units_1': 183, 'n_units_2': 59, 'dropout_rate': 0.23709975851519713}. Best is trial 2 with value: 0.7571428418159485.\n",
      "[I 2024-11-05 12:29:12,816] Trial 5 finished with value: 0.7285714149475098 and parameters: {'n_units_1': 94, 'n_units_2': 85, 'dropout_rate': 0.3076706529432112}. Best is trial 2 with value: 0.7571428418159485.\n",
      "[I 2024-11-05 12:29:13,671] Trial 6 finished with value: 0.7571428418159485 and parameters: {'n_units_1': 163, 'n_units_2': 125, 'dropout_rate': 0.24384919404182978}. Best is trial 2 with value: 0.7571428418159485.\n",
      "[I 2024-11-05 12:29:14,521] Trial 7 finished with value: 0.7571428418159485 and parameters: {'n_units_1': 193, 'n_units_2': 76, 'dropout_rate': 0.2396354897692207}. Best is trial 2 with value: 0.7571428418159485.\n",
      "[I 2024-11-05 12:29:15,406] Trial 8 finished with value: 0.7285714149475098 and parameters: {'n_units_1': 74, 'n_units_2': 110, 'dropout_rate': 0.2553684216224313}. Best is trial 2 with value: 0.7571428418159485.\n",
      "[I 2024-11-05 12:29:16,280] Trial 9 finished with value: 0.7714285850524902 and parameters: {'n_units_1': 98, 'n_units_2': 109, 'dropout_rate': 0.39655106633815096}. Best is trial 9 with value: 0.7714285850524902.\n"
     ]
    },
    {
     "name": "stdout",
     "output_type": "stream",
     "text": [
      "\u001b[1m3/3\u001b[0m \u001b[32m━━━━━━━━━━━━━━━━━━━━\u001b[0m\u001b[37m\u001b[0m \u001b[1m0s\u001b[0m 6ms/step \n",
      "Dataset: Dataset_38, Score: 0.7353\n",
      "\u001b[1m8/8\u001b[0m \u001b[32m━━━━━━━━━━━━━━━━━━━━\u001b[0m\u001b[37m\u001b[0m \u001b[1m0s\u001b[0m 384us/step\n"
     ]
    },
    {
     "name": "stderr",
     "output_type": "stream",
     "text": [
      "[I 2024-11-05 12:29:17,820] A new study created in memory with name: no-name-7ac5bb47-e2be-4be6-92a0-f168695336fc\n"
     ]
    },
    {
     "name": "stdout",
     "output_type": "stream",
     "text": [
      "Dataset: Dataset_6\n",
      "X_train_split shape: (249, 16)\n",
      "y_train_split shape: (249, 1)\n",
      "X_train shape: (312, 16)\n",
      "y_train shape: (312, 1)\n"
     ]
    },
    {
     "name": "stderr",
     "output_type": "stream",
     "text": [
      "[I 2024-11-05 12:29:18,676] Trial 0 finished with value: 0.9523809552192688 and parameters: {'n_units_1': 233, 'n_units_2': 82, 'dropout_rate': 0.2005285630157586}. Best is trial 0 with value: 0.9523809552192688.\n",
      "[I 2024-11-05 12:29:19,528] Trial 1 finished with value: 0.9365079402923584 and parameters: {'n_units_1': 112, 'n_units_2': 94, 'dropout_rate': 0.4052003772004068}. Best is trial 0 with value: 0.9523809552192688.\n",
      "[I 2024-11-05 12:29:20,794] Trial 2 finished with value: 0.9523809552192688 and parameters: {'n_units_1': 254, 'n_units_2': 91, 'dropout_rate': 0.4198820138759644}. Best is trial 0 with value: 0.9523809552192688.\n",
      "[I 2024-11-05 12:29:21,640] Trial 3 finished with value: 0.9523809552192688 and parameters: {'n_units_1': 102, 'n_units_2': 104, 'dropout_rate': 0.22616042057672187}. Best is trial 0 with value: 0.9523809552192688.\n",
      "[I 2024-11-05 12:29:22,711] Trial 4 finished with value: 0.920634925365448 and parameters: {'n_units_1': 233, 'n_units_2': 33, 'dropout_rate': 0.40467743595733224}. Best is trial 0 with value: 0.9523809552192688.\n",
      "[I 2024-11-05 12:29:23,644] Trial 5 finished with value: 0.9523809552192688 and parameters: {'n_units_1': 150, 'n_units_2': 87, 'dropout_rate': 0.32229859115194137}. Best is trial 0 with value: 0.9523809552192688.\n",
      "[I 2024-11-05 12:29:24,470] Trial 6 finished with value: 0.920634925365448 and parameters: {'n_units_1': 137, 'n_units_2': 66, 'dropout_rate': 0.34673223951445636}. Best is trial 0 with value: 0.9523809552192688.\n",
      "[I 2024-11-05 12:29:25,327] Trial 7 finished with value: 0.920634925365448 and parameters: {'n_units_1': 120, 'n_units_2': 103, 'dropout_rate': 0.36465840678615347}. Best is trial 0 with value: 0.9523809552192688.\n",
      "[I 2024-11-05 12:29:26,218] Trial 8 finished with value: 0.920634925365448 and parameters: {'n_units_1': 103, 'n_units_2': 97, 'dropout_rate': 0.29647207820326504}. Best is trial 0 with value: 0.9523809552192688.\n",
      "[I 2024-11-05 12:29:27,054] Trial 9 finished with value: 0.9365079402923584 and parameters: {'n_units_1': 123, 'n_units_2': 47, 'dropout_rate': 0.4957867144868947}. Best is trial 0 with value: 0.9523809552192688.\n"
     ]
    },
    {
     "name": "stdout",
     "output_type": "stream",
     "text": [
      "\u001b[1m2/2\u001b[0m \u001b[32m━━━━━━━━━━━━━━━━━━━━\u001b[0m\u001b[37m\u001b[0m \u001b[1m0s\u001b[0m 12ms/step\n",
      "Dataset: Dataset_6, Score: 0.9318\n",
      "\u001b[1m7/7\u001b[0m \u001b[32m━━━━━━━━━━━━━━━━━━━━\u001b[0m\u001b[37m\u001b[0m \u001b[1m0s\u001b[0m 6ms/step \n"
     ]
    },
    {
     "name": "stderr",
     "output_type": "stream",
     "text": [
      "[I 2024-11-05 12:29:28,650] A new study created in memory with name: no-name-b9a91764-4725-4a1a-b5d0-edf47504c1ce\n"
     ]
    },
    {
     "name": "stdout",
     "output_type": "stream",
     "text": [
      "Dataset: Dataset_31\n",
      "X_train_split shape: (64, 15)\n",
      "y_train_split shape: (64, 1)\n",
      "X_train shape: (81, 15)\n",
      "y_train shape: (81, 1)\n"
     ]
    },
    {
     "name": "stderr",
     "output_type": "stream",
     "text": [
      "[I 2024-11-05 12:29:29,385] Trial 0 finished with value: 0.7058823704719543 and parameters: {'n_units_1': 139, 'n_units_2': 66, 'dropout_rate': 0.4683104565371419}. Best is trial 0 with value: 0.7058823704719543.\n",
      "[I 2024-11-05 12:29:30,116] Trial 1 finished with value: 0.7058823704719543 and parameters: {'n_units_1': 92, 'n_units_2': 43, 'dropout_rate': 0.384431001228111}. Best is trial 0 with value: 0.7058823704719543.\n",
      "[I 2024-11-05 12:29:30,849] Trial 2 finished with value: 0.7058823704719543 and parameters: {'n_units_1': 179, 'n_units_2': 35, 'dropout_rate': 0.26869111438160465}. Best is trial 0 with value: 0.7058823704719543.\n",
      "[I 2024-11-05 12:29:31,625] Trial 3 finished with value: 0.7058823704719543 and parameters: {'n_units_1': 164, 'n_units_2': 56, 'dropout_rate': 0.39308704891765495}. Best is trial 0 with value: 0.7058823704719543.\n",
      "[I 2024-11-05 12:29:32,369] Trial 4 finished with value: 0.7058823704719543 and parameters: {'n_units_1': 74, 'n_units_2': 126, 'dropout_rate': 0.41184603301098766}. Best is trial 0 with value: 0.7058823704719543.\n",
      "[I 2024-11-05 12:29:33,286] Trial 5 finished with value: 0.7058823704719543 and parameters: {'n_units_1': 96, 'n_units_2': 80, 'dropout_rate': 0.3051856250372324}. Best is trial 0 with value: 0.7058823704719543.\n",
      "[I 2024-11-05 12:29:34,004] Trial 6 finished with value: 0.7647058963775635 and parameters: {'n_units_1': 218, 'n_units_2': 61, 'dropout_rate': 0.24243191403951675}. Best is trial 6 with value: 0.7647058963775635.\n",
      "[I 2024-11-05 12:29:34,719] Trial 7 finished with value: 0.7058823704719543 and parameters: {'n_units_1': 125, 'n_units_2': 110, 'dropout_rate': 0.27111501984487524}. Best is trial 6 with value: 0.7647058963775635.\n",
      "[I 2024-11-05 12:29:35,436] Trial 8 finished with value: 0.7058823704719543 and parameters: {'n_units_1': 182, 'n_units_2': 63, 'dropout_rate': 0.261922826697402}. Best is trial 6 with value: 0.7647058963775635.\n",
      "[I 2024-11-05 12:29:36,195] Trial 9 finished with value: 0.7058823704719543 and parameters: {'n_units_1': 97, 'n_units_2': 77, 'dropout_rate': 0.3824209913223049}. Best is trial 6 with value: 0.7647058963775635.\n"
     ]
    },
    {
     "name": "stdout",
     "output_type": "stream",
     "text": [
      "\u001b[1m1/1\u001b[0m \u001b[32m━━━━━━━━━━━━━━━━━━━━\u001b[0m\u001b[37m\u001b[0m \u001b[1m0s\u001b[0m 18ms/step\n",
      "Dataset: Dataset_31, Score: 0.6975\n",
      "\u001b[1m2/2\u001b[0m \u001b[32m━━━━━━━━━━━━━━━━━━━━\u001b[0m\u001b[37m\u001b[0m \u001b[1m0s\u001b[0m 943us/step\n"
     ]
    },
    {
     "name": "stderr",
     "output_type": "stream",
     "text": [
      "[I 2024-11-05 12:29:37,499] A new study created in memory with name: no-name-343c8ddd-13a4-45ab-a8f5-cc4ec9a8319a\n"
     ]
    },
    {
     "name": "stdout",
     "output_type": "stream",
     "text": [
      "Dataset: Dataset_1\n",
      "X_train_split shape: (355, 20)\n",
      "y_train_split shape: (355, 1)\n",
      "X_train shape: (444, 20)\n",
      "y_train shape: (444, 1)\n"
     ]
    },
    {
     "name": "stderr",
     "output_type": "stream",
     "text": [
      "[I 2024-11-05 12:29:38,445] Trial 0 finished with value: 0.7977527976036072 and parameters: {'n_units_1': 142, 'n_units_2': 104, 'dropout_rate': 0.3467059824809397}. Best is trial 0 with value: 0.7977527976036072.\n",
      "[I 2024-11-05 12:29:39,406] Trial 1 finished with value: 0.7752808928489685 and parameters: {'n_units_1': 187, 'n_units_2': 51, 'dropout_rate': 0.2829450796035195}. Best is trial 0 with value: 0.7977527976036072.\n",
      "[I 2024-11-05 12:29:40,300] Trial 2 finished with value: 0.7752808928489685 and parameters: {'n_units_1': 80, 'n_units_2': 78, 'dropout_rate': 0.4440839582103123}. Best is trial 0 with value: 0.7977527976036072.\n",
      "[I 2024-11-05 12:29:41,161] Trial 3 finished with value: 0.7977527976036072 and parameters: {'n_units_1': 237, 'n_units_2': 39, 'dropout_rate': 0.4186141995402227}. Best is trial 0 with value: 0.7977527976036072.\n",
      "[I 2024-11-05 12:29:42,067] Trial 4 finished with value: 0.7752808928489685 and parameters: {'n_units_1': 85, 'n_units_2': 33, 'dropout_rate': 0.48538280217549956}. Best is trial 0 with value: 0.7977527976036072.\n",
      "[I 2024-11-05 12:29:43,098] Trial 5 finished with value: 0.7752808928489685 and parameters: {'n_units_1': 164, 'n_units_2': 34, 'dropout_rate': 0.3581543773093177}. Best is trial 0 with value: 0.7977527976036072.\n",
      "[I 2024-11-05 12:29:43,960] Trial 6 finished with value: 0.7977527976036072 and parameters: {'n_units_1': 99, 'n_units_2': 56, 'dropout_rate': 0.3224224667961166}. Best is trial 0 with value: 0.7977527976036072.\n",
      "[I 2024-11-05 12:29:44,831] Trial 7 finished with value: 0.7977527976036072 and parameters: {'n_units_1': 166, 'n_units_2': 89, 'dropout_rate': 0.4904255419358167}. Best is trial 0 with value: 0.7977527976036072.\n",
      "[I 2024-11-05 12:29:45,690] Trial 8 finished with value: 0.7752808928489685 and parameters: {'n_units_1': 135, 'n_units_2': 78, 'dropout_rate': 0.2915180621126332}. Best is trial 0 with value: 0.7977527976036072.\n",
      "[I 2024-11-05 12:29:48,210] Trial 9 finished with value: 0.7752808928489685 and parameters: {'n_units_1': 255, 'n_units_2': 47, 'dropout_rate': 0.396569536073642}. Best is trial 0 with value: 0.7977527976036072.\n"
     ]
    },
    {
     "name": "stdout",
     "output_type": "stream",
     "text": [
      "\u001b[1m3/3\u001b[0m \u001b[32m━━━━━━━━━━━━━━━━━━━━\u001b[0m\u001b[37m\u001b[0m \u001b[1m0s\u001b[0m 7ms/step \n",
      "Dataset: Dataset_1, Score: 0.6739\n",
      "\u001b[1m10/10\u001b[0m \u001b[32m━━━━━━━━━━━━━━━━━━━━\u001b[0m\u001b[37m\u001b[0m \u001b[1m0s\u001b[0m 366us/step\n"
     ]
    },
    {
     "name": "stderr",
     "output_type": "stream",
     "text": [
      "[I 2024-11-05 12:29:49,968] A new study created in memory with name: no-name-fbce66e4-9e5c-415e-8c5d-a3ba2d267633\n"
     ]
    },
    {
     "name": "stdout",
     "output_type": "stream",
     "text": [
      "Dataset: Dataset_36\n",
      "X_train_split shape: (134, 97)\n",
      "y_train_split shape: (134, 1)\n",
      "X_train shape: (168, 97)\n",
      "y_train shape: (168, 1)\n"
     ]
    },
    {
     "name": "stderr",
     "output_type": "stream",
     "text": [
      "[I 2024-11-05 12:29:50,866] Trial 0 finished with value: 0.8235294222831726 and parameters: {'n_units_1': 70, 'n_units_2': 127, 'dropout_rate': 0.3188543952834278}. Best is trial 0 with value: 0.8235294222831726.\n",
      "[I 2024-11-05 12:29:51,705] Trial 1 finished with value: 0.8823529481887817 and parameters: {'n_units_1': 117, 'n_units_2': 107, 'dropout_rate': 0.49940574285182987}. Best is trial 1 with value: 0.8823529481887817.\n",
      "[I 2024-11-05 12:29:52,560] Trial 2 finished with value: 0.8823529481887817 and parameters: {'n_units_1': 175, 'n_units_2': 104, 'dropout_rate': 0.4172316818972154}. Best is trial 1 with value: 0.8823529481887817.\n",
      "[I 2024-11-05 12:29:53,375] Trial 3 finished with value: 0.8529411554336548 and parameters: {'n_units_1': 215, 'n_units_2': 82, 'dropout_rate': 0.4013329778133469}. Best is trial 1 with value: 0.8823529481887817.\n",
      "[I 2024-11-05 12:29:54,187] Trial 4 finished with value: 0.9117646813392639 and parameters: {'n_units_1': 221, 'n_units_2': 87, 'dropout_rate': 0.20445682851719374}. Best is trial 4 with value: 0.9117646813392639.\n",
      "[I 2024-11-05 12:29:55,193] Trial 5 finished with value: 0.8823529481887817 and parameters: {'n_units_1': 103, 'n_units_2': 127, 'dropout_rate': 0.3678519246968817}. Best is trial 4 with value: 0.9117646813392639.\n",
      "[I 2024-11-05 12:29:56,055] Trial 6 finished with value: 0.8823529481887817 and parameters: {'n_units_1': 139, 'n_units_2': 81, 'dropout_rate': 0.293579242076306}. Best is trial 4 with value: 0.9117646813392639.\n",
      "[I 2024-11-05 12:29:56,867] Trial 7 finished with value: 0.7941176295280457 and parameters: {'n_units_1': 140, 'n_units_2': 105, 'dropout_rate': 0.223281620977204}. Best is trial 4 with value: 0.9117646813392639.\n",
      "[I 2024-11-05 12:29:57,678] Trial 8 finished with value: 0.7647058963775635 and parameters: {'n_units_1': 89, 'n_units_2': 73, 'dropout_rate': 0.42243146824475597}. Best is trial 4 with value: 0.9117646813392639.\n",
      "[I 2024-11-05 12:29:58,495] Trial 9 finished with value: 0.7941176295280457 and parameters: {'n_units_1': 200, 'n_units_2': 102, 'dropout_rate': 0.3594912738688111}. Best is trial 4 with value: 0.9117646813392639.\n"
     ]
    },
    {
     "name": "stdout",
     "output_type": "stream",
     "text": [
      "\u001b[1m2/2\u001b[0m \u001b[32m━━━━━━━━━━━━━━━━━━━━\u001b[0m\u001b[37m\u001b[0m \u001b[1m0s\u001b[0m 12ms/step\n",
      "Dataset: Dataset_36, Score: 0.8366\n",
      "\u001b[1m4/4\u001b[0m \u001b[32m━━━━━━━━━━━━━━━━━━━━\u001b[0m\u001b[37m\u001b[0m \u001b[1m0s\u001b[0m 4ms/step \n"
     ]
    },
    {
     "name": "stderr",
     "output_type": "stream",
     "text": [
      "[I 2024-11-05 12:30:00,000] A new study created in memory with name: no-name-b57c9700-9230-4755-989a-5856cd557386\n"
     ]
    },
    {
     "name": "stdout",
     "output_type": "stream",
     "text": [
      "Dataset: Dataset_37\n",
      "X_train_split shape: (141, 13)\n",
      "y_train_split shape: (141, 1)\n",
      "X_train shape: (177, 13)\n",
      "y_train shape: (177, 1)\n"
     ]
    },
    {
     "name": "stderr",
     "output_type": "stream",
     "text": [
      "[I 2024-11-05 12:30:00,841] Trial 0 finished with value: 0.8611111044883728 and parameters: {'n_units_1': 82, 'n_units_2': 113, 'dropout_rate': 0.25430155044291786}. Best is trial 0 with value: 0.8611111044883728.\n",
      "[I 2024-11-05 12:30:01,652] Trial 1 finished with value: 0.8055555820465088 and parameters: {'n_units_1': 97, 'n_units_2': 123, 'dropout_rate': 0.46435420814213996}. Best is trial 0 with value: 0.8611111044883728.\n",
      "[I 2024-11-05 12:30:02,488] Trial 2 finished with value: 0.8333333134651184 and parameters: {'n_units_1': 119, 'n_units_2': 117, 'dropout_rate': 0.31486223618457043}. Best is trial 0 with value: 0.8611111044883728.\n",
      "[I 2024-11-05 12:30:03,328] Trial 3 finished with value: 0.8333333134651184 and parameters: {'n_units_1': 231, 'n_units_2': 57, 'dropout_rate': 0.25940434721886696}. Best is trial 0 with value: 0.8611111044883728.\n",
      "[I 2024-11-05 12:30:04,374] Trial 4 finished with value: 0.8333333134651184 and parameters: {'n_units_1': 256, 'n_units_2': 127, 'dropout_rate': 0.28740590617537687}. Best is trial 0 with value: 0.8611111044883728.\n",
      "[I 2024-11-05 12:30:05,223] Trial 5 finished with value: 0.8055555820465088 and parameters: {'n_units_1': 141, 'n_units_2': 113, 'dropout_rate': 0.24869220057151165}. Best is trial 0 with value: 0.8611111044883728.\n",
      "[I 2024-11-05 12:30:06,025] Trial 6 finished with value: 0.8055555820465088 and parameters: {'n_units_1': 204, 'n_units_2': 44, 'dropout_rate': 0.3687912905359418}. Best is trial 0 with value: 0.8611111044883728.\n",
      "[I 2024-11-05 12:30:06,837] Trial 7 finished with value: 0.8333333134651184 and parameters: {'n_units_1': 247, 'n_units_2': 124, 'dropout_rate': 0.28785841306539806}. Best is trial 0 with value: 0.8611111044883728.\n",
      "[I 2024-11-05 12:30:07,653] Trial 8 finished with value: 0.8333333134651184 and parameters: {'n_units_1': 216, 'n_units_2': 118, 'dropout_rate': 0.3405444861575571}. Best is trial 0 with value: 0.8611111044883728.\n",
      "[I 2024-11-05 12:30:08,466] Trial 9 finished with value: 0.7777777910232544 and parameters: {'n_units_1': 80, 'n_units_2': 61, 'dropout_rate': 0.33689287469442264}. Best is trial 0 with value: 0.8611111044883728.\n"
     ]
    },
    {
     "name": "stdout",
     "output_type": "stream",
     "text": [
      "\u001b[1m2/2\u001b[0m \u001b[32m━━━━━━━━━━━━━━━━━━━━\u001b[0m\u001b[37m\u001b[0m \u001b[1m0s\u001b[0m 11ms/step\n",
      "Dataset: Dataset_37, Score: 0.7632\n",
      "\u001b[1m4/4\u001b[0m \u001b[32m━━━━━━━━━━━━━━━━━━━━\u001b[0m\u001b[37m\u001b[0m \u001b[1m0s\u001b[0m 641us/step\n"
     ]
    },
    {
     "name": "stderr",
     "output_type": "stream",
     "text": [
      "[I 2024-11-05 12:30:09,897] A new study created in memory with name: no-name-0a8adc22-961d-4ca9-8593-541491cfb9c7\n"
     ]
    },
    {
     "name": "stdout",
     "output_type": "stream",
     "text": [
      "Dataset: Dataset_7\n",
      "X_train_split shape: (295, 12)\n",
      "y_train_split shape: (295, 1)\n",
      "X_train shape: (369, 12)\n",
      "y_train shape: (369, 1)\n"
     ]
    },
    {
     "name": "stderr",
     "output_type": "stream",
     "text": [
      "[I 2024-11-05 12:30:10,856] Trial 0 finished with value: 0.9864864945411682 and parameters: {'n_units_1': 216, 'n_units_2': 111, 'dropout_rate': 0.3649210488229823}. Best is trial 0 with value: 0.9864864945411682.\n",
      "[I 2024-11-05 12:30:11,716] Trial 1 finished with value: 0.9864864945411682 and parameters: {'n_units_1': 162, 'n_units_2': 72, 'dropout_rate': 0.2990316308418997}. Best is trial 0 with value: 0.9864864945411682.\n",
      "[I 2024-11-05 12:30:12,596] Trial 2 finished with value: 0.9729729890823364 and parameters: {'n_units_1': 132, 'n_units_2': 68, 'dropout_rate': 0.30793177531056853}. Best is trial 0 with value: 0.9864864945411682.\n",
      "[I 2024-11-05 12:30:13,488] Trial 3 finished with value: 0.9864864945411682 and parameters: {'n_units_1': 213, 'n_units_2': 46, 'dropout_rate': 0.3044151915121809}. Best is trial 0 with value: 0.9864864945411682.\n",
      "[I 2024-11-05 12:30:14,537] Trial 4 finished with value: 0.9864864945411682 and parameters: {'n_units_1': 182, 'n_units_2': 123, 'dropout_rate': 0.2794573581017943}. Best is trial 0 with value: 0.9864864945411682.\n",
      "[I 2024-11-05 12:30:15,399] Trial 5 finished with value: 0.9864864945411682 and parameters: {'n_units_1': 154, 'n_units_2': 94, 'dropout_rate': 0.2987156501987843}. Best is trial 0 with value: 0.9864864945411682.\n",
      "[I 2024-11-05 12:30:16,253] Trial 6 finished with value: 0.9864864945411682 and parameters: {'n_units_1': 137, 'n_units_2': 127, 'dropout_rate': 0.45652414011730535}. Best is trial 0 with value: 0.9864864945411682.\n",
      "[I 2024-11-05 12:30:17,105] Trial 7 finished with value: 0.9864864945411682 and parameters: {'n_units_1': 248, 'n_units_2': 53, 'dropout_rate': 0.49319945664933607}. Best is trial 0 with value: 0.9864864945411682.\n",
      "[I 2024-11-05 12:30:17,938] Trial 8 finished with value: 0.9594594836235046 and parameters: {'n_units_1': 80, 'n_units_2': 34, 'dropout_rate': 0.29869243586514727}. Best is trial 0 with value: 0.9864864945411682.\n",
      "[I 2024-11-05 12:30:18,790] Trial 9 finished with value: 0.9864864945411682 and parameters: {'n_units_1': 213, 'n_units_2': 54, 'dropout_rate': 0.3120952081759727}. Best is trial 0 with value: 0.9864864945411682.\n"
     ]
    },
    {
     "name": "stdout",
     "output_type": "stream",
     "text": [
      "\u001b[1m3/3\u001b[0m \u001b[32m━━━━━━━━━━━━━━━━━━━━\u001b[0m\u001b[37m\u001b[0m \u001b[1m0s\u001b[0m 7ms/step  \n",
      "Dataset: Dataset_7, Score: 0.8919\n",
      "\u001b[1m8/8\u001b[0m \u001b[32m━━━━━━━━━━━━━━━━━━━━\u001b[0m\u001b[37m\u001b[0m \u001b[1m0s\u001b[0m 452us/step\n"
     ]
    },
    {
     "name": "stderr",
     "output_type": "stream",
     "text": [
      "[I 2024-11-05 12:30:20,393] A new study created in memory with name: no-name-073c4784-2349-4011-910c-c1d2d664bd2c\n"
     ]
    },
    {
     "name": "stdout",
     "output_type": "stream",
     "text": [
      "Dataset: Dataset_30\n",
      "X_train_split shape: (442, 35)\n",
      "y_train_split shape: (442, 1)\n",
      "X_train shape: (553, 35)\n",
      "y_train shape: (553, 1)\n"
     ]
    },
    {
     "name": "stderr",
     "output_type": "stream",
     "text": [
      "[I 2024-11-05 12:30:21,316] Trial 0 finished with value: 0.7657657861709595 and parameters: {'n_units_1': 143, 'n_units_2': 93, 'dropout_rate': 0.20538641046116035}. Best is trial 0 with value: 0.7657657861709595.\n",
      "[I 2024-11-05 12:30:22,263] Trial 1 finished with value: 0.792792797088623 and parameters: {'n_units_1': 200, 'n_units_2': 118, 'dropout_rate': 0.3693327223570918}. Best is trial 1 with value: 0.792792797088623.\n",
      "[I 2024-11-05 12:30:23,187] Trial 2 finished with value: 0.7747747898101807 and parameters: {'n_units_1': 100, 'n_units_2': 77, 'dropout_rate': 0.26020152890572995}. Best is trial 1 with value: 0.792792797088623.\n",
      "[I 2024-11-05 12:30:24,100] Trial 3 finished with value: 0.7837837934494019 and parameters: {'n_units_1': 142, 'n_units_2': 52, 'dropout_rate': 0.3043468200138113}. Best is trial 1 with value: 0.792792797088623.\n",
      "[I 2024-11-05 12:30:25,276] Trial 4 finished with value: 0.792792797088623 and parameters: {'n_units_1': 121, 'n_units_2': 122, 'dropout_rate': 0.41897098010220046}. Best is trial 1 with value: 0.792792797088623.\n",
      "[I 2024-11-05 12:30:26,162] Trial 5 finished with value: 0.792792797088623 and parameters: {'n_units_1': 166, 'n_units_2': 55, 'dropout_rate': 0.34131129373316155}. Best is trial 1 with value: 0.792792797088623.\n",
      "[I 2024-11-05 12:30:27,066] Trial 6 finished with value: 0.7747747898101807 and parameters: {'n_units_1': 221, 'n_units_2': 86, 'dropout_rate': 0.26668356741430316}. Best is trial 1 with value: 0.792792797088623.\n",
      "[I 2024-11-05 12:30:27,946] Trial 7 finished with value: 0.7837837934494019 and parameters: {'n_units_1': 97, 'n_units_2': 60, 'dropout_rate': 0.20714612982206293}. Best is trial 1 with value: 0.792792797088623.\n",
      "[I 2024-11-05 12:30:28,830] Trial 8 finished with value: 0.8108108043670654 and parameters: {'n_units_1': 94, 'n_units_2': 114, 'dropout_rate': 0.3226913619767808}. Best is trial 8 with value: 0.8108108043670654.\n",
      "[I 2024-11-05 12:30:29,707] Trial 9 finished with value: 0.8108108043670654 and parameters: {'n_units_1': 105, 'n_units_2': 63, 'dropout_rate': 0.3342456194537703}. Best is trial 8 with value: 0.8108108043670654.\n"
     ]
    },
    {
     "name": "stdout",
     "output_type": "stream",
     "text": [
      "\u001b[1m4/4\u001b[0m \u001b[32m━━━━━━━━━━━━━━━━━━━━\u001b[0m\u001b[37m\u001b[0m \u001b[1m0s\u001b[0m 4ms/step  \n",
      "Dataset: Dataset_30, Score: 0.6972\n",
      "\u001b[1m12/12\u001b[0m \u001b[32m━━━━━━━━━━━━━━━━━━━━\u001b[0m\u001b[37m\u001b[0m \u001b[1m0s\u001b[0m 393us/step\n"
     ]
    },
    {
     "name": "stderr",
     "output_type": "stream",
     "text": [
      "[I 2024-11-05 12:30:31,413] A new study created in memory with name: no-name-fc0e43c2-8ab6-4576-bef9-c469b5da9378\n"
     ]
    },
    {
     "name": "stdout",
     "output_type": "stream",
     "text": [
      "Dataset: Dataset_39\n",
      "X_train_split shape: (480, 18)\n",
      "y_train_split shape: (480, 1)\n",
      "X_train shape: (600, 18)\n",
      "y_train shape: (600, 1)\n"
     ]
    },
    {
     "name": "stderr",
     "output_type": "stream",
     "text": [
      "[I 2024-11-05 12:30:32,278] Trial 0 finished with value: 0.9666666388511658 and parameters: {'n_units_1': 113, 'n_units_2': 54, 'dropout_rate': 0.4203458661979603}. Best is trial 0 with value: 0.9666666388511658.\n",
      "[I 2024-11-05 12:30:33,187] Trial 1 finished with value: 0.949999988079071 and parameters: {'n_units_1': 246, 'n_units_2': 121, 'dropout_rate': 0.3272994249673904}. Best is trial 0 with value: 0.9666666388511658.\n",
      "[I 2024-11-05 12:30:34,071] Trial 2 finished with value: 0.949999988079071 and parameters: {'n_units_1': 232, 'n_units_2': 65, 'dropout_rate': 0.3065464010349117}. Best is trial 0 with value: 0.9666666388511658.\n",
      "[I 2024-11-05 12:30:34,958] Trial 3 finished with value: 0.949999988079071 and parameters: {'n_units_1': 200, 'n_units_2': 84, 'dropout_rate': 0.3141447448914702}. Best is trial 0 with value: 0.9666666388511658.\n",
      "[I 2024-11-05 12:30:36,002] Trial 4 finished with value: 0.9416666626930237 and parameters: {'n_units_1': 109, 'n_units_2': 116, 'dropout_rate': 0.4825334477888978}. Best is trial 0 with value: 0.9666666388511658.\n",
      "[I 2024-11-05 12:30:36,923] Trial 5 finished with value: 0.9583333134651184 and parameters: {'n_units_1': 184, 'n_units_2': 116, 'dropout_rate': 0.3944710582961001}. Best is trial 0 with value: 0.9666666388511658.\n",
      "[I 2024-11-05 12:30:37,757] Trial 6 finished with value: 0.949999988079071 and parameters: {'n_units_1': 82, 'n_units_2': 98, 'dropout_rate': 0.42478628546369973}. Best is trial 0 with value: 0.9666666388511658.\n",
      "[I 2024-11-05 12:30:38,605] Trial 7 finished with value: 0.9583333134651184 and parameters: {'n_units_1': 168, 'n_units_2': 80, 'dropout_rate': 0.39965390587101096}. Best is trial 0 with value: 0.9666666388511658.\n",
      "[I 2024-11-05 12:30:39,459] Trial 8 finished with value: 0.9416666626930237 and parameters: {'n_units_1': 127, 'n_units_2': 49, 'dropout_rate': 0.2879317746869805}. Best is trial 0 with value: 0.9666666388511658.\n",
      "[I 2024-11-05 12:30:40,293] Trial 9 finished with value: 0.949999988079071 and parameters: {'n_units_1': 76, 'n_units_2': 108, 'dropout_rate': 0.2033772794195994}. Best is trial 0 with value: 0.9666666388511658.\n"
     ]
    },
    {
     "name": "stdout",
     "output_type": "stream",
     "text": [
      "\u001b[1m4/4\u001b[0m \u001b[32m━━━━━━━━━━━━━━━━━━━━\u001b[0m\u001b[37m\u001b[0m \u001b[1m0s\u001b[0m 4ms/step \n",
      "Dataset: Dataset_39, Score: 0.9609\n",
      "\u001b[1m13/13\u001b[0m \u001b[32m━━━━━━━━━━━━━━━━━━━━\u001b[0m\u001b[37m\u001b[0m \u001b[1m0s\u001b[0m 365us/step\n"
     ]
    },
    {
     "name": "stderr",
     "output_type": "stream",
     "text": [
      "[I 2024-11-05 12:30:41,867] A new study created in memory with name: no-name-f692cf52-1482-467f-b45a-61ea49a4c2e4\n"
     ]
    },
    {
     "name": "stdout",
     "output_type": "stream",
     "text": [
      "Dataset: Dataset_9\n",
      "X_train_split shape: (115, 46)\n",
      "y_train_split shape: (115, 1)\n",
      "X_train shape: (144, 46)\n",
      "y_train shape: (144, 1)\n"
     ]
    },
    {
     "name": "stderr",
     "output_type": "stream",
     "text": [
      "[I 2024-11-05 12:30:42,702] Trial 0 finished with value: 0.8620689511299133 and parameters: {'n_units_1': 230, 'n_units_2': 83, 'dropout_rate': 0.34022215015220036}. Best is trial 0 with value: 0.8620689511299133.\n",
      "[I 2024-11-05 12:30:45,533] Trial 1 finished with value: 0.8620689511299133 and parameters: {'n_units_1': 78, 'n_units_2': 79, 'dropout_rate': 0.49141130690065576}. Best is trial 0 with value: 0.8620689511299133.\n",
      "[I 2024-11-05 12:30:46,398] Trial 2 finished with value: 0.8620689511299133 and parameters: {'n_units_1': 126, 'n_units_2': 70, 'dropout_rate': 0.4709990523797467}. Best is trial 0 with value: 0.8620689511299133.\n",
      "[I 2024-11-05 12:30:47,504] Trial 3 finished with value: 0.8620689511299133 and parameters: {'n_units_1': 151, 'n_units_2': 51, 'dropout_rate': 0.20781991491185942}. Best is trial 0 with value: 0.8620689511299133.\n",
      "[I 2024-11-05 12:30:48,353] Trial 4 finished with value: 0.8620689511299133 and parameters: {'n_units_1': 176, 'n_units_2': 71, 'dropout_rate': 0.27004854269845063}. Best is trial 0 with value: 0.8620689511299133.\n",
      "[I 2024-11-05 12:30:49,173] Trial 5 finished with value: 0.8620689511299133 and parameters: {'n_units_1': 120, 'n_units_2': 67, 'dropout_rate': 0.20342657768990446}. Best is trial 0 with value: 0.8620689511299133.\n",
      "[I 2024-11-05 12:30:49,979] Trial 6 finished with value: 0.8620689511299133 and parameters: {'n_units_1': 178, 'n_units_2': 37, 'dropout_rate': 0.3203153809873453}. Best is trial 0 with value: 0.8620689511299133.\n",
      "[I 2024-11-05 12:30:50,825] Trial 7 finished with value: 0.8620689511299133 and parameters: {'n_units_1': 234, 'n_units_2': 91, 'dropout_rate': 0.23141458757802952}. Best is trial 0 with value: 0.8620689511299133.\n",
      "[I 2024-11-05 12:30:51,622] Trial 8 finished with value: 0.8620689511299133 and parameters: {'n_units_1': 121, 'n_units_2': 55, 'dropout_rate': 0.209974608290038}. Best is trial 0 with value: 0.8620689511299133.\n",
      "[I 2024-11-05 12:30:52,415] Trial 9 finished with value: 0.8620689511299133 and parameters: {'n_units_1': 95, 'n_units_2': 86, 'dropout_rate': 0.4696651798916899}. Best is trial 0 with value: 0.8620689511299133.\n"
     ]
    },
    {
     "name": "stdout",
     "output_type": "stream",
     "text": [
      "\u001b[1m1/1\u001b[0m \u001b[32m━━━━━━━━━━━━━━━━━━━━\u001b[0m\u001b[37m\u001b[0m \u001b[1m0s\u001b[0m 18ms/step\n",
      "Dataset: Dataset_9, Score: 0.7302\n",
      "\u001b[1m3/3\u001b[0m \u001b[32m━━━━━━━━━━━━━━━━━━━━\u001b[0m\u001b[37m\u001b[0m \u001b[1m0s\u001b[0m 709us/step\n"
     ]
    },
    {
     "name": "stderr",
     "output_type": "stream",
     "text": [
      "[I 2024-11-05 12:30:53,864] A new study created in memory with name: no-name-7a57b8b8-ae4a-4be8-85f0-1a7e5bd5d1c1\n"
     ]
    },
    {
     "name": "stdout",
     "output_type": "stream",
     "text": [
      "Dataset: Dataset_23\n",
      "X_train_split shape: (283, 15)\n",
      "y_train_split shape: (283, 1)\n",
      "X_train shape: (354, 15)\n",
      "y_train shape: (354, 1)\n"
     ]
    },
    {
     "name": "stderr",
     "output_type": "stream",
     "text": [
      "[I 2024-11-05 12:30:54,747] Trial 0 finished with value: 0.9154929518699646 and parameters: {'n_units_1': 194, 'n_units_2': 112, 'dropout_rate': 0.385334660696994}. Best is trial 0 with value: 0.9154929518699646.\n",
      "[I 2024-11-05 12:30:55,603] Trial 1 finished with value: 0.9154929518699646 and parameters: {'n_units_1': 213, 'n_units_2': 61, 'dropout_rate': 0.41794332086901664}. Best is trial 0 with value: 0.9154929518699646.\n",
      "[I 2024-11-05 12:30:56,487] Trial 2 finished with value: 0.9154929518699646 and parameters: {'n_units_1': 241, 'n_units_2': 77, 'dropout_rate': 0.38497667573234806}. Best is trial 0 with value: 0.9154929518699646.\n",
      "[I 2024-11-05 12:30:57,375] Trial 3 finished with value: 0.9295774698257446 and parameters: {'n_units_1': 256, 'n_units_2': 127, 'dropout_rate': 0.277874676212065}. Best is trial 3 with value: 0.9295774698257446.\n",
      "[I 2024-11-05 12:30:58,371] Trial 4 finished with value: 0.9014084339141846 and parameters: {'n_units_1': 66, 'n_units_2': 108, 'dropout_rate': 0.3773155761108673}. Best is trial 3 with value: 0.9295774698257446.\n",
      "[I 2024-11-05 12:30:59,212] Trial 5 finished with value: 0.9295774698257446 and parameters: {'n_units_1': 68, 'n_units_2': 94, 'dropout_rate': 0.4280528742460303}. Best is trial 3 with value: 0.9295774698257446.\n",
      "[I 2024-11-05 12:31:00,059] Trial 6 finished with value: 0.9154929518699646 and parameters: {'n_units_1': 124, 'n_units_2': 42, 'dropout_rate': 0.4008708116574924}. Best is trial 3 with value: 0.9295774698257446.\n",
      "[I 2024-11-05 12:31:00,917] Trial 7 finished with value: 0.9154929518699646 and parameters: {'n_units_1': 250, 'n_units_2': 71, 'dropout_rate': 0.48540327611619083}. Best is trial 3 with value: 0.9295774698257446.\n",
      "[I 2024-11-05 12:31:01,772] Trial 8 finished with value: 0.9014084339141846 and parameters: {'n_units_1': 193, 'n_units_2': 93, 'dropout_rate': 0.40450274898366184}. Best is trial 3 with value: 0.9295774698257446.\n",
      "[I 2024-11-05 12:31:02,620] Trial 9 finished with value: 0.9154929518699646 and parameters: {'n_units_1': 178, 'n_units_2': 48, 'dropout_rate': 0.3977599384862485}. Best is trial 3 with value: 0.9295774698257446.\n"
     ]
    },
    {
     "name": "stdout",
     "output_type": "stream",
     "text": [
      "\u001b[1m3/3\u001b[0m \u001b[32m━━━━━━━━━━━━━━━━━━━━\u001b[0m\u001b[37m\u001b[0m \u001b[1m0s\u001b[0m 7ms/step  \n",
      "Dataset: Dataset_23, Score: 0.8350\n",
      "\u001b[1m8/8\u001b[0m \u001b[32m━━━━━━━━━━━━━━━━━━━━\u001b[0m\u001b[37m\u001b[0m \u001b[1m0s\u001b[0m 1ms/step\n"
     ]
    },
    {
     "name": "stderr",
     "output_type": "stream",
     "text": [
      "[I 2024-11-05 12:31:04,285] A new study created in memory with name: no-name-01d0b171-920a-4682-aaf7-e68aef505c13\n"
     ]
    },
    {
     "name": "stdout",
     "output_type": "stream",
     "text": [
      "Dataset: Dataset_24\n",
      "X_train_split shape: (480, 11)\n",
      "y_train_split shape: (480, 1)\n",
      "X_train shape: (600, 11)\n",
      "y_train shape: (600, 1)\n"
     ]
    },
    {
     "name": "stderr",
     "output_type": "stream",
     "text": [
      "[I 2024-11-05 12:31:05,212] Trial 0 finished with value: 0.7166666388511658 and parameters: {'n_units_1': 185, 'n_units_2': 39, 'dropout_rate': 0.32961238837596485}. Best is trial 0 with value: 0.7166666388511658.\n",
      "[I 2024-11-05 12:31:06,101] Trial 1 finished with value: 0.7250000238418579 and parameters: {'n_units_1': 200, 'n_units_2': 64, 'dropout_rate': 0.26349648072134657}. Best is trial 1 with value: 0.7250000238418579.\n",
      "[I 2024-11-05 12:31:06,977] Trial 2 finished with value: 0.7166666388511658 and parameters: {'n_units_1': 149, 'n_units_2': 62, 'dropout_rate': 0.33683017400789983}. Best is trial 1 with value: 0.7250000238418579.\n",
      "[I 2024-11-05 12:31:07,899] Trial 3 finished with value: 0.7166666388511658 and parameters: {'n_units_1': 222, 'n_units_2': 96, 'dropout_rate': 0.4428039747893103}. Best is trial 1 with value: 0.7250000238418579.\n",
      "[I 2024-11-05 12:31:08,941] Trial 4 finished with value: 0.7166666388511658 and parameters: {'n_units_1': 157, 'n_units_2': 124, 'dropout_rate': 0.2500921516551274}. Best is trial 1 with value: 0.7250000238418579.\n",
      "[I 2024-11-05 12:31:09,826] Trial 5 finished with value: 0.7166666388511658 and parameters: {'n_units_1': 146, 'n_units_2': 34, 'dropout_rate': 0.3528996407800622}. Best is trial 1 with value: 0.7250000238418579.\n",
      "[I 2024-11-05 12:31:10,662] Trial 6 finished with value: 0.7166666388511658 and parameters: {'n_units_1': 77, 'n_units_2': 75, 'dropout_rate': 0.21691704730335457}. Best is trial 1 with value: 0.7250000238418579.\n",
      "[I 2024-11-05 12:31:11,531] Trial 7 finished with value: 0.7083333134651184 and parameters: {'n_units_1': 213, 'n_units_2': 118, 'dropout_rate': 0.2687705171585721}. Best is trial 1 with value: 0.7250000238418579.\n",
      "[I 2024-11-05 12:31:12,471] Trial 8 finished with value: 0.7250000238418579 and parameters: {'n_units_1': 169, 'n_units_2': 105, 'dropout_rate': 0.23652586816681326}. Best is trial 1 with value: 0.7250000238418579.\n",
      "[I 2024-11-05 12:31:13,332] Trial 9 finished with value: 0.7166666388511658 and parameters: {'n_units_1': 165, 'n_units_2': 118, 'dropout_rate': 0.30857189797460527}. Best is trial 1 with value: 0.7250000238418579.\n"
     ]
    },
    {
     "name": "stdout",
     "output_type": "stream",
     "text": [
      "\u001b[1m4/4\u001b[0m \u001b[32m━━━━━━━━━━━━━━━━━━━━\u001b[0m\u001b[37m\u001b[0m \u001b[1m0s\u001b[0m 4ms/step \n",
      "Dataset: Dataset_24, Score: 0.4312\n",
      "\u001b[1m13/13\u001b[0m \u001b[32m━━━━━━━━━━━━━━━━━━━━\u001b[0m\u001b[37m\u001b[0m \u001b[1m0s\u001b[0m 357us/step\n"
     ]
    },
    {
     "name": "stderr",
     "output_type": "stream",
     "text": [
      "[I 2024-11-05 12:31:15,001] A new study created in memory with name: no-name-a2787dc2-babc-48aa-837f-23d3854981a6\n"
     ]
    },
    {
     "name": "stdout",
     "output_type": "stream",
     "text": [
      "Dataset: Dataset_12\n",
      "X_train_split shape: (123, 5)\n",
      "y_train_split shape: (123, 1)\n",
      "X_train shape: (154, 5)\n",
      "y_train shape: (154, 1)\n"
     ]
    },
    {
     "name": "stderr",
     "output_type": "stream",
     "text": [
      "[I 2024-11-05 12:31:15,833] Trial 0 finished with value: 0.774193525314331 and parameters: {'n_units_1': 253, 'n_units_2': 109, 'dropout_rate': 0.27403636338648624}. Best is trial 0 with value: 0.774193525314331.\n",
      "[I 2024-11-05 12:31:16,630] Trial 1 finished with value: 0.7096773982048035 and parameters: {'n_units_1': 176, 'n_units_2': 40, 'dropout_rate': 0.4425569701463782}. Best is trial 0 with value: 0.774193525314331.\n",
      "[I 2024-11-05 12:31:17,453] Trial 2 finished with value: 0.7419354915618896 and parameters: {'n_units_1': 152, 'n_units_2': 49, 'dropout_rate': 0.2077096946568606}. Best is trial 0 with value: 0.774193525314331.\n",
      "[I 2024-11-05 12:31:18,251] Trial 3 finished with value: 0.7419354915618896 and parameters: {'n_units_1': 245, 'n_units_2': 35, 'dropout_rate': 0.26844465524508293}. Best is trial 0 with value: 0.774193525314331.\n",
      "[I 2024-11-05 12:31:19,237] Trial 4 finished with value: 0.774193525314331 and parameters: {'n_units_1': 185, 'n_units_2': 113, 'dropout_rate': 0.30692134654008185}. Best is trial 0 with value: 0.774193525314331.\n",
      "[I 2024-11-05 12:31:20,075] Trial 5 finished with value: 0.7419354915618896 and parameters: {'n_units_1': 138, 'n_units_2': 67, 'dropout_rate': 0.34144533677057226}. Best is trial 0 with value: 0.774193525314331.\n",
      "[I 2024-11-05 12:31:20,865] Trial 6 finished with value: 0.774193525314331 and parameters: {'n_units_1': 236, 'n_units_2': 80, 'dropout_rate': 0.35881763566727876}. Best is trial 0 with value: 0.774193525314331.\n",
      "[I 2024-11-05 12:31:21,650] Trial 7 finished with value: 0.774193525314331 and parameters: {'n_units_1': 216, 'n_units_2': 57, 'dropout_rate': 0.2030829767622932}. Best is trial 0 with value: 0.774193525314331.\n",
      "[I 2024-11-05 12:31:22,432] Trial 8 finished with value: 0.7419354915618896 and parameters: {'n_units_1': 157, 'n_units_2': 43, 'dropout_rate': 0.43655969104631764}. Best is trial 0 with value: 0.774193525314331.\n",
      "[I 2024-11-05 12:31:23,223] Trial 9 finished with value: 0.774193525314331 and parameters: {'n_units_1': 212, 'n_units_2': 110, 'dropout_rate': 0.44593174123888296}. Best is trial 0 with value: 0.774193525314331.\n"
     ]
    },
    {
     "name": "stdout",
     "output_type": "stream",
     "text": [
      "\u001b[1m1/1\u001b[0m \u001b[32m━━━━━━━━━━━━━━━━━━━━\u001b[0m\u001b[37m\u001b[0m \u001b[1m0s\u001b[0m 19ms/step\n",
      "Dataset: Dataset_12, Score: 0.8792\n",
      "\u001b[1m4/4\u001b[0m \u001b[32m━━━━━━━━━━━━━━━━━━━━\u001b[0m\u001b[37m\u001b[0m \u001b[1m0s\u001b[0m 719us/step\n"
     ]
    },
    {
     "name": "stderr",
     "output_type": "stream",
     "text": [
      "[I 2024-11-05 12:31:24,626] A new study created in memory with name: no-name-9807a608-13a7-4e97-8a8d-14b13a245e15\n"
     ]
    },
    {
     "name": "stdout",
     "output_type": "stream",
     "text": [
      "Dataset: Dataset_15\n",
      "X_train_split shape: (294, 11)\n",
      "y_train_split shape: (294, 1)\n",
      "X_train shape: (368, 11)\n",
      "y_train shape: (368, 1)\n"
     ]
    },
    {
     "name": "stderr",
     "output_type": "stream",
     "text": [
      "[I 2024-11-05 12:31:25,546] Trial 0 finished with value: 0.7567567825317383 and parameters: {'n_units_1': 152, 'n_units_2': 77, 'dropout_rate': 0.45956422925587015}. Best is trial 0 with value: 0.7567567825317383.\n",
      "[I 2024-11-05 12:31:26,460] Trial 1 finished with value: 0.7432432174682617 and parameters: {'n_units_1': 240, 'n_units_2': 107, 'dropout_rate': 0.22654174754570386}. Best is trial 0 with value: 0.7567567825317383.\n",
      "[I 2024-11-05 12:31:27,351] Trial 2 finished with value: 0.7567567825317383 and parameters: {'n_units_1': 145, 'n_units_2': 38, 'dropout_rate': 0.21405951667966308}. Best is trial 0 with value: 0.7567567825317383.\n",
      "[I 2024-11-05 12:31:28,253] Trial 3 finished with value: 0.7567567825317383 and parameters: {'n_units_1': 249, 'n_units_2': 101, 'dropout_rate': 0.4265563274702389}. Best is trial 0 with value: 0.7567567825317383.\n",
      "[I 2024-11-05 12:31:29,331] Trial 4 finished with value: 0.7567567825317383 and parameters: {'n_units_1': 103, 'n_units_2': 65, 'dropout_rate': 0.23487588961295514}. Best is trial 0 with value: 0.7567567825317383.\n",
      "[I 2024-11-05 12:31:30,198] Trial 5 finished with value: 0.7432432174682617 and parameters: {'n_units_1': 177, 'n_units_2': 52, 'dropout_rate': 0.30607815713088876}. Best is trial 0 with value: 0.7567567825317383.\n",
      "[I 2024-11-05 12:31:31,050] Trial 6 finished with value: 0.7567567825317383 and parameters: {'n_units_1': 80, 'n_units_2': 86, 'dropout_rate': 0.20843383866259177}. Best is trial 0 with value: 0.7567567825317383.\n",
      "[I 2024-11-05 12:31:31,922] Trial 7 finished with value: 0.7297297120094299 and parameters: {'n_units_1': 249, 'n_units_2': 88, 'dropout_rate': 0.4515700269883025}. Best is trial 0 with value: 0.7567567825317383.\n",
      "[I 2024-11-05 12:31:32,794] Trial 8 finished with value: 0.7702702879905701 and parameters: {'n_units_1': 177, 'n_units_2': 110, 'dropout_rate': 0.301877681571125}. Best is trial 8 with value: 0.7702702879905701.\n",
      "[I 2024-11-05 12:31:33,658] Trial 9 finished with value: 0.7702702879905701 and parameters: {'n_units_1': 158, 'n_units_2': 68, 'dropout_rate': 0.32366355375367706}. Best is trial 8 with value: 0.7702702879905701.\n"
     ]
    },
    {
     "name": "stdout",
     "output_type": "stream",
     "text": [
      "\u001b[1m3/3\u001b[0m \u001b[32m━━━━━━━━━━━━━━━━━━━━\u001b[0m\u001b[37m\u001b[0m \u001b[1m0s\u001b[0m 6ms/step \n",
      "Dataset: Dataset_15, Score: 0.5040\n",
      "\u001b[1m8/8\u001b[0m \u001b[32m━━━━━━━━━━━━━━━━━━━━\u001b[0m\u001b[37m\u001b[0m \u001b[1m0s\u001b[0m 441us/step\n"
     ]
    },
    {
     "name": "stderr",
     "output_type": "stream",
     "text": [
      "[I 2024-11-05 12:31:35,258] A new study created in memory with name: no-name-612152a9-ea67-4523-b3a6-199f0ee9f273\n"
     ]
    },
    {
     "name": "stdout",
     "output_type": "stream",
     "text": [
      "Dataset: Dataset_41\n",
      "X_train_split shape: (384, 10)\n",
      "y_train_split shape: (384, 1)\n",
      "X_train shape: (480, 10)\n",
      "y_train shape: (480, 1)\n"
     ]
    },
    {
     "name": "stderr",
     "output_type": "stream",
     "text": [
      "[I 2024-11-05 12:31:36,155] Trial 0 finished with value: 0.9270833134651184 and parameters: {'n_units_1': 244, 'n_units_2': 90, 'dropout_rate': 0.32745595703371333}. Best is trial 0 with value: 0.9270833134651184.\n",
      "[I 2024-11-05 12:31:36,965] Trial 1 finished with value: 0.9270833134651184 and parameters: {'n_units_1': 76, 'n_units_2': 111, 'dropout_rate': 0.3307692183162399}. Best is trial 0 with value: 0.9270833134651184.\n",
      "[I 2024-11-05 12:31:37,772] Trial 2 finished with value: 0.9270833134651184 and parameters: {'n_units_1': 72, 'n_units_2': 91, 'dropout_rate': 0.21141789555051882}. Best is trial 0 with value: 0.9270833134651184.\n",
      "[I 2024-11-05 12:31:38,617] Trial 3 finished with value: 0.90625 and parameters: {'n_units_1': 64, 'n_units_2': 102, 'dropout_rate': 0.4397117573023737}. Best is trial 0 with value: 0.9270833134651184.\n",
      "[I 2024-11-05 12:31:39,414] Trial 4 finished with value: 0.9166666865348816 and parameters: {'n_units_1': 159, 'n_units_2': 77, 'dropout_rate': 0.42886360053030537}. Best is trial 0 with value: 0.9270833134651184.\n",
      "[I 2024-11-05 12:31:40,220] Trial 5 finished with value: 0.9166666865348816 and parameters: {'n_units_1': 190, 'n_units_2': 54, 'dropout_rate': 0.4904825124966989}. Best is trial 0 with value: 0.9270833134651184.\n",
      "[I 2024-11-05 12:31:41,230] Trial 6 finished with value: 0.9270833134651184 and parameters: {'n_units_1': 142, 'n_units_2': 96, 'dropout_rate': 0.20445956313298563}. Best is trial 0 with value: 0.9270833134651184.\n",
      "[I 2024-11-05 12:31:42,057] Trial 7 finished with value: 0.9270833134651184 and parameters: {'n_units_1': 179, 'n_units_2': 75, 'dropout_rate': 0.3616862644619274}. Best is trial 0 with value: 0.9270833134651184.\n",
      "[I 2024-11-05 12:31:42,846] Trial 8 finished with value: 0.9166666865348816 and parameters: {'n_units_1': 147, 'n_units_2': 33, 'dropout_rate': 0.3907620886527545}. Best is trial 0 with value: 0.9270833134651184.\n",
      "[I 2024-11-05 12:31:43,652] Trial 9 finished with value: 0.9166666865348816 and parameters: {'n_units_1': 161, 'n_units_2': 128, 'dropout_rate': 0.27144432334197355}. Best is trial 0 with value: 0.9270833134651184.\n"
     ]
    },
    {
     "name": "stdout",
     "output_type": "stream",
     "text": [
      "\u001b[1m3/3\u001b[0m \u001b[32m━━━━━━━━━━━━━━━━━━━━\u001b[0m\u001b[37m\u001b[0m \u001b[1m0s\u001b[0m 574us/step\n",
      "Dataset: Dataset_41, Score: 0.7659\n",
      "\u001b[1m11/11\u001b[0m \u001b[32m━━━━━━━━━━━━━━━━━━━━\u001b[0m\u001b[37m\u001b[0m \u001b[1m0s\u001b[0m 2ms/step\n"
     ]
    },
    {
     "name": "stderr",
     "output_type": "stream",
     "text": [
      "[I 2024-11-05 12:31:45,181] A new study created in memory with name: no-name-2541e872-db0f-4491-856f-44ec15b39f0a\n"
     ]
    },
    {
     "name": "stdout",
     "output_type": "stream",
     "text": [
      "Dataset: Dataset_46\n",
      "X_train_split shape: (140, 13)\n",
      "y_train_split shape: (140, 1)\n",
      "X_train shape: (176, 13)\n",
      "y_train shape: (176, 1)\n"
     ]
    },
    {
     "name": "stderr",
     "output_type": "stream",
     "text": [
      "[I 2024-11-05 12:31:46,055] Trial 0 finished with value: 0.9166666865348816 and parameters: {'n_units_1': 235, 'n_units_2': 46, 'dropout_rate': 0.3613159458851195}. Best is trial 0 with value: 0.9166666865348816.\n",
      "[I 2024-11-05 12:31:46,921] Trial 1 finished with value: 0.9444444179534912 and parameters: {'n_units_1': 121, 'n_units_2': 76, 'dropout_rate': 0.24637233669167907}. Best is trial 1 with value: 0.9444444179534912.\n",
      "[I 2024-11-05 12:31:47,750] Trial 2 finished with value: 0.9444444179534912 and parameters: {'n_units_1': 121, 'n_units_2': 97, 'dropout_rate': 0.3731300093229666}. Best is trial 1 with value: 0.9444444179534912.\n",
      "2024-11-05 12:31:48.439976: I tensorflow/core/framework/local_rendezvous.cc:405] Local rendezvous is aborting with status: INVALID_ARGUMENT: Incompatible shapes: [13,210] vs. [0]\n",
      "\t [[{{function_node __inference_one_step_on_data_1204285}}{{node adam/Mul_3}}]]\n",
      "[W 2024-11-05 12:31:48,464] Trial 3 failed with parameters: {'n_units_1': 210, 'n_units_2': 68, 'dropout_rate': 0.4289189881815745} because of the following error: The value None could not be cast to float..\n",
      "[W 2024-11-05 12:31:48,464] Trial 3 failed with value None.\n"
     ]
    },
    {
     "name": "stdout",
     "output_type": "stream",
     "text": [
      "Trial failed due to: Graph execution error:\n",
      "\n",
      "Detected at node adam/Mul_3 defined at (most recent call last):\n",
      "  File \"/Applications/Xcode.app/Contents/Developer/Library/Frameworks/Python3.framework/Versions/3.9/lib/python3.9/runpy.py\", line 197, in _run_module_as_main\n",
      "\n",
      "  File \"/Applications/Xcode.app/Contents/Developer/Library/Frameworks/Python3.framework/Versions/3.9/lib/python3.9/runpy.py\", line 87, in _run_code\n",
      "\n",
      "  File \"/Users/jcchen/Documents/Work/Happy/.venv/lib/python3.9/site-packages/ipykernel_launcher.py\", line 18, in <module>\n",
      "\n",
      "  File \"/Users/jcchen/Documents/Work/Happy/.venv/lib/python3.9/site-packages/traitlets/config/application.py\", line 1075, in launch_instance\n",
      "\n",
      "  File \"/Users/jcchen/Documents/Work/Happy/.venv/lib/python3.9/site-packages/ipykernel/kernelapp.py\", line 739, in start\n",
      "\n",
      "  File \"/Users/jcchen/Documents/Work/Happy/.venv/lib/python3.9/site-packages/tornado/platform/asyncio.py\", line 205, in start\n",
      "\n",
      "  File \"/Applications/Xcode.app/Contents/Developer/Library/Frameworks/Python3.framework/Versions/3.9/lib/python3.9/asyncio/base_events.py\", line 596, in run_forever\n",
      "\n",
      "  File \"/Applications/Xcode.app/Contents/Developer/Library/Frameworks/Python3.framework/Versions/3.9/lib/python3.9/asyncio/base_events.py\", line 1890, in _run_once\n",
      "\n",
      "  File \"/Applications/Xcode.app/Contents/Developer/Library/Frameworks/Python3.framework/Versions/3.9/lib/python3.9/asyncio/events.py\", line 80, in _run\n",
      "\n",
      "  File \"/Users/jcchen/Documents/Work/Happy/.venv/lib/python3.9/site-packages/ipykernel/kernelbase.py\", line 545, in dispatch_queue\n",
      "\n",
      "  File \"/Users/jcchen/Documents/Work/Happy/.venv/lib/python3.9/site-packages/ipykernel/kernelbase.py\", line 534, in process_one\n",
      "\n",
      "  File \"/Users/jcchen/Documents/Work/Happy/.venv/lib/python3.9/site-packages/ipykernel/kernelbase.py\", line 437, in dispatch_shell\n",
      "\n",
      "  File \"/Users/jcchen/Documents/Work/Happy/.venv/lib/python3.9/site-packages/ipykernel/ipkernel.py\", line 362, in execute_request\n",
      "\n",
      "  File \"/Users/jcchen/Documents/Work/Happy/.venv/lib/python3.9/site-packages/ipykernel/kernelbase.py\", line 778, in execute_request\n",
      "\n",
      "  File \"/Users/jcchen/Documents/Work/Happy/.venv/lib/python3.9/site-packages/ipykernel/ipkernel.py\", line 449, in do_execute\n",
      "\n",
      "  File \"/Users/jcchen/Documents/Work/Happy/.venv/lib/python3.9/site-packages/ipykernel/zmqshell.py\", line 549, in run_cell\n",
      "\n",
      "  File \"/Users/jcchen/Documents/Work/Happy/.venv/lib/python3.9/site-packages/IPython/core/interactiveshell.py\", line 3048, in run_cell\n",
      "\n",
      "  File \"/Users/jcchen/Documents/Work/Happy/.venv/lib/python3.9/site-packages/IPython/core/interactiveshell.py\", line 3103, in _run_cell\n",
      "\n",
      "  File \"/Users/jcchen/Documents/Work/Happy/.venv/lib/python3.9/site-packages/IPython/core/async_helpers.py\", line 129, in _pseudo_sync_runner\n",
      "\n",
      "  File \"/Users/jcchen/Documents/Work/Happy/.venv/lib/python3.9/site-packages/IPython/core/interactiveshell.py\", line 3308, in run_cell_async\n",
      "\n",
      "  File \"/Users/jcchen/Documents/Work/Happy/.venv/lib/python3.9/site-packages/IPython/core/interactiveshell.py\", line 3490, in run_ast_nodes\n",
      "\n",
      "  File \"/Users/jcchen/Documents/Work/Happy/.venv/lib/python3.9/site-packages/IPython/core/interactiveshell.py\", line 3550, in run_code\n",
      "\n",
      "  File \"/var/folders/y1/36krdqms3ylf80qt9dq3mjmm0000gn/T/ipykernel_8857/1079301010.py\", line 36, in <module>\n",
      "\n",
      "  File \"/Users/jcchen/Documents/Work/Happy/.venv/lib/python3.9/site-packages/optuna/study/study.py\", line 475, in optimize\n",
      "\n",
      "  File \"/Users/jcchen/Documents/Work/Happy/.venv/lib/python3.9/site-packages/optuna/study/_optimize.py\", line 63, in _optimize\n",
      "\n",
      "  File \"/Users/jcchen/Documents/Work/Happy/.venv/lib/python3.9/site-packages/optuna/study/_optimize.py\", line 160, in _optimize_sequential\n",
      "\n",
      "  File \"/Users/jcchen/Documents/Work/Happy/.venv/lib/python3.9/site-packages/optuna/study/_optimize.py\", line 197, in _run_trial\n",
      "\n",
      "  File \"/var/folders/y1/36krdqms3ylf80qt9dq3mjmm0000gn/T/ipykernel_8857/1079301010.py\", line 28, in objective\n",
      "\n",
      "  File \"/Users/jcchen/Documents/Work/Happy/.venv/lib/python3.9/site-packages/keras/src/utils/traceback_utils.py\", line 117, in error_handler\n",
      "\n",
      "  File \"/Users/jcchen/Documents/Work/Happy/.venv/lib/python3.9/site-packages/keras/src/backend/tensorflow/trainer.py\", line 320, in fit\n",
      "\n",
      "  File \"/Users/jcchen/Documents/Work/Happy/.venv/lib/python3.9/site-packages/keras/src/backend/tensorflow/trainer.py\", line 121, in one_step_on_iterator\n",
      "\n",
      "  File \"/Users/jcchen/Documents/Work/Happy/.venv/lib/python3.9/site-packages/keras/src/backend/tensorflow/trainer.py\", line 108, in one_step_on_data\n",
      "\n",
      "  File \"/Users/jcchen/Documents/Work/Happy/.venv/lib/python3.9/site-packages/keras/src/backend/tensorflow/trainer.py\", line 73, in train_step\n",
      "\n",
      "  File \"/Users/jcchen/Documents/Work/Happy/.venv/lib/python3.9/site-packages/keras/src/optimizers/base_optimizer.py\", line 344, in apply_gradients\n",
      "\n",
      "  File \"/Users/jcchen/Documents/Work/Happy/.venv/lib/python3.9/site-packages/keras/src/optimizers/base_optimizer.py\", line 409, in apply\n",
      "\n",
      "  File \"/Users/jcchen/Documents/Work/Happy/.venv/lib/python3.9/site-packages/keras/src/optimizers/base_optimizer.py\", line 472, in _backend_apply_gradients\n",
      "\n",
      "  File \"/Users/jcchen/Documents/Work/Happy/.venv/lib/python3.9/site-packages/keras/src/backend/tensorflow/optimizer.py\", line 122, in _backend_update_step\n",
      "\n",
      "  File \"/Users/jcchen/Documents/Work/Happy/.venv/lib/python3.9/site-packages/keras/src/backend/tensorflow/optimizer.py\", line 136, in _distributed_tf_update_step\n",
      "\n",
      "  File \"/Users/jcchen/Documents/Work/Happy/.venv/lib/python3.9/site-packages/keras/src/backend/tensorflow/optimizer.py\", line 133, in apply_grad_to_update_var\n",
      "\n",
      "  File \"/Users/jcchen/Documents/Work/Happy/.venv/lib/python3.9/site-packages/keras/src/optimizers/adam.py\", line 148, in update_step\n",
      "\n",
      "  File \"/Users/jcchen/Documents/Work/Happy/.venv/lib/python3.9/site-packages/keras/src/ops/numpy.py\", line 5837, in multiply\n",
      "\n",
      "  File \"/Users/jcchen/Documents/Work/Happy/.venv/lib/python3.9/site-packages/keras/src/backend/tensorflow/sparse.py\", line 627, in sparse_wrapper\n",
      "\n",
      "  File \"/Users/jcchen/Documents/Work/Happy/.venv/lib/python3.9/site-packages/keras/src/backend/tensorflow/numpy.py\", line 499, in multiply\n",
      "\n",
      "Incompatible shapes: [13,210] vs. [0]\n",
      "\t [[{{node adam/Mul_3}}]] [Op:__inference_one_step_on_iterator_1204342]\n"
     ]
    },
    {
     "name": "stderr",
     "output_type": "stream",
     "text": [
      "[I 2024-11-05 12:31:52,042] Trial 4 finished with value: 0.9444444179534912 and parameters: {'n_units_1': 117, 'n_units_2': 41, 'dropout_rate': 0.23553649875157714}. Best is trial 1 with value: 0.9444444179534912.\n",
      "[I 2024-11-05 12:31:52,927] Trial 5 finished with value: 0.9166666865348816 and parameters: {'n_units_1': 96, 'n_units_2': 57, 'dropout_rate': 0.2541988775133904}. Best is trial 1 with value: 0.9444444179534912.\n",
      "[I 2024-11-05 12:31:53,803] Trial 6 finished with value: 0.9166666865348816 and parameters: {'n_units_1': 134, 'n_units_2': 99, 'dropout_rate': 0.34882008206221155}. Best is trial 1 with value: 0.9444444179534912.\n",
      "[I 2024-11-05 12:31:54,658] Trial 7 finished with value: 0.9722222089767456 and parameters: {'n_units_1': 107, 'n_units_2': 82, 'dropout_rate': 0.35624393498131884}. Best is trial 7 with value: 0.9722222089767456.\n",
      "[I 2024-11-05 12:31:55,527] Trial 8 finished with value: 0.9166666865348816 and parameters: {'n_units_1': 218, 'n_units_2': 42, 'dropout_rate': 0.2742559539903636}. Best is trial 7 with value: 0.9722222089767456.\n",
      "[I 2024-11-05 12:31:56,350] Trial 9 finished with value: 0.9444444179534912 and parameters: {'n_units_1': 81, 'n_units_2': 92, 'dropout_rate': 0.2849398361562328}. Best is trial 7 with value: 0.9722222089767456.\n"
     ]
    },
    {
     "name": "stdout",
     "output_type": "stream",
     "text": [
      "\u001b[1m2/2\u001b[0m \u001b[32m━━━━━━━━━━━━━━━━━━━━\u001b[0m\u001b[37m\u001b[0m \u001b[1m0s\u001b[0m 12ms/step\n",
      "Dataset: Dataset_46, Score: 0.8733\n",
      "\u001b[1m4/4\u001b[0m \u001b[32m━━━━━━━━━━━━━━━━━━━━\u001b[0m\u001b[37m\u001b[0m \u001b[1m0s\u001b[0m 2ms/step\n"
     ]
    },
    {
     "name": "stderr",
     "output_type": "stream",
     "text": [
      "[I 2024-11-05 12:31:57,848] A new study created in memory with name: no-name-2e6a6fec-c874-4ce8-8b92-2092db5d3f31\n"
     ]
    },
    {
     "name": "stdout",
     "output_type": "stream",
     "text": [
      "Dataset: Dataset_48\n",
      "X_train_split shape: (189, 29)\n",
      "y_train_split shape: (189, 1)\n",
      "X_train shape: (237, 29)\n",
      "y_train shape: (237, 1)\n"
     ]
    },
    {
     "name": "stderr",
     "output_type": "stream",
     "text": [
      "[I 2024-11-05 12:31:58,697] Trial 0 finished with value: 0.9166666865348816 and parameters: {'n_units_1': 247, 'n_units_2': 55, 'dropout_rate': 0.2311891826872935}. Best is trial 0 with value: 0.9166666865348816.\n",
      "[I 2024-11-05 12:31:59,537] Trial 1 finished with value: 0.9166666865348816 and parameters: {'n_units_1': 130, 'n_units_2': 126, 'dropout_rate': 0.23358021187844466}. Best is trial 0 with value: 0.9166666865348816.\n",
      "[I 2024-11-05 12:32:00,398] Trial 2 finished with value: 0.8958333134651184 and parameters: {'n_units_1': 79, 'n_units_2': 124, 'dropout_rate': 0.4279990915908146}. Best is trial 0 with value: 0.9166666865348816.\n",
      "[I 2024-11-05 12:32:01,255] Trial 3 finished with value: 0.9166666865348816 and parameters: {'n_units_1': 103, 'n_units_2': 127, 'dropout_rate': 0.2596730067476166}. Best is trial 0 with value: 0.9166666865348816.\n",
      "[I 2024-11-05 12:32:02,282] Trial 4 finished with value: 0.9166666865348816 and parameters: {'n_units_1': 208, 'n_units_2': 100, 'dropout_rate': 0.28783969308431206}. Best is trial 0 with value: 0.9166666865348816.\n",
      "[I 2024-11-05 12:32:03,199] Trial 5 finished with value: 0.9166666865348816 and parameters: {'n_units_1': 232, 'n_units_2': 107, 'dropout_rate': 0.3723888285960668}. Best is trial 0 with value: 0.9166666865348816.\n",
      "[I 2024-11-05 12:32:04,138] Trial 6 finished with value: 0.8333333134651184 and parameters: {'n_units_1': 87, 'n_units_2': 35, 'dropout_rate': 0.44761423263830924}. Best is trial 0 with value: 0.9166666865348816.\n",
      "[I 2024-11-05 12:32:04,965] Trial 7 finished with value: 0.9166666865348816 and parameters: {'n_units_1': 201, 'n_units_2': 118, 'dropout_rate': 0.4732821743575719}. Best is trial 0 with value: 0.9166666865348816.\n",
      "[I 2024-11-05 12:32:05,899] Trial 8 finished with value: 0.8958333134651184 and parameters: {'n_units_1': 139, 'n_units_2': 112, 'dropout_rate': 0.47443779178822204}. Best is trial 0 with value: 0.9166666865348816.\n",
      "[I 2024-11-05 12:32:06,734] Trial 9 finished with value: 0.9166666865348816 and parameters: {'n_units_1': 143, 'n_units_2': 109, 'dropout_rate': 0.46776069528126457}. Best is trial 0 with value: 0.9166666865348816.\n"
     ]
    },
    {
     "name": "stdout",
     "output_type": "stream",
     "text": [
      "\u001b[1m2/2\u001b[0m \u001b[32m━━━━━━━━━━━━━━━━━━━━\u001b[0m\u001b[37m\u001b[0m \u001b[1m0s\u001b[0m 12ms/step\n",
      "Dataset: Dataset_48, Score: 0.9543\n",
      "\u001b[1m5/5\u001b[0m \u001b[32m━━━━━━━━━━━━━━━━━━━━\u001b[0m\u001b[37m\u001b[0m \u001b[1m0s\u001b[0m 490us/step\n"
     ]
    },
    {
     "name": "stderr",
     "output_type": "stream",
     "text": [
      "[I 2024-11-05 12:32:08,267] A new study created in memory with name: no-name-10de3736-fd51-4d79-bb83-5cb38451f504\n"
     ]
    },
    {
     "name": "stdout",
     "output_type": "stream",
     "text": [
      "Dataset: Dataset_14\n",
      "X_train_split shape: (144, 57)\n",
      "y_train_split shape: (144, 1)\n",
      "X_train shape: (181, 57)\n",
      "y_train shape: (181, 1)\n"
     ]
    },
    {
     "name": "stderr",
     "output_type": "stream",
     "text": [
      "[I 2024-11-05 12:32:09,204] Trial 0 finished with value: 0.8918918967247009 and parameters: {'n_units_1': 152, 'n_units_2': 88, 'dropout_rate': 0.33326906769237785}. Best is trial 0 with value: 0.8918918967247009.\n",
      "[I 2024-11-05 12:32:10,059] Trial 1 finished with value: 0.9189189076423645 and parameters: {'n_units_1': 233, 'n_units_2': 75, 'dropout_rate': 0.49794900187755065}. Best is trial 1 with value: 0.9189189076423645.\n",
      "[I 2024-11-05 12:32:10,897] Trial 2 finished with value: 0.9729729890823364 and parameters: {'n_units_1': 92, 'n_units_2': 78, 'dropout_rate': 0.356516693219727}. Best is trial 2 with value: 0.9729729890823364.\n",
      "[I 2024-11-05 12:32:11,743] Trial 3 finished with value: 0.9459459185600281 and parameters: {'n_units_1': 232, 'n_units_2': 111, 'dropout_rate': 0.452856676908488}. Best is trial 2 with value: 0.9729729890823364.\n",
      "[I 2024-11-05 12:32:12,787] Trial 4 finished with value: 0.9459459185600281 and parameters: {'n_units_1': 248, 'n_units_2': 33, 'dropout_rate': 0.2932617332710762}. Best is trial 2 with value: 0.9729729890823364.\n",
      "[I 2024-11-05 12:32:13,654] Trial 5 finished with value: 0.9729729890823364 and parameters: {'n_units_1': 242, 'n_units_2': 111, 'dropout_rate': 0.40933443376666045}. Best is trial 2 with value: 0.9729729890823364.\n",
      "[I 2024-11-05 12:32:14,497] Trial 6 finished with value: 0.9459459185600281 and parameters: {'n_units_1': 194, 'n_units_2': 118, 'dropout_rate': 0.2754959792531413}. Best is trial 2 with value: 0.9729729890823364.\n",
      "[I 2024-11-05 12:32:15,313] Trial 7 finished with value: 0.9729729890823364 and parameters: {'n_units_1': 146, 'n_units_2': 69, 'dropout_rate': 0.2763769200809871}. Best is trial 2 with value: 0.9729729890823364.\n",
      "[I 2024-11-05 12:32:16,138] Trial 8 finished with value: 0.9459459185600281 and parameters: {'n_units_1': 93, 'n_units_2': 94, 'dropout_rate': 0.38044909118597503}. Best is trial 2 with value: 0.9729729890823364.\n",
      "[I 2024-11-05 12:32:16,958] Trial 9 finished with value: 0.9729729890823364 and parameters: {'n_units_1': 200, 'n_units_2': 59, 'dropout_rate': 0.24726552563699317}. Best is trial 2 with value: 0.9729729890823364.\n"
     ]
    },
    {
     "name": "stdout",
     "output_type": "stream",
     "text": [
      "\u001b[1m2/2\u001b[0m \u001b[32m━━━━━━━━━━━━━━━━━━━━\u001b[0m\u001b[37m\u001b[0m \u001b[1m0s\u001b[0m 12ms/step\n",
      "Dataset: Dataset_14, Score: 0.7972\n",
      "\u001b[1m4/4\u001b[0m \u001b[32m━━━━━━━━━━━━━━━━━━━━\u001b[0m\u001b[37m\u001b[0m \u001b[1m0s\u001b[0m 574us/step\n"
     ]
    },
    {
     "name": "stderr",
     "output_type": "stream",
     "text": [
      "[I 2024-11-05 12:32:18,416] A new study created in memory with name: no-name-84f50a99-74ae-4229-ad50-25f187902198\n"
     ]
    },
    {
     "name": "stdout",
     "output_type": "stream",
     "text": [
      "Dataset: Dataset_13\n",
      "X_train_split shape: (144, 54)\n",
      "y_train_split shape: (144, 1)\n",
      "X_train shape: (181, 54)\n",
      "y_train shape: (181, 1)\n"
     ]
    },
    {
     "name": "stderr",
     "output_type": "stream",
     "text": [
      "[I 2024-11-05 12:32:19,349] Trial 0 finished with value: 0.8648648858070374 and parameters: {'n_units_1': 190, 'n_units_2': 122, 'dropout_rate': 0.20590991133215275}. Best is trial 0 with value: 0.8648648858070374.\n",
      "[I 2024-11-05 12:32:20,170] Trial 1 finished with value: 0.837837815284729 and parameters: {'n_units_1': 77, 'n_units_2': 127, 'dropout_rate': 0.4030132833273189}. Best is trial 0 with value: 0.8648648858070374.\n",
      "[I 2024-11-05 12:32:21,013] Trial 2 finished with value: 0.8918918967247009 and parameters: {'n_units_1': 162, 'n_units_2': 101, 'dropout_rate': 0.36197663642457595}. Best is trial 2 with value: 0.8918918967247009.\n",
      "[I 2024-11-05 12:32:21,850] Trial 3 finished with value: 0.8918918967247009 and parameters: {'n_units_1': 190, 'n_units_2': 87, 'dropout_rate': 0.23108058032978657}. Best is trial 2 with value: 0.8918918967247009.\n",
      "[I 2024-11-05 12:32:22,782] Trial 4 finished with value: 0.8918918967247009 and parameters: {'n_units_1': 115, 'n_units_2': 103, 'dropout_rate': 0.2089136047047276}. Best is trial 2 with value: 0.8918918967247009.\n",
      "[I 2024-11-05 12:32:23,752] Trial 5 finished with value: 0.8648648858070374 and parameters: {'n_units_1': 126, 'n_units_2': 39, 'dropout_rate': 0.24641785239159492}. Best is trial 2 with value: 0.8918918967247009.\n",
      "[I 2024-11-05 12:32:24,575] Trial 6 finished with value: 0.8918918967247009 and parameters: {'n_units_1': 223, 'n_units_2': 120, 'dropout_rate': 0.3316242423272192}. Best is trial 2 with value: 0.8918918967247009.\n",
      "[I 2024-11-05 12:32:25,399] Trial 7 finished with value: 0.8648648858070374 and parameters: {'n_units_1': 198, 'n_units_2': 79, 'dropout_rate': 0.4607543070418339}. Best is trial 2 with value: 0.8918918967247009.\n",
      "[I 2024-11-05 12:32:26,206] Trial 8 finished with value: 0.837837815284729 and parameters: {'n_units_1': 70, 'n_units_2': 92, 'dropout_rate': 0.28326857332799277}. Best is trial 2 with value: 0.8918918967247009.\n",
      "[I 2024-11-05 12:32:27,054] Trial 9 finished with value: 0.8918918967247009 and parameters: {'n_units_1': 232, 'n_units_2': 58, 'dropout_rate': 0.3890280415719366}. Best is trial 2 with value: 0.8918918967247009.\n"
     ]
    },
    {
     "name": "stdout",
     "output_type": "stream",
     "text": [
      "\u001b[1m2/2\u001b[0m \u001b[32m━━━━━━━━━━━━━━━━━━━━\u001b[0m\u001b[37m\u001b[0m \u001b[1m0s\u001b[0m 12ms/step\n",
      "Dataset: Dataset_13, Score: 0.7544\n",
      "\u001b[1m4/4\u001b[0m \u001b[32m━━━━━━━━━━━━━━━━━━━━\u001b[0m\u001b[37m\u001b[0m \u001b[1m0s\u001b[0m 623us/step\n"
     ]
    },
    {
     "name": "stderr",
     "output_type": "stream",
     "text": [
      "[I 2024-11-05 12:32:28,522] A new study created in memory with name: no-name-0f40602f-3b4e-44cf-8d09-ca0d2e476d64\n"
     ]
    },
    {
     "name": "stdout",
     "output_type": "stream",
     "text": [
      "Dataset: Dataset_25\n",
      "X_train_split shape: (108, 6)\n",
      "y_train_split shape: (108, 1)\n",
      "X_train shape: (135, 6)\n",
      "y_train shape: (135, 1)\n"
     ]
    },
    {
     "name": "stderr",
     "output_type": "stream",
     "text": [
      "[I 2024-11-05 12:32:29,397] Trial 0 finished with value: 0.7407407164573669 and parameters: {'n_units_1': 151, 'n_units_2': 85, 'dropout_rate': 0.4804559012442692}. Best is trial 0 with value: 0.7407407164573669.\n",
      "[I 2024-11-05 12:32:30,186] Trial 1 finished with value: 0.7407407164573669 and parameters: {'n_units_1': 72, 'n_units_2': 109, 'dropout_rate': 0.3843844568529043}. Best is trial 0 with value: 0.7407407164573669.\n",
      "[I 2024-11-05 12:32:30,996] Trial 2 finished with value: 0.7777777910232544 and parameters: {'n_units_1': 233, 'n_units_2': 90, 'dropout_rate': 0.3430298510902893}. Best is trial 2 with value: 0.7777777910232544.\n",
      "[I 2024-11-05 12:32:31,802] Trial 3 finished with value: 0.7407407164573669 and parameters: {'n_units_1': 84, 'n_units_2': 87, 'dropout_rate': 0.20401307885692044}. Best is trial 2 with value: 0.7777777910232544.\n",
      "[I 2024-11-05 12:32:32,623] Trial 4 finished with value: 0.7037037014961243 and parameters: {'n_units_1': 156, 'n_units_2': 116, 'dropout_rate': 0.3659646662525133}. Best is trial 2 with value: 0.7777777910232544.\n",
      "[I 2024-11-05 12:32:33,597] Trial 5 finished with value: 0.7407407164573669 and parameters: {'n_units_1': 251, 'n_units_2': 113, 'dropout_rate': 0.3833394458979009}. Best is trial 2 with value: 0.7777777910232544.\n",
      "[I 2024-11-05 12:32:34,441] Trial 6 finished with value: 0.7777777910232544 and parameters: {'n_units_1': 242, 'n_units_2': 121, 'dropout_rate': 0.24577855253547914}. Best is trial 2 with value: 0.7777777910232544.\n",
      "[I 2024-11-05 12:32:35,244] Trial 7 finished with value: 0.7407407164573669 and parameters: {'n_units_1': 170, 'n_units_2': 34, 'dropout_rate': 0.32118155954672856}. Best is trial 2 with value: 0.7777777910232544.\n",
      "[I 2024-11-05 12:32:36,039] Trial 8 finished with value: 0.7037037014961243 and parameters: {'n_units_1': 233, 'n_units_2': 42, 'dropout_rate': 0.3233768305969027}. Best is trial 2 with value: 0.7777777910232544.\n",
      "[I 2024-11-05 12:32:36,829] Trial 9 finished with value: 0.7407407164573669 and parameters: {'n_units_1': 236, 'n_units_2': 108, 'dropout_rate': 0.23908599908855513}. Best is trial 2 with value: 0.7777777910232544.\n"
     ]
    },
    {
     "name": "stdout",
     "output_type": "stream",
     "text": [
      "\u001b[1m1/1\u001b[0m \u001b[32m━━━━━━━━━━━━━━━━━━━━\u001b[0m\u001b[37m\u001b[0m \u001b[1m0s\u001b[0m 18ms/step\n",
      "Dataset: Dataset_25, Score: 0.7000\n",
      "\u001b[1m3/3\u001b[0m \u001b[32m━━━━━━━━━━━━━━━━━━━━\u001b[0m\u001b[37m\u001b[0m \u001b[1m0s\u001b[0m 631us/step\n"
     ]
    },
    {
     "name": "stderr",
     "output_type": "stream",
     "text": [
      "[I 2024-11-05 12:32:38,243] A new study created in memory with name: no-name-f4719803-01c8-439c-903c-1743ee26e7e4\n"
     ]
    },
    {
     "name": "stdout",
     "output_type": "stream",
     "text": [
      "Dataset: Dataset_22\n",
      "X_train_split shape: (102, 9)\n",
      "y_train_split shape: (102, 1)\n",
      "X_train shape: (128, 9)\n",
      "y_train shape: (128, 1)\n"
     ]
    },
    {
     "name": "stderr",
     "output_type": "stream",
     "text": [
      "[I 2024-11-05 12:32:39,069] Trial 0 finished with value: 0.807692289352417 and parameters: {'n_units_1': 142, 'n_units_2': 72, 'dropout_rate': 0.33298425127088493}. Best is trial 0 with value: 0.807692289352417.\n",
      "[I 2024-11-05 12:32:39,873] Trial 1 finished with value: 0.807692289352417 and parameters: {'n_units_1': 99, 'n_units_2': 73, 'dropout_rate': 0.22917458249640113}. Best is trial 0 with value: 0.807692289352417.\n",
      "[I 2024-11-05 12:32:40,686] Trial 2 finished with value: 0.7692307829856873 and parameters: {'n_units_1': 164, 'n_units_2': 74, 'dropout_rate': 0.3618039353767474}. Best is trial 0 with value: 0.807692289352417.\n",
      "[I 2024-11-05 12:32:41,512] Trial 3 finished with value: 0.807692289352417 and parameters: {'n_units_1': 244, 'n_units_2': 46, 'dropout_rate': 0.3338858331474548}. Best is trial 0 with value: 0.807692289352417.\n",
      "[I 2024-11-05 12:32:42,307] Trial 4 finished with value: 0.807692289352417 and parameters: {'n_units_1': 195, 'n_units_2': 99, 'dropout_rate': 0.3028524283126566}. Best is trial 0 with value: 0.807692289352417.\n",
      "[I 2024-11-05 12:32:43,115] Trial 5 finished with value: 0.807692289352417 and parameters: {'n_units_1': 164, 'n_units_2': 126, 'dropout_rate': 0.43573988292012494}. Best is trial 0 with value: 0.807692289352417.\n",
      "[I 2024-11-05 12:32:44,165] Trial 6 finished with value: 0.807692289352417 and parameters: {'n_units_1': 155, 'n_units_2': 47, 'dropout_rate': 0.2515035143136072}. Best is trial 0 with value: 0.807692289352417.\n",
      "[I 2024-11-05 12:32:44,960] Trial 7 finished with value: 0.807692289352417 and parameters: {'n_units_1': 66, 'n_units_2': 73, 'dropout_rate': 0.33499151700466556}. Best is trial 0 with value: 0.807692289352417.\n",
      "[I 2024-11-05 12:32:45,751] Trial 8 finished with value: 0.692307710647583 and parameters: {'n_units_1': 65, 'n_units_2': 54, 'dropout_rate': 0.4889427800821326}. Best is trial 0 with value: 0.807692289352417.\n",
      "[I 2024-11-05 12:32:46,540] Trial 9 finished with value: 0.7692307829856873 and parameters: {'n_units_1': 81, 'n_units_2': 119, 'dropout_rate': 0.4349396904794314}. Best is trial 0 with value: 0.807692289352417.\n"
     ]
    },
    {
     "name": "stdout",
     "output_type": "stream",
     "text": [
      "\u001b[1m1/1\u001b[0m \u001b[32m━━━━━━━━━━━━━━━━━━━━\u001b[0m\u001b[37m\u001b[0m \u001b[1m0s\u001b[0m 18ms/step\n",
      "Dataset: Dataset_22, Score: 0.6974\n",
      "\u001b[1m3/3\u001b[0m \u001b[32m━━━━━━━━━━━━━━━━━━━━\u001b[0m\u001b[37m\u001b[0m \u001b[1m0s\u001b[0m 829us/step\n"
     ]
    },
    {
     "name": "stderr",
     "output_type": "stream",
     "text": [
      "[I 2024-11-05 12:32:48,131] A new study created in memory with name: no-name-0f3f9df2-771a-4453-8afd-20d2a07d34aa\n"
     ]
    },
    {
     "name": "stdout",
     "output_type": "stream",
     "text": [
      "Dataset: Dataset_49\n",
      "X_train_split shape: (460, 44)\n",
      "y_train_split shape: (460, 1)\n",
      "X_train shape: (575, 44)\n",
      "y_train shape: (575, 1)\n"
     ]
    },
    {
     "name": "stderr",
     "output_type": "stream",
     "text": [
      "[I 2024-11-05 12:32:49,181] Trial 0 finished with value: 0.9304347634315491 and parameters: {'n_units_1': 190, 'n_units_2': 98, 'dropout_rate': 0.46831852410174696}. Best is trial 0 with value: 0.9304347634315491.\n",
      "[I 2024-11-05 12:32:50,147] Trial 1 finished with value: 0.939130425453186 and parameters: {'n_units_1': 184, 'n_units_2': 103, 'dropout_rate': 0.48257794117923974}. Best is trial 1 with value: 0.939130425453186.\n",
      "[I 2024-11-05 12:32:51,160] Trial 2 finished with value: 0.947826087474823 and parameters: {'n_units_1': 148, 'n_units_2': 56, 'dropout_rate': 0.42332880409565976}. Best is trial 2 with value: 0.947826087474823.\n",
      "[I 2024-11-05 12:32:52,107] Trial 3 finished with value: 0.9304347634315491 and parameters: {'n_units_1': 255, 'n_units_2': 80, 'dropout_rate': 0.2708373797130657}. Best is trial 2 with value: 0.947826087474823.\n",
      "[I 2024-11-05 12:32:53,199] Trial 4 finished with value: 0.947826087474823 and parameters: {'n_units_1': 209, 'n_units_2': 68, 'dropout_rate': 0.2691410251513489}. Best is trial 2 with value: 0.947826087474823.\n",
      "[I 2024-11-05 12:32:54,275] Trial 5 finished with value: 0.9304347634315491 and parameters: {'n_units_1': 234, 'n_units_2': 48, 'dropout_rate': 0.43813357597106733}. Best is trial 2 with value: 0.947826087474823.\n",
      "[I 2024-11-05 12:32:55,182] Trial 6 finished with value: 0.9130434989929199 and parameters: {'n_units_1': 132, 'n_units_2': 63, 'dropout_rate': 0.28165937888058057}. Best is trial 2 with value: 0.947826087474823.\n",
      "[I 2024-11-05 12:32:56,150] Trial 7 finished with value: 0.9304347634315491 and parameters: {'n_units_1': 217, 'n_units_2': 108, 'dropout_rate': 0.3035934536830935}. Best is trial 2 with value: 0.947826087474823.\n",
      "[I 2024-11-05 12:32:57,072] Trial 8 finished with value: 0.9304347634315491 and parameters: {'n_units_1': 171, 'n_units_2': 82, 'dropout_rate': 0.27227479286733286}. Best is trial 2 with value: 0.947826087474823.\n",
      "[I 2024-11-05 12:32:57,985] Trial 9 finished with value: 0.9130434989929199 and parameters: {'n_units_1': 94, 'n_units_2': 89, 'dropout_rate': 0.499757035023694}. Best is trial 2 with value: 0.947826087474823.\n"
     ]
    },
    {
     "name": "stdout",
     "output_type": "stream",
     "text": [
      "\u001b[1m4/4\u001b[0m \u001b[32m━━━━━━━━━━━━━━━━━━━━\u001b[0m\u001b[37m\u001b[0m \u001b[1m0s\u001b[0m 4ms/step \n",
      "Dataset: Dataset_49, Score: 0.9563\n",
      "\u001b[1m12/12\u001b[0m \u001b[32m━━━━━━━━━━━━━━━━━━━━\u001b[0m\u001b[37m\u001b[0m \u001b[1m0s\u001b[0m 358us/step\n"
     ]
    },
    {
     "name": "stderr",
     "output_type": "stream",
     "text": [
      "[I 2024-11-05 12:32:59,685] A new study created in memory with name: no-name-1972dc8f-c906-42d9-a4d3-57af4ea333b1\n"
     ]
    },
    {
     "name": "stdout",
     "output_type": "stream",
     "text": [
      "Dataset: Dataset_47\n",
      "X_train_split shape: (68, 76)\n",
      "y_train_split shape: (68, 1)\n",
      "X_train shape: (86, 76)\n",
      "y_train shape: (86, 1)\n"
     ]
    },
    {
     "name": "stderr",
     "output_type": "stream",
     "text": [
      "[I 2024-11-05 12:33:00,510] Trial 0 finished with value: 0.8333333134651184 and parameters: {'n_units_1': 128, 'n_units_2': 128, 'dropout_rate': 0.4908597004594135}. Best is trial 0 with value: 0.8333333134651184.\n",
      "[I 2024-11-05 12:33:01,321] Trial 1 finished with value: 0.8333333134651184 and parameters: {'n_units_1': 220, 'n_units_2': 46, 'dropout_rate': 0.36733438954106656}. Best is trial 0 with value: 0.8333333134651184.\n",
      "[I 2024-11-05 12:33:02,149] Trial 2 finished with value: 0.7777777910232544 and parameters: {'n_units_1': 96, 'n_units_2': 112, 'dropout_rate': 0.47485711757900617}. Best is trial 0 with value: 0.8333333134651184.\n",
      "[I 2024-11-05 12:33:02,953] Trial 3 finished with value: 0.8888888955116272 and parameters: {'n_units_1': 213, 'n_units_2': 107, 'dropout_rate': 0.34386824561402024}. Best is trial 3 with value: 0.8888888955116272.\n",
      "[I 2024-11-05 12:33:03,816] Trial 4 finished with value: 0.8333333134651184 and parameters: {'n_units_1': 243, 'n_units_2': 47, 'dropout_rate': 0.27238120242847913}. Best is trial 3 with value: 0.8888888955116272.\n",
      "[I 2024-11-05 12:33:08,018] Trial 5 finished with value: 0.8333333134651184 and parameters: {'n_units_1': 195, 'n_units_2': 64, 'dropout_rate': 0.3696644236436894}. Best is trial 3 with value: 0.8888888955116272.\n",
      "[I 2024-11-05 12:33:08,911] Trial 6 finished with value: 0.7777777910232544 and parameters: {'n_units_1': 75, 'n_units_2': 63, 'dropout_rate': 0.36966748821129614}. Best is trial 3 with value: 0.8888888955116272.\n",
      "[I 2024-11-05 12:33:09,771] Trial 7 finished with value: 0.8333333134651184 and parameters: {'n_units_1': 184, 'n_units_2': 51, 'dropout_rate': 0.23323190361317903}. Best is trial 3 with value: 0.8888888955116272.\n",
      "[I 2024-11-05 12:33:10,623] Trial 8 finished with value: 0.7777777910232544 and parameters: {'n_units_1': 91, 'n_units_2': 76, 'dropout_rate': 0.46448047799622916}. Best is trial 3 with value: 0.8888888955116272.\n",
      "[I 2024-11-05 12:33:11,455] Trial 9 finished with value: 0.8333333134651184 and parameters: {'n_units_1': 97, 'n_units_2': 116, 'dropout_rate': 0.36974242916610234}. Best is trial 3 with value: 0.8888888955116272.\n"
     ]
    },
    {
     "name": "stdout",
     "output_type": "stream",
     "text": [
      "\u001b[1m1/1\u001b[0m \u001b[32m━━━━━━━━━━━━━━━━━━━━\u001b[0m\u001b[37m\u001b[0m \u001b[1m0s\u001b[0m 19ms/step\n",
      "Dataset: Dataset_47, Score: 0.5333\n",
      "\u001b[1m2/2\u001b[0m \u001b[32m━━━━━━━━━━━━━━━━━━━━\u001b[0m\u001b[37m\u001b[0m \u001b[1m0s\u001b[0m 1ms/step \n"
     ]
    },
    {
     "name": "stderr",
     "output_type": "stream",
     "text": [
      "[I 2024-11-05 12:33:12,932] A new study created in memory with name: no-name-907f1817-5eb1-403d-9a1e-647a7d240803\n"
     ]
    },
    {
     "name": "stdout",
     "output_type": "stream",
     "text": [
      "Dataset: Dataset_40\n",
      "X_train_split shape: (368, 8)\n",
      "y_train_split shape: (368, 1)\n",
      "X_train shape: (460, 8)\n",
      "y_train shape: (460, 1)\n"
     ]
    },
    {
     "name": "stderr",
     "output_type": "stream",
     "text": [
      "[I 2024-11-05 12:33:13,911] Trial 0 finished with value: 0.8152173757553101 and parameters: {'n_units_1': 188, 'n_units_2': 57, 'dropout_rate': 0.4095350535001713}. Best is trial 0 with value: 0.8152173757553101.\n",
      "[I 2024-11-05 12:33:14,955] Trial 1 finished with value: 0.782608687877655 and parameters: {'n_units_1': 64, 'n_units_2': 125, 'dropout_rate': 0.3494660069204974}. Best is trial 0 with value: 0.8152173757553101.\n",
      "[I 2024-11-05 12:33:15,895] Trial 2 finished with value: 0.782608687877655 and parameters: {'n_units_1': 111, 'n_units_2': 88, 'dropout_rate': 0.4267857240628504}. Best is trial 0 with value: 0.8152173757553101.\n",
      "[I 2024-11-05 12:33:16,872] Trial 3 finished with value: 0.77173912525177 and parameters: {'n_units_1': 131, 'n_units_2': 33, 'dropout_rate': 0.31728927864633516}. Best is trial 0 with value: 0.8152173757553101.\n",
      "[I 2024-11-05 12:33:18,166] Trial 4 finished with value: 0.804347813129425 and parameters: {'n_units_1': 228, 'n_units_2': 86, 'dropout_rate': 0.2600317916888772}. Best is trial 0 with value: 0.8152173757553101.\n",
      "[I 2024-11-05 12:33:19,107] Trial 5 finished with value: 0.804347813129425 and parameters: {'n_units_1': 181, 'n_units_2': 59, 'dropout_rate': 0.3509241448491972}. Best is trial 0 with value: 0.8152173757553101.\n",
      "[I 2024-11-05 12:33:20,013] Trial 6 finished with value: 0.804347813129425 and parameters: {'n_units_1': 163, 'n_units_2': 87, 'dropout_rate': 0.28893153718871334}. Best is trial 0 with value: 0.8152173757553101.\n",
      "[I 2024-11-05 12:33:20,933] Trial 7 finished with value: 0.79347825050354 and parameters: {'n_units_1': 242, 'n_units_2': 77, 'dropout_rate': 0.3420975302860216}. Best is trial 0 with value: 0.8152173757553101.\n",
      "[I 2024-11-05 12:33:21,805] Trial 8 finished with value: 0.782608687877655 and parameters: {'n_units_1': 110, 'n_units_2': 39, 'dropout_rate': 0.3775365885640616}. Best is trial 0 with value: 0.8152173757553101.\n",
      "[I 2024-11-05 12:33:22,712] Trial 9 finished with value: 0.804347813129425 and parameters: {'n_units_1': 195, 'n_units_2': 73, 'dropout_rate': 0.3483585007159209}. Best is trial 0 with value: 0.8152173757553101.\n"
     ]
    },
    {
     "name": "stdout",
     "output_type": "stream",
     "text": [
      "\u001b[1m3/3\u001b[0m \u001b[32m━━━━━━━━━━━━━━━━━━━━\u001b[0m\u001b[37m\u001b[0m \u001b[1m0s\u001b[0m 7ms/step  \n",
      "Dataset: Dataset_40, Score: 0.7046\n",
      "\u001b[1m10/10\u001b[0m \u001b[32m━━━━━━━━━━━━━━━━━━━━\u001b[0m\u001b[37m\u001b[0m \u001b[1m0s\u001b[0m 467us/step\n"
     ]
    }
   ],
   "source": [
    "# Loop through each dataset folder\n",
    "for dataset in dataset_folders:\n",
    "    dataset_path = os.path.join(base_path, dataset)\n",
    "\n",
    "    # Load data\n",
    "    X_train = pd.read_csv(os.path.join(dataset_path, 'X_train.csv'))\n",
    "    y_train = pd.read_csv(os.path.join(dataset_path, 'y_train.csv'))\n",
    "    X_test = pd.read_csv(os.path.join(dataset_path, 'X_test.csv'))\n",
    "\n",
    "    # Data Preprocessing\n",
    "    scaler = StandardScaler()\n",
    "    X_train_scaled = scaler.fit_transform(X_train)\n",
    "    X_test_scaled = scaler.transform(X_test)\n",
    "\n",
    "    # Train Test Split\n",
    "    X_train_split, X_val, y_train_split, y_val = train_test_split(X_train_scaled, y_train, test_size=0.2, random_state=42)\n",
    "\n",
    "    print(f\"Dataset: {dataset}\")\n",
    "    print(f\"X_train_split shape: {X_train_split.shape}\")\n",
    "    print(f\"y_train_split shape: {y_train_split.shape}\")\n",
    "    print(f\"X_train shape: {X_train.shape}\")\n",
    "    print(f\"y_train shape: {y_train.shape}\")\n",
    "    \n",
    "    # Hyperparameter Tuning with Optuna\n",
    "    def objective(trial):\n",
    "        try:\n",
    "            model = tune_nn_model(trial, X_train.shape[1])\n",
    "            history = model.fit(X_train_split, y_train_split, validation_data=(X_val, y_val), epochs=20, batch_size=32, verbose=0)\n",
    "            val_accuracy = max(history.history['val_accuracy'])\n",
    "            return val_accuracy\n",
    "        except Exception as e:\n",
    "            print(f\"Trial failed due to: {e}\")\n",
    "            return None\n",
    "\n",
    "    study = optuna.create_study(direction='maximize')\n",
    "    study.optimize(objective, n_trials=10)\n",
    "\n",
    "    # Train Final Model with Best Parameters\n",
    "    best_params = study.best_params\n",
    "    model = Sequential()\n",
    "    model.add(Dense(best_params['n_units_1'], input_dim=X_train.shape[1], activation='relu'))\n",
    "    model.add(Dropout(best_params['dropout_rate']))\n",
    "    model.add(Dense(best_params['n_units_2'], activation='relu'))\n",
    "    model.add(Dropout(best_params['dropout_rate']))\n",
    "    model.add(Dense(1, activation='sigmoid'))\n",
    "\n",
    "    model.compile(optimizer='adam', loss='binary_crossentropy', metrics=['accuracy'])\n",
    "\n",
    "    history = model.fit(X_train_split, y_train_split, validation_data=(X_val, y_val), epochs=50, batch_size=32, verbose=0)\n",
    "\n",
    "    # Evaluate the Model\n",
    "    y_val_pred = (model.predict(X_val) > 0.5).astype(int)\n",
    "    accuracy = accuracy_score(y_val, y_val_pred)\n",
    "    precision = precision_score(y_val, y_val_pred)\n",
    "    f1 = f1_score(y_val, y_val_pred)\n",
    "\n",
    "    # Custom Score\n",
    "    score = accuracy * 0.3 + precision * 0.4 + f1 * 0.3\n",
    "    print(f\"Dataset: {dataset}, Score: {score:.4f}\")\n",
    "\n",
    "    # Inference on Test Set\n",
    "    y_test_pred = model.predict(X_test_scaled)\n",
    "    y_test_pred_percentage = y_test_pred.flatten()  # Keep values between 0.0 and 1.0 for probability of 1\n",
    "\n",
    "    # Save Predictions\n",
    "    y_predict_path = os.path.join(dataset_path, 'y_predict.csv')\n",
    "    pd.DataFrame({'Prediction': y_test_pred_percentage}).to_csv(y_predict_path, index=False)"
   ]
  },
  {
   "cell_type": "code",
   "execution_count": 6,
   "id": "66b8a084",
   "metadata": {},
   "outputs": [
    {
     "data": {
      "image/png": "[encoded data removed]",
      "text/plain": [
       "<Figure size 1000x500 with 1 Axes>"
      ]
     },
     "metadata": {},
     "output_type": "display_data"
    },
    {
     "data": {
      "image/png": "[encoded data removed]",
      "text/plain": [
       "<Figure size 1000x500 with 1 Axes>"
      ]
     },
     "metadata": {},
     "output_type": "display_data"
    }
   ],
   "source": [
    "# Visualization\n",
    "plt.figure(figsize=(10, 5))\n",
    "plt.plot(history.history['accuracy'], label='Train Accuracy')\n",
    "plt.plot(history.history['val_accuracy'], label='Validation Accuracy')\n",
    "plt.title(f'Model Accuracy for {dataset}')\n",
    "plt.xlabel('Epochs')\n",
    "plt.ylabel('Accuracy')\n",
    "plt.legend()\n",
    "plt.show()\n",
    "\n",
    "plt.figure(figsize=(10, 5))\n",
    "plt.plot(history.history['loss'], label='Train Loss')\n",
    "plt.plot(history.history['val_loss'], label='Validation Loss')\n",
    "plt.title(f'Model Loss for {dataset}')\n",
    "plt.xlabel('Epochs')\n",
    "plt.ylabel('Loss')\n",
    "plt.legend()\n",
    "plt.show()"
   ]
  }
 ],
 "metadata": {
  "kernelspec": {
   "display_name": "Python 3",
   "language": "python",
   "name": "python3"
  },
  "language_info": {
   "name": "python",
   "version": "3.x"
  }
 },
 "nbformat": 4,
 "nbformat_minor": 5
}
